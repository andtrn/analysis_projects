{
 "cells": [
  {
   "cell_type": "markdown",
   "metadata": {},
   "source": [
    "# Анализ проведенного A/B - теста"
   ]
  },
  {
   "cell_type": "markdown",
   "metadata": {},
   "source": [
    "Задача: провести оценку результатов A/B-теста. В распоряжении есть датасет с действиями пользователей, техническое задание и несколько вспомогательных датасетов.\n",
    "\n",
    "- Оценить корректность проведения теста\n",
    "- Проанализировать результаты теста\n",
    "\n",
    "Чтобы оценить корректность проведения теста, проверим:\n",
    "\n",
    "- Пересечение тестовой аудитории с конкурирующим тестом.\n",
    "- Совпадение теста и маркетинговых событий, другие проблемы временных границ теста."
   ]
  },
  {
   "cell_type": "markdown",
   "metadata": {},
   "source": [
    "---\n",
    "Краткие выводы:\n",
    "\n",
    "Проведенный эксперимент показал снижение конверсии на стадии просмотра страницы товара. Дальнейшие конверсии не различаются. Тест считаем неудачным, требовалось получить улучшение каждой метрики не менее, чем на 10%. Но мы получили снижение на первом шаге почти в 10% и никакой разницы в дальнейших шагах.\n",
    "\n",
    "---"
   ]
  },
  {
   "cell_type": "markdown",
   "metadata": {},
   "source": [
    "Описание данных\n",
    "\n",
    "`ab_project_marketing_events.csv` — календарь маркетинговых событий на 2020 год.\n",
    "\n",
    "Структура файла:\n",
    "\n",
    "- `name` — название маркетингового события;\n",
    "- `regions` — регионы, в которых будет проводиться рекламная кампания;\n",
    "- `start_dt` — дата начала кампании;\n",
    "- `finish_dt` — дата завершения кампании.\n",
    "\n",
    "`final_ab_new_users.csv` — пользователи, зарегистрировавшиеся с 7 по 21 декабря 2020 года.\n",
    "\n",
    "Структура файла:\n",
    "\n",
    "- `user_id` — идентификатор пользователя;\n",
    "- `first_date` — дата регистрации;\n",
    "- `region` — регион пользователя;\n",
    "- `device` — устройство, с которого происходила регистрация.\n",
    "\n",
    "`final_ab_events.csv` — действия новых пользователей в период с 7 декабря 2020 по 4 января 2021 года.\n",
    "\n",
    "Структура файла:\n",
    "\n",
    "- `user_id` — идентификатор пользователя;\n",
    "- `event_dt` — дата и время покупки;\n",
    "- `event_name` — тип события;\n",
    "- `details` — дополнительные данные о событии. Например, для покупок, `purchase,` в этом поле хранится стоимость покупки в долларах.\n",
    "\n",
    "`final_ab_participants.csv` — таблица участников тестов.\n",
    "\n",
    "Структура файла:\n",
    "\n",
    "- `user_id` — идентификатор пользователя;\n",
    "- `ab_test` — название теста;\n",
    "- `group` — группа пользователя."
   ]
  },
  {
   "cell_type": "markdown",
   "metadata": {},
   "source": [
    "## Обновление и импорт библиотек "
   ]
  },
  {
   "cell_type": "code",
   "execution_count": 1,
   "metadata": {},
   "outputs": [
    {
     "name": "stdout",
     "output_type": "stream",
     "text": [
      "Defaulting to user installation because normal site-packages is not writeable\n",
      "Requirement already up-to-date: matplotlib in /home/jovyan/.local/lib/python3.7/site-packages (3.4.3)\n",
      "Requirement already satisfied, skipping upgrade: python-dateutil>=2.7 in /opt/conda/lib/python3.7/site-packages (from matplotlib) (2.8.1)\n",
      "Requirement already satisfied, skipping upgrade: numpy>=1.16 in /opt/conda/lib/python3.7/site-packages (from matplotlib) (1.19.5)\n",
      "Requirement already satisfied, skipping upgrade: pillow>=6.2.0 in /opt/conda/lib/python3.7/site-packages (from matplotlib) (7.0.0)\n",
      "Requirement already satisfied, skipping upgrade: pyparsing>=2.2.1 in /opt/conda/lib/python3.7/site-packages (from matplotlib) (2.4.7)\n",
      "Requirement already satisfied, skipping upgrade: cycler>=0.10 in /opt/conda/lib/python3.7/site-packages (from matplotlib) (0.10.0)\n",
      "Requirement already satisfied, skipping upgrade: kiwisolver>=1.0.1 in /opt/conda/lib/python3.7/site-packages (from matplotlib) (1.3.1)\n",
      "Requirement already satisfied, skipping upgrade: six>=1.5 in /opt/conda/lib/python3.7/site-packages (from python-dateutil>=2.7->matplotlib) (1.15.0)\n"
     ]
    }
   ],
   "source": [
    "!pip install matplotlib -U"
   ]
  },
  {
   "cell_type": "code",
   "execution_count": 2,
   "metadata": {},
   "outputs": [
    {
     "name": "stdout",
     "output_type": "stream",
     "text": [
      "Defaulting to user installation because normal site-packages is not writeable\n",
      "Requirement already up-to-date: seaborn in /home/jovyan/.local/lib/python3.7/site-packages (0.11.2)\n",
      "Requirement already satisfied, skipping upgrade: matplotlib>=2.2 in /home/jovyan/.local/lib/python3.7/site-packages (from seaborn) (3.4.3)\n",
      "Requirement already satisfied, skipping upgrade: numpy>=1.15 in /opt/conda/lib/python3.7/site-packages (from seaborn) (1.19.5)\n",
      "Requirement already satisfied, skipping upgrade: pandas>=0.23 in /opt/conda/lib/python3.7/site-packages (from seaborn) (0.25.1)\n",
      "Requirement already satisfied, skipping upgrade: scipy>=1.0 in /opt/conda/lib/python3.7/site-packages (from seaborn) (1.4.1)\n",
      "Requirement already satisfied, skipping upgrade: cycler>=0.10 in /opt/conda/lib/python3.7/site-packages (from matplotlib>=2.2->seaborn) (0.10.0)\n",
      "Requirement already satisfied, skipping upgrade: pillow>=6.2.0 in /opt/conda/lib/python3.7/site-packages (from matplotlib>=2.2->seaborn) (7.0.0)\n",
      "Requirement already satisfied, skipping upgrade: kiwisolver>=1.0.1 in /opt/conda/lib/python3.7/site-packages (from matplotlib>=2.2->seaborn) (1.3.1)\n",
      "Requirement already satisfied, skipping upgrade: python-dateutil>=2.7 in /opt/conda/lib/python3.7/site-packages (from matplotlib>=2.2->seaborn) (2.8.1)\n",
      "Requirement already satisfied, skipping upgrade: pyparsing>=2.2.1 in /opt/conda/lib/python3.7/site-packages (from matplotlib>=2.2->seaborn) (2.4.7)\n",
      "Requirement already satisfied, skipping upgrade: pytz>=2017.2 in /opt/conda/lib/python3.7/site-packages (from pandas>=0.23->seaborn) (2021.1)\n",
      "Requirement already satisfied, skipping upgrade: six in /opt/conda/lib/python3.7/site-packages (from cycler>=0.10->matplotlib>=2.2->seaborn) (1.15.0)\n"
     ]
    }
   ],
   "source": [
    "!pip install seaborn -U"
   ]
  },
  {
   "cell_type": "code",
   "execution_count": 3,
   "metadata": {},
   "outputs": [],
   "source": [
    "import pandas as pd\n",
    "import matplotlib.pyplot as plt\n",
    "import seaborn as sns\n",
    "from statsmodels.stats.proportion import proportions_ztest\n",
    "from statsmodels.stats.multitest import multipletests"
   ]
  },
  {
   "cell_type": "markdown",
   "metadata": {},
   "source": [
    "## Загрузка данных и первый взгляд"
   ]
  },
  {
   "cell_type": "code",
   "execution_count": 4,
   "metadata": {},
   "outputs": [],
   "source": [
    "market_events = pd.read_csv('/datasets/ab_project_marketing_events.csv')\n",
    "users = pd.read_csv('/datasets/final_ab_new_users.csv')\n",
    "events = pd.read_csv('/datasets/final_ab_events.csv')\n",
    "participants = pd.read_csv('/datasets/final_ab_participants.csv')"
   ]
  },
  {
   "cell_type": "code",
   "execution_count": 5,
   "metadata": {},
   "outputs": [
    {
     "data": {
      "text/html": [
       "<div>\n",
       "<style scoped>\n",
       "    .dataframe tbody tr th:only-of-type {\n",
       "        vertical-align: middle;\n",
       "    }\n",
       "\n",
       "    .dataframe tbody tr th {\n",
       "        vertical-align: top;\n",
       "    }\n",
       "\n",
       "    .dataframe thead th {\n",
       "        text-align: right;\n",
       "    }\n",
       "</style>\n",
       "<table border=\"1\" class=\"dataframe\">\n",
       "  <thead>\n",
       "    <tr style=\"text-align: right;\">\n",
       "      <th></th>\n",
       "      <th>name</th>\n",
       "      <th>regions</th>\n",
       "      <th>start_dt</th>\n",
       "      <th>finish_dt</th>\n",
       "    </tr>\n",
       "  </thead>\n",
       "  <tbody>\n",
       "    <tr>\n",
       "      <td>0</td>\n",
       "      <td>Christmas&amp;New Year Promo</td>\n",
       "      <td>EU, N.America</td>\n",
       "      <td>2020-12-25</td>\n",
       "      <td>2021-01-03</td>\n",
       "    </tr>\n",
       "    <tr>\n",
       "      <td>1</td>\n",
       "      <td>St. Valentine's Day Giveaway</td>\n",
       "      <td>EU, CIS, APAC, N.America</td>\n",
       "      <td>2020-02-14</td>\n",
       "      <td>2020-02-16</td>\n",
       "    </tr>\n",
       "    <tr>\n",
       "      <td>2</td>\n",
       "      <td>St. Patric's Day Promo</td>\n",
       "      <td>EU, N.America</td>\n",
       "      <td>2020-03-17</td>\n",
       "      <td>2020-03-19</td>\n",
       "    </tr>\n",
       "    <tr>\n",
       "      <td>3</td>\n",
       "      <td>Easter Promo</td>\n",
       "      <td>EU, CIS, APAC, N.America</td>\n",
       "      <td>2020-04-12</td>\n",
       "      <td>2020-04-19</td>\n",
       "    </tr>\n",
       "    <tr>\n",
       "      <td>4</td>\n",
       "      <td>4th of July Promo</td>\n",
       "      <td>N.America</td>\n",
       "      <td>2020-07-04</td>\n",
       "      <td>2020-07-11</td>\n",
       "    </tr>\n",
       "    <tr>\n",
       "      <td>5</td>\n",
       "      <td>Black Friday Ads Campaign</td>\n",
       "      <td>EU, CIS, APAC, N.America</td>\n",
       "      <td>2020-11-26</td>\n",
       "      <td>2020-12-01</td>\n",
       "    </tr>\n",
       "    <tr>\n",
       "      <td>6</td>\n",
       "      <td>Chinese New Year Promo</td>\n",
       "      <td>APAC</td>\n",
       "      <td>2020-01-25</td>\n",
       "      <td>2020-02-07</td>\n",
       "    </tr>\n",
       "    <tr>\n",
       "      <td>7</td>\n",
       "      <td>Labor day (May 1st) Ads Campaign</td>\n",
       "      <td>EU, CIS, APAC</td>\n",
       "      <td>2020-05-01</td>\n",
       "      <td>2020-05-03</td>\n",
       "    </tr>\n",
       "    <tr>\n",
       "      <td>8</td>\n",
       "      <td>International Women's Day Promo</td>\n",
       "      <td>EU, CIS, APAC</td>\n",
       "      <td>2020-03-08</td>\n",
       "      <td>2020-03-10</td>\n",
       "    </tr>\n",
       "    <tr>\n",
       "      <td>9</td>\n",
       "      <td>Victory Day CIS (May 9th) Event</td>\n",
       "      <td>CIS</td>\n",
       "      <td>2020-05-09</td>\n",
       "      <td>2020-05-11</td>\n",
       "    </tr>\n",
       "    <tr>\n",
       "      <td>10</td>\n",
       "      <td>CIS New Year Gift Lottery</td>\n",
       "      <td>CIS</td>\n",
       "      <td>2020-12-30</td>\n",
       "      <td>2021-01-07</td>\n",
       "    </tr>\n",
       "    <tr>\n",
       "      <td>11</td>\n",
       "      <td>Dragon Boat Festival Giveaway</td>\n",
       "      <td>APAC</td>\n",
       "      <td>2020-06-25</td>\n",
       "      <td>2020-07-01</td>\n",
       "    </tr>\n",
       "    <tr>\n",
       "      <td>12</td>\n",
       "      <td>Single's Day Gift Promo</td>\n",
       "      <td>APAC</td>\n",
       "      <td>2020-11-11</td>\n",
       "      <td>2020-11-12</td>\n",
       "    </tr>\n",
       "    <tr>\n",
       "      <td>13</td>\n",
       "      <td>Chinese Moon Festival</td>\n",
       "      <td>APAC</td>\n",
       "      <td>2020-10-01</td>\n",
       "      <td>2020-10-07</td>\n",
       "    </tr>\n",
       "  </tbody>\n",
       "</table>\n",
       "</div>"
      ],
      "text/plain": [
       "                                name                   regions    start_dt  \\\n",
       "0           Christmas&New Year Promo             EU, N.America  2020-12-25   \n",
       "1       St. Valentine's Day Giveaway  EU, CIS, APAC, N.America  2020-02-14   \n",
       "2             St. Patric's Day Promo             EU, N.America  2020-03-17   \n",
       "3                       Easter Promo  EU, CIS, APAC, N.America  2020-04-12   \n",
       "4                  4th of July Promo                 N.America  2020-07-04   \n",
       "5          Black Friday Ads Campaign  EU, CIS, APAC, N.America  2020-11-26   \n",
       "6             Chinese New Year Promo                      APAC  2020-01-25   \n",
       "7   Labor day (May 1st) Ads Campaign             EU, CIS, APAC  2020-05-01   \n",
       "8    International Women's Day Promo             EU, CIS, APAC  2020-03-08   \n",
       "9    Victory Day CIS (May 9th) Event                       CIS  2020-05-09   \n",
       "10         CIS New Year Gift Lottery                       CIS  2020-12-30   \n",
       "11     Dragon Boat Festival Giveaway                      APAC  2020-06-25   \n",
       "12           Single's Day Gift Promo                      APAC  2020-11-11   \n",
       "13             Chinese Moon Festival                      APAC  2020-10-01   \n",
       "\n",
       "     finish_dt  \n",
       "0   2021-01-03  \n",
       "1   2020-02-16  \n",
       "2   2020-03-19  \n",
       "3   2020-04-19  \n",
       "4   2020-07-11  \n",
       "5   2020-12-01  \n",
       "6   2020-02-07  \n",
       "7   2020-05-03  \n",
       "8   2020-03-10  \n",
       "9   2020-05-11  \n",
       "10  2021-01-07  \n",
       "11  2020-07-01  \n",
       "12  2020-11-12  \n",
       "13  2020-10-07  "
      ]
     },
     "execution_count": 5,
     "metadata": {},
     "output_type": "execute_result"
    }
   ],
   "source": [
    "market_events"
   ]
  },
  {
   "cell_type": "code",
   "execution_count": 6,
   "metadata": {
    "scrolled": false
   },
   "outputs": [
    {
     "data": {
      "text/html": [
       "<div>\n",
       "<style scoped>\n",
       "    .dataframe tbody tr th:only-of-type {\n",
       "        vertical-align: middle;\n",
       "    }\n",
       "\n",
       "    .dataframe tbody tr th {\n",
       "        vertical-align: top;\n",
       "    }\n",
       "\n",
       "    .dataframe thead th {\n",
       "        text-align: right;\n",
       "    }\n",
       "</style>\n",
       "<table border=\"1\" class=\"dataframe\">\n",
       "  <thead>\n",
       "    <tr style=\"text-align: right;\">\n",
       "      <th></th>\n",
       "      <th>user_id</th>\n",
       "      <th>first_date</th>\n",
       "      <th>region</th>\n",
       "      <th>device</th>\n",
       "    </tr>\n",
       "  </thead>\n",
       "  <tbody>\n",
       "    <tr>\n",
       "      <td>0</td>\n",
       "      <td>D72A72121175D8BE</td>\n",
       "      <td>2020-12-07</td>\n",
       "      <td>EU</td>\n",
       "      <td>PC</td>\n",
       "    </tr>\n",
       "    <tr>\n",
       "      <td>1</td>\n",
       "      <td>F1C668619DFE6E65</td>\n",
       "      <td>2020-12-07</td>\n",
       "      <td>N.America</td>\n",
       "      <td>Android</td>\n",
       "    </tr>\n",
       "    <tr>\n",
       "      <td>2</td>\n",
       "      <td>2E1BF1D4C37EA01F</td>\n",
       "      <td>2020-12-07</td>\n",
       "      <td>EU</td>\n",
       "      <td>PC</td>\n",
       "    </tr>\n",
       "    <tr>\n",
       "      <td>3</td>\n",
       "      <td>50734A22C0C63768</td>\n",
       "      <td>2020-12-07</td>\n",
       "      <td>EU</td>\n",
       "      <td>iPhone</td>\n",
       "    </tr>\n",
       "    <tr>\n",
       "      <td>4</td>\n",
       "      <td>E1BDDCE0DAFA2679</td>\n",
       "      <td>2020-12-07</td>\n",
       "      <td>N.America</td>\n",
       "      <td>iPhone</td>\n",
       "    </tr>\n",
       "  </tbody>\n",
       "</table>\n",
       "</div>"
      ],
      "text/plain": [
       "            user_id  first_date     region   device\n",
       "0  D72A72121175D8BE  2020-12-07         EU       PC\n",
       "1  F1C668619DFE6E65  2020-12-07  N.America  Android\n",
       "2  2E1BF1D4C37EA01F  2020-12-07         EU       PC\n",
       "3  50734A22C0C63768  2020-12-07         EU   iPhone\n",
       "4  E1BDDCE0DAFA2679  2020-12-07  N.America   iPhone"
      ]
     },
     "metadata": {},
     "output_type": "display_data"
    },
    {
     "name": "stdout",
     "output_type": "stream",
     "text": [
      "---------------------------------------\n",
      "<class 'pandas.core.frame.DataFrame'>\n",
      "RangeIndex: 61733 entries, 0 to 61732\n",
      "Data columns (total 4 columns):\n",
      "user_id       61733 non-null object\n",
      "first_date    61733 non-null object\n",
      "region        61733 non-null object\n",
      "device        61733 non-null object\n",
      "dtypes: object(4)\n",
      "memory usage: 1.9+ MB\n",
      "None\n",
      "---------------------------------------\n",
      "            count unique               top   freq\n",
      "user_id     61733  61733  6D92872EF9CFF169      1\n",
      "first_date  61733     17        2020-12-21   6290\n",
      "region      61733      4                EU  46270\n",
      "device      61733      4           Android  27520\n",
      "---------------------------------------\n",
      "Дубликатов: 0.0\n"
     ]
    }
   ],
   "source": [
    "display(users.head())\n",
    "print('---------------------------------------')\n",
    "print(users.info())\n",
    "print('---------------------------------------')\n",
    "print(users.describe().T)\n",
    "print('---------------------------------------')\n",
    "print('Дубликатов:', users.duplicated().mean())"
   ]
  },
  {
   "cell_type": "code",
   "execution_count": 7,
   "metadata": {
    "scrolled": false
   },
   "outputs": [
    {
     "data": {
      "text/html": [
       "<div>\n",
       "<style scoped>\n",
       "    .dataframe tbody tr th:only-of-type {\n",
       "        vertical-align: middle;\n",
       "    }\n",
       "\n",
       "    .dataframe tbody tr th {\n",
       "        vertical-align: top;\n",
       "    }\n",
       "\n",
       "    .dataframe thead th {\n",
       "        text-align: right;\n",
       "    }\n",
       "</style>\n",
       "<table border=\"1\" class=\"dataframe\">\n",
       "  <thead>\n",
       "    <tr style=\"text-align: right;\">\n",
       "      <th></th>\n",
       "      <th>user_id</th>\n",
       "      <th>event_dt</th>\n",
       "      <th>event_name</th>\n",
       "      <th>details</th>\n",
       "    </tr>\n",
       "  </thead>\n",
       "  <tbody>\n",
       "    <tr>\n",
       "      <td>0</td>\n",
       "      <td>E1BDDCE0DAFA2679</td>\n",
       "      <td>2020-12-07 20:22:03</td>\n",
       "      <td>purchase</td>\n",
       "      <td>99.99</td>\n",
       "    </tr>\n",
       "    <tr>\n",
       "      <td>1</td>\n",
       "      <td>7B6452F081F49504</td>\n",
       "      <td>2020-12-07 09:22:53</td>\n",
       "      <td>purchase</td>\n",
       "      <td>9.99</td>\n",
       "    </tr>\n",
       "    <tr>\n",
       "      <td>2</td>\n",
       "      <td>9CD9F34546DF254C</td>\n",
       "      <td>2020-12-07 12:59:29</td>\n",
       "      <td>purchase</td>\n",
       "      <td>4.99</td>\n",
       "    </tr>\n",
       "    <tr>\n",
       "      <td>3</td>\n",
       "      <td>96F27A054B191457</td>\n",
       "      <td>2020-12-07 04:02:40</td>\n",
       "      <td>purchase</td>\n",
       "      <td>4.99</td>\n",
       "    </tr>\n",
       "    <tr>\n",
       "      <td>4</td>\n",
       "      <td>1FD7660FDF94CA1F</td>\n",
       "      <td>2020-12-07 10:15:09</td>\n",
       "      <td>purchase</td>\n",
       "      <td>4.99</td>\n",
       "    </tr>\n",
       "  </tbody>\n",
       "</table>\n",
       "</div>"
      ],
      "text/plain": [
       "            user_id             event_dt event_name  details\n",
       "0  E1BDDCE0DAFA2679  2020-12-07 20:22:03   purchase    99.99\n",
       "1  7B6452F081F49504  2020-12-07 09:22:53   purchase     9.99\n",
       "2  9CD9F34546DF254C  2020-12-07 12:59:29   purchase     4.99\n",
       "3  96F27A054B191457  2020-12-07 04:02:40   purchase     4.99\n",
       "4  1FD7660FDF94CA1F  2020-12-07 10:15:09   purchase     4.99"
      ]
     },
     "metadata": {},
     "output_type": "display_data"
    },
    {
     "name": "stdout",
     "output_type": "stream",
     "text": [
      "---------------------------------------\n",
      "<class 'pandas.core.frame.DataFrame'>\n",
      "RangeIndex: 440317 entries, 0 to 440316\n",
      "Data columns (total 4 columns):\n",
      "user_id       440317 non-null object\n",
      "event_dt      440317 non-null object\n",
      "event_name    440317 non-null object\n",
      "details       62740 non-null float64\n",
      "dtypes: float64(1), object(3)\n",
      "memory usage: 13.4+ MB\n",
      "None\n",
      "---------------------------------------\n",
      "            details\n",
      "count  62740.000000\n",
      "mean      23.877631\n",
      "std       72.180465\n",
      "min        4.990000\n",
      "25%        4.990000\n",
      "50%        4.990000\n",
      "75%        9.990000\n",
      "max      499.990000\n",
      "---------------------------------------\n",
      "Дубликатов: 0.0\n"
     ]
    }
   ],
   "source": [
    "display(events.head())\n",
    "print('---------------------------------------')\n",
    "print(events.info())\n",
    "print('---------------------------------------')\n",
    "print(events.describe())\n",
    "print('---------------------------------------')\n",
    "print('Дубликатов:', events.duplicated().mean())"
   ]
  },
  {
   "cell_type": "code",
   "execution_count": 8,
   "metadata": {},
   "outputs": [
    {
     "data": {
      "text/html": [
       "<div>\n",
       "<style scoped>\n",
       "    .dataframe tbody tr th:only-of-type {\n",
       "        vertical-align: middle;\n",
       "    }\n",
       "\n",
       "    .dataframe tbody tr th {\n",
       "        vertical-align: top;\n",
       "    }\n",
       "\n",
       "    .dataframe thead th {\n",
       "        text-align: right;\n",
       "    }\n",
       "</style>\n",
       "<table border=\"1\" class=\"dataframe\">\n",
       "  <thead>\n",
       "    <tr style=\"text-align: right;\">\n",
       "      <th></th>\n",
       "      <th>user_id</th>\n",
       "      <th>group</th>\n",
       "      <th>ab_test</th>\n",
       "    </tr>\n",
       "  </thead>\n",
       "  <tbody>\n",
       "    <tr>\n",
       "      <td>0</td>\n",
       "      <td>D1ABA3E2887B6A73</td>\n",
       "      <td>A</td>\n",
       "      <td>recommender_system_test</td>\n",
       "    </tr>\n",
       "    <tr>\n",
       "      <td>1</td>\n",
       "      <td>A7A3664BD6242119</td>\n",
       "      <td>A</td>\n",
       "      <td>recommender_system_test</td>\n",
       "    </tr>\n",
       "    <tr>\n",
       "      <td>2</td>\n",
       "      <td>DABC14FDDFADD29E</td>\n",
       "      <td>A</td>\n",
       "      <td>recommender_system_test</td>\n",
       "    </tr>\n",
       "    <tr>\n",
       "      <td>3</td>\n",
       "      <td>04988C5DF189632E</td>\n",
       "      <td>A</td>\n",
       "      <td>recommender_system_test</td>\n",
       "    </tr>\n",
       "    <tr>\n",
       "      <td>4</td>\n",
       "      <td>482F14783456D21B</td>\n",
       "      <td>B</td>\n",
       "      <td>recommender_system_test</td>\n",
       "    </tr>\n",
       "  </tbody>\n",
       "</table>\n",
       "</div>"
      ],
      "text/plain": [
       "            user_id group                  ab_test\n",
       "0  D1ABA3E2887B6A73     A  recommender_system_test\n",
       "1  A7A3664BD6242119     A  recommender_system_test\n",
       "2  DABC14FDDFADD29E     A  recommender_system_test\n",
       "3  04988C5DF189632E     A  recommender_system_test\n",
       "4  482F14783456D21B     B  recommender_system_test"
      ]
     },
     "metadata": {},
     "output_type": "display_data"
    },
    {
     "name": "stdout",
     "output_type": "stream",
     "text": [
      "---------------------------------------\n",
      "<class 'pandas.core.frame.DataFrame'>\n",
      "RangeIndex: 18268 entries, 0 to 18267\n",
      "Data columns (total 3 columns):\n",
      "user_id    18268 non-null object\n",
      "group      18268 non-null object\n",
      "ab_test    18268 non-null object\n",
      "dtypes: object(3)\n",
      "memory usage: 428.3+ KB\n",
      "None\n",
      "---------------------------------------\n",
      "         count unique                top   freq\n",
      "user_id  18268  16666   79DF9D6EDC7A58CE      2\n",
      "group    18268      2                  A   9655\n",
      "ab_test  18268      2  interface_eu_test  11567\n",
      "---------------------------------------\n",
      "Дубликатов: 0.0\n"
     ]
    }
   ],
   "source": [
    "display(participants.head())\n",
    "print('---------------------------------------')\n",
    "print(participants.info())\n",
    "print('---------------------------------------')\n",
    "print(participants.describe().T)\n",
    "print('---------------------------------------')\n",
    "print('Дубликатов:', participants.duplicated().mean())"
   ]
  },
  {
   "cell_type": "markdown",
   "metadata": {},
   "source": [
    "Данные хорошие. Пропуски имеются только в таблице `events` в столбце `details`, в нем указывается сумма платежа. Если `event_name` не `purchase`, в столбце будет пустое значение. Дальше необходимо привести даты к правильному типу, разобраться с попаданием одних пользователей в разные группы теста. "
   ]
  },
  {
   "cell_type": "markdown",
   "metadata": {},
   "source": [
    "## Предобработка данных"
   ]
  },
  {
   "cell_type": "code",
   "execution_count": 9,
   "metadata": {},
   "outputs": [],
   "source": [
    "market_events['start_dt'] = pd.to_datetime(market_events['start_dt'], format='%Y-%m-%d')\n",
    "market_events['finish_dt'] = pd.to_datetime(market_events['finish_dt'], format='%Y-%m-%d')\n",
    "users['first_date'] = pd.to_datetime(users['first_date'], format='%Y-%m-%d')\n",
    "events['event_dt'] = pd.to_datetime(events['event_dt'], format='%Y-%m-%d %H:%M:%S')"
   ]
  },
  {
   "cell_type": "markdown",
   "metadata": {},
   "source": [
    "Привели формат и тип дат к необходимым для работы pandas."
   ]
  },
  {
   "cell_type": "code",
   "execution_count": 10,
   "metadata": {},
   "outputs": [
    {
     "data": {
      "text/html": [
       "<div>\n",
       "<style scoped>\n",
       "    .dataframe tbody tr th:only-of-type {\n",
       "        vertical-align: middle;\n",
       "    }\n",
       "\n",
       "    .dataframe tbody tr th {\n",
       "        vertical-align: top;\n",
       "    }\n",
       "\n",
       "    .dataframe thead th {\n",
       "        text-align: right;\n",
       "    }\n",
       "</style>\n",
       "<table border=\"1\" class=\"dataframe\">\n",
       "  <thead>\n",
       "    <tr style=\"text-align: right;\">\n",
       "      <th></th>\n",
       "      <th>user_id</th>\n",
       "      <th>group</th>\n",
       "      <th>ab_test</th>\n",
       "    </tr>\n",
       "  </thead>\n",
       "  <tbody>\n",
       "    <tr>\n",
       "      <td>6702</td>\n",
       "      <td>773ECB64E45DEBAB</td>\n",
       "      <td>A</td>\n",
       "      <td>interface_eu_test</td>\n",
       "    </tr>\n",
       "    <tr>\n",
       "      <td>6704</td>\n",
       "      <td>AABA4219186465C9</td>\n",
       "      <td>A</td>\n",
       "      <td>interface_eu_test</td>\n",
       "    </tr>\n",
       "    <tr>\n",
       "      <td>6705</td>\n",
       "      <td>2BA8FA8754D1FE50</td>\n",
       "      <td>B</td>\n",
       "      <td>interface_eu_test</td>\n",
       "    </tr>\n",
       "    <tr>\n",
       "      <td>6706</td>\n",
       "      <td>FB6F6BC119E1DBD5</td>\n",
       "      <td>B</td>\n",
       "      <td>interface_eu_test</td>\n",
       "    </tr>\n",
       "    <tr>\n",
       "      <td>6715</td>\n",
       "      <td>0ABA6D32AE7AFB9B</td>\n",
       "      <td>A</td>\n",
       "      <td>interface_eu_test</td>\n",
       "    </tr>\n",
       "    <tr>\n",
       "      <td>...</td>\n",
       "      <td>...</td>\n",
       "      <td>...</td>\n",
       "      <td>...</td>\n",
       "    </tr>\n",
       "    <tr>\n",
       "      <td>18227</td>\n",
       "      <td>EF2E4FAF26951358</td>\n",
       "      <td>A</td>\n",
       "      <td>interface_eu_test</td>\n",
       "    </tr>\n",
       "    <tr>\n",
       "      <td>18245</td>\n",
       "      <td>2B0CD24EE4291CA0</td>\n",
       "      <td>B</td>\n",
       "      <td>interface_eu_test</td>\n",
       "    </tr>\n",
       "    <tr>\n",
       "      <td>18252</td>\n",
       "      <td>CA6F4DAED160E5B1</td>\n",
       "      <td>A</td>\n",
       "      <td>interface_eu_test</td>\n",
       "    </tr>\n",
       "    <tr>\n",
       "      <td>18257</td>\n",
       "      <td>C70DF942E542DA69</td>\n",
       "      <td>A</td>\n",
       "      <td>interface_eu_test</td>\n",
       "    </tr>\n",
       "    <tr>\n",
       "      <td>18258</td>\n",
       "      <td>CE782A3646E8E5E1</td>\n",
       "      <td>A</td>\n",
       "      <td>interface_eu_test</td>\n",
       "    </tr>\n",
       "  </tbody>\n",
       "</table>\n",
       "<p>1602 rows × 3 columns</p>\n",
       "</div>"
      ],
      "text/plain": [
       "                user_id group            ab_test\n",
       "6702   773ECB64E45DEBAB     A  interface_eu_test\n",
       "6704   AABA4219186465C9     A  interface_eu_test\n",
       "6705   2BA8FA8754D1FE50     B  interface_eu_test\n",
       "6706   FB6F6BC119E1DBD5     B  interface_eu_test\n",
       "6715   0ABA6D32AE7AFB9B     A  interface_eu_test\n",
       "...                 ...   ...                ...\n",
       "18227  EF2E4FAF26951358     A  interface_eu_test\n",
       "18245  2B0CD24EE4291CA0     B  interface_eu_test\n",
       "18252  CA6F4DAED160E5B1     A  interface_eu_test\n",
       "18257  C70DF942E542DA69     A  interface_eu_test\n",
       "18258  CE782A3646E8E5E1     A  interface_eu_test\n",
       "\n",
       "[1602 rows x 3 columns]"
      ]
     },
     "execution_count": 10,
     "metadata": {},
     "output_type": "execute_result"
    }
   ],
   "source": [
    "participants[participants['user_id'].duplicated()]"
   ]
  },
  {
   "cell_type": "markdown",
   "metadata": {},
   "source": [
    "1602 пользователя задублились в разные тесты."
   ]
  },
  {
   "cell_type": "code",
   "execution_count": 11,
   "metadata": {},
   "outputs": [],
   "source": [
    "participants = participants[participants['ab_test']=='recommender_system_test']\n",
    "users = users[users['first_date'].between('2020-12-07', '2020-12-21')]"
   ]
  },
  {
   "cell_type": "markdown",
   "metadata": {},
   "source": [
    "Для корректного анализа a/b теста выберем пользователей, попавших только в тест recommender_system_test и не попавших в другие тесты. А так же пользователей, зарегистрированных в даты набора пользователей для теста."
   ]
  },
  {
   "cell_type": "code",
   "execution_count": 12,
   "metadata": {},
   "outputs": [],
   "source": [
    "participiants = participants.merge(users[['user_id', 'region']], on='user_id')"
   ]
  },
  {
   "cell_type": "code",
   "execution_count": 13,
   "metadata": {},
   "outputs": [
    {
     "data": {
      "text/html": [
       "<div>\n",
       "<style scoped>\n",
       "    .dataframe tbody tr th:only-of-type {\n",
       "        vertical-align: middle;\n",
       "    }\n",
       "\n",
       "    .dataframe tbody tr th {\n",
       "        vertical-align: top;\n",
       "    }\n",
       "\n",
       "    .dataframe thead th {\n",
       "        text-align: right;\n",
       "    }\n",
       "</style>\n",
       "<table border=\"1\" class=\"dataframe\">\n",
       "  <thead>\n",
       "    <tr style=\"text-align: right;\">\n",
       "      <th></th>\n",
       "      <th>user_id</th>\n",
       "      <th>group</th>\n",
       "      <th>ab_test</th>\n",
       "      <th>region</th>\n",
       "    </tr>\n",
       "  </thead>\n",
       "  <tbody>\n",
       "    <tr>\n",
       "      <td>0</td>\n",
       "      <td>D1ABA3E2887B6A73</td>\n",
       "      <td>A</td>\n",
       "      <td>recommender_system_test</td>\n",
       "      <td>EU</td>\n",
       "    </tr>\n",
       "    <tr>\n",
       "      <td>1</td>\n",
       "      <td>A7A3664BD6242119</td>\n",
       "      <td>A</td>\n",
       "      <td>recommender_system_test</td>\n",
       "      <td>EU</td>\n",
       "    </tr>\n",
       "    <tr>\n",
       "      <td>2</td>\n",
       "      <td>DABC14FDDFADD29E</td>\n",
       "      <td>A</td>\n",
       "      <td>recommender_system_test</td>\n",
       "      <td>EU</td>\n",
       "    </tr>\n",
       "    <tr>\n",
       "      <td>3</td>\n",
       "      <td>04988C5DF189632E</td>\n",
       "      <td>A</td>\n",
       "      <td>recommender_system_test</td>\n",
       "      <td>EU</td>\n",
       "    </tr>\n",
       "    <tr>\n",
       "      <td>4</td>\n",
       "      <td>482F14783456D21B</td>\n",
       "      <td>B</td>\n",
       "      <td>recommender_system_test</td>\n",
       "      <td>EU</td>\n",
       "    </tr>\n",
       "  </tbody>\n",
       "</table>\n",
       "</div>"
      ],
      "text/plain": [
       "            user_id group                  ab_test region\n",
       "0  D1ABA3E2887B6A73     A  recommender_system_test     EU\n",
       "1  A7A3664BD6242119     A  recommender_system_test     EU\n",
       "2  DABC14FDDFADD29E     A  recommender_system_test     EU\n",
       "3  04988C5DF189632E     A  recommender_system_test     EU\n",
       "4  482F14783456D21B     B  recommender_system_test     EU"
      ]
     },
     "execution_count": 13,
     "metadata": {},
     "output_type": "execute_result"
    }
   ],
   "source": [
    "participiants.head()"
   ]
  },
  {
   "cell_type": "code",
   "execution_count": 14,
   "metadata": {},
   "outputs": [
    {
     "data": {
      "text/plain": [
       "0.15"
      ]
     },
     "execution_count": 14,
     "metadata": {},
     "output_type": "execute_result"
    }
   ],
   "source": [
    "participiants[participiants['region']=='EU']['user_id'].count() / users[users['region']=='EU']['user_id'].count()"
   ]
  },
  {
   "cell_type": "markdown",
   "metadata": {},
   "source": [
    "В тест попало 15% пользователей из региона EU, это соответствует техническому заданию. "
   ]
  },
  {
   "cell_type": "code",
   "execution_count": 15,
   "metadata": {
    "scrolled": true
   },
   "outputs": [
    {
     "data": {
      "text/html": [
       "<div>\n",
       "<style scoped>\n",
       "    .dataframe tbody tr th:only-of-type {\n",
       "        vertical-align: middle;\n",
       "    }\n",
       "\n",
       "    .dataframe tbody tr th {\n",
       "        vertical-align: top;\n",
       "    }\n",
       "\n",
       "    .dataframe thead th {\n",
       "        text-align: right;\n",
       "    }\n",
       "</style>\n",
       "<table border=\"1\" class=\"dataframe\">\n",
       "  <thead>\n",
       "    <tr style=\"text-align: right;\">\n",
       "      <th></th>\n",
       "      <th>region</th>\n",
       "      <th>cnt</th>\n",
       "    </tr>\n",
       "  </thead>\n",
       "  <tbody>\n",
       "    <tr>\n",
       "      <td>0</td>\n",
       "      <td>EU</td>\n",
       "      <td>6351</td>\n",
       "    </tr>\n",
       "    <tr>\n",
       "      <td>1</td>\n",
       "      <td>N.America</td>\n",
       "      <td>223</td>\n",
       "    </tr>\n",
       "    <tr>\n",
       "      <td>2</td>\n",
       "      <td>APAC</td>\n",
       "      <td>72</td>\n",
       "    </tr>\n",
       "    <tr>\n",
       "      <td>3</td>\n",
       "      <td>CIS</td>\n",
       "      <td>55</td>\n",
       "    </tr>\n",
       "  </tbody>\n",
       "</table>\n",
       "</div>"
      ],
      "text/plain": [
       "      region   cnt\n",
       "0         EU  6351\n",
       "1  N.America   223\n",
       "2       APAC    72\n",
       "3        CIS    55"
      ]
     },
     "execution_count": 15,
     "metadata": {},
     "output_type": "execute_result"
    }
   ],
   "source": [
    "participiants.groupby('region').agg(cnt=('user_id', 'count')).sort_values(by='cnt', ascending=False).reset_index()"
   ]
  },
  {
   "cell_type": "code",
   "execution_count": 16,
   "metadata": {},
   "outputs": [],
   "source": [
    "participiants = participiants[participiants['region']=='EU']"
   ]
  },
  {
   "cell_type": "code",
   "execution_count": 17,
   "metadata": {},
   "outputs": [],
   "source": [
    "participants_a = participants[participants['group']=='A']\n",
    "participants_b = participants[participants['group']=='B']"
   ]
  },
  {
   "cell_type": "markdown",
   "metadata": {},
   "source": [
    "Оставим только тех пользователей, на которых был нацелен тест - аудиторию региона EU."
   ]
  },
  {
   "cell_type": "code",
   "execution_count": 18,
   "metadata": {},
   "outputs": [],
   "source": [
    "events = (events[events['user_id'].isin(participants['user_id'])]\n",
    "          .merge(participants, on='user_id')\n",
    "          .drop(columns='ab_test')\n",
    "         )"
   ]
  },
  {
   "cell_type": "markdown",
   "metadata": {},
   "source": [
    "Выберем действия только тех пользователей, что попали в тест."
   ]
  },
  {
   "cell_type": "markdown",
   "metadata": {},
   "source": [
    "## EDA "
   ]
  },
  {
   "cell_type": "markdown",
   "metadata": {},
   "source": [
    "### Конверсия в воронке\n",
    "Как меняется конверсия в воронке на разных этапах?"
   ]
  },
  {
   "cell_type": "code",
   "execution_count": 19,
   "metadata": {},
   "outputs": [],
   "source": [
    "event_count = (events.groupby('event_name')\n",
    "                .agg(events_cnt=('user_id','count'), \n",
    "                     users_cnt=('user_id','nunique'))\n",
    "                .sort_values(by='users_cnt', ascending=False)\n",
    "                .reset_index()\n",
    "                .reindex([0,1,3,2])\n",
    "                .reset_index(drop=True)\n",
    "               )\n",
    "event_count['perc_all_users'] = (event_count['users_cnt'] / participants['user_id'].nunique()).map('{:.2%}'.format)\n",
    "event_count['perc_from_last_event'] = (1 + event_count['users_cnt'].pct_change().fillna(0)).map('{:.2%}'.format)"
   ]
  },
  {
   "cell_type": "code",
   "execution_count": 20,
   "metadata": {
    "scrolled": true
   },
   "outputs": [
    {
     "data": {
      "text/html": [
       "<div>\n",
       "<style scoped>\n",
       "    .dataframe tbody tr th:only-of-type {\n",
       "        vertical-align: middle;\n",
       "    }\n",
       "\n",
       "    .dataframe tbody tr th {\n",
       "        vertical-align: top;\n",
       "    }\n",
       "\n",
       "    .dataframe thead th {\n",
       "        text-align: right;\n",
       "    }\n",
       "</style>\n",
       "<table border=\"1\" class=\"dataframe\">\n",
       "  <thead>\n",
       "    <tr style=\"text-align: right;\">\n",
       "      <th></th>\n",
       "      <th>event_name</th>\n",
       "      <th>events_cnt</th>\n",
       "      <th>users_cnt</th>\n",
       "      <th>perc_all_users</th>\n",
       "      <th>perc_from_last_event</th>\n",
       "    </tr>\n",
       "  </thead>\n",
       "  <tbody>\n",
       "    <tr>\n",
       "      <td>0</td>\n",
       "      <td>login</td>\n",
       "      <td>11190</td>\n",
       "      <td>3675</td>\n",
       "      <td>54.84%</td>\n",
       "      <td>100.00%</td>\n",
       "    </tr>\n",
       "    <tr>\n",
       "      <td>1</td>\n",
       "      <td>product_page</td>\n",
       "      <td>6930</td>\n",
       "      <td>2303</td>\n",
       "      <td>34.37%</td>\n",
       "      <td>62.67%</td>\n",
       "    </tr>\n",
       "    <tr>\n",
       "      <td>2</td>\n",
       "      <td>product_cart</td>\n",
       "      <td>3247</td>\n",
       "      <td>1079</td>\n",
       "      <td>16.10%</td>\n",
       "      <td>46.85%</td>\n",
       "    </tr>\n",
       "    <tr>\n",
       "      <td>3</td>\n",
       "      <td>purchase</td>\n",
       "      <td>3331</td>\n",
       "      <td>1128</td>\n",
       "      <td>16.83%</td>\n",
       "      <td>104.54%</td>\n",
       "    </tr>\n",
       "  </tbody>\n",
       "</table>\n",
       "</div>"
      ],
      "text/plain": [
       "     event_name  events_cnt  users_cnt perc_all_users perc_from_last_event\n",
       "0         login       11190       3675         54.84%              100.00%\n",
       "1  product_page        6930       2303         34.37%               62.67%\n",
       "2  product_cart        3247       1079         16.10%               46.85%\n",
       "3      purchase        3331       1128         16.83%              104.54%"
      ]
     },
     "execution_count": 20,
     "metadata": {},
     "output_type": "execute_result"
    }
   ],
   "source": [
    "event_count"
   ]
  },
  {
   "cell_type": "code",
   "execution_count": 21,
   "metadata": {
    "scrolled": true
   },
   "outputs": [
    {
     "data": {
      "image/png": "[encoded data removed]",
      "text/plain": [
       "<Figure size 576x288 with 1 Axes>"
      ]
     },
     "metadata": {},
     "output_type": "display_data"
    }
   ],
   "source": [
    "sns.set_style(\"white\")\n",
    "\n",
    "fig = plt.figure(figsize =(8, 4))\n",
    "ax = sns.barplot(data=event_count, y='event_name', x='users_cnt', color='steelblue')\n",
    "\n",
    "# Подпишем бары значениями\n",
    "for i in ax.patches:\n",
    "    # Добавим количество\n",
    "    ax.text(i.get_width()-100, i.get_y()+0.5, int(i.get_width()), fontsize=15, color='white', fontweight='bold', ha='right')\n",
    "plt.title('Воронка использования приложения')\n",
    "plt.show()"
   ]
  },
  {
   "cell_type": "markdown",
   "metadata": {},
   "source": [
    "Почти 55% пользователей отвалилось сразу после регистрации. Но из оставшихся и совершивших Вход на сайт, 34% просмотрели страницу товара, а 16.1% совершили покупку. 46.8% пользователей, просмотревших страницу товара, совершают покупку. \n",
    "Некоторые пользователи пропускают шаг просмотра корзины и сразу покупают. \n",
    "\n",
    "Пропуск этапа корзины возможен, если при просмотре товара, можно сразу его купить и оплатить. Без захода в корзину. "
   ]
  },
  {
   "cell_type": "markdown",
   "metadata": {},
   "source": [
    "### События на пользователя\n",
    "Количество событий на пользователя одинаково распределены в выборках?"
   ]
  },
  {
   "cell_type": "code",
   "execution_count": 22,
   "metadata": {
    "scrolled": false
   },
   "outputs": [
    {
     "data": {
      "text/html": [
       "<div>\n",
       "<style scoped>\n",
       "    .dataframe tbody tr th:only-of-type {\n",
       "        vertical-align: middle;\n",
       "    }\n",
       "\n",
       "    .dataframe tbody tr th {\n",
       "        vertical-align: top;\n",
       "    }\n",
       "\n",
       "    .dataframe thead th {\n",
       "        text-align: right;\n",
       "    }\n",
       "</style>\n",
       "<table border=\"1\" class=\"dataframe\">\n",
       "  <thead>\n",
       "    <tr style=\"text-align: right;\">\n",
       "      <th></th>\n",
       "      <th>user_id</th>\n",
       "      <th>group</th>\n",
       "      <th>event_cnt</th>\n",
       "    </tr>\n",
       "  </thead>\n",
       "  <tbody>\n",
       "    <tr>\n",
       "      <td>1837</td>\n",
       "      <td>825B68CAAB0C8D43</td>\n",
       "      <td>A</td>\n",
       "      <td>8</td>\n",
       "    </tr>\n",
       "    <tr>\n",
       "      <td>3189</td>\n",
       "      <td>DE078758B0515023</td>\n",
       "      <td>A</td>\n",
       "      <td>8</td>\n",
       "    </tr>\n",
       "    <tr>\n",
       "      <td>3188</td>\n",
       "      <td>DDF33D76FBEBA3EF</td>\n",
       "      <td>A</td>\n",
       "      <td>4</td>\n",
       "    </tr>\n",
       "    <tr>\n",
       "      <td>1922</td>\n",
       "      <td>891458DEF142C0A3</td>\n",
       "      <td>A</td>\n",
       "      <td>16</td>\n",
       "    </tr>\n",
       "    <tr>\n",
       "      <td>1923</td>\n",
       "      <td>891846A96F23C9FB</td>\n",
       "      <td>A</td>\n",
       "      <td>4</td>\n",
       "    </tr>\n",
       "    <tr>\n",
       "      <td>...</td>\n",
       "      <td>...</td>\n",
       "      <td>...</td>\n",
       "      <td>...</td>\n",
       "    </tr>\n",
       "    <tr>\n",
       "      <td>1936</td>\n",
       "      <td>89EF9F0C1676188A</td>\n",
       "      <td>B</td>\n",
       "      <td>10</td>\n",
       "    </tr>\n",
       "    <tr>\n",
       "      <td>1931</td>\n",
       "      <td>89545C7F903DBA34</td>\n",
       "      <td>B</td>\n",
       "      <td>21</td>\n",
       "    </tr>\n",
       "    <tr>\n",
       "      <td>1930</td>\n",
       "      <td>894A2506B3A50D03</td>\n",
       "      <td>B</td>\n",
       "      <td>6</td>\n",
       "    </tr>\n",
       "    <tr>\n",
       "      <td>1965</td>\n",
       "      <td>8C0C9BBA51E96C48</td>\n",
       "      <td>B</td>\n",
       "      <td>3</td>\n",
       "    </tr>\n",
       "    <tr>\n",
       "      <td>3674</td>\n",
       "      <td>FFF28D02B1EACBE1</td>\n",
       "      <td>B</td>\n",
       "      <td>9</td>\n",
       "    </tr>\n",
       "  </tbody>\n",
       "</table>\n",
       "<p>3675 rows × 3 columns</p>\n",
       "</div>"
      ],
      "text/plain": [
       "               user_id group  event_cnt\n",
       "1837  825B68CAAB0C8D43     A          8\n",
       "3189  DE078758B0515023     A          8\n",
       "3188  DDF33D76FBEBA3EF     A          4\n",
       "1922  891458DEF142C0A3     A         16\n",
       "1923  891846A96F23C9FB     A          4\n",
       "...                ...   ...        ...\n",
       "1936  89EF9F0C1676188A     B         10\n",
       "1931  89545C7F903DBA34     B         21\n",
       "1930  894A2506B3A50D03     B          6\n",
       "1965  8C0C9BBA51E96C48     B          3\n",
       "3674  FFF28D02B1EACBE1     B          9\n",
       "\n",
       "[3675 rows x 3 columns]"
      ]
     },
     "execution_count": 22,
     "metadata": {},
     "output_type": "execute_result"
    }
   ],
   "source": [
    "user_events = (events.groupby(['user_id', 'group'])\n",
    "               .agg(event_cnt=('user_id', 'count'))\n",
    "               .reset_index()\n",
    "               .sort_values(by='group'))\n",
    "user_events"
   ]
  },
  {
   "cell_type": "code",
   "execution_count": 23,
   "metadata": {
    "scrolled": true
   },
   "outputs": [
    {
     "data": {
      "image/png": "[encoded data removed]",
      "text/plain": [
       "<Figure size 576x288 with 1 Axes>"
      ]
     },
     "metadata": {},
     "output_type": "display_data"
    }
   ],
   "source": [
    "sns.set_style(\"white\")\n",
    "\n",
    "fig = plt.figure(figsize =(8, 4))\n",
    "ax = sns.histplot(data=user_events, x='event_cnt', hue='group', palette=\"Blues\", discrete=True, multiple='dodge')\n",
    "\n",
    "plt.title('Распределение количества событий на пользователя')\n",
    "plt.show()"
   ]
  },
  {
   "cell_type": "markdown",
   "metadata": {},
   "source": [
    "Выборки теста распределены неравномерно"
   ]
  },
  {
   "cell_type": "markdown",
   "metadata": {},
   "source": [
    "### Выборки тестов\n",
    "В выборках встречаются одни и те же пользователи?"
   ]
  },
  {
   "cell_type": "code",
   "execution_count": 24,
   "metadata": {},
   "outputs": [
    {
     "data": {
      "text/html": [
       "<div>\n",
       "<style scoped>\n",
       "    .dataframe tbody tr th:only-of-type {\n",
       "        vertical-align: middle;\n",
       "    }\n",
       "\n",
       "    .dataframe tbody tr th {\n",
       "        vertical-align: top;\n",
       "    }\n",
       "\n",
       "    .dataframe thead th {\n",
       "        text-align: right;\n",
       "    }\n",
       "</style>\n",
       "<table border=\"1\" class=\"dataframe\">\n",
       "  <thead>\n",
       "    <tr style=\"text-align: right;\">\n",
       "      <th>group</th>\n",
       "      <th>A</th>\n",
       "      <th>B</th>\n",
       "    </tr>\n",
       "    <tr>\n",
       "      <th>user_id</th>\n",
       "      <th></th>\n",
       "      <th></th>\n",
       "    </tr>\n",
       "  </thead>\n",
       "  <tbody>\n",
       "  </tbody>\n",
       "</table>\n",
       "</div>"
      ],
      "text/plain": [
       "Empty DataFrame\n",
       "Columns: [A, B]\n",
       "Index: []"
      ]
     },
     "execution_count": 24,
     "metadata": {},
     "output_type": "execute_result"
    }
   ],
   "source": [
    "pd.pivot_table(participiants, \n",
    "               values='region', \n",
    "               index=['user_id'],\n",
    "               columns=['group'], \n",
    "               aggfunc='count').dropna()"
   ]
  },
  {
   "cell_type": "markdown",
   "metadata": {},
   "source": [
    "В выборках не встречаются одни и те же пользователи."
   ]
  },
  {
   "cell_type": "markdown",
   "metadata": {},
   "source": [
    "### Распределение событий по дням\n",
    "Как число событий распределено по дням?"
   ]
  },
  {
   "cell_type": "code",
   "execution_count": 25,
   "metadata": {},
   "outputs": [],
   "source": [
    "events_day_cnt = events.groupby([events['event_dt'].dt.date, 'group']).agg(cnt=('event_name', 'count')).reset_index()"
   ]
  },
  {
   "cell_type": "code",
   "execution_count": 26,
   "metadata": {},
   "outputs": [
    {
     "data": {
      "image/png": "[encoded data removed]",
      "text/plain": [
       "<Figure size 576x288 with 1 Axes>"
      ]
     },
     "metadata": {},
     "output_type": "display_data"
    }
   ],
   "source": [
    "sns.set_style(\"white\")\n",
    "\n",
    "fig = plt.figure(figsize =(8, 4))\n",
    "ax = sns.barplot(data=events_day_cnt, x='event_dt', y='cnt', hue='group', palette='Blues')\n",
    "ax.tick_params(axis='x', rotation=90)\n",
    "plt.title('Распределение количества событий по дням')\n",
    "plt.show()"
   ]
  },
  {
   "cell_type": "markdown",
   "metadata": {},
   "source": [
    "### Особенности данных\n",
    "Какие особенности данных нужно учесть, прежде чем приступать к A/B-тестированию?"
   ]
  },
  {
   "cell_type": "code",
   "execution_count": 27,
   "metadata": {},
   "outputs": [
    {
     "data": {
      "text/plain": [
       "3824"
      ]
     },
     "execution_count": 27,
     "metadata": {},
     "output_type": "execute_result"
    }
   ],
   "source": [
    "participants_a['user_id'].nunique()"
   ]
  },
  {
   "cell_type": "code",
   "execution_count": 28,
   "metadata": {
    "scrolled": true
   },
   "outputs": [
    {
     "data": {
      "text/plain": [
       "2877"
      ]
     },
     "execution_count": 28,
     "metadata": {},
     "output_type": "execute_result"
    }
   ],
   "source": [
    "participants_b['user_id'].nunique()"
   ]
  },
  {
   "cell_type": "code",
   "execution_count": 29,
   "metadata": {},
   "outputs": [
    {
     "data": {
      "text/html": [
       "<div>\n",
       "<style scoped>\n",
       "    .dataframe tbody tr th:only-of-type {\n",
       "        vertical-align: middle;\n",
       "    }\n",
       "\n",
       "    .dataframe tbody tr th {\n",
       "        vertical-align: top;\n",
       "    }\n",
       "\n",
       "    .dataframe thead th {\n",
       "        text-align: right;\n",
       "    }\n",
       "</style>\n",
       "<table border=\"1\" class=\"dataframe\">\n",
       "  <thead>\n",
       "    <tr style=\"text-align: right;\">\n",
       "      <th></th>\n",
       "      <th>name</th>\n",
       "      <th>regions</th>\n",
       "      <th>start_dt</th>\n",
       "      <th>finish_dt</th>\n",
       "    </tr>\n",
       "  </thead>\n",
       "  <tbody>\n",
       "    <tr>\n",
       "      <td>0</td>\n",
       "      <td>Christmas&amp;New Year Promo</td>\n",
       "      <td>EU, N.America</td>\n",
       "      <td>2020-12-25</td>\n",
       "      <td>2021-01-03</td>\n",
       "    </tr>\n",
       "    <tr>\n",
       "      <td>10</td>\n",
       "      <td>CIS New Year Gift Lottery</td>\n",
       "      <td>CIS</td>\n",
       "      <td>2020-12-30</td>\n",
       "      <td>2021-01-07</td>\n",
       "    </tr>\n",
       "  </tbody>\n",
       "</table>\n",
       "</div>"
      ],
      "text/plain": [
       "                         name        regions   start_dt  finish_dt\n",
       "0    Christmas&New Year Promo  EU, N.America 2020-12-25 2021-01-03\n",
       "10  CIS New Year Gift Lottery            CIS 2020-12-30 2021-01-07"
      ]
     },
     "execution_count": 29,
     "metadata": {},
     "output_type": "execute_result"
    }
   ],
   "source": [
    "market_events[(market_events['start_dt'].isin(events['event_dt'].dt.date))\n",
    "              |(market_events['finish_dt'].isin(events['event_dt'].dt.date))]"
   ]
  },
  {
   "cell_type": "markdown",
   "metadata": {},
   "source": [
    "Последние 5 дней теста пересекаются с маркетинговой кампанией.   Необходимо быть с ними крайне осторожными."
   ]
  },
  {
   "cell_type": "markdown",
   "metadata": {},
   "source": [
    "В группах разное количество пользователей. Так же очень много пользователей, зарегистрированных на тест, не совершали действий."
   ]
  },
  {
   "cell_type": "markdown",
   "metadata": {},
   "source": [
    "## Оценка результатов A/B-тестирования"
   ]
  },
  {
   "cell_type": "markdown",
   "metadata": {},
   "source": [
    "### Проверка статистической разницы долей z-критерием."
   ]
  },
  {
   "cell_type": "code",
   "execution_count": 30,
   "metadata": {},
   "outputs": [],
   "source": [
    "events_group_a = (events[events['group']=='A']\n",
    "                  .groupby(['event_name'])\n",
    "                  .agg(users_cnt=('user_id', 'nunique'))\n",
    "                  .sort_values(by='users_cnt', ascending=False)\n",
    "                  .reset_index()\n",
    "                  .reindex([0,1,3,2])\n",
    "                  .reset_index(drop=True)\n",
    "                 )\n",
    "events_group_b = (events[events['group']=='B']\n",
    "                  .groupby(['event_name'])\n",
    "                  .agg(users_cnt=('user_id', 'nunique'))\n",
    "                  .sort_values(by='users_cnt', ascending=False)\n",
    "                  .reset_index()\n",
    "                  .reindex([0,1,3,2])\n",
    "                  .reset_index(drop=True)\n",
    "                 )"
   ]
  },
  {
   "cell_type": "markdown",
   "metadata": {},
   "source": [
    "#### Гипотеза H<sub>0</sub> - доли пользователей, после проведения А/B теста, на каждом шаге воронки равны.\n",
    "Гипотеза H<sub>1</sub> - доли пользователей, после проведения А/B теста, на каждом шаге воронки различаются."
   ]
  },
  {
   "cell_type": "code",
   "execution_count": 31,
   "metadata": {},
   "outputs": [],
   "source": [
    "pvalues = []\n",
    "for i in range(1, len(event_count)):\n",
    "    stat, pval = proportions_ztest([events_group_a['users_cnt'][i], events_group_b['users_cnt'][i]], \n",
    "                                   [events_group_a['users_cnt'][0], events_group_b['users_cnt'][0]])\n",
    "    pvalues.append(pval)"
   ]
  },
  {
   "cell_type": "code",
   "execution_count": 32,
   "metadata": {},
   "outputs": [],
   "source": [
    "reject, p_value_corrected, sidak_corr, bonf_corr = multipletests(pvalues, alpha=0.05, method='holm-sidak')"
   ]
  },
  {
   "cell_type": "code",
   "execution_count": 33,
   "metadata": {
    "scrolled": false
   },
   "outputs": [
    {
     "name": "stdout",
     "output_type": "stream",
     "text": [
      "Скорректированное альфа значение: 0.016666666666666666\n",
      "-----------------------------------------------------------------------------\n",
      "Гипотеза о равенстве долей в событии product_page\n",
      "p-значение: 1.2932885910643677e-05\n",
      "\u001B[91mОтвергаем нулевую гипотезу: между долями есть значимая разница\u001B[0m\n",
      "-----------------------------------------------------------------------------\n",
      "Гипотеза о равенстве долей в событии product_cart\n",
      "p-значение: 0.14534814557238196\n",
      "\u001B[92mНе получилось отвергнуть нулевую гипотезу, нет оснований считать доли разными\u001B[0m\n",
      "-----------------------------------------------------------------------------\n",
      "Гипотеза о равенстве долей в событии purchase\n",
      "p-значение: 0.03487531269516109\n",
      "\u001B[92mНе получилось отвергнуть нулевую гипотезу, нет оснований считать доли разными\u001B[0m\n",
      "-----------------------------------------------------------------------------\n"
     ]
    }
   ],
   "source": [
    "# Зададим переменные для выделения текста цветом\n",
    "cred = '\\033[91m'\n",
    "cgreen = '\\033[92m'\n",
    "cend = '\\033[0m'\n",
    "\n",
    "print('Скорректированное альфа значение:', bonf_corr)\n",
    "print('-----------------------------------------------------------------------------')\n",
    "for i in range(0, len(p_value_corrected)):\n",
    "    print('Гипотеза о равенстве долей в событии', event_count['event_name'][i+1])\n",
    "    print('p-значение:', p_value_corrected[i])\n",
    "    if p_value_corrected[i] < bonf_corr:\n",
    "        print(cred + 'Отвергаем нулевую гипотезу: между долями есть значимая разница' + cend)\n",
    "    else:\n",
    "        print(cgreen + 'Не получилось отвергнуть нулевую гипотезу, нет оснований считать доли разными' + cend)\n",
    "    print('-----------------------------------------------------------------------------')"
   ]
  },
  {
   "cell_type": "markdown",
   "metadata": {},
   "source": [
    "### Результаты A/B-тестирования."
   ]
  },
  {
   "cell_type": "code",
   "execution_count": 34,
   "metadata": {},
   "outputs": [],
   "source": [
    "events_group_a['perc_of_all'] = (events_group_a['users_cnt'] / participants_a['user_id'].nunique()).map('{:.2%}'.format)\n",
    "events_group_b['perc_of_all'] = (events_group_b['users_cnt'] / participants_b['user_id'].nunique()).map('{:.2%}'.format)\n",
    "events_group_a['perc_from_last_event'] = (1 + events_group_a['users_cnt'].pct_change().fillna(0)).map('{:.2%}'.format)\n",
    "events_group_b['perc_from_last_event'] = (1 + events_group_b['users_cnt'].pct_change().fillna(0)).map('{:.2%}'.format)"
   ]
  },
  {
   "cell_type": "code",
   "execution_count": 35,
   "metadata": {},
   "outputs": [
    {
     "name": "stdout",
     "output_type": "stream",
     "text": [
      "Воронка группы A:\n"
     ]
    },
    {
     "data": {
      "text/html": [
       "<div>\n",
       "<style scoped>\n",
       "    .dataframe tbody tr th:only-of-type {\n",
       "        vertical-align: middle;\n",
       "    }\n",
       "\n",
       "    .dataframe tbody tr th {\n",
       "        vertical-align: top;\n",
       "    }\n",
       "\n",
       "    .dataframe thead th {\n",
       "        text-align: right;\n",
       "    }\n",
       "</style>\n",
       "<table border=\"1\" class=\"dataframe\">\n",
       "  <thead>\n",
       "    <tr style=\"text-align: right;\">\n",
       "      <th></th>\n",
       "      <th>event_name</th>\n",
       "      <th>users_cnt</th>\n",
       "      <th>perc_of_all</th>\n",
       "      <th>perc_from_last_event</th>\n",
       "    </tr>\n",
       "  </thead>\n",
       "  <tbody>\n",
       "    <tr>\n",
       "      <td>0</td>\n",
       "      <td>login</td>\n",
       "      <td>2747</td>\n",
       "      <td>71.84%</td>\n",
       "      <td>100.00%</td>\n",
       "    </tr>\n",
       "    <tr>\n",
       "      <td>1</td>\n",
       "      <td>product_page</td>\n",
       "      <td>1780</td>\n",
       "      <td>46.55%</td>\n",
       "      <td>64.80%</td>\n",
       "    </tr>\n",
       "    <tr>\n",
       "      <td>2</td>\n",
       "      <td>product_cart</td>\n",
       "      <td>824</td>\n",
       "      <td>21.55%</td>\n",
       "      <td>46.29%</td>\n",
       "    </tr>\n",
       "    <tr>\n",
       "      <td>3</td>\n",
       "      <td>purchase</td>\n",
       "      <td>872</td>\n",
       "      <td>22.80%</td>\n",
       "      <td>105.83%</td>\n",
       "    </tr>\n",
       "  </tbody>\n",
       "</table>\n",
       "</div>"
      ],
      "text/plain": [
       "     event_name  users_cnt perc_of_all perc_from_last_event\n",
       "0         login       2747      71.84%              100.00%\n",
       "1  product_page       1780      46.55%               64.80%\n",
       "2  product_cart        824      21.55%               46.29%\n",
       "3      purchase        872      22.80%              105.83%"
      ]
     },
     "metadata": {},
     "output_type": "display_data"
    },
    {
     "name": "stdout",
     "output_type": "stream",
     "text": [
      "Воронка группы B:\n"
     ]
    },
    {
     "data": {
      "text/html": [
       "<div>\n",
       "<style scoped>\n",
       "    .dataframe tbody tr th:only-of-type {\n",
       "        vertical-align: middle;\n",
       "    }\n",
       "\n",
       "    .dataframe tbody tr th {\n",
       "        vertical-align: top;\n",
       "    }\n",
       "\n",
       "    .dataframe thead th {\n",
       "        text-align: right;\n",
       "    }\n",
       "</style>\n",
       "<table border=\"1\" class=\"dataframe\">\n",
       "  <thead>\n",
       "    <tr style=\"text-align: right;\">\n",
       "      <th></th>\n",
       "      <th>event_name</th>\n",
       "      <th>users_cnt</th>\n",
       "      <th>perc_of_all</th>\n",
       "      <th>perc_from_last_event</th>\n",
       "    </tr>\n",
       "  </thead>\n",
       "  <tbody>\n",
       "    <tr>\n",
       "      <td>0</td>\n",
       "      <td>login</td>\n",
       "      <td>928</td>\n",
       "      <td>32.26%</td>\n",
       "      <td>100.00%</td>\n",
       "    </tr>\n",
       "    <tr>\n",
       "      <td>1</td>\n",
       "      <td>product_page</td>\n",
       "      <td>523</td>\n",
       "      <td>18.18%</td>\n",
       "      <td>56.36%</td>\n",
       "    </tr>\n",
       "    <tr>\n",
       "      <td>2</td>\n",
       "      <td>product_cart</td>\n",
       "      <td>255</td>\n",
       "      <td>8.86%</td>\n",
       "      <td>48.76%</td>\n",
       "    </tr>\n",
       "    <tr>\n",
       "      <td>3</td>\n",
       "      <td>purchase</td>\n",
       "      <td>256</td>\n",
       "      <td>8.90%</td>\n",
       "      <td>100.39%</td>\n",
       "    </tr>\n",
       "  </tbody>\n",
       "</table>\n",
       "</div>"
      ],
      "text/plain": [
       "     event_name  users_cnt perc_of_all perc_from_last_event\n",
       "0         login        928      32.26%              100.00%\n",
       "1  product_page        523      18.18%               56.36%\n",
       "2  product_cart        255       8.86%               48.76%\n",
       "3      purchase        256       8.90%              100.39%"
      ]
     },
     "metadata": {},
     "output_type": "display_data"
    }
   ],
   "source": [
    "print('Воронка группы A:')\n",
    "display(events_group_a)\n",
    "print('Воронка группы B:')\n",
    "display(events_group_b)"
   ]
  },
  {
   "cell_type": "markdown",
   "metadata": {},
   "source": [
    "Проведенный эксперимент показал снижение конверсии на стадии просмотра страницы товара. Дальнейшие конверсии не различаются. Тест считаем неудачным, требовалось получить улучшение каждой метрики не менее, чем на 10%. Но мы получили снижение на первом шаге почти в 10% и никакой разницы в дальнейших шагах."
   ]
  },
  {
   "cell_type": "markdown",
   "metadata": {},
   "source": [
    "## Выводы"
   ]
  },
  {
   "cell_type": "markdown",
   "metadata": {
    "pycharm": {
     "name": "#%% md\n"
    }
   },
   "source": [
    "Данные хорошие. Пропуски имеются только в таблице `events` в столбце `details`, в нем указывается сумма платежа. Если `event_name` не `purchase`, в столбце будет пустое значение. Дальше необходимо привести даты к правильному типу, разобраться с попаданием одних пользователей в разные группы теста. \n",
    "\n",
    "1602 пользователя задублились в разные группы или тесты. Для корректного анализа a/b теста выберем пользователей, попавших только в тест recommender_system_test. \n",
    "Всего 14% пользователей из региона EU попало в тест. 95% всей выборки приходится на EU регион. \n",
    "\n",
    "Последние 5 дней теста пересекаются с маркетинговыми кампанями.\n",
    "\n",
    "Почти 55% пользователей отвалилось сразу после регистрации. Но из оставшихся и совершивших Вход на сайт, 34% просмотрели страницу товара, а 16.1% совершили покупку. 46.8% пользователей, просмотревших страницу товара, совершают покупку. Некоторые пользователи пропускают шаг просмотра корзины и сразу покупают.\n",
    "\n",
    "Выборки теста распределены неравномерно.\n",
    "\n",
    "В группах разное количество пользователей. Так же очень много пользователей, зарегистрированных на тест, не совершали действий.\n",
    "\n",
    "<b>Проведенный эксперимент показал снижение конверсии на стадии просмотра страницы товара. Дальнейшие конверсии не различаются. Тест считаем неудачным, требовалось получить улучшение каждой метрики не менее, чем на 10%. Но мы получили снижение на первом шаге почти в 10% и никакой разницы в дальнейших шагах.</b>"
   ]
  }
 ],
 "metadata": {
  "ExecuteTimeLog": [
   {
    "duration": 1193,
    "start_time": "2021-09-18T04:50:49.981Z"
   },
   {
    "duration": 436,
    "start_time": "2021-09-18T04:50:55.380Z"
   },
   {
    "duration": 779,
    "start_time": "2021-09-18T04:57:27.981Z"
   },
   {
    "duration": 23,
    "start_time": "2021-09-18T04:57:35.606Z"
   },
   {
    "duration": 15,
    "start_time": "2021-09-18T04:58:35.358Z"
   },
   {
    "duration": 16,
    "start_time": "2021-09-18T04:59:08.579Z"
   },
   {
    "duration": 12,
    "start_time": "2021-09-18T04:59:14.919Z"
   },
   {
    "duration": 16,
    "start_time": "2021-09-18T04:59:35.064Z"
   },
   {
    "duration": 12,
    "start_time": "2021-09-18T04:59:50.050Z"
   },
   {
    "duration": 30,
    "start_time": "2021-09-18T05:00:19.328Z"
   },
   {
    "duration": 129,
    "start_time": "2021-09-18T05:00:36.653Z"
   },
   {
    "duration": 29,
    "start_time": "2021-09-18T05:00:52.270Z"
   },
   {
    "duration": 82,
    "start_time": "2021-09-18T05:01:01.620Z"
   },
   {
    "duration": 132,
    "start_time": "2021-09-18T05:01:17.152Z"
   },
   {
    "duration": 111,
    "start_time": "2021-09-18T05:01:22.709Z"
   },
   {
    "duration": 16,
    "start_time": "2021-09-18T05:01:52.309Z"
   },
   {
    "duration": 17,
    "start_time": "2021-09-18T05:03:27.321Z"
   },
   {
    "duration": 51,
    "start_time": "2021-09-18T05:03:40.958Z"
   },
   {
    "duration": 48,
    "start_time": "2021-09-18T05:04:03.526Z"
   },
   {
    "duration": 144,
    "start_time": "2021-09-18T05:05:12.429Z"
   },
   {
    "duration": 12,
    "start_time": "2021-09-18T05:09:41.825Z"
   },
   {
    "duration": 15,
    "start_time": "2021-09-18T05:10:49.277Z"
   },
   {
    "duration": 16,
    "start_time": "2021-09-18T05:11:49.535Z"
   },
   {
    "duration": 15,
    "start_time": "2021-09-18T05:12:54.652Z"
   },
   {
    "duration": 163,
    "start_time": "2021-09-18T05:13:01.367Z"
   },
   {
    "duration": 17,
    "start_time": "2021-09-18T05:13:07.796Z"
   },
   {
    "duration": 19,
    "start_time": "2021-09-18T05:13:11.266Z"
   },
   {
    "duration": 438,
    "start_time": "2021-09-18T05:13:17.820Z"
   },
   {
    "duration": 52,
    "start_time": "2021-09-18T05:13:27.512Z"
   },
   {
    "duration": 45,
    "start_time": "2021-09-18T05:14:01.322Z"
   },
   {
    "duration": 44,
    "start_time": "2021-09-18T05:14:18.031Z"
   },
   {
    "duration": 238,
    "start_time": "2021-09-18T05:14:33.509Z"
   },
   {
    "duration": 19,
    "start_time": "2021-09-18T05:14:48.872Z"
   },
   {
    "duration": 38,
    "start_time": "2021-09-18T05:15:03.193Z"
   },
   {
    "duration": 142,
    "start_time": "2021-09-18T05:15:18.580Z"
   },
   {
    "duration": 147,
    "start_time": "2021-09-18T05:15:51.442Z"
   },
   {
    "duration": 144,
    "start_time": "2021-09-18T05:16:04.279Z"
   },
   {
    "duration": 149,
    "start_time": "2021-09-18T05:16:11.865Z"
   },
   {
    "duration": 294,
    "start_time": "2021-09-18T05:16:46.205Z"
   },
   {
    "duration": 314,
    "start_time": "2021-09-18T05:16:52.259Z"
   },
   {
    "duration": 56,
    "start_time": "2021-09-18T05:17:22.414Z"
   },
   {
    "duration": 269,
    "start_time": "2021-09-18T05:28:11.660Z"
   },
   {
    "duration": 8673,
    "start_time": "2021-09-18T05:28:34.776Z"
   },
   {
    "duration": 5054,
    "start_time": "2021-09-18T05:28:43.452Z"
   },
   {
    "duration": 4,
    "start_time": "2021-09-18T05:28:49.874Z"
   },
   {
    "duration": 22,
    "start_time": "2021-09-18T05:29:15.690Z"
   },
   {
    "duration": 3870,
    "start_time": "2021-09-18T05:30:17.543Z"
   },
   {
    "duration": 3806,
    "start_time": "2021-09-18T05:30:21.416Z"
   },
   {
    "duration": 1860,
    "start_time": "2021-09-18T05:30:25.226Z"
   },
   {
    "duration": 771,
    "start_time": "2021-09-18T05:30:27.089Z"
   },
   {
    "duration": 17,
    "start_time": "2021-09-18T05:30:27.863Z"
   },
   {
    "duration": 174,
    "start_time": "2021-09-18T05:30:27.883Z"
   },
   {
    "duration": 447,
    "start_time": "2021-09-18T05:30:28.062Z"
   },
   {
    "duration": 78,
    "start_time": "2021-09-18T05:30:28.511Z"
   },
   {
    "duration": 172,
    "start_time": "2021-09-18T05:30:28.593Z"
   },
   {
    "duration": 17,
    "start_time": "2021-09-18T05:30:28.767Z"
   },
   {
    "duration": 561,
    "start_time": "2021-09-18T05:30:28.787Z"
   },
   {
    "duration": 1050,
    "start_time": "2021-09-18T05:30:40.989Z"
   },
   {
    "duration": 667,
    "start_time": "2021-09-18T05:30:48.099Z"
   },
   {
    "duration": 113,
    "start_time": "2021-09-18T05:32:16.515Z"
   },
   {
    "duration": 227,
    "start_time": "2021-09-18T05:32:21.442Z"
   },
   {
    "duration": 699,
    "start_time": "2021-09-18T05:32:31.769Z"
   },
   {
    "duration": 101,
    "start_time": "2021-09-18T05:32:40.648Z"
   },
   {
    "duration": 691,
    "start_time": "2021-09-18T05:32:42.172Z"
   },
   {
    "duration": 60,
    "start_time": "2021-09-18T05:32:51.435Z"
   },
   {
    "duration": 878,
    "start_time": "2021-09-18T05:41:13.319Z"
   },
   {
    "duration": 11,
    "start_time": "2021-09-18T05:41:18.095Z"
   },
   {
    "duration": 7,
    "start_time": "2021-09-18T05:44:41.681Z"
   },
   {
    "duration": 7,
    "start_time": "2021-09-18T05:44:47.929Z"
   },
   {
    "duration": 9,
    "start_time": "2021-09-18T05:44:53.895Z"
   },
   {
    "duration": 13,
    "start_time": "2021-09-18T05:47:21.095Z"
   },
   {
    "duration": 6,
    "start_time": "2021-09-18T05:47:27.300Z"
   },
   {
    "duration": 7,
    "start_time": "2021-09-18T05:47:31.786Z"
   },
   {
    "duration": 10,
    "start_time": "2021-09-18T05:47:33.485Z"
   },
   {
    "duration": 7,
    "start_time": "2021-09-18T05:48:21.804Z"
   },
   {
    "duration": 9,
    "start_time": "2021-09-18T05:48:23.165Z"
   },
   {
    "duration": 9,
    "start_time": "2021-09-18T05:48:24.601Z"
   },
   {
    "duration": 12,
    "start_time": "2021-09-18T05:48:54.679Z"
   },
   {
    "duration": 9,
    "start_time": "2021-09-18T05:49:05.957Z"
   },
   {
    "duration": 9,
    "start_time": "2021-09-18T05:49:14.194Z"
   },
   {
    "duration": 9,
    "start_time": "2021-09-18T05:49:15.893Z"
   },
   {
    "duration": 122,
    "start_time": "2021-09-18T05:49:54.117Z"
   },
   {
    "duration": 10,
    "start_time": "2021-09-18T05:49:58.707Z"
   },
   {
    "duration": 11,
    "start_time": "2021-09-18T05:50:00.944Z"
   },
   {
    "duration": 11,
    "start_time": "2021-09-18T05:50:22.498Z"
   },
   {
    "duration": 11,
    "start_time": "2021-09-18T05:50:23.718Z"
   },
   {
    "duration": 139,
    "start_time": "2021-09-18T05:51:45.314Z"
   },
   {
    "duration": 10,
    "start_time": "2021-09-18T05:51:47.868Z"
   },
   {
    "duration": 10,
    "start_time": "2021-09-18T05:51:48.940Z"
   },
   {
    "duration": 10,
    "start_time": "2021-09-18T05:51:49.750Z"
   },
   {
    "duration": 10,
    "start_time": "2021-09-18T05:51:59.607Z"
   },
   {
    "duration": 10,
    "start_time": "2021-09-18T05:52:00.616Z"
   },
   {
    "duration": 10,
    "start_time": "2021-09-18T05:52:16.215Z"
   },
   {
    "duration": 10,
    "start_time": "2021-09-18T05:52:17.503Z"
   },
   {
    "duration": 10,
    "start_time": "2021-09-18T05:52:20.050Z"
   },
   {
    "duration": 10,
    "start_time": "2021-09-18T05:52:21.132Z"
   },
   {
    "duration": 114,
    "start_time": "2021-09-18T05:52:41.340Z"
   },
   {
    "duration": 11,
    "start_time": "2021-09-18T05:52:42.896Z"
   },
   {
    "duration": 11,
    "start_time": "2021-09-18T05:52:52.490Z"
   },
   {
    "duration": 11,
    "start_time": "2021-09-18T05:52:53.803Z"
   },
   {
    "duration": 7,
    "start_time": "2021-09-18T05:53:18.128Z"
   },
   {
    "duration": 8,
    "start_time": "2021-09-18T05:53:18.822Z"
   },
   {
    "duration": 11,
    "start_time": "2021-09-18T05:53:20.101Z"
   },
   {
    "duration": 286,
    "start_time": "2021-09-18T05:53:42.539Z"
   },
   {
    "duration": 342,
    "start_time": "2021-09-18T05:53:53.498Z"
   },
   {
    "duration": 553,
    "start_time": "2021-09-18T05:54:13.359Z"
   },
   {
    "duration": 281,
    "start_time": "2021-09-18T05:54:17.854Z"
   },
   {
    "duration": 327,
    "start_time": "2021-09-18T05:54:38.599Z"
   },
   {
    "duration": 318,
    "start_time": "2021-09-18T05:54:48.508Z"
   },
   {
    "duration": 640,
    "start_time": "2021-09-18T05:55:06.734Z"
   },
   {
    "duration": 1508,
    "start_time": "2021-09-18T05:55:09.755Z"
   },
   {
    "duration": 1784,
    "start_time": "2021-09-18T05:55:27.458Z"
   },
   {
    "duration": 342,
    "start_time": "2021-09-18T05:55:37.386Z"
   },
   {
    "duration": 385,
    "start_time": "2021-09-18T05:55:55.812Z"
   },
   {
    "duration": 395,
    "start_time": "2021-09-18T05:56:10.894Z"
   },
   {
    "duration": 372,
    "start_time": "2021-09-18T05:56:23.566Z"
   },
   {
    "duration": 12,
    "start_time": "2021-09-18T05:57:36.609Z"
   },
   {
    "duration": 878,
    "start_time": "2021-09-18T05:57:48.200Z"
   },
   {
    "duration": 10,
    "start_time": "2021-09-18T05:57:51.642Z"
   },
   {
    "duration": 10,
    "start_time": "2021-09-18T05:58:31.779Z"
   },
   {
    "duration": 10,
    "start_time": "2021-09-18T05:58:32.819Z"
   },
   {
    "duration": 9,
    "start_time": "2021-09-18T05:58:43.083Z"
   },
   {
    "duration": 11,
    "start_time": "2021-09-18T05:58:44.806Z"
   },
   {
    "duration": 519,
    "start_time": "2021-09-18T05:59:17.171Z"
   },
   {
    "duration": 825,
    "start_time": "2021-09-18T06:01:10.569Z"
   },
   {
    "duration": 11,
    "start_time": "2021-09-18T06:01:12.333Z"
   },
   {
    "duration": 910,
    "start_time": "2021-09-18T06:01:20.659Z"
   },
   {
    "duration": 10,
    "start_time": "2021-09-18T06:01:21.572Z"
   },
   {
    "duration": 766,
    "start_time": "2021-09-18T06:01:25.492Z"
   },
   {
    "duration": 11,
    "start_time": "2021-09-18T06:01:26.671Z"
   },
   {
    "duration": 10,
    "start_time": "2021-09-18T06:01:34.191Z"
   },
   {
    "duration": 10,
    "start_time": "2021-09-18T06:01:35.254Z"
   },
   {
    "duration": 9,
    "start_time": "2021-09-18T06:01:51.607Z"
   },
   {
    "duration": 11,
    "start_time": "2021-09-18T06:01:52.700Z"
   },
   {
    "duration": 393,
    "start_time": "2021-09-18T06:01:59.201Z"
   },
   {
    "duration": 839,
    "start_time": "2021-09-18T06:17:23.581Z"
   },
   {
    "duration": 12,
    "start_time": "2021-09-18T06:17:25.548Z"
   },
   {
    "duration": 377,
    "start_time": "2021-09-18T06:17:43.073Z"
   },
   {
    "duration": 15,
    "start_time": "2021-09-18T06:19:02.635Z"
   },
   {
    "duration": 10,
    "start_time": "2021-09-18T06:19:38.309Z"
   },
   {
    "duration": 14,
    "start_time": "2021-09-18T06:19:41.309Z"
   },
   {
    "duration": 15,
    "start_time": "2021-09-18T06:19:54.294Z"
   },
   {
    "duration": 14,
    "start_time": "2021-09-18T06:19:58.030Z"
   },
   {
    "duration": 20,
    "start_time": "2021-09-18T06:20:13.881Z"
   },
   {
    "duration": 18,
    "start_time": "2021-09-18T06:23:53.425Z"
   },
   {
    "duration": 14,
    "start_time": "2021-09-18T06:26:32.858Z"
   },
   {
    "duration": 10,
    "start_time": "2021-09-18T06:26:47.057Z"
   },
   {
    "duration": 20,
    "start_time": "2021-09-18T06:26:52.588Z"
   },
   {
    "duration": 19,
    "start_time": "2021-09-18T06:27:41.374Z"
   },
   {
    "duration": 13,
    "start_time": "2021-09-18T06:28:22.834Z"
   },
   {
    "duration": 17,
    "start_time": "2021-09-18T06:29:09.223Z"
   },
   {
    "duration": 23,
    "start_time": "2021-09-18T06:29:29.398Z"
   },
   {
    "duration": 14,
    "start_time": "2021-09-18T06:29:35.794Z"
   },
   {
    "duration": 11,
    "start_time": "2021-09-18T06:29:56.602Z"
   },
   {
    "duration": 472,
    "start_time": "2021-09-18T06:30:09.129Z"
   },
   {
    "duration": 12,
    "start_time": "2021-09-18T06:30:15.714Z"
   },
   {
    "duration": 12,
    "start_time": "2021-09-18T06:30:56.244Z"
   },
   {
    "duration": 8,
    "start_time": "2021-09-18T06:31:26.451Z"
   },
   {
    "duration": 19,
    "start_time": "2021-09-18T06:31:47.923Z"
   },
   {
    "duration": 10,
    "start_time": "2021-09-18T06:32:10.595Z"
   },
   {
    "duration": 27,
    "start_time": "2021-09-18T06:32:15.291Z"
   },
   {
    "duration": 13,
    "start_time": "2021-09-18T06:35:02.292Z"
   },
   {
    "duration": 309,
    "start_time": "2021-09-18T06:37:05.554Z"
   },
   {
    "duration": 20,
    "start_time": "2021-09-18T06:37:20.207Z"
   },
   {
    "duration": 310,
    "start_time": "2021-09-18T06:37:29.596Z"
   },
   {
    "duration": 233,
    "start_time": "2021-09-18T06:37:46.742Z"
   },
   {
    "duration": 215,
    "start_time": "2021-09-18T06:38:04.378Z"
   },
   {
    "duration": 5571,
    "start_time": "2021-09-18T06:38:23.947Z"
   },
   {
    "duration": 3833,
    "start_time": "2021-09-18T06:38:29.521Z"
   },
   {
    "duration": 5,
    "start_time": "2021-09-18T06:38:33.357Z"
   },
   {
    "duration": 760,
    "start_time": "2021-09-18T06:38:33.365Z"
   },
   {
    "duration": 13,
    "start_time": "2021-09-18T06:38:34.128Z"
   },
   {
    "duration": 171,
    "start_time": "2021-09-18T06:38:34.143Z"
   },
   {
    "duration": 432,
    "start_time": "2021-09-18T06:38:34.316Z"
   },
   {
    "duration": 68,
    "start_time": "2021-09-18T06:38:34.750Z"
   },
   {
    "duration": 170,
    "start_time": "2021-09-18T06:38:34.822Z"
   },
   {
    "duration": 750,
    "start_time": "2021-09-18T06:38:34.995Z"
   },
   {
    "duration": 16,
    "start_time": "2021-09-18T06:38:35.748Z"
   },
   {
    "duration": 490,
    "start_time": "2021-09-18T06:38:35.766Z"
   },
   {
    "duration": 14,
    "start_time": "2021-09-18T06:38:36.258Z"
   },
   {
    "duration": 16,
    "start_time": "2021-09-18T06:39:29.878Z"
   },
   {
    "duration": 249,
    "start_time": "2021-09-18T06:39:39.645Z"
   },
   {
    "duration": 18,
    "start_time": "2021-09-18T06:39:41.429Z"
   },
   {
    "duration": 10,
    "start_time": "2021-09-18T06:41:35.924Z"
   },
   {
    "duration": 20,
    "start_time": "2021-09-18T06:41:38.982Z"
   },
   {
    "duration": 20,
    "start_time": "2021-09-18T06:42:06.466Z"
   },
   {
    "duration": 11,
    "start_time": "2021-09-18T06:42:16.978Z"
   },
   {
    "duration": 17,
    "start_time": "2021-09-18T06:42:22.143Z"
   },
   {
    "duration": 1595,
    "start_time": "2021-09-18T06:43:28.159Z"
   },
   {
    "duration": 766,
    "start_time": "2021-09-18T06:43:35.981Z"
   },
   {
    "duration": 862,
    "start_time": "2021-09-18T06:43:50.166Z"
   },
   {
    "duration": 822,
    "start_time": "2021-09-18T06:44:11.984Z"
   },
   {
    "duration": 423,
    "start_time": "2021-09-18T06:44:17.183Z"
   },
   {
    "duration": 492,
    "start_time": "2021-09-18T06:44:51.645Z"
   },
   {
    "duration": 812,
    "start_time": "2021-09-18T06:44:59.850Z"
   },
   {
    "duration": 925,
    "start_time": "2021-09-18T06:45:55.152Z"
   },
   {
    "duration": 1213,
    "start_time": "2021-09-18T06:46:36.643Z"
   },
   {
    "duration": 388,
    "start_time": "2021-09-18T06:46:49.840Z"
   },
   {
    "duration": 1340,
    "start_time": "2021-09-18T06:47:09.086Z"
   },
   {
    "duration": 1531,
    "start_time": "2021-09-18T06:47:45.296Z"
   },
   {
    "duration": 1723,
    "start_time": "2021-09-18T06:47:52.639Z"
   },
   {
    "duration": 1905,
    "start_time": "2021-09-18T06:50:38.938Z"
   },
   {
    "duration": 53698,
    "start_time": "2021-09-18T06:50:53.946Z"
   },
   {
    "duration": 191,
    "start_time": "2021-09-18T06:51:55.453Z"
   },
   {
    "duration": 54,
    "start_time": "2021-09-18T06:51:59.124Z"
   },
   {
    "duration": 21,
    "start_time": "2021-09-18T06:51:59.998Z"
   },
   {
    "duration": 1952,
    "start_time": "2021-09-18T06:52:23.501Z"
   },
   {
    "duration": 387,
    "start_time": "2021-09-18T06:52:45.803Z"
   },
   {
    "duration": 2787,
    "start_time": "2021-09-18T06:53:00.092Z"
   },
   {
    "duration": 2014,
    "start_time": "2021-09-18T06:53:21.101Z"
   },
   {
    "duration": 3992,
    "start_time": "2021-09-18T06:56:33.261Z"
   },
   {
    "duration": 4149,
    "start_time": "2021-09-18T06:56:37.255Z"
   },
   {
    "duration": 1475,
    "start_time": "2021-09-18T06:56:41.411Z"
   },
   {
    "duration": 752,
    "start_time": "2021-09-18T06:56:42.889Z"
   },
   {
    "duration": 20,
    "start_time": "2021-09-18T06:56:43.644Z"
   },
   {
    "duration": 179,
    "start_time": "2021-09-18T06:56:43.666Z"
   },
   {
    "duration": 457,
    "start_time": "2021-09-18T06:56:43.847Z"
   },
   {
    "duration": 74,
    "start_time": "2021-09-18T06:56:44.309Z"
   },
   {
    "duration": 175,
    "start_time": "2021-09-18T06:56:44.386Z"
   },
   {
    "duration": 770,
    "start_time": "2021-09-18T06:56:44.564Z"
   },
   {
    "duration": 11,
    "start_time": "2021-09-18T06:56:45.336Z"
   },
   {
    "duration": 403,
    "start_time": "2021-09-18T06:56:45.350Z"
   },
   {
    "duration": 19,
    "start_time": "2021-09-18T06:56:45.755Z"
   },
   {
    "duration": 264,
    "start_time": "2021-09-18T06:56:45.777Z"
   },
   {
    "duration": 25,
    "start_time": "2021-09-18T06:56:46.044Z"
   },
   {
    "duration": 23,
    "start_time": "2021-09-18T06:56:46.072Z"
   },
   {
    "duration": 9177,
    "start_time": "2021-09-18T06:56:46.097Z"
   },
   {
    "duration": -62,
    "start_time": "2021-09-18T06:56:55.339Z"
   },
   {
    "duration": -61,
    "start_time": "2021-09-18T06:56:55.339Z"
   },
   {
    "duration": 2796,
    "start_time": "2021-09-18T06:57:02.610Z"
   },
   {
    "duration": 11,
    "start_time": "2021-09-18T06:58:45.504Z"
   },
   {
    "duration": 9488,
    "start_time": "2021-09-18T07:01:12.275Z"
   },
   {
    "duration": -52,
    "start_time": "2021-09-18T07:01:21.818Z"
   },
   {
    "duration": 261,
    "start_time": "2021-09-18T07:01:25.356Z"
   },
   {
    "duration": 8,
    "start_time": "2021-09-18T07:01:26.837Z"
   },
   {
    "duration": 12,
    "start_time": "2021-09-18T07:01:28.447Z"
   },
   {
    "duration": 1476,
    "start_time": "2021-09-18T07:01:40.549Z"
   },
   {
    "duration": 269,
    "start_time": "2021-09-18T07:03:01.413Z"
   },
   {
    "duration": 1464,
    "start_time": "2021-09-18T07:03:03.427Z"
   },
   {
    "duration": 19,
    "start_time": "2021-09-18T07:03:42.799Z"
   },
   {
    "duration": 14,
    "start_time": "2021-09-18T07:03:48.179Z"
   },
   {
    "duration": 18,
    "start_time": "2021-09-18T07:04:32.414Z"
   },
   {
    "duration": 37,
    "start_time": "2021-09-18T07:06:49.049Z"
   },
   {
    "duration": 25,
    "start_time": "2021-09-18T07:06:52.104Z"
   },
   {
    "duration": 86,
    "start_time": "2021-09-18T07:08:05.603Z"
   },
   {
    "duration": 10,
    "start_time": "2021-09-18T07:08:09.316Z"
   },
   {
    "duration": 792,
    "start_time": "2021-09-18T07:08:58.692Z"
   },
   {
    "duration": 428,
    "start_time": "2021-09-18T07:09:03.531Z"
   },
   {
    "duration": 644,
    "start_time": "2021-09-18T07:09:16.154Z"
   },
   {
    "duration": 78,
    "start_time": "2021-09-18T07:09:25.815Z"
   },
   {
    "duration": 475,
    "start_time": "2021-09-18T07:09:26.678Z"
   },
   {
    "duration": 12,
    "start_time": "2021-09-18T07:09:40.611Z"
   },
   {
    "duration": 514,
    "start_time": "2021-09-18T07:10:19.081Z"
   },
   {
    "duration": 571,
    "start_time": "2021-09-18T07:10:32.795Z"
   },
   {
    "duration": 517,
    "start_time": "2021-09-18T07:10:35.088Z"
   },
   {
    "duration": 704,
    "start_time": "2021-09-18T07:10:44.203Z"
   },
   {
    "duration": 744,
    "start_time": "2021-09-18T07:10:50.213Z"
   },
   {
    "duration": 789,
    "start_time": "2021-09-18T07:11:50.513Z"
   },
   {
    "duration": 281,
    "start_time": "2021-09-18T07:12:07.514Z"
   },
   {
    "duration": 12,
    "start_time": "2021-09-18T07:12:08.485Z"
   },
   {
    "duration": 661,
    "start_time": "2021-09-18T07:12:10.316Z"
   },
   {
    "duration": 663,
    "start_time": "2021-09-18T07:12:49.663Z"
   },
   {
    "duration": 439,
    "start_time": "2021-09-18T07:14:18.386Z"
   },
   {
    "duration": 13,
    "start_time": "2021-09-18T07:16:10.500Z"
   },
   {
    "duration": 14,
    "start_time": "2021-09-18T07:17:06.719Z"
   },
   {
    "duration": 161,
    "start_time": "2021-09-18T07:17:27.163Z"
   },
   {
    "duration": 12,
    "start_time": "2021-09-18T07:17:36.051Z"
   },
   {
    "duration": 330,
    "start_time": "2021-09-18T07:18:21.003Z"
   },
   {
    "duration": 15,
    "start_time": "2021-09-18T07:23:25.174Z"
   },
   {
    "duration": 15,
    "start_time": "2021-09-18T07:36:14.594Z"
   },
   {
    "duration": 13,
    "start_time": "2021-09-18T07:37:55.910Z"
   },
   {
    "duration": 14,
    "start_time": "2021-09-18T07:38:19.058Z"
   },
   {
    "duration": 17,
    "start_time": "2021-09-18T07:38:32.017Z"
   },
   {
    "duration": 15,
    "start_time": "2021-09-18T07:38:38.380Z"
   },
   {
    "duration": 15,
    "start_time": "2021-09-18T07:40:14.277Z"
   },
   {
    "duration": 60,
    "start_time": "2021-09-18T07:40:47.613Z"
   },
   {
    "duration": 25,
    "start_time": "2021-09-18T07:40:49.967Z"
   },
   {
    "duration": 10,
    "start_time": "2021-09-18T07:41:05.461Z"
   },
   {
    "duration": 14,
    "start_time": "2021-09-18T07:41:45.966Z"
   },
   {
    "duration": 30,
    "start_time": "2021-09-18T07:41:56.020Z"
   },
   {
    "duration": 23,
    "start_time": "2021-09-18T07:41:59.608Z"
   },
   {
    "duration": 16,
    "start_time": "2021-09-18T07:42:43.361Z"
   },
   {
    "duration": 8,
    "start_time": "2021-09-18T07:43:46.861Z"
   },
   {
    "duration": 7,
    "start_time": "2021-09-18T07:43:52.537Z"
   },
   {
    "duration": 4,
    "start_time": "2021-09-18T07:46:54.802Z"
   },
   {
    "duration": 6,
    "start_time": "2021-09-18T07:46:57.429Z"
   },
   {
    "duration": 4,
    "start_time": "2021-09-18T07:47:06.636Z"
   },
   {
    "duration": 7,
    "start_time": "2021-09-18T07:47:09.268Z"
   },
   {
    "duration": 4717,
    "start_time": "2021-09-18T07:47:16.254Z"
   },
   {
    "duration": 4578,
    "start_time": "2021-09-18T07:47:29.610Z"
   },
   {
    "duration": 3546,
    "start_time": "2021-09-18T07:47:34.190Z"
   },
   {
    "duration": 1541,
    "start_time": "2021-09-18T07:47:37.739Z"
   },
   {
    "duration": 759,
    "start_time": "2021-09-18T07:47:39.283Z"
   },
   {
    "duration": 19,
    "start_time": "2021-09-18T07:47:40.045Z"
   },
   {
    "duration": 185,
    "start_time": "2021-09-18T07:47:40.067Z"
   },
   {
    "duration": 483,
    "start_time": "2021-09-18T07:47:40.263Z"
   },
   {
    "duration": 67,
    "start_time": "2021-09-18T07:47:40.749Z"
   },
   {
    "duration": 192,
    "start_time": "2021-09-18T07:47:40.822Z"
   },
   {
    "duration": 809,
    "start_time": "2021-09-18T07:47:41.017Z"
   },
   {
    "duration": 13,
    "start_time": "2021-09-18T07:47:41.829Z"
   },
   {
    "duration": 401,
    "start_time": "2021-09-18T07:47:41.845Z"
   },
   {
    "duration": 288,
    "start_time": "2021-09-18T07:47:42.249Z"
   },
   {
    "duration": 1444,
    "start_time": "2021-09-18T07:47:42.539Z"
   },
   {
    "duration": 19,
    "start_time": "2021-09-18T07:47:43.985Z"
   },
   {
    "duration": 305,
    "start_time": "2021-09-18T07:47:44.007Z"
   },
   {
    "duration": 682,
    "start_time": "2021-09-18T07:47:44.314Z"
   },
   {
    "duration": 23,
    "start_time": "2021-09-18T07:47:44.999Z"
   },
   {
    "duration": 39,
    "start_time": "2021-09-18T07:47:45.025Z"
   },
   {
    "duration": 81,
    "start_time": "2021-09-18T07:47:45.067Z"
   },
   {
    "duration": 21,
    "start_time": "2021-09-18T07:47:45.163Z"
   },
   {
    "duration": 30,
    "start_time": "2021-09-18T07:47:45.186Z"
   },
   {
    "duration": 13,
    "start_time": "2021-09-18T07:47:45.218Z"
   },
   {
    "duration": 22,
    "start_time": "2021-09-18T07:47:45.234Z"
   },
   {
    "duration": 43,
    "start_time": "2021-09-18T07:47:45.258Z"
   },
   {
    "duration": 3838,
    "start_time": "2021-09-18T07:48:07.448Z"
   },
   {
    "duration": 3679,
    "start_time": "2021-09-18T07:48:11.289Z"
   },
   {
    "duration": 1636,
    "start_time": "2021-09-18T07:48:14.975Z"
   },
   {
    "duration": 776,
    "start_time": "2021-09-18T07:48:16.613Z"
   },
   {
    "duration": 17,
    "start_time": "2021-09-18T07:48:17.391Z"
   },
   {
    "duration": 249,
    "start_time": "2021-09-18T07:48:17.410Z"
   },
   {
    "duration": 486,
    "start_time": "2021-09-18T07:48:17.663Z"
   },
   {
    "duration": 60,
    "start_time": "2021-09-18T07:48:18.162Z"
   },
   {
    "duration": 198,
    "start_time": "2021-09-18T07:48:18.226Z"
   },
   {
    "duration": 789,
    "start_time": "2021-09-18T07:48:18.427Z"
   },
   {
    "duration": 13,
    "start_time": "2021-09-18T07:48:19.218Z"
   },
   {
    "duration": 400,
    "start_time": "2021-09-18T07:48:19.234Z"
   },
   {
    "duration": 272,
    "start_time": "2021-09-18T07:48:19.637Z"
   },
   {
    "duration": 1437,
    "start_time": "2021-09-18T07:48:19.912Z"
   },
   {
    "duration": 25,
    "start_time": "2021-09-18T07:48:21.353Z"
   },
   {
    "duration": 300,
    "start_time": "2021-09-18T07:48:21.381Z"
   },
   {
    "duration": 662,
    "start_time": "2021-09-18T07:48:21.684Z"
   },
   {
    "duration": 22,
    "start_time": "2021-09-18T07:48:22.349Z"
   },
   {
    "duration": 14,
    "start_time": "2021-09-18T07:48:22.374Z"
   },
   {
    "duration": 104,
    "start_time": "2021-09-18T07:48:22.391Z"
   },
   {
    "duration": 20,
    "start_time": "2021-09-18T07:48:22.497Z"
   },
   {
    "duration": 18,
    "start_time": "2021-09-18T07:48:22.519Z"
   },
   {
    "duration": 25,
    "start_time": "2021-09-18T07:48:22.539Z"
   },
   {
    "duration": 12,
    "start_time": "2021-09-18T07:48:22.566Z"
   },
   {
    "duration": 22,
    "start_time": "2021-09-18T07:48:22.580Z"
   },
   {
    "duration": 8,
    "start_time": "2021-09-18T07:56:13.130Z"
   },
   {
    "duration": 14,
    "start_time": "2021-09-18T07:59:25.843Z"
   },
   {
    "duration": 10,
    "start_time": "2021-09-18T07:59:28.689Z"
   },
   {
    "duration": 19,
    "start_time": "2021-09-18T08:00:00.845Z"
   },
   {
    "duration": 8,
    "start_time": "2021-09-18T08:00:03.262Z"
   },
   {
    "duration": 21,
    "start_time": "2021-09-18T08:00:37.869Z"
   },
   {
    "duration": 9,
    "start_time": "2021-09-18T08:00:39.686Z"
   },
   {
    "duration": 37,
    "start_time": "2021-09-18T08:01:11.643Z"
   },
   {
    "duration": 15,
    "start_time": "2021-09-18T08:01:24.936Z"
   },
   {
    "duration": 19,
    "start_time": "2021-09-18T08:02:49.313Z"
   },
   {
    "duration": 14,
    "start_time": "2021-09-18T08:02:51.869Z"
   },
   {
    "duration": 14,
    "start_time": "2021-09-18T08:02:55.089Z"
   },
   {
    "duration": 9634,
    "start_time": "2021-09-18T08:03:26.250Z"
   },
   {
    "duration": 42,
    "start_time": "2021-09-18T08:03:53.207Z"
   },
   {
    "duration": 15,
    "start_time": "2021-09-18T08:03:55.250Z"
   },
   {
    "duration": 53,
    "start_time": "2021-09-18T08:04:47.393Z"
   },
   {
    "duration": 17,
    "start_time": "2021-09-18T08:04:48.543Z"
   },
   {
    "duration": 671,
    "start_time": "2021-09-18T08:05:56.130Z"
   },
   {
    "duration": 52,
    "start_time": "2021-09-18T08:08:27.566Z"
   },
   {
    "duration": 53,
    "start_time": "2021-09-18T08:08:38.795Z"
   },
   {
    "duration": 11,
    "start_time": "2021-09-18T08:08:42.001Z"
   },
   {
    "duration": 37,
    "start_time": "2021-09-18T08:09:03.673Z"
   },
   {
    "duration": 11,
    "start_time": "2021-09-18T08:09:04.591Z"
   },
   {
    "duration": 37,
    "start_time": "2021-09-18T08:09:49.536Z"
   },
   {
    "duration": 11,
    "start_time": "2021-09-18T08:09:50.416Z"
   },
   {
    "duration": 37,
    "start_time": "2021-09-18T08:10:08.044Z"
   },
   {
    "duration": 11,
    "start_time": "2021-09-18T08:10:09.159Z"
   },
   {
    "duration": 38,
    "start_time": "2021-09-18T08:10:16.058Z"
   },
   {
    "duration": 10,
    "start_time": "2021-09-18T08:10:17.247Z"
   },
   {
    "duration": 8331,
    "start_time": "2021-09-18T08:11:51.572Z"
   },
   {
    "duration": 1433,
    "start_time": "2021-09-18T08:12:17.187Z"
   },
   {
    "duration": 4,
    "start_time": "2021-09-18T08:12:43.459Z"
   },
   {
    "duration": 23,
    "start_time": "2021-09-18T08:12:49.400Z"
   },
   {
    "duration": 50,
    "start_time": "2021-09-18T08:13:35.556Z"
   },
   {
    "duration": 14,
    "start_time": "2021-09-18T08:13:36.731Z"
   },
   {
    "duration": 53,
    "start_time": "2021-09-18T08:13:49.504Z"
   },
   {
    "duration": 17,
    "start_time": "2021-09-18T08:13:50.389Z"
   },
   {
    "duration": 25,
    "start_time": "2021-09-18T08:13:54.477Z"
   },
   {
    "duration": 15,
    "start_time": "2021-09-18T08:17:24.318Z"
   },
   {
    "duration": 58,
    "start_time": "2021-09-18T08:19:55.760Z"
   },
   {
    "duration": 16,
    "start_time": "2021-09-18T08:19:56.467Z"
   },
   {
    "duration": 55,
    "start_time": "2021-09-18T08:20:20.746Z"
   },
   {
    "duration": 17,
    "start_time": "2021-09-18T08:20:21.682Z"
   },
   {
    "duration": 21,
    "start_time": "2021-09-18T08:20:25.069Z"
   },
   {
    "duration": 108,
    "start_time": "2021-09-18T08:31:04.812Z"
   },
   {
    "duration": 16,
    "start_time": "2021-09-18T08:31:42.007Z"
   },
   {
    "duration": 19,
    "start_time": "2021-09-18T08:32:14.805Z"
   },
   {
    "duration": 653,
    "start_time": "2021-09-18T08:36:44.705Z"
   },
   {
    "duration": 492,
    "start_time": "2021-09-18T08:36:53.357Z"
   },
   {
    "duration": 890,
    "start_time": "2021-09-18T08:38:23.946Z"
   },
   {
    "duration": 879,
    "start_time": "2021-09-18T08:38:28.239Z"
   },
   {
    "duration": 903,
    "start_time": "2021-09-18T08:38:51.938Z"
   },
   {
    "duration": 1078,
    "start_time": "2021-09-18T08:39:07.661Z"
   },
   {
    "duration": 902,
    "start_time": "2021-09-18T08:39:17.140Z"
   },
   {
    "duration": 589,
    "start_time": "2021-09-18T08:39:23.883Z"
   },
   {
    "duration": 590,
    "start_time": "2021-09-18T08:39:27.377Z"
   },
   {
    "duration": 617,
    "start_time": "2021-09-18T08:39:37.473Z"
   },
   {
    "duration": 916,
    "start_time": "2021-09-18T08:40:39.379Z"
   },
   {
    "duration": 700,
    "start_time": "2021-09-18T08:40:49.085Z"
   },
   {
    "duration": 601,
    "start_time": "2021-09-18T08:41:05.307Z"
   },
   {
    "duration": 990,
    "start_time": "2021-09-18T08:41:19.264Z"
   },
   {
    "duration": 576,
    "start_time": "2021-09-18T08:41:28.813Z"
   },
   {
    "duration": 867,
    "start_time": "2021-09-18T08:41:52.883Z"
   },
   {
    "duration": 56,
    "start_time": "2021-09-18T08:42:13.922Z"
   },
   {
    "duration": 19,
    "start_time": "2021-09-18T08:42:14.754Z"
   },
   {
    "duration": 636,
    "start_time": "2021-09-18T08:42:16.861Z"
   },
   {
    "duration": 598,
    "start_time": "2021-09-18T08:42:38.978Z"
   },
   {
    "duration": 1010,
    "start_time": "2021-09-18T08:42:59.943Z"
   },
   {
    "duration": 16,
    "start_time": "2021-09-18T08:43:12.971Z"
   },
   {
    "duration": 18,
    "start_time": "2021-09-18T08:43:50.819Z"
   },
   {
    "duration": 1495,
    "start_time": "2021-09-18T08:45:18.399Z"
   },
   {
    "duration": 1657,
    "start_time": "2021-09-18T08:45:34.743Z"
   },
   {
    "duration": 1398,
    "start_time": "2021-09-18T08:45:48.135Z"
   },
   {
    "duration": 1394,
    "start_time": "2021-09-18T08:46:45.403Z"
   },
   {
    "duration": 1448,
    "start_time": "2021-09-18T08:47:25.620Z"
   },
   {
    "duration": 1362,
    "start_time": "2021-09-18T08:48:27.922Z"
   },
   {
    "duration": 1768,
    "start_time": "2021-09-18T08:48:35.406Z"
   },
   {
    "duration": 1551,
    "start_time": "2021-09-18T08:48:38.628Z"
   },
   {
    "duration": 1508,
    "start_time": "2021-09-18T08:49:14.031Z"
   },
   {
    "duration": 1437,
    "start_time": "2021-09-18T08:49:53.499Z"
   },
   {
    "duration": 1369,
    "start_time": "2021-09-18T08:50:07.798Z"
   },
   {
    "duration": 1394,
    "start_time": "2021-09-18T08:50:13.835Z"
   },
   {
    "duration": 1486,
    "start_time": "2021-09-18T08:50:23.500Z"
   },
   {
    "duration": 7079,
    "start_time": "2021-09-18T13:47:35.551Z"
   },
   {
    "duration": 4327,
    "start_time": "2021-09-18T13:47:42.633Z"
   },
   {
    "duration": 1690,
    "start_time": "2021-09-18T13:47:46.964Z"
   },
   {
    "duration": 774,
    "start_time": "2021-09-18T13:47:48.657Z"
   },
   {
    "duration": 18,
    "start_time": "2021-09-18T13:47:49.434Z"
   },
   {
    "duration": 178,
    "start_time": "2021-09-18T13:47:49.455Z"
   },
   {
    "duration": 460,
    "start_time": "2021-09-18T13:47:49.635Z"
   },
   {
    "duration": 71,
    "start_time": "2021-09-18T13:47:50.097Z"
   },
   {
    "duration": 184,
    "start_time": "2021-09-18T13:47:50.171Z"
   },
   {
    "duration": 443,
    "start_time": "2021-09-18T13:47:58.860Z"
   },
   {
    "duration": 15,
    "start_time": "2021-09-18T13:48:10.228Z"
   },
   {
    "duration": 14,
    "start_time": "2021-09-18T13:48:28.346Z"
   },
   {
    "duration": 366,
    "start_time": "2021-09-18T13:49:51.839Z"
   },
   {
    "duration": 105,
    "start_time": "2021-09-18T13:49:58.022Z"
   },
   {
    "duration": 21,
    "start_time": "2021-09-18T13:50:02.076Z"
   },
   {
    "duration": 15,
    "start_time": "2021-09-18T13:51:17.020Z"
   },
   {
    "duration": 62,
    "start_time": "2021-09-18T13:51:33.561Z"
   },
   {
    "duration": 16,
    "start_time": "2021-09-18T13:51:34.800Z"
   },
   {
    "duration": 400,
    "start_time": "2021-09-18T13:51:42.912Z"
   },
   {
    "duration": 348,
    "start_time": "2021-09-18T13:51:52.222Z"
   },
   {
    "duration": 382,
    "start_time": "2021-09-18T13:51:55.964Z"
   },
   {
    "duration": 44,
    "start_time": "2021-09-18T13:53:01.043Z"
   },
   {
    "duration": 11,
    "start_time": "2021-09-18T13:53:06.161Z"
   },
   {
    "duration": 61,
    "start_time": "2021-09-18T13:53:12.124Z"
   },
   {
    "duration": 11,
    "start_time": "2021-09-18T13:53:13.770Z"
   },
   {
    "duration": 44,
    "start_time": "2021-09-18T13:53:18.076Z"
   },
   {
    "duration": 41,
    "start_time": "2021-09-18T13:53:19.283Z"
   },
   {
    "duration": 11,
    "start_time": "2021-09-18T13:53:20.561Z"
   },
   {
    "duration": 41,
    "start_time": "2021-09-18T13:53:44.645Z"
   },
   {
    "duration": 12,
    "start_time": "2021-09-18T13:53:45.468Z"
   },
   {
    "duration": 365,
    "start_time": "2021-09-18T13:53:50.479Z"
   },
   {
    "duration": 32,
    "start_time": "2021-09-18T13:54:37.274Z"
   },
   {
    "duration": 35,
    "start_time": "2021-09-18T13:54:52.784Z"
   },
   {
    "duration": 1322,
    "start_time": "2021-09-18T13:55:09.530Z"
   },
   {
    "duration": 11,
    "start_time": "2021-09-18T13:56:02.113Z"
   },
   {
    "duration": 4410,
    "start_time": "2021-09-18T13:56:26.425Z"
   },
   {
    "duration": 3583,
    "start_time": "2021-09-18T13:56:30.838Z"
   },
   {
    "duration": 5,
    "start_time": "2021-09-18T13:56:34.425Z"
   },
   {
    "duration": 796,
    "start_time": "2021-09-18T13:56:34.434Z"
   },
   {
    "duration": 16,
    "start_time": "2021-09-18T13:56:35.232Z"
   },
   {
    "duration": 185,
    "start_time": "2021-09-18T13:56:35.250Z"
   },
   {
    "duration": 532,
    "start_time": "2021-09-18T13:56:35.437Z"
   },
   {
    "duration": 77,
    "start_time": "2021-09-18T13:56:35.971Z"
   },
   {
    "duration": 171,
    "start_time": "2021-09-18T13:56:36.052Z"
   },
   {
    "duration": 11,
    "start_time": "2021-09-18T13:56:50.474Z"
   },
   {
    "duration": 14,
    "start_time": "2021-09-18T13:56:51.673Z"
   },
   {
    "duration": 75,
    "start_time": "2021-09-18T13:56:57.226Z"
   },
   {
    "duration": 21,
    "start_time": "2021-09-18T13:56:58.019Z"
   },
   {
    "duration": 81,
    "start_time": "2021-09-18T13:57:00.578Z"
   },
   {
    "duration": 12,
    "start_time": "2021-09-18T13:57:02.446Z"
   },
   {
    "duration": 438,
    "start_time": "2021-09-18T13:57:03.880Z"
   },
   {
    "duration": 38,
    "start_time": "2021-09-18T13:57:08.685Z"
   },
   {
    "duration": 1583,
    "start_time": "2021-09-18T13:57:11.137Z"
   },
   {
    "duration": 12,
    "start_time": "2021-09-18T13:57:17.508Z"
   },
   {
    "duration": 11,
    "start_time": "2021-09-18T13:59:11.140Z"
   },
   {
    "duration": 4553,
    "start_time": "2021-09-18T13:59:20.168Z"
   },
   {
    "duration": 3507,
    "start_time": "2021-09-18T13:59:24.724Z"
   },
   {
    "duration": 5,
    "start_time": "2021-09-18T13:59:28.235Z"
   },
   {
    "duration": 760,
    "start_time": "2021-09-18T13:59:28.243Z"
   },
   {
    "duration": 15,
    "start_time": "2021-09-18T13:59:29.005Z"
   },
   {
    "duration": 186,
    "start_time": "2021-09-18T13:59:29.024Z"
   },
   {
    "duration": 447,
    "start_time": "2021-09-18T13:59:29.216Z"
   },
   {
    "duration": 78,
    "start_time": "2021-09-18T13:59:29.666Z"
   },
   {
    "duration": 177,
    "start_time": "2021-09-18T13:59:29.748Z"
   },
   {
    "duration": 19,
    "start_time": "2021-09-18T13:59:35.117Z"
   },
   {
    "duration": 20,
    "start_time": "2021-09-18T13:59:48.449Z"
   },
   {
    "duration": 19,
    "start_time": "2021-09-18T14:00:20.022Z"
   },
   {
    "duration": 20,
    "start_time": "2021-09-18T14:01:16.046Z"
   },
   {
    "duration": 17,
    "start_time": "2021-09-18T14:01:27.234Z"
   },
   {
    "duration": 282,
    "start_time": "2021-09-18T14:02:55.683Z"
   },
   {
    "duration": 692,
    "start_time": "2021-09-18T14:02:57.613Z"
   },
   {
    "duration": 16,
    "start_time": "2021-09-18T14:04:14.765Z"
   },
   {
    "duration": 4,
    "start_time": "2021-09-18T14:04:16.578Z"
   },
   {
    "duration": 34,
    "start_time": "2021-09-18T14:04:17.376Z"
   },
   {
    "duration": 21,
    "start_time": "2021-09-18T14:04:18.202Z"
   },
   {
    "duration": 316,
    "start_time": "2021-09-18T14:05:47.958Z"
   },
   {
    "duration": 3830,
    "start_time": "2021-09-18T14:06:00.903Z"
   },
   {
    "duration": 3506,
    "start_time": "2021-09-18T14:06:04.737Z"
   },
   {
    "duration": 4,
    "start_time": "2021-09-18T14:06:08.247Z"
   },
   {
    "duration": 761,
    "start_time": "2021-09-18T14:06:08.254Z"
   },
   {
    "duration": 14,
    "start_time": "2021-09-18T14:06:09.017Z"
   },
   {
    "duration": 184,
    "start_time": "2021-09-18T14:06:09.033Z"
   },
   {
    "duration": 466,
    "start_time": "2021-09-18T14:06:09.219Z"
   },
   {
    "duration": 69,
    "start_time": "2021-09-18T14:06:09.687Z"
   },
   {
    "duration": 170,
    "start_time": "2021-09-18T14:06:09.760Z"
   },
   {
    "duration": 18,
    "start_time": "2021-09-18T14:06:09.933Z"
   },
   {
    "duration": 37,
    "start_time": "2021-09-18T14:06:09.953Z"
   },
   {
    "duration": 104,
    "start_time": "2021-09-18T14:06:09.993Z"
   },
   {
    "duration": 32,
    "start_time": "2021-09-18T14:06:10.099Z"
   },
   {
    "duration": 50,
    "start_time": "2021-09-18T14:06:10.134Z"
   },
   {
    "duration": 11,
    "start_time": "2021-09-18T14:06:10.187Z"
   },
   {
    "duration": 435,
    "start_time": "2021-09-18T14:06:10.218Z"
   },
   {
    "duration": 35,
    "start_time": "2021-09-18T14:06:10.656Z"
   },
   {
    "duration": 1351,
    "start_time": "2021-09-18T14:06:10.693Z"
   },
   {
    "duration": 11,
    "start_time": "2021-09-18T14:06:12.046Z"
   },
   {
    "duration": 32,
    "start_time": "2021-09-18T14:06:12.059Z"
   },
   {
    "duration": 661,
    "start_time": "2021-09-18T14:06:12.094Z"
   },
   {
    "duration": 15,
    "start_time": "2021-09-18T14:06:12.758Z"
   },
   {
    "duration": 6,
    "start_time": "2021-09-18T14:06:12.776Z"
   },
   {
    "duration": 3896,
    "start_time": "2021-09-18T14:07:38.409Z"
   },
   {
    "duration": 4970,
    "start_time": "2021-09-18T14:07:42.308Z"
   },
   {
    "duration": 5,
    "start_time": "2021-09-18T14:07:47.282Z"
   },
   {
    "duration": 750,
    "start_time": "2021-09-18T14:07:47.290Z"
   },
   {
    "duration": 14,
    "start_time": "2021-09-18T14:07:48.043Z"
   },
   {
    "duration": 179,
    "start_time": "2021-09-18T14:07:48.060Z"
   },
   {
    "duration": 464,
    "start_time": "2021-09-18T14:07:48.242Z"
   },
   {
    "duration": 66,
    "start_time": "2021-09-18T14:07:48.708Z"
   },
   {
    "duration": 185,
    "start_time": "2021-09-18T14:07:48.777Z"
   },
   {
    "duration": 19,
    "start_time": "2021-09-18T14:07:48.965Z"
   },
   {
    "duration": 35,
    "start_time": "2021-09-18T14:07:48.987Z"
   },
   {
    "duration": 19,
    "start_time": "2021-09-18T14:08:44.816Z"
   },
   {
    "duration": 101,
    "start_time": "2021-09-18T14:08:56.940Z"
   },
   {
    "duration": 107,
    "start_time": "2021-09-18T14:08:59.550Z"
   },
   {
    "duration": 106,
    "start_time": "2021-09-18T14:09:03.661Z"
   },
   {
    "duration": 81,
    "start_time": "2021-09-18T14:09:05.882Z"
   },
   {
    "duration": 381,
    "start_time": "2021-09-18T14:09:37.955Z"
   },
   {
    "duration": 305,
    "start_time": "2021-09-18T14:09:48.703Z"
   },
   {
    "duration": 302,
    "start_time": "2021-09-18T14:09:52.617Z"
   },
   {
    "duration": 72,
    "start_time": "2021-09-18T14:10:42.059Z"
   },
   {
    "duration": 143,
    "start_time": "2021-09-18T14:11:33.297Z"
   },
   {
    "duration": 21,
    "start_time": "2021-09-18T14:11:34.283Z"
   },
   {
    "duration": 14,
    "start_time": "2021-09-18T14:12:28.167Z"
   },
   {
    "duration": 4192,
    "start_time": "2021-09-18T14:13:07.433Z"
   },
   {
    "duration": 3862,
    "start_time": "2021-09-18T14:13:11.628Z"
   },
   {
    "duration": 5,
    "start_time": "2021-09-18T14:13:15.495Z"
   },
   {
    "duration": 743,
    "start_time": "2021-09-18T14:13:15.503Z"
   },
   {
    "duration": 13,
    "start_time": "2021-09-18T14:13:16.249Z"
   },
   {
    "duration": 180,
    "start_time": "2021-09-18T14:13:16.265Z"
   },
   {
    "duration": 445,
    "start_time": "2021-09-18T14:13:16.448Z"
   },
   {
    "duration": 67,
    "start_time": "2021-09-18T14:13:16.896Z"
   },
   {
    "duration": 180,
    "start_time": "2021-09-18T14:13:16.966Z"
   },
   {
    "duration": 19,
    "start_time": "2021-09-18T14:13:17.149Z"
   },
   {
    "duration": 105,
    "start_time": "2021-09-18T14:13:25.533Z"
   },
   {
    "duration": 17,
    "start_time": "2021-09-18T14:13:28.802Z"
   },
   {
    "duration": 18,
    "start_time": "2021-09-18T14:15:27.155Z"
   },
   {
    "duration": 128,
    "start_time": "2021-09-18T14:15:42.946Z"
   },
   {
    "duration": 23,
    "start_time": "2021-09-18T14:15:44.703Z"
   },
   {
    "duration": 56,
    "start_time": "2021-09-18T14:16:02.243Z"
   },
   {
    "duration": 27,
    "start_time": "2021-09-18T14:16:03.524Z"
   },
   {
    "duration": 3800,
    "start_time": "2021-09-18T14:16:09.271Z"
   },
   {
    "duration": 3542,
    "start_time": "2021-09-18T14:16:13.075Z"
   },
   {
    "duration": 5,
    "start_time": "2021-09-18T14:16:16.620Z"
   },
   {
    "duration": 753,
    "start_time": "2021-09-18T14:16:16.628Z"
   },
   {
    "duration": 17,
    "start_time": "2021-09-18T14:16:17.384Z"
   },
   {
    "duration": 194,
    "start_time": "2021-09-18T14:16:17.404Z"
   },
   {
    "duration": 443,
    "start_time": "2021-09-18T14:16:17.600Z"
   },
   {
    "duration": 77,
    "start_time": "2021-09-18T14:16:18.046Z"
   },
   {
    "duration": 171,
    "start_time": "2021-09-18T14:16:18.126Z"
   },
   {
    "duration": 27,
    "start_time": "2021-09-18T14:16:18.300Z"
   },
   {
    "duration": 173,
    "start_time": "2021-09-18T14:16:22.422Z"
   },
   {
    "duration": 26,
    "start_time": "2021-09-18T14:16:24.243Z"
   },
   {
    "duration": 3986,
    "start_time": "2021-09-18T14:18:03.531Z"
   },
   {
    "duration": 3688,
    "start_time": "2021-09-18T14:18:07.520Z"
   },
   {
    "duration": 4,
    "start_time": "2021-09-18T14:18:11.211Z"
   },
   {
    "duration": 856,
    "start_time": "2021-09-18T14:18:11.218Z"
   },
   {
    "duration": 12,
    "start_time": "2021-09-18T14:18:12.077Z"
   },
   {
    "duration": 170,
    "start_time": "2021-09-18T14:18:12.092Z"
   },
   {
    "duration": 449,
    "start_time": "2021-09-18T14:18:12.265Z"
   },
   {
    "duration": 59,
    "start_time": "2021-09-18T14:18:12.718Z"
   },
   {
    "duration": 189,
    "start_time": "2021-09-18T14:18:12.779Z"
   },
   {
    "duration": 18,
    "start_time": "2021-09-18T14:18:12.971Z"
   },
   {
    "duration": 38,
    "start_time": "2021-09-18T14:18:12.991Z"
   },
   {
    "duration": 98,
    "start_time": "2021-09-18T14:18:13.031Z"
   },
   {
    "duration": 22,
    "start_time": "2021-09-18T14:18:18.179Z"
   },
   {
    "duration": 18,
    "start_time": "2021-09-18T14:18:25.636Z"
   },
   {
    "duration": 322,
    "start_time": "2021-09-18T14:18:50.840Z"
   },
   {
    "duration": 29,
    "start_time": "2021-09-18T14:18:55.395Z"
   },
   {
    "duration": 37,
    "start_time": "2021-09-18T14:19:26.714Z"
   },
   {
    "duration": 22,
    "start_time": "2021-09-18T14:21:01.851Z"
   },
   {
    "duration": 30,
    "start_time": "2021-09-18T14:21:41.540Z"
   },
   {
    "duration": 22,
    "start_time": "2021-09-18T14:21:44.384Z"
   },
   {
    "duration": 3910,
    "start_time": "2021-09-18T14:22:04.241Z"
   },
   {
    "duration": 3547,
    "start_time": "2021-09-18T14:22:08.154Z"
   },
   {
    "duration": 1444,
    "start_time": "2021-09-18T14:22:11.708Z"
   },
   {
    "duration": 785,
    "start_time": "2021-09-18T14:22:13.154Z"
   },
   {
    "duration": 19,
    "start_time": "2021-09-18T14:22:13.942Z"
   },
   {
    "duration": 185,
    "start_time": "2021-09-18T14:22:13.964Z"
   },
   {
    "duration": 490,
    "start_time": "2021-09-18T14:22:14.152Z"
   },
   {
    "duration": 76,
    "start_time": "2021-09-18T14:22:14.646Z"
   },
   {
    "duration": 176,
    "start_time": "2021-09-18T14:22:14.726Z"
   },
   {
    "duration": 23,
    "start_time": "2021-09-18T14:22:14.904Z"
   },
   {
    "duration": 23,
    "start_time": "2021-09-18T14:22:14.929Z"
   },
   {
    "duration": 17,
    "start_time": "2021-09-18T14:22:14.954Z"
   },
   {
    "duration": 113,
    "start_time": "2021-09-18T14:22:14.974Z"
   },
   {
    "duration": 33,
    "start_time": "2021-09-18T14:22:15.089Z"
   },
   {
    "duration": 56,
    "start_time": "2021-09-18T14:22:15.125Z"
   },
   {
    "duration": 10,
    "start_time": "2021-09-18T14:22:15.183Z"
   },
   {
    "duration": 388,
    "start_time": "2021-09-18T14:22:15.196Z"
   },
   {
    "duration": 49,
    "start_time": "2021-09-18T14:22:15.587Z"
   },
   {
    "duration": 1349,
    "start_time": "2021-09-18T14:22:15.639Z"
   },
   {
    "duration": 10,
    "start_time": "2021-09-18T14:22:16.991Z"
   },
   {
    "duration": 37,
    "start_time": "2021-09-18T14:22:17.003Z"
   },
   {
    "duration": 687,
    "start_time": "2021-09-18T14:22:17.042Z"
   },
   {
    "duration": 16,
    "start_time": "2021-09-18T14:22:17.731Z"
   },
   {
    "duration": 9,
    "start_time": "2021-09-18T14:22:17.749Z"
   },
   {
    "duration": 11,
    "start_time": "2021-09-18T14:22:17.761Z"
   },
   {
    "duration": 45,
    "start_time": "2021-09-18T14:22:17.776Z"
   },
   {
    "duration": 440,
    "start_time": "2021-09-18T14:22:17.824Z"
   },
   {
    "duration": -302,
    "start_time": "2021-09-18T14:22:18.568Z"
   },
   {
    "duration": -302,
    "start_time": "2021-09-18T14:22:18.570Z"
   },
   {
    "duration": -307,
    "start_time": "2021-09-18T14:22:18.576Z"
   },
   {
    "duration": -307,
    "start_time": "2021-09-18T14:22:18.577Z"
   },
   {
    "duration": -307,
    "start_time": "2021-09-18T14:22:18.578Z"
   },
   {
    "duration": 22,
    "start_time": "2021-09-18T14:23:25.109Z"
   },
   {
    "duration": 16,
    "start_time": "2021-09-18T14:24:36.258Z"
   },
   {
    "duration": 28,
    "start_time": "2021-09-18T14:25:13.354Z"
   },
   {
    "duration": 15,
    "start_time": "2021-09-18T14:25:40.998Z"
   },
   {
    "duration": 29,
    "start_time": "2021-09-18T14:25:50.092Z"
   },
   {
    "duration": 15,
    "start_time": "2021-09-18T14:26:04.603Z"
   },
   {
    "duration": 19,
    "start_time": "2021-09-18T14:26:12.888Z"
   },
   {
    "duration": 8,
    "start_time": "2021-09-18T14:26:54.252Z"
   },
   {
    "duration": 21,
    "start_time": "2021-09-18T14:26:55.621Z"
   },
   {
    "duration": 4112,
    "start_time": "2021-09-18T14:28:24.980Z"
   },
   {
    "duration": 3621,
    "start_time": "2021-09-18T14:28:29.095Z"
   },
   {
    "duration": 1435,
    "start_time": "2021-09-18T14:28:32.719Z"
   },
   {
    "duration": 806,
    "start_time": "2021-09-18T14:28:34.157Z"
   },
   {
    "duration": 18,
    "start_time": "2021-09-18T14:28:34.965Z"
   },
   {
    "duration": 177,
    "start_time": "2021-09-18T14:28:34.985Z"
   },
   {
    "duration": 483,
    "start_time": "2021-09-18T14:28:35.165Z"
   },
   {
    "duration": 77,
    "start_time": "2021-09-18T14:28:35.651Z"
   },
   {
    "duration": 183,
    "start_time": "2021-09-18T14:28:35.733Z"
   },
   {
    "duration": 18,
    "start_time": "2021-09-18T14:28:35.919Z"
   },
   {
    "duration": 19,
    "start_time": "2021-09-18T14:28:35.939Z"
   },
   {
    "duration": 19,
    "start_time": "2021-09-18T14:28:35.961Z"
   },
   {
    "duration": 118,
    "start_time": "2021-09-18T14:28:35.982Z"
   },
   {
    "duration": 39,
    "start_time": "2021-09-18T14:28:36.103Z"
   },
   {
    "duration": 9,
    "start_time": "2021-09-18T14:28:36.145Z"
   },
   {
    "duration": 23,
    "start_time": "2021-09-18T14:28:36.157Z"
   },
   {
    "duration": 75,
    "start_time": "2021-09-18T14:28:36.183Z"
   },
   {
    "duration": 12,
    "start_time": "2021-09-18T14:28:36.261Z"
   },
   {
    "duration": 384,
    "start_time": "2021-09-18T14:28:36.276Z"
   },
   {
    "duration": 32,
    "start_time": "2021-09-18T14:28:36.662Z"
   },
   {
    "duration": 1248,
    "start_time": "2021-09-18T14:28:36.696Z"
   },
   {
    "duration": 10,
    "start_time": "2021-09-18T14:28:37.947Z"
   },
   {
    "duration": 30,
    "start_time": "2021-09-18T14:28:37.960Z"
   },
   {
    "duration": 603,
    "start_time": "2021-09-18T14:28:37.992Z"
   },
   {
    "duration": 19,
    "start_time": "2021-09-18T14:28:38.598Z"
   },
   {
    "duration": 419,
    "start_time": "2021-09-18T14:28:38.620Z"
   },
   {
    "duration": -309,
    "start_time": "2021-09-18T14:28:39.351Z"
   },
   {
    "duration": -309,
    "start_time": "2021-09-18T14:28:39.352Z"
   },
   {
    "duration": 64,
    "start_time": "2021-09-18T14:29:25.025Z"
   },
   {
    "duration": 329,
    "start_time": "2021-09-18T14:29:26.656Z"
   },
   {
    "duration": 21,
    "start_time": "2021-09-18T14:29:52.501Z"
   },
   {
    "duration": 19,
    "start_time": "2021-09-18T14:29:59.343Z"
   },
   {
    "duration": 1202,
    "start_time": "2021-09-18T14:30:43.378Z"
   },
   {
    "duration": 289,
    "start_time": "2021-09-18T14:30:50.967Z"
   },
   {
    "duration": 9,
    "start_time": "2021-09-18T14:33:17.399Z"
   },
   {
    "duration": 18,
    "start_time": "2021-09-18T14:33:18.348Z"
   },
   {
    "duration": 7,
    "start_time": "2021-09-18T14:36:03.378Z"
   },
   {
    "duration": 6,
    "start_time": "2021-09-18T14:36:08.907Z"
   },
   {
    "duration": 5386,
    "start_time": "2021-09-19T04:53:19.403Z"
   },
   {
    "duration": 3032,
    "start_time": "2021-09-19T04:53:24.791Z"
   },
   {
    "duration": 1310,
    "start_time": "2021-09-19T04:53:27.825Z"
   },
   {
    "duration": 568,
    "start_time": "2021-09-19T04:53:29.137Z"
   },
   {
    "duration": 11,
    "start_time": "2021-09-19T04:53:29.706Z"
   },
   {
    "duration": 105,
    "start_time": "2021-09-19T04:53:29.719Z"
   },
   {
    "duration": 369,
    "start_time": "2021-09-19T04:53:29.826Z"
   },
   {
    "duration": 53,
    "start_time": "2021-09-19T04:53:30.197Z"
   },
   {
    "duration": 123,
    "start_time": "2021-09-19T04:53:30.252Z"
   },
   {
    "duration": 13,
    "start_time": "2021-09-19T04:53:30.377Z"
   },
   {
    "duration": 14,
    "start_time": "2021-09-19T04:53:30.391Z"
   },
   {
    "duration": 18,
    "start_time": "2021-09-19T04:53:30.407Z"
   },
   {
    "duration": 81,
    "start_time": "2021-09-19T04:53:30.426Z"
   },
   {
    "duration": 24,
    "start_time": "2021-09-19T04:53:30.509Z"
   },
   {
    "duration": 7,
    "start_time": "2021-09-19T04:53:30.550Z"
   },
   {
    "duration": 24,
    "start_time": "2021-09-19T04:53:30.559Z"
   },
   {
    "duration": 53,
    "start_time": "2021-09-19T04:53:30.585Z"
   },
   {
    "duration": 13,
    "start_time": "2021-09-19T04:53:30.640Z"
   },
   {
    "duration": 424,
    "start_time": "2021-09-19T04:53:30.655Z"
   },
   {
    "duration": 31,
    "start_time": "2021-09-19T04:53:31.081Z"
   },
   {
    "duration": 688,
    "start_time": "2021-09-19T04:53:31.114Z"
   },
   {
    "duration": 7,
    "start_time": "2021-09-19T04:53:31.804Z"
   },
   {
    "duration": 33,
    "start_time": "2021-09-19T04:53:31.813Z"
   },
   {
    "duration": 376,
    "start_time": "2021-09-19T04:53:31.848Z"
   },
   {
    "duration": 5,
    "start_time": "2021-09-19T04:53:32.226Z"
   },
   {
    "duration": 42,
    "start_time": "2021-09-19T04:53:32.233Z"
   },
   {
    "duration": 14,
    "start_time": "2021-09-19T04:53:32.279Z"
   },
   {
    "duration": 7,
    "start_time": "2021-09-19T04:53:32.294Z"
   },
   {
    "duration": 14,
    "start_time": "2021-09-19T04:53:32.302Z"
   },
   {
    "duration": 1811,
    "start_time": "2021-09-19T04:56:06.057Z"
   },
   {
    "duration": 692,
    "start_time": "2021-09-19T04:56:09.727Z"
   },
   {
    "duration": 256,
    "start_time": "2021-09-19T04:56:18.930Z"
   },
   {
    "duration": 721,
    "start_time": "2021-09-19T04:56:25.799Z"
   },
   {
    "duration": 220,
    "start_time": "2021-09-19T05:00:09.376Z"
   },
   {
    "duration": 389,
    "start_time": "2021-09-19T05:00:50.542Z"
   },
   {
    "duration": 14,
    "start_time": "2021-09-19T05:01:39.788Z"
   },
   {
    "duration": 6,
    "start_time": "2021-09-19T05:08:07.388Z"
   },
   {
    "duration": 5,
    "start_time": "2021-09-19T05:08:09.379Z"
   },
   {
    "duration": 11,
    "start_time": "2021-09-19T05:09:40.367Z"
   },
   {
    "duration": 14,
    "start_time": "2021-09-19T05:09:41.790Z"
   },
   {
    "duration": 10,
    "start_time": "2021-09-19T05:09:48.087Z"
   },
   {
    "duration": 16,
    "start_time": "2021-09-19T05:09:48.980Z"
   },
   {
    "duration": 40,
    "start_time": "2021-09-19T05:17:00.117Z"
   },
   {
    "duration": 10,
    "start_time": "2021-09-19T05:17:01.825Z"
   },
   {
    "duration": 3,
    "start_time": "2021-09-19T05:22:26.554Z"
   },
   {
    "duration": 258,
    "start_time": "2021-09-19T05:23:14.866Z"
   },
   {
    "duration": 293,
    "start_time": "2021-09-19T05:23:55.161Z"
   },
   {
    "duration": 22,
    "start_time": "2021-09-19T05:23:57.696Z"
   },
   {
    "duration": 640,
    "start_time": "2021-09-19T05:23:58.669Z"
   },
   {
    "duration": 613,
    "start_time": "2021-09-19T05:24:17.436Z"
   },
   {
    "duration": 402,
    "start_time": "2021-09-19T05:24:44.255Z"
   },
   {
    "duration": 2617,
    "start_time": "2021-09-19T05:24:57.036Z"
   },
   {
    "duration": 2636,
    "start_time": "2021-09-19T05:24:59.655Z"
   },
   {
    "duration": 1114,
    "start_time": "2021-09-19T05:25:02.294Z"
   },
   {
    "duration": 573,
    "start_time": "2021-09-19T05:25:03.410Z"
   },
   {
    "duration": 12,
    "start_time": "2021-09-19T05:25:03.984Z"
   },
   {
    "duration": 118,
    "start_time": "2021-09-19T05:25:03.998Z"
   },
   {
    "duration": 380,
    "start_time": "2021-09-19T05:25:04.118Z"
   },
   {
    "duration": 55,
    "start_time": "2021-09-19T05:25:04.500Z"
   },
   {
    "duration": 126,
    "start_time": "2021-09-19T05:25:04.557Z"
   },
   {
    "duration": 11,
    "start_time": "2021-09-19T05:25:04.685Z"
   },
   {
    "duration": 13,
    "start_time": "2021-09-19T05:25:04.697Z"
   },
   {
    "duration": 13,
    "start_time": "2021-09-19T05:25:04.712Z"
   },
   {
    "duration": 76,
    "start_time": "2021-09-19T05:25:04.727Z"
   },
   {
    "duration": 21,
    "start_time": "2021-09-19T05:25:04.805Z"
   },
   {
    "duration": 21,
    "start_time": "2021-09-19T05:25:04.828Z"
   },
   {
    "duration": 30,
    "start_time": "2021-09-19T05:25:04.851Z"
   },
   {
    "duration": 7,
    "start_time": "2021-09-19T05:25:04.883Z"
   },
   {
    "duration": 288,
    "start_time": "2021-09-19T05:25:04.892Z"
   },
   {
    "duration": 24,
    "start_time": "2021-09-19T05:25:05.181Z"
   },
   {
    "duration": 742,
    "start_time": "2021-09-19T05:25:05.207Z"
   },
   {
    "duration": 7,
    "start_time": "2021-09-19T05:25:05.950Z"
   },
   {
    "duration": 22,
    "start_time": "2021-09-19T05:25:05.959Z"
   },
   {
    "duration": 355,
    "start_time": "2021-09-19T05:25:05.984Z"
   },
   {
    "duration": 12,
    "start_time": "2021-09-19T05:25:06.340Z"
   },
   {
    "duration": 8,
    "start_time": "2021-09-19T05:25:06.354Z"
   },
   {
    "duration": 8,
    "start_time": "2021-09-19T05:25:06.364Z"
   },
   {
    "duration": 57,
    "start_time": "2021-09-19T05:25:06.375Z"
   },
   {
    "duration": 32,
    "start_time": "2021-09-19T05:25:06.434Z"
   },
   {
    "duration": 13,
    "start_time": "2021-09-19T05:25:06.468Z"
   },
   {
    "duration": 17,
    "start_time": "2021-09-19T05:25:06.483Z"
   },
   {
    "duration": 260647,
    "start_time": "2021-09-20T04:51:06.650Z"
   },
   {
    "duration": 210557,
    "start_time": "2021-09-20T04:55:27.300Z"
   },
   {
    "duration": 1360,
    "start_time": "2021-09-20T04:58:57.860Z"
   },
   {
    "duration": 574,
    "start_time": "2021-09-20T04:58:59.222Z"
   },
   {
    "duration": 11,
    "start_time": "2021-09-20T04:58:59.798Z"
   },
   {
    "duration": 130,
    "start_time": "2021-09-20T04:58:59.811Z"
   },
   {
    "duration": 381,
    "start_time": "2021-09-20T04:58:59.943Z"
   },
   {
    "duration": 50,
    "start_time": "2021-09-20T04:59:00.326Z"
   },
   {
    "duration": 125,
    "start_time": "2021-09-20T04:59:00.379Z"
   },
   {
    "duration": 11,
    "start_time": "2021-09-20T04:59:00.506Z"
   },
   {
    "duration": 18,
    "start_time": "2021-09-20T04:59:00.519Z"
   },
   {
    "duration": 18,
    "start_time": "2021-09-20T04:59:00.540Z"
   },
   {
    "duration": 71,
    "start_time": "2021-09-20T04:59:00.560Z"
   },
   {
    "duration": 23,
    "start_time": "2021-09-20T04:59:00.633Z"
   },
   {
    "duration": 22,
    "start_time": "2021-09-20T04:59:00.658Z"
   },
   {
    "duration": 33,
    "start_time": "2021-09-20T04:59:00.682Z"
   },
   {
    "duration": 7,
    "start_time": "2021-09-20T04:59:00.717Z"
   },
   {
    "duration": 367,
    "start_time": "2021-09-20T04:59:00.726Z"
   },
   {
    "duration": 25,
    "start_time": "2021-09-20T04:59:01.094Z"
   },
   {
    "duration": 723,
    "start_time": "2021-09-20T04:59:01.121Z"
   },
   {
    "duration": 7,
    "start_time": "2021-09-20T04:59:01.846Z"
   },
   {
    "duration": 31,
    "start_time": "2021-09-20T04:59:01.854Z"
   },
   {
    "duration": 393,
    "start_time": "2021-09-20T04:59:01.887Z"
   },
   {
    "duration": 5,
    "start_time": "2021-09-20T04:59:02.281Z"
   },
   {
    "duration": 9,
    "start_time": "2021-09-20T04:59:02.288Z"
   },
   {
    "duration": 11,
    "start_time": "2021-09-20T04:59:02.299Z"
   },
   {
    "duration": 40,
    "start_time": "2021-09-20T04:59:02.313Z"
   },
   {
    "duration": 32,
    "start_time": "2021-09-20T04:59:02.354Z"
   },
   {
    "duration": 13,
    "start_time": "2021-09-20T04:59:02.388Z"
   },
   {
    "duration": 13,
    "start_time": "2021-09-20T04:59:02.402Z"
   },
   {
    "duration": 7815,
    "start_time": "2021-09-20T18:08:02.878Z"
   },
   {
    "duration": 4929,
    "start_time": "2021-09-20T18:08:10.696Z"
   },
   {
    "duration": 1787,
    "start_time": "2021-09-20T18:08:15.629Z"
   },
   {
    "duration": 767,
    "start_time": "2021-09-20T18:08:17.419Z"
   },
   {
    "duration": 20,
    "start_time": "2021-09-20T18:08:18.189Z"
   },
   {
    "duration": 187,
    "start_time": "2021-09-20T18:08:18.212Z"
   },
   {
    "duration": 478,
    "start_time": "2021-09-20T18:08:18.402Z"
   },
   {
    "duration": 60,
    "start_time": "2021-09-20T18:08:18.883Z"
   },
   {
    "duration": 217,
    "start_time": "2021-09-20T18:08:18.946Z"
   },
   {
    "duration": 32,
    "start_time": "2021-09-20T18:08:19.165Z"
   },
   {
    "duration": 14,
    "start_time": "2021-09-20T18:08:19.200Z"
   },
   {
    "duration": 43,
    "start_time": "2021-09-20T18:09:05.028Z"
   },
   {
    "duration": 22,
    "start_time": "2021-09-20T18:09:10.103Z"
   },
   {
    "duration": 4788,
    "start_time": "2021-09-20T18:10:09.137Z"
   },
   {
    "duration": 3814,
    "start_time": "2021-09-20T18:10:13.927Z"
   },
   {
    "duration": 5,
    "start_time": "2021-09-20T18:10:17.744Z"
   },
   {
    "duration": 764,
    "start_time": "2021-09-20T18:10:17.752Z"
   },
   {
    "duration": 14,
    "start_time": "2021-09-20T18:10:18.519Z"
   },
   {
    "duration": 270,
    "start_time": "2021-09-20T18:10:18.535Z"
   },
   {
    "duration": 636,
    "start_time": "2021-09-20T18:10:18.808Z"
   },
   {
    "duration": 101,
    "start_time": "2021-09-20T18:10:19.447Z"
   },
   {
    "duration": 275,
    "start_time": "2021-09-20T18:10:19.553Z"
   },
   {
    "duration": 17,
    "start_time": "2021-09-20T18:10:19.831Z"
   },
   {
    "duration": 18,
    "start_time": "2021-09-20T18:10:19.851Z"
   },
   {
    "duration": 43,
    "start_time": "2021-09-20T18:10:22.608Z"
   },
   {
    "duration": 17,
    "start_time": "2021-09-20T18:10:23.431Z"
   },
   {
    "duration": 18,
    "start_time": "2021-09-20T18:11:24.696Z"
   },
   {
    "duration": 85,
    "start_time": "2021-09-20T18:11:30.955Z"
   },
   {
    "duration": 12,
    "start_time": "2021-09-20T18:11:35.423Z"
   },
   {
    "duration": 7,
    "start_time": "2021-09-20T18:11:56.308Z"
   },
   {
    "duration": 8,
    "start_time": "2021-09-20T18:11:59.163Z"
   },
   {
    "duration": 6,
    "start_time": "2021-09-20T18:12:17.719Z"
   },
   {
    "duration": 9,
    "start_time": "2021-09-20T18:12:24.006Z"
   },
   {
    "duration": 10,
    "start_time": "2021-09-20T18:12:29.043Z"
   },
   {
    "duration": 11,
    "start_time": "2021-09-20T18:12:33.966Z"
   },
   {
    "duration": 23,
    "start_time": "2021-09-20T18:12:53.148Z"
   },
   {
    "duration": 5,
    "start_time": "2021-09-20T18:13:05.966Z"
   },
   {
    "duration": 5,
    "start_time": "2021-09-20T18:13:12.092Z"
   },
   {
    "duration": 17,
    "start_time": "2021-09-20T18:15:59.715Z"
   },
   {
    "duration": 39,
    "start_time": "2021-09-20T18:16:19.018Z"
   },
   {
    "duration": 8,
    "start_time": "2021-09-20T18:16:22.632Z"
   },
   {
    "duration": 35,
    "start_time": "2021-09-20T18:16:28.217Z"
   },
   {
    "duration": 16,
    "start_time": "2021-09-20T18:16:29.126Z"
   },
   {
    "duration": 38,
    "start_time": "2021-09-20T18:16:38.654Z"
   },
   {
    "duration": 8,
    "start_time": "2021-09-20T18:16:40.624Z"
   },
   {
    "duration": 12,
    "start_time": "2021-09-20T18:16:56.579Z"
   },
   {
    "duration": 35,
    "start_time": "2021-09-20T18:17:21.433Z"
   },
   {
    "duration": 22,
    "start_time": "2021-09-20T18:17:38.882Z"
   },
   {
    "duration": 40,
    "start_time": "2021-09-20T18:18:14.721Z"
   },
   {
    "duration": 4840,
    "start_time": "2021-09-20T18:19:56.786Z"
   },
   {
    "duration": 3861,
    "start_time": "2021-09-20T18:20:01.630Z"
   },
   {
    "duration": 1537,
    "start_time": "2021-09-20T18:20:05.496Z"
   },
   {
    "duration": 903,
    "start_time": "2021-09-20T18:20:07.036Z"
   },
   {
    "duration": 18,
    "start_time": "2021-09-20T18:20:07.941Z"
   },
   {
    "duration": 181,
    "start_time": "2021-09-20T18:20:07.961Z"
   },
   {
    "duration": 655,
    "start_time": "2021-09-20T18:20:08.144Z"
   },
   {
    "duration": 82,
    "start_time": "2021-09-20T18:20:08.805Z"
   },
   {
    "duration": 186,
    "start_time": "2021-09-20T18:20:08.891Z"
   },
   {
    "duration": 18,
    "start_time": "2021-09-20T18:20:09.079Z"
   },
   {
    "duration": 14,
    "start_time": "2021-09-20T18:20:09.100Z"
   },
   {
    "duration": 92,
    "start_time": "2021-09-20T18:20:09.117Z"
   },
   {
    "duration": 13,
    "start_time": "2021-09-20T18:20:09.212Z"
   },
   {
    "duration": 27,
    "start_time": "2021-09-20T18:20:09.227Z"
   },
   {
    "duration": 61,
    "start_time": "2021-09-20T18:20:09.257Z"
   },
   {
    "duration": 287,
    "start_time": "2021-09-20T18:20:09.321Z"
   },
   {
    "duration": 44,
    "start_time": "2021-09-20T18:20:09.610Z"
   },
   {
    "duration": 76,
    "start_time": "2021-09-20T18:20:09.657Z"
   },
   {
    "duration": 12,
    "start_time": "2021-09-20T18:20:09.736Z"
   },
   {
    "duration": 410,
    "start_time": "2021-09-20T18:20:09.751Z"
   },
   {
    "duration": 47,
    "start_time": "2021-09-20T18:20:10.164Z"
   },
   {
    "duration": 1348,
    "start_time": "2021-09-20T18:20:10.214Z"
   },
   {
    "duration": 19,
    "start_time": "2021-09-20T18:20:11.567Z"
   },
   {
    "duration": 37,
    "start_time": "2021-09-20T18:20:11.589Z"
   },
   {
    "duration": 739,
    "start_time": "2021-09-20T18:20:11.629Z"
   },
   {
    "duration": 15,
    "start_time": "2021-09-20T18:20:12.370Z"
   },
   {
    "duration": 20,
    "start_time": "2021-09-20T18:20:12.388Z"
   },
   {
    "duration": 10,
    "start_time": "2021-09-20T18:20:12.410Z"
   },
   {
    "duration": 77,
    "start_time": "2021-09-20T18:20:12.423Z"
   },
   {
    "duration": 23,
    "start_time": "2021-09-20T18:20:12.503Z"
   },
   {
    "duration": 15,
    "start_time": "2021-09-20T18:20:12.528Z"
   },
   {
    "duration": 45,
    "start_time": "2021-09-20T18:20:12.546Z"
   },
   {
    "duration": 11,
    "start_time": "2021-09-20T18:22:17.897Z"
   },
   {
    "duration": 36,
    "start_time": "2021-09-20T18:22:41.678Z"
   },
   {
    "duration": 22,
    "start_time": "2021-09-20T18:22:43.048Z"
   },
   {
    "duration": 1273,
    "start_time": "2021-09-20T18:23:08.658Z"
   },
   {
    "duration": 976,
    "start_time": "2021-09-20T18:23:24.045Z"
   },
   {
    "duration": 3929,
    "start_time": "2021-09-20T18:23:58.827Z"
   },
   {
    "duration": 938,
    "start_time": "2021-09-20T18:24:20.544Z"
   },
   {
    "duration": 803,
    "start_time": "2021-09-20T18:24:25.879Z"
   },
   {
    "duration": 838,
    "start_time": "2021-09-20T18:24:30.530Z"
   },
   {
    "duration": 757,
    "start_time": "2021-09-20T18:24:43.832Z"
   },
   {
    "duration": 1411,
    "start_time": "2021-09-20T18:24:48.387Z"
   },
   {
    "duration": 1353,
    "start_time": "2021-09-20T18:24:59.723Z"
   },
   {
    "duration": 898,
    "start_time": "2021-09-20T18:25:31.943Z"
   },
   {
    "duration": 833,
    "start_time": "2021-09-20T18:26:02.993Z"
   },
   {
    "duration": 936,
    "start_time": "2021-09-20T18:26:07.764Z"
   },
   {
    "duration": 704,
    "start_time": "2021-09-20T18:26:32.622Z"
   },
   {
    "duration": 810,
    "start_time": "2021-09-20T18:26:55.966Z"
   },
   {
    "duration": 663,
    "start_time": "2021-09-20T18:27:00.413Z"
   },
   {
    "duration": 13,
    "start_time": "2021-09-20T18:29:40.695Z"
   },
   {
    "duration": 6,
    "start_time": "2021-09-20T18:29:46.397Z"
   },
   {
    "duration": 42,
    "start_time": "2021-09-20T18:30:44.199Z"
   },
   {
    "duration": 648,
    "start_time": "2021-09-20T18:30:47.455Z"
   },
   {
    "duration": 4725,
    "start_time": "2021-09-20T18:31:13.247Z"
   },
   {
    "duration": 3748,
    "start_time": "2021-09-20T18:31:17.975Z"
   },
   {
    "duration": 1507,
    "start_time": "2021-09-20T18:31:21.726Z"
   },
   {
    "duration": 768,
    "start_time": "2021-09-20T18:31:23.236Z"
   },
   {
    "duration": 17,
    "start_time": "2021-09-20T18:31:24.007Z"
   },
   {
    "duration": 281,
    "start_time": "2021-09-20T18:31:24.027Z"
   },
   {
    "duration": 654,
    "start_time": "2021-09-20T18:31:24.312Z"
   },
   {
    "duration": 59,
    "start_time": "2021-09-20T18:31:24.983Z"
   },
   {
    "duration": 187,
    "start_time": "2021-09-20T18:31:25.045Z"
   },
   {
    "duration": 18,
    "start_time": "2021-09-20T18:31:25.235Z"
   },
   {
    "duration": 34,
    "start_time": "2021-09-20T18:31:25.255Z"
   },
   {
    "duration": 71,
    "start_time": "2021-09-20T18:31:25.293Z"
   },
   {
    "duration": 24,
    "start_time": "2021-09-20T18:31:25.367Z"
   },
   {
    "duration": 34,
    "start_time": "2021-09-20T18:31:25.394Z"
   },
   {
    "duration": 85,
    "start_time": "2021-09-20T18:31:25.431Z"
   },
   {
    "duration": 298,
    "start_time": "2021-09-20T18:31:25.519Z"
   },
   {
    "duration": 63,
    "start_time": "2021-09-20T18:31:25.820Z"
   },
   {
    "duration": 72,
    "start_time": "2021-09-20T18:31:25.886Z"
   },
   {
    "duration": 21,
    "start_time": "2021-09-20T18:31:25.961Z"
   },
   {
    "duration": 422,
    "start_time": "2021-09-20T18:31:25.985Z"
   },
   {
    "duration": 42,
    "start_time": "2021-09-20T18:31:26.410Z"
   },
   {
    "duration": 638,
    "start_time": "2021-09-20T18:31:26.454Z"
   },
   {
    "duration": 11,
    "start_time": "2021-09-20T18:31:27.099Z"
   },
   {
    "duration": 39,
    "start_time": "2021-09-20T18:31:27.113Z"
   },
   {
    "duration": 1530,
    "start_time": "2021-09-20T18:31:27.156Z"
   },
   {
    "duration": 8,
    "start_time": "2021-09-20T18:31:28.688Z"
   },
   {
    "duration": 10,
    "start_time": "2021-09-20T18:31:28.700Z"
   },
   {
    "duration": 8,
    "start_time": "2021-09-20T18:31:28.713Z"
   },
   {
    "duration": 99,
    "start_time": "2021-09-20T18:31:28.724Z"
   },
   {
    "duration": 24,
    "start_time": "2021-09-20T18:31:28.825Z"
   },
   {
    "duration": 38,
    "start_time": "2021-09-20T18:31:28.852Z"
   },
   {
    "duration": 27,
    "start_time": "2021-09-20T18:31:28.893Z"
   },
   {
    "duration": 43,
    "start_time": "2021-09-20T18:31:45.823Z"
   },
   {
    "duration": 885,
    "start_time": "2021-09-20T18:32:00.939Z"
   },
   {
    "duration": 17,
    "start_time": "2021-09-20T18:32:21.594Z"
   },
   {
    "duration": 36,
    "start_time": "2021-09-20T18:32:54.613Z"
   },
   {
    "duration": 48,
    "start_time": "2021-09-20T18:33:11.841Z"
   },
   {
    "duration": 11,
    "start_time": "2021-09-20T18:33:12.766Z"
   },
   {
    "duration": 40,
    "start_time": "2021-09-20T18:35:17.006Z"
   },
   {
    "duration": 22,
    "start_time": "2021-09-20T18:35:31.883Z"
   },
   {
    "duration": 5389,
    "start_time": "2021-09-20T18:36:08.246Z"
   },
   {
    "duration": 4074,
    "start_time": "2021-09-20T18:36:13.639Z"
   },
   {
    "duration": 1617,
    "start_time": "2021-09-20T18:36:17.718Z"
   },
   {
    "duration": 847,
    "start_time": "2021-09-20T18:36:19.337Z"
   },
   {
    "duration": 17,
    "start_time": "2021-09-20T18:36:20.187Z"
   },
   {
    "duration": 174,
    "start_time": "2021-09-20T18:36:20.206Z"
   },
   {
    "duration": 499,
    "start_time": "2021-09-20T18:36:20.383Z"
   },
   {
    "duration": 67,
    "start_time": "2021-09-20T18:36:20.887Z"
   },
   {
    "duration": 197,
    "start_time": "2021-09-20T18:36:20.958Z"
   },
   {
    "duration": 25,
    "start_time": "2021-09-20T18:36:21.157Z"
   },
   {
    "duration": 10,
    "start_time": "2021-09-20T18:36:21.185Z"
   },
   {
    "duration": 39,
    "start_time": "2021-09-20T18:36:21.198Z"
   },
   {
    "duration": 12,
    "start_time": "2021-09-20T18:36:21.240Z"
   },
   {
    "duration": 30,
    "start_time": "2021-09-20T18:36:21.254Z"
   },
   {
    "duration": 111,
    "start_time": "2021-09-20T18:36:21.287Z"
   },
   {
    "duration": 89,
    "start_time": "2021-09-20T18:36:21.401Z"
   },
   {
    "duration": 58,
    "start_time": "2021-09-20T18:36:21.493Z"
   },
   {
    "duration": 11,
    "start_time": "2021-09-20T18:36:21.554Z"
   },
   {
    "duration": 506,
    "start_time": "2021-09-20T18:36:21.568Z"
   },
   {
    "duration": 45,
    "start_time": "2021-09-20T18:36:22.077Z"
   },
   {
    "duration": 663,
    "start_time": "2021-09-20T18:36:22.124Z"
   },
   {
    "duration": 42,
    "start_time": "2021-09-20T18:36:22.790Z"
   },
   {
    "duration": 54,
    "start_time": "2021-09-20T18:36:22.836Z"
   },
   {
    "duration": 992,
    "start_time": "2021-09-20T18:36:22.893Z"
   },
   {
    "duration": 6,
    "start_time": "2021-09-20T18:36:23.888Z"
   },
   {
    "duration": 8,
    "start_time": "2021-09-20T18:36:23.897Z"
   },
   {
    "duration": 8,
    "start_time": "2021-09-20T18:36:23.908Z"
   },
   {
    "duration": 104,
    "start_time": "2021-09-20T18:36:23.919Z"
   },
   {
    "duration": 24,
    "start_time": "2021-09-20T18:36:24.026Z"
   },
   {
    "duration": 35,
    "start_time": "2021-09-20T18:36:24.053Z"
   },
   {
    "duration": 24,
    "start_time": "2021-09-20T18:36:24.091Z"
   },
   {
    "duration": 5582,
    "start_time": "2021-09-21T16:06:07.613Z"
   },
   {
    "duration": 3125,
    "start_time": "2021-09-21T16:06:13.198Z"
   },
   {
    "duration": 1808,
    "start_time": "2021-09-21T16:06:16.326Z"
   },
   {
    "duration": 822,
    "start_time": "2021-09-21T16:06:18.136Z"
   },
   {
    "duration": 16,
    "start_time": "2021-09-21T16:06:18.961Z"
   },
   {
    "duration": 184,
    "start_time": "2021-09-21T16:06:18.979Z"
   },
   {
    "duration": 367,
    "start_time": "2021-09-21T16:06:19.164Z"
   },
   {
    "duration": 50,
    "start_time": "2021-09-21T16:06:19.534Z"
   },
   {
    "duration": 140,
    "start_time": "2021-09-21T16:06:19.586Z"
   },
   {
    "duration": 12,
    "start_time": "2021-09-21T16:06:19.728Z"
   },
   {
    "duration": 8,
    "start_time": "2021-09-21T16:06:19.749Z"
   },
   {
    "duration": 26,
    "start_time": "2021-09-21T16:06:19.759Z"
   },
   {
    "duration": 8,
    "start_time": "2021-09-21T16:06:19.787Z"
   },
   {
    "duration": 19,
    "start_time": "2021-09-21T16:06:19.796Z"
   },
   {
    "duration": 77,
    "start_time": "2021-09-21T16:06:19.816Z"
   },
   {
    "duration": 29,
    "start_time": "2021-09-21T16:06:19.894Z"
   },
   {
    "duration": 55,
    "start_time": "2021-09-21T16:06:19.924Z"
   },
   {
    "duration": 8,
    "start_time": "2021-09-21T16:06:19.981Z"
   },
   {
    "duration": 442,
    "start_time": "2021-09-21T16:06:19.990Z"
   },
   {
    "duration": 47,
    "start_time": "2021-09-21T16:06:20.434Z"
   },
   {
    "duration": 568,
    "start_time": "2021-09-21T16:06:20.483Z"
   },
   {
    "duration": 40,
    "start_time": "2021-09-21T16:06:21.053Z"
   },
   {
    "duration": 52,
    "start_time": "2021-09-21T16:06:21.097Z"
   },
   {
    "duration": 854,
    "start_time": "2021-09-21T16:06:21.152Z"
   },
   {
    "duration": 7,
    "start_time": "2021-09-21T16:06:22.008Z"
   },
   {
    "duration": 6,
    "start_time": "2021-09-21T16:06:22.017Z"
   },
   {
    "duration": 28,
    "start_time": "2021-09-21T16:06:22.024Z"
   },
   {
    "duration": 63,
    "start_time": "2021-09-21T16:06:22.054Z"
   },
   {
    "duration": 605,
    "start_time": "2021-09-21T16:06:22.119Z"
   },
   {
    "duration": -66,
    "start_time": "2021-09-21T16:06:22.792Z"
   },
   {
    "duration": -66,
    "start_time": "2021-09-21T16:06:22.793Z"
   },
   {
    "duration": 8,
    "start_time": "2021-09-21T16:06:42.244Z"
   },
   {
    "duration": 5,
    "start_time": "2021-09-21T16:06:51.555Z"
   },
   {
    "duration": 5,
    "start_time": "2021-09-21T16:06:58.141Z"
   },
   {
    "duration": 4,
    "start_time": "2021-09-21T16:07:15.262Z"
   },
   {
    "duration": 4,
    "start_time": "2021-09-21T16:07:17.821Z"
   },
   {
    "duration": 4,
    "start_time": "2021-09-21T16:07:20.904Z"
   },
   {
    "duration": 5337,
    "start_time": "2021-09-21T16:07:22.767Z"
   },
   {
    "duration": 6,
    "start_time": "2021-09-21T16:07:35.638Z"
   },
   {
    "duration": 10,
    "start_time": "2021-09-21T16:07:45.286Z"
   },
   {
    "duration": 711,
    "start_time": "2021-09-21T16:07:53.890Z"
   },
   {
    "duration": 540,
    "start_time": "2021-09-21T16:08:04.907Z"
   },
   {
    "duration": 497,
    "start_time": "2021-09-21T16:08:11.980Z"
   },
   {
    "duration": 475,
    "start_time": "2021-09-21T16:08:38.434Z"
   },
   {
    "duration": 8,
    "start_time": "2021-09-21T16:09:07.982Z"
   },
   {
    "duration": 9,
    "start_time": "2021-09-21T16:09:11.143Z"
   },
   {
    "duration": 10,
    "start_time": "2021-09-21T16:09:21.434Z"
   },
   {
    "duration": 9,
    "start_time": "2021-09-21T16:13:10.936Z"
   },
   {
    "duration": 324,
    "start_time": "2021-09-21T16:13:58.153Z"
   },
   {
    "duration": 272,
    "start_time": "2021-09-21T16:15:04.825Z"
   },
   {
    "duration": 246,
    "start_time": "2021-09-21T16:15:51.933Z"
   },
   {
    "duration": 296,
    "start_time": "2021-09-21T16:16:13.246Z"
   },
   {
    "duration": 238,
    "start_time": "2021-09-21T16:16:20.312Z"
   },
   {
    "duration": 252,
    "start_time": "2021-09-21T16:16:55.146Z"
   },
   {
    "duration": 255,
    "start_time": "2021-09-21T16:16:58.900Z"
   },
   {
    "duration": 284,
    "start_time": "2021-09-21T16:17:01.834Z"
   },
   {
    "duration": 257,
    "start_time": "2021-09-21T16:18:59.085Z"
   },
   {
    "duration": 6,
    "start_time": "2021-09-21T16:19:43.414Z"
   },
   {
    "duration": 4,
    "start_time": "2021-09-21T16:19:47.878Z"
   },
   {
    "duration": 232,
    "start_time": "2021-09-21T16:20:44.351Z"
   },
   {
    "duration": 78,
    "start_time": "2021-09-21T16:21:11.613Z"
   },
   {
    "duration": 50,
    "start_time": "2021-09-21T16:21:49.832Z"
   },
   {
    "duration": 3,
    "start_time": "2021-09-21T16:22:15.827Z"
   },
   {
    "duration": 5,
    "start_time": "2021-09-21T16:22:20.814Z"
   },
   {
    "duration": 8,
    "start_time": "2021-09-21T16:23:49.838Z"
   },
   {
    "duration": 246,
    "start_time": "2021-09-21T16:23:55.895Z"
   },
   {
    "duration": 6,
    "start_time": "2021-09-21T16:24:12.385Z"
   },
   {
    "duration": 4,
    "start_time": "2021-09-21T16:25:29.198Z"
   },
   {
    "duration": 251,
    "start_time": "2021-09-21T16:25:36.723Z"
   },
   {
    "duration": 7,
    "start_time": "2021-09-21T16:25:46.849Z"
   },
   {
    "duration": 7,
    "start_time": "2021-09-21T16:26:12.408Z"
   },
   {
    "duration": 4,
    "start_time": "2021-09-21T16:27:40.497Z"
   },
   {
    "duration": 17,
    "start_time": "2021-09-21T16:30:03.997Z"
   },
   {
    "duration": 19,
    "start_time": "2021-09-21T16:30:04.749Z"
   },
   {
    "duration": 2760,
    "start_time": "2021-09-21T16:32:46.224Z"
   },
   {
    "duration": 2437,
    "start_time": "2021-09-21T16:32:48.987Z"
   },
   {
    "duration": 1178,
    "start_time": "2021-09-21T16:32:51.427Z"
   },
   {
    "duration": 613,
    "start_time": "2021-09-21T16:32:52.606Z"
   },
   {
    "duration": 15,
    "start_time": "2021-09-21T16:32:53.221Z"
   },
   {
    "duration": 139,
    "start_time": "2021-09-21T16:32:53.238Z"
   },
   {
    "duration": 414,
    "start_time": "2021-09-21T16:32:53.379Z"
   },
   {
    "duration": 54,
    "start_time": "2021-09-21T16:32:53.795Z"
   },
   {
    "duration": 127,
    "start_time": "2021-09-21T16:32:53.851Z"
   },
   {
    "duration": 13,
    "start_time": "2021-09-21T16:32:53.979Z"
   },
   {
    "duration": 9,
    "start_time": "2021-09-21T16:32:53.993Z"
   },
   {
    "duration": 36,
    "start_time": "2021-09-21T16:32:54.003Z"
   },
   {
    "duration": 19,
    "start_time": "2021-09-21T16:32:54.041Z"
   },
   {
    "duration": 17,
    "start_time": "2021-09-21T16:32:54.061Z"
   },
   {
    "duration": 59,
    "start_time": "2021-09-21T16:32:54.079Z"
   },
   {
    "duration": 31,
    "start_time": "2021-09-21T16:32:54.140Z"
   },
   {
    "duration": 59,
    "start_time": "2021-09-21T16:32:54.173Z"
   },
   {
    "duration": 15,
    "start_time": "2021-09-21T16:32:54.235Z"
   },
   {
    "duration": 305,
    "start_time": "2021-09-21T16:32:54.253Z"
   },
   {
    "duration": 29,
    "start_time": "2021-09-21T16:32:54.560Z"
   },
   {
    "duration": 512,
    "start_time": "2021-09-21T16:32:54.590Z"
   },
   {
    "duration": 31,
    "start_time": "2021-09-21T16:32:55.103Z"
   },
   {
    "duration": 36,
    "start_time": "2021-09-21T16:32:55.138Z"
   },
   {
    "duration": 608,
    "start_time": "2021-09-21T16:32:55.177Z"
   },
   {
    "duration": 6,
    "start_time": "2021-09-21T16:32:55.787Z"
   },
   {
    "duration": 6,
    "start_time": "2021-09-21T16:32:55.795Z"
   },
   {
    "duration": 66,
    "start_time": "2021-09-21T16:32:55.803Z"
   },
   {
    "duration": 89,
    "start_time": "2021-09-21T16:32:55.871Z"
   },
   {
    "duration": 3,
    "start_time": "2021-09-21T16:32:55.961Z"
   },
   {
    "duration": 10,
    "start_time": "2021-09-21T16:32:55.966Z"
   },
   {
    "duration": 16,
    "start_time": "2021-09-21T16:32:55.978Z"
   },
   {
    "duration": 18,
    "start_time": "2021-09-21T16:32:55.996Z"
   },
   {
    "duration": 34,
    "start_time": "2021-09-21T16:37:07.131Z"
   },
   {
    "duration": 9,
    "start_time": "2021-09-21T16:39:40.287Z"
   },
   {
    "duration": 9,
    "start_time": "2021-09-21T16:39:52.126Z"
   },
   {
    "duration": 8,
    "start_time": "2021-09-21T16:39:55.035Z"
   },
   {
    "duration": 8,
    "start_time": "2021-09-21T16:40:23.559Z"
   },
   {
    "duration": 8,
    "start_time": "2021-09-21T16:40:30.303Z"
   },
   {
    "duration": 2639,
    "start_time": "2021-09-21T17:01:53.386Z"
   },
   {
    "duration": 2684,
    "start_time": "2021-09-21T17:01:56.027Z"
   },
   {
    "duration": 1191,
    "start_time": "2021-09-21T17:01:58.714Z"
   },
   {
    "duration": 649,
    "start_time": "2021-09-21T17:01:59.907Z"
   },
   {
    "duration": 14,
    "start_time": "2021-09-21T17:02:00.558Z"
   },
   {
    "duration": 140,
    "start_time": "2021-09-21T17:02:00.573Z"
   },
   {
    "duration": 431,
    "start_time": "2021-09-21T17:02:00.715Z"
   },
   {
    "duration": 66,
    "start_time": "2021-09-21T17:02:01.151Z"
   },
   {
    "duration": 219,
    "start_time": "2021-09-21T17:02:01.220Z"
   },
   {
    "duration": 23,
    "start_time": "2021-09-21T17:02:01.441Z"
   },
   {
    "duration": 34,
    "start_time": "2021-09-21T17:02:01.466Z"
   },
   {
    "duration": 34,
    "start_time": "2021-09-21T17:02:01.502Z"
   },
   {
    "duration": 13,
    "start_time": "2021-09-21T17:02:01.538Z"
   },
   {
    "duration": 20,
    "start_time": "2021-09-21T17:02:01.554Z"
   },
   {
    "duration": 57,
    "start_time": "2021-09-21T17:02:01.576Z"
   },
   {
    "duration": 42,
    "start_time": "2021-09-21T17:02:01.649Z"
   },
   {
    "duration": 8,
    "start_time": "2021-09-21T17:02:01.693Z"
   },
   {
    "duration": 349,
    "start_time": "2021-09-21T17:02:01.702Z"
   },
   {
    "duration": 29,
    "start_time": "2021-09-21T17:02:02.054Z"
   },
   {
    "duration": 452,
    "start_time": "2021-09-21T17:02:02.085Z"
   },
   {
    "duration": 35,
    "start_time": "2021-09-21T17:02:02.539Z"
   },
   {
    "duration": 27,
    "start_time": "2021-09-21T17:02:02.576Z"
   },
   {
    "duration": 604,
    "start_time": "2021-09-21T17:02:02.606Z"
   },
   {
    "duration": 6,
    "start_time": "2021-09-21T17:02:03.212Z"
   },
   {
    "duration": 7,
    "start_time": "2021-09-21T17:02:03.219Z"
   },
   {
    "duration": 58,
    "start_time": "2021-09-21T17:02:03.227Z"
   },
   {
    "duration": 39,
    "start_time": "2021-09-21T17:02:03.287Z"
   },
   {
    "duration": 101,
    "start_time": "2021-09-21T17:02:03.327Z"
   },
   {
    "duration": 3,
    "start_time": "2021-09-21T17:02:03.430Z"
   },
   {
    "duration": 20,
    "start_time": "2021-09-21T17:02:03.435Z"
   },
   {
    "duration": 12,
    "start_time": "2021-09-21T17:02:03.457Z"
   },
   {
    "duration": 12,
    "start_time": "2021-09-21T17:02:03.471Z"
   },
   {
    "duration": 10294,
    "start_time": "2021-09-22T14:15:02.551Z"
   },
   {
    "duration": 4753,
    "start_time": "2021-09-22T14:15:12.848Z"
   },
   {
    "duration": 1861,
    "start_time": "2021-09-22T14:15:17.605Z"
   },
   {
    "duration": 792,
    "start_time": "2021-09-22T14:15:19.470Z"
   },
   {
    "duration": 26,
    "start_time": "2021-09-22T14:15:20.265Z"
   },
   {
    "duration": 233,
    "start_time": "2021-09-22T14:15:20.294Z"
   },
   {
    "duration": 582,
    "start_time": "2021-09-22T14:15:20.531Z"
   },
   {
    "duration": 91,
    "start_time": "2021-09-22T14:15:21.119Z"
   },
   {
    "duration": 201,
    "start_time": "2021-09-22T14:15:21.213Z"
   },
   {
    "duration": 17,
    "start_time": "2021-09-22T14:15:21.416Z"
   },
   {
    "duration": 16,
    "start_time": "2021-09-22T14:15:21.456Z"
   },
   {
    "duration": 40,
    "start_time": "2021-09-22T14:15:21.480Z"
   },
   {
    "duration": 13,
    "start_time": "2021-09-22T14:15:21.522Z"
   },
   {
    "duration": 24,
    "start_time": "2021-09-22T14:15:21.556Z"
   },
   {
    "duration": 108,
    "start_time": "2021-09-22T14:15:21.582Z"
   },
   {
    "duration": 95,
    "start_time": "2021-09-22T14:15:21.693Z"
   },
   {
    "duration": 15,
    "start_time": "2021-09-22T14:15:21.791Z"
   },
   {
    "duration": 484,
    "start_time": "2021-09-22T14:15:21.808Z"
   },
   {
    "duration": 67,
    "start_time": "2021-09-22T14:15:22.295Z"
   },
   {
    "duration": 814,
    "start_time": "2021-09-22T14:15:22.365Z"
   },
   {
    "duration": 59,
    "start_time": "2021-09-22T14:15:23.182Z"
   },
   {
    "duration": 52,
    "start_time": "2021-09-22T14:15:23.244Z"
   },
   {
    "duration": 1116,
    "start_time": "2021-09-22T14:15:23.300Z"
   },
   {
    "duration": 6,
    "start_time": "2021-09-22T14:15:24.419Z"
   },
   {
    "duration": 34,
    "start_time": "2021-09-22T14:15:24.427Z"
   },
   {
    "duration": 47,
    "start_time": "2021-09-22T14:15:24.464Z"
   },
   {
    "duration": 92,
    "start_time": "2021-09-22T14:15:24.514Z"
   },
   {
    "duration": 85,
    "start_time": "2021-09-22T14:15:24.609Z"
   },
   {
    "duration": 5,
    "start_time": "2021-09-22T14:15:24.697Z"
   },
   {
    "duration": 15,
    "start_time": "2021-09-22T14:15:24.705Z"
   },
   {
    "duration": 37,
    "start_time": "2021-09-22T14:15:24.723Z"
   },
   {
    "duration": 28,
    "start_time": "2021-09-22T14:15:24.763Z"
   },
   {
    "duration": 1533,
    "start_time": "2021-09-22T14:16:41.905Z"
   },
   {
    "duration": 18,
    "start_time": "2021-09-22T14:16:44.222Z"
   },
   {
    "duration": 8,
    "start_time": "2021-09-22T14:17:05.143Z"
   },
   {
    "duration": 28,
    "start_time": "2021-09-22T14:17:10.809Z"
   },
   {
    "duration": 21,
    "start_time": "2021-09-22T14:17:17.099Z"
   },
   {
    "duration": 22,
    "start_time": "2021-09-22T14:17:20.556Z"
   },
   {
    "duration": 20,
    "start_time": "2021-09-22T14:17:24.477Z"
   },
   {
    "duration": 24,
    "start_time": "2021-09-22T14:18:20.921Z"
   },
   {
    "duration": 21,
    "start_time": "2021-09-22T14:18:57.341Z"
   },
   {
    "duration": 4063,
    "start_time": "2021-09-22T14:19:12.022Z"
   },
   {
    "duration": 3640,
    "start_time": "2021-09-22T14:19:16.088Z"
   },
   {
    "duration": 5,
    "start_time": "2021-09-22T14:19:19.732Z"
   },
   {
    "duration": 803,
    "start_time": "2021-09-22T14:19:19.740Z"
   },
   {
    "duration": 16,
    "start_time": "2021-09-22T14:19:20.545Z"
   },
   {
    "duration": 181,
    "start_time": "2021-09-22T14:19:20.564Z"
   },
   {
    "duration": 446,
    "start_time": "2021-09-22T14:19:20.748Z"
   },
   {
    "duration": 94,
    "start_time": "2021-09-22T14:19:21.197Z"
   },
   {
    "duration": 177,
    "start_time": "2021-09-22T14:19:21.294Z"
   },
   {
    "duration": 18,
    "start_time": "2021-09-22T14:19:21.474Z"
   },
   {
    "duration": 21,
    "start_time": "2021-09-22T14:19:21.495Z"
   },
   {
    "duration": 75,
    "start_time": "2021-09-22T14:19:21.518Z"
   },
   {
    "duration": 11,
    "start_time": "2021-09-22T14:19:21.596Z"
   },
   {
    "duration": 23,
    "start_time": "2021-09-22T14:20:16.975Z"
   },
   {
    "duration": 4150,
    "start_time": "2021-09-22T14:21:40.681Z"
   },
   {
    "duration": 3756,
    "start_time": "2021-09-22T14:21:44.834Z"
   },
   {
    "duration": 1439,
    "start_time": "2021-09-22T14:21:48.593Z"
   },
   {
    "duration": 789,
    "start_time": "2021-09-22T14:21:50.034Z"
   },
   {
    "duration": 19,
    "start_time": "2021-09-22T14:21:50.825Z"
   },
   {
    "duration": 186,
    "start_time": "2021-09-22T14:21:50.847Z"
   },
   {
    "duration": 467,
    "start_time": "2021-09-22T14:21:51.036Z"
   },
   {
    "duration": 84,
    "start_time": "2021-09-22T14:21:51.505Z"
   },
   {
    "duration": 188,
    "start_time": "2021-09-22T14:21:51.593Z"
   },
   {
    "duration": 17,
    "start_time": "2021-09-22T14:21:51.784Z"
   },
   {
    "duration": 18,
    "start_time": "2021-09-22T14:21:51.804Z"
   },
   {
    "duration": 67,
    "start_time": "2021-09-22T14:21:51.825Z"
   },
   {
    "duration": 14,
    "start_time": "2021-09-22T14:21:51.895Z"
   },
   {
    "duration": 50,
    "start_time": "2021-09-22T14:21:51.912Z"
   },
   {
    "duration": 74,
    "start_time": "2021-09-22T14:21:51.965Z"
   },
   {
    "duration": 73,
    "start_time": "2021-09-22T14:21:52.041Z"
   },
   {
    "duration": 12,
    "start_time": "2021-09-22T14:21:52.116Z"
   },
   {
    "duration": 427,
    "start_time": "2021-09-22T14:21:52.131Z"
   },
   {
    "duration": 49,
    "start_time": "2021-09-22T14:21:52.562Z"
   },
   {
    "duration": 686,
    "start_time": "2021-09-22T14:21:52.613Z"
   },
   {
    "duration": 57,
    "start_time": "2021-09-22T14:21:53.301Z"
   },
   {
    "duration": 38,
    "start_time": "2021-09-22T14:21:53.362Z"
   },
   {
    "duration": 1003,
    "start_time": "2021-09-22T14:21:53.403Z"
   },
   {
    "duration": 6,
    "start_time": "2021-09-22T14:21:54.408Z"
   },
   {
    "duration": 14,
    "start_time": "2021-09-22T14:21:54.416Z"
   },
   {
    "duration": 64,
    "start_time": "2021-09-22T14:21:54.432Z"
   },
   {
    "duration": 78,
    "start_time": "2021-09-22T14:21:54.500Z"
   },
   {
    "duration": 8,
    "start_time": "2021-09-22T14:21:54.582Z"
   },
   {
    "duration": 6,
    "start_time": "2021-09-22T14:21:54.592Z"
   },
   {
    "duration": 11,
    "start_time": "2021-09-22T14:21:54.601Z"
   },
   {
    "duration": 121,
    "start_time": "2021-09-22T14:21:54.616Z"
   },
   {
    "duration": 21,
    "start_time": "2021-09-22T14:21:54.740Z"
   },
   {
    "duration": 5,
    "start_time": "2021-09-22T14:23:18.333Z"
   },
   {
    "duration": 12,
    "start_time": "2021-09-22T14:23:34.791Z"
   },
   {
    "duration": 15,
    "start_time": "2021-09-22T14:24:38.979Z"
   },
   {
    "duration": 18,
    "start_time": "2021-09-22T14:24:42.491Z"
   },
   {
    "duration": 18,
    "start_time": "2021-09-22T14:25:28.626Z"
   },
   {
    "duration": 30,
    "start_time": "2021-09-22T14:25:34.814Z"
   },
   {
    "duration": 14,
    "start_time": "2021-09-22T14:25:42.131Z"
   },
   {
    "duration": 24,
    "start_time": "2021-09-22T14:26:34.785Z"
   },
   {
    "duration": 19,
    "start_time": "2021-09-22T14:26:40.425Z"
   },
   {
    "duration": 18,
    "start_time": "2021-09-22T14:26:48.491Z"
   },
   {
    "duration": 22,
    "start_time": "2021-09-22T14:26:56.775Z"
   },
   {
    "duration": 25,
    "start_time": "2021-09-22T14:27:17.266Z"
   },
   {
    "duration": 21,
    "start_time": "2021-09-22T14:27:24.231Z"
   },
   {
    "duration": 20,
    "start_time": "2021-09-22T14:27:28.055Z"
   },
   {
    "duration": 8,
    "start_time": "2021-09-22T14:29:36.977Z"
   },
   {
    "duration": 48,
    "start_time": "2021-09-22T14:29:46.122Z"
   },
   {
    "duration": 3807,
    "start_time": "2021-09-22T14:29:51.315Z"
   },
   {
    "duration": 3723,
    "start_time": "2021-09-22T14:29:55.125Z"
   },
   {
    "duration": 1447,
    "start_time": "2021-09-22T14:29:58.854Z"
   },
   {
    "duration": 775,
    "start_time": "2021-09-22T14:30:00.303Z"
   },
   {
    "duration": 19,
    "start_time": "2021-09-22T14:30:01.081Z"
   },
   {
    "duration": 198,
    "start_time": "2021-09-22T14:30:01.102Z"
   },
   {
    "duration": 482,
    "start_time": "2021-09-22T14:30:01.304Z"
   },
   {
    "duration": 76,
    "start_time": "2021-09-22T14:30:01.790Z"
   },
   {
    "duration": 177,
    "start_time": "2021-09-22T14:30:01.868Z"
   },
   {
    "duration": 16,
    "start_time": "2021-09-22T14:30:02.048Z"
   },
   {
    "duration": 100,
    "start_time": "2021-09-22T14:30:02.067Z"
   },
   {
    "duration": 85,
    "start_time": "2021-09-22T14:30:02.169Z"
   },
   {
    "duration": 11,
    "start_time": "2021-09-22T14:30:02.257Z"
   },
   {
    "duration": 33,
    "start_time": "2021-09-22T14:30:02.270Z"
   },
   {
    "duration": 46,
    "start_time": "2021-09-22T14:30:02.306Z"
   },
   {
    "duration": 79,
    "start_time": "2021-09-22T14:30:02.355Z"
   },
   {
    "duration": 84,
    "start_time": "2021-09-22T14:30:02.437Z"
   },
   {
    "duration": 63,
    "start_time": "2021-09-22T14:30:02.523Z"
   },
   {
    "duration": 11,
    "start_time": "2021-09-22T14:30:02.588Z"
   },
   {
    "duration": 472,
    "start_time": "2021-09-22T14:30:02.601Z"
   },
   {
    "duration": 41,
    "start_time": "2021-09-22T14:30:03.076Z"
   },
   {
    "duration": 754,
    "start_time": "2021-09-22T14:30:03.123Z"
   },
   {
    "duration": 39,
    "start_time": "2021-09-22T14:30:03.880Z"
   },
   {
    "duration": 54,
    "start_time": "2021-09-22T14:30:03.921Z"
   },
   {
    "duration": 1023,
    "start_time": "2021-09-22T14:30:03.977Z"
   },
   {
    "duration": 6,
    "start_time": "2021-09-22T14:30:05.003Z"
   },
   {
    "duration": 23,
    "start_time": "2021-09-22T14:30:05.011Z"
   },
   {
    "duration": 56,
    "start_time": "2021-09-22T14:30:05.037Z"
   },
   {
    "duration": 63,
    "start_time": "2021-09-22T14:30:05.095Z"
   },
   {
    "duration": 78,
    "start_time": "2021-09-22T14:30:05.160Z"
   },
   {
    "duration": 17,
    "start_time": "2021-09-22T14:30:05.240Z"
   },
   {
    "duration": 18,
    "start_time": "2021-09-22T14:30:05.259Z"
   },
   {
    "duration": 24,
    "start_time": "2021-09-22T14:30:05.280Z"
   },
   {
    "duration": 20,
    "start_time": "2021-09-22T14:30:05.307Z"
   },
   {
    "duration": 7,
    "start_time": "2021-09-22T14:37:28.255Z"
   },
   {
    "duration": 3976,
    "start_time": "2021-09-22T14:37:32.862Z"
   },
   {
    "duration": 3603,
    "start_time": "2021-09-22T14:37:36.841Z"
   },
   {
    "duration": 1554,
    "start_time": "2021-09-22T14:37:40.447Z"
   },
   {
    "duration": 773,
    "start_time": "2021-09-22T14:37:42.004Z"
   },
   {
    "duration": 19,
    "start_time": "2021-09-22T14:37:42.780Z"
   },
   {
    "duration": 185,
    "start_time": "2021-09-22T14:37:42.802Z"
   },
   {
    "duration": 459,
    "start_time": "2021-09-22T14:37:42.989Z"
   },
   {
    "duration": 61,
    "start_time": "2021-09-22T14:37:43.457Z"
   },
   {
    "duration": 191,
    "start_time": "2021-09-22T14:37:43.522Z"
   },
   {
    "duration": 17,
    "start_time": "2021-09-22T14:37:43.716Z"
   },
   {
    "duration": 37,
    "start_time": "2021-09-22T14:37:43.735Z"
   },
   {
    "duration": 47,
    "start_time": "2021-09-22T14:37:43.775Z"
   },
   {
    "duration": 13,
    "start_time": "2021-09-22T14:37:43.825Z"
   },
   {
    "duration": 22,
    "start_time": "2021-09-22T14:37:43.856Z"
   },
   {
    "duration": 21,
    "start_time": "2021-09-22T14:37:43.880Z"
   },
   {
    "duration": 6,
    "start_time": "2021-09-22T14:37:43.904Z"
   },
   {
    "duration": 12,
    "start_time": "2021-09-22T14:37:43.913Z"
   },
   {
    "duration": 81,
    "start_time": "2021-09-22T14:37:43.957Z"
   },
   {
    "duration": 58,
    "start_time": "2021-09-22T14:37:44.040Z"
   },
   {
    "duration": 11,
    "start_time": "2021-09-22T14:37:44.101Z"
   },
   {
    "duration": 528,
    "start_time": "2021-09-22T14:37:44.115Z"
   },
   {
    "duration": 64,
    "start_time": "2021-09-22T14:37:44.646Z"
   },
   {
    "duration": 907,
    "start_time": "2021-09-22T14:37:44.716Z"
   },
   {
    "duration": 67,
    "start_time": "2021-09-22T14:37:45.626Z"
   },
   {
    "duration": 60,
    "start_time": "2021-09-22T14:37:45.696Z"
   },
   {
    "duration": 1475,
    "start_time": "2021-09-22T14:37:45.759Z"
   },
   {
    "duration": 21,
    "start_time": "2021-09-22T14:37:47.237Z"
   },
   {
    "duration": 9,
    "start_time": "2021-09-22T14:37:47.261Z"
   },
   {
    "duration": 95,
    "start_time": "2021-09-22T14:37:47.273Z"
   },
   {
    "duration": 102,
    "start_time": "2021-09-22T14:37:47.372Z"
   },
   {
    "duration": 101,
    "start_time": "2021-09-22T14:37:47.477Z"
   },
   {
    "duration": 4,
    "start_time": "2021-09-22T14:37:47.580Z"
   },
   {
    "duration": 17,
    "start_time": "2021-09-22T14:37:47.587Z"
   },
   {
    "duration": 30,
    "start_time": "2021-09-22T14:37:47.607Z"
   },
   {
    "duration": 31,
    "start_time": "2021-09-22T14:37:47.640Z"
   }
  ],
  "kernelspec": {
   "display_name": "Python 3",
   "language": "python",
   "name": "python3"
  },
  "language_info": {
   "codemirror_mode": {
    "name": "ipython",
    "version": 3
   },
   "file_extension": ".py",
   "mimetype": "text/x-python",
   "name": "python",
   "nbconvert_exporter": "python",
   "pygments_lexer": "ipython3",
   "version": "3.7.8"
  },
  "toc": {
   "base_numbering": 1,
   "nav_menu": {},
   "number_sections": true,
   "sideBar": true,
   "skip_h1_title": true,
   "title_cell": "Table of Contents",
   "title_sidebar": "Contents",
   "toc_cell": false,
   "toc_position": {},
   "toc_section_display": true,
   "toc_window_display": false
  }
 },
 "nbformat": 4,
 "nbformat_minor": 2
}