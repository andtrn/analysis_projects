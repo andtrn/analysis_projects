{
 "cells": [
  {
   "cell_type": "markdown",
   "metadata": {
    "id": "8xABY8uJ9kdr"
   },
   "source": [
    "# Приоритезация гипотез и анализ результатов A/B-теста."
   ]
  },
  {
   "cell_type": "markdown",
   "metadata": {
    "id": "JGwaGQ039kdr"
   },
   "source": [
    "Вместе с отделом маркетинга мы подготовили список гипотез для увеличения выручки интернет-магазина.\n",
    "- [Приоритизируем гипотезы](#Часть-1.-Приоритизация-гипотез-3)\n",
    "- [Проанализируем результаты A/B теста.](#Часть-2.-Анализ-результатов-A/B-теста.-4)\n",
    "- [Сделаем выводы](#Выводы-5)"
   ]
  },
  {
   "cell_type": "markdown",
   "metadata": {
    "id": "x6H6N1xV9kdr"
   },
   "source": [
    "Краткие выводы: \n",
    "- Есть статистическая значимость, положительного отношения конверсии группы B к группе A в 18%. \n",
    "- Нет статистической значимости, отрицательного отношения среднего чека группы B к группе A в 1%."
   ]
  },
  {
   "cell_type": "markdown",
   "metadata": {
    "id": "6LrV-1YX9kds"
   },
   "source": [
    "# Импортируем библиотеки"
   ]
  },
  {
   "cell_type": "code",
   "execution_count": 8,
   "metadata": {
    "colab": {
     "base_uri": "https://localhost:8080/"
    },
    "id": "v0QR02k5-QwT",
    "outputId": "eb62f597-fc3c-4cc2-d3e8-810335c92f77"
   },
   "outputs": [
    {
     "name": "stdout",
     "output_type": "stream",
     "text": [
      "Requirement already satisfied: scipy in c:\\users\\andrey\\appdata\\local\\packages\\pythonsoftwarefoundation.python.3.9_qbz5n2kfra8p0\\localcache\\local-packages\\python39\\site-packages (1.7.1)\n",
      "Requirement already satisfied: numpy<1.23.0,>=1.16.5 in c:\\users\\andrey\\appdata\\local\\packages\\pythonsoftwarefoundation.python.3.9_qbz5n2kfra8p0\\localcache\\local-packages\\python39\\site-packages (from scipy) (1.21.2)\n"
     ]
    },
    {
     "name": "stderr",
     "output_type": "stream",
     "text": [
      "WARNING: You are using pip version 21.2.3; however, version 21.2.4 is available.\n",
      "You should consider upgrading via the 'C:\\Users\\Andrey\\AppData\\Local\\Microsoft\\WindowsApps\\PythonSoftwareFoundation.Python.3.9_qbz5n2kfra8p0\\python.exe -m pip install --upgrade pip' command.\n"
     ]
    }
   ],
   "source": [
    "!pip install --upgrade scipy"
   ]
  },
  {
   "cell_type": "code",
   "execution_count": 9,
   "metadata": {
    "id": "5hqID5re9kds"
   },
   "outputs": [],
   "source": [
    "import pandas as pd\n",
    "pd.plotting.register_matplotlib_converters()\n",
    "import numpy as np\n",
    "import matplotlib.pyplot as plt\n",
    "import seaborn as sns\n",
    "import scipy.stats as stats"
   ]
  },
  {
   "cell_type": "markdown",
   "metadata": {
    "id": "_4cSPOao9kdt"
   },
   "source": [
    "# Часть 1. Приоритизация гипотез"
   ]
  },
  {
   "cell_type": "markdown",
   "metadata": {
    "id": "53rCzwGW9kdt"
   },
   "source": [
    "Подготовили 9 гипотез по увеличению выручки интернет-магазина с указанными параметрами Reach, Impact, Confidence, Effort.\n",
    "- Применим фреймворк ICE для приоритизации гипотез.\n",
    "- Применим фреймворк RICE для приоритизации гипотез.\n",
    "- Сравним приоритизацию гипотез по разным фреймворкам"
   ]
  },
  {
   "cell_type": "markdown",
   "metadata": {
    "id": "c87nqx5K9kdt"
   },
   "source": [
    "## Гипотезы"
   ]
  },
  {
   "cell_type": "code",
   "execution_count": 10,
   "metadata": {
    "id": "Q-ZonIQn9kdu"
   },
   "outputs": [],
   "source": [
    "hypothesis = pd.read_csv('/datasets/hypothesis.csv')"
   ]
  },
  {
   "cell_type": "code",
   "execution_count": 11,
   "metadata": {
    "colab": {
     "base_uri": "https://localhost:8080/",
     "height": 328
    },
    "id": "nBo8D-Ju9kdu",
    "outputId": "3255a643-848d-4542-8ad3-0ac9d663eed7",
    "scrolled": false
   },
   "outputs": [
    {
     "data": {
      "text/plain": "                                                                                                     Hypothesis  Reach  Impact  Confidence  Efforts\n0            Добавить два новых канала привлечения трафика, что позволит привлекать на 30% больше пользователей      3      10           8        6\n1                                     Запустить собственную службу доставки, что сократит срок доставки заказов      2       5           4       10\n2  Добавить блоки рекомендаций товаров на сайт интернет магазина, чтобы повысить конверсию и средний чек заказа      8       3           7        3\n3           Изменить структура категорий, что увеличит конверсию, т.к. пользователи быстрее найдут нужный товар      8       3           3        8\n4                              Изменить цвет фона главной страницы, чтобы увеличить вовлеченность пользователей      3       1           1        1\n5                      Добавить страницу отзывов клиентов о магазине, что позволит увеличить количество заказов      3       2           2        3\n6          Показать на главной странице баннеры с актуальными акциями и распродажами, чтобы увеличить конверсию      5       3           8        3\n7              Добавить форму подписки на все основные страницы, чтобы собрать базу клиентов для email-рассылок     10       7           8        5\n8                                                       Запустить акцию, дающую скидку на товар в день рождения      1       9           9        5",
      "text/html": "<div>\n<style scoped>\n    .dataframe tbody tr th:only-of-type {\n        vertical-align: middle;\n    }\n\n    .dataframe tbody tr th {\n        vertical-align: top;\n    }\n\n    .dataframe thead th {\n        text-align: right;\n    }\n</style>\n<table border=\"1\" class=\"dataframe\">\n  <thead>\n    <tr style=\"text-align: right;\">\n      <th></th>\n      <th>Hypothesis</th>\n      <th>Reach</th>\n      <th>Impact</th>\n      <th>Confidence</th>\n      <th>Efforts</th>\n    </tr>\n  </thead>\n  <tbody>\n    <tr>\n      <th>0</th>\n      <td>Добавить два новых канала привлечения трафика, что позволит привлекать на 30% больше пользователей</td>\n      <td>3</td>\n      <td>10</td>\n      <td>8</td>\n      <td>6</td>\n    </tr>\n    <tr>\n      <th>1</th>\n      <td>Запустить собственную службу доставки, что сократит срок доставки заказов</td>\n      <td>2</td>\n      <td>5</td>\n      <td>4</td>\n      <td>10</td>\n    </tr>\n    <tr>\n      <th>2</th>\n      <td>Добавить блоки рекомендаций товаров на сайт интернет магазина, чтобы повысить конверсию и средний чек заказа</td>\n      <td>8</td>\n      <td>3</td>\n      <td>7</td>\n      <td>3</td>\n    </tr>\n    <tr>\n      <th>3</th>\n      <td>Изменить структура категорий, что увеличит конверсию, т.к. пользователи быстрее найдут нужный товар</td>\n      <td>8</td>\n      <td>3</td>\n      <td>3</td>\n      <td>8</td>\n    </tr>\n    <tr>\n      <th>4</th>\n      <td>Изменить цвет фона главной страницы, чтобы увеличить вовлеченность пользователей</td>\n      <td>3</td>\n      <td>1</td>\n      <td>1</td>\n      <td>1</td>\n    </tr>\n    <tr>\n      <th>5</th>\n      <td>Добавить страницу отзывов клиентов о магазине, что позволит увеличить количество заказов</td>\n      <td>3</td>\n      <td>2</td>\n      <td>2</td>\n      <td>3</td>\n    </tr>\n    <tr>\n      <th>6</th>\n      <td>Показать на главной странице баннеры с актуальными акциями и распродажами, чтобы увеличить конверсию</td>\n      <td>5</td>\n      <td>3</td>\n      <td>8</td>\n      <td>3</td>\n    </tr>\n    <tr>\n      <th>7</th>\n      <td>Добавить форму подписки на все основные страницы, чтобы собрать базу клиентов для email-рассылок</td>\n      <td>10</td>\n      <td>7</td>\n      <td>8</td>\n      <td>5</td>\n    </tr>\n    <tr>\n      <th>8</th>\n      <td>Запустить акцию, дающую скидку на товар в день рождения</td>\n      <td>1</td>\n      <td>9</td>\n      <td>9</td>\n      <td>5</td>\n    </tr>\n  </tbody>\n</table>\n</div>"
     },
     "metadata": {},
     "output_type": "display_data"
    }
   ],
   "source": [
    "pd.set_option('max_colwidth', 120)\n",
    "pd.set_option('display.width', 500)\n",
    "display(hypothesis)"
   ]
  },
  {
   "cell_type": "code",
   "execution_count": 12,
   "metadata": {
    "id": "sM74r6109kdv"
   },
   "outputs": [],
   "source": [
    "hypothesis.columns = hypothesis.columns.str.lower()"
   ]
  },
  {
   "cell_type": "markdown",
   "metadata": {
    "id": "rDKnBY4T9kdv"
   },
   "source": [
    "### Фреймворк - ICE"
   ]
  },
  {
   "cell_type": "code",
   "execution_count": 13,
   "metadata": {
    "id": "xKeneCiJ9kdw"
   },
   "outputs": [],
   "source": [
    "hypothesis['ice']  = hypothesis['impact'] * hypothesis['confidence'] / hypothesis['efforts']"
   ]
  },
  {
   "cell_type": "code",
   "execution_count": 14,
   "metadata": {
    "colab": {
     "base_uri": "https://localhost:8080/",
     "height": 328
    },
    "id": "iOnVDbC_9kdw",
    "outputId": "8462fc18-3115-4bc2-c626-d474c8da1b29"
   },
   "outputs": [
    {
     "data": {
      "text/plain": "                                                                                                     hypothesis   ice\n8                                                       Запустить акцию, дающую скидку на товар в день рождения 16.20\n0            Добавить два новых канала привлечения трафика, что позволит привлекать на 30% больше пользователей 13.33\n7              Добавить форму подписки на все основные страницы, чтобы собрать базу клиентов для email-рассылок 11.20\n6          Показать на главной странице баннеры с актуальными акциями и распродажами, чтобы увеличить конверсию  8.00\n2  Добавить блоки рекомендаций товаров на сайт интернет магазина, чтобы повысить конверсию и средний чек заказа  7.00\n1                                     Запустить собственную службу доставки, что сократит срок доставки заказов  2.00\n5                      Добавить страницу отзывов клиентов о магазине, что позволит увеличить количество заказов  1.33\n3           Изменить структура категорий, что увеличит конверсию, т.к. пользователи быстрее найдут нужный товар  1.12\n4                              Изменить цвет фона главной страницы, чтобы увеличить вовлеченность пользователей  1.00",
      "text/html": "<div>\n<style scoped>\n    .dataframe tbody tr th:only-of-type {\n        vertical-align: middle;\n    }\n\n    .dataframe tbody tr th {\n        vertical-align: top;\n    }\n\n    .dataframe thead th {\n        text-align: right;\n    }\n</style>\n<table border=\"1\" class=\"dataframe\">\n  <thead>\n    <tr style=\"text-align: right;\">\n      <th></th>\n      <th>hypothesis</th>\n      <th>ice</th>\n    </tr>\n  </thead>\n  <tbody>\n    <tr>\n      <th>8</th>\n      <td>Запустить акцию, дающую скидку на товар в день рождения</td>\n      <td>16.20</td>\n    </tr>\n    <tr>\n      <th>0</th>\n      <td>Добавить два новых канала привлечения трафика, что позволит привлекать на 30% больше пользователей</td>\n      <td>13.33</td>\n    </tr>\n    <tr>\n      <th>7</th>\n      <td>Добавить форму подписки на все основные страницы, чтобы собрать базу клиентов для email-рассылок</td>\n      <td>11.20</td>\n    </tr>\n    <tr>\n      <th>6</th>\n      <td>Показать на главной странице баннеры с актуальными акциями и распродажами, чтобы увеличить конверсию</td>\n      <td>8.00</td>\n    </tr>\n    <tr>\n      <th>2</th>\n      <td>Добавить блоки рекомендаций товаров на сайт интернет магазина, чтобы повысить конверсию и средний чек заказа</td>\n      <td>7.00</td>\n    </tr>\n    <tr>\n      <th>1</th>\n      <td>Запустить собственную службу доставки, что сократит срок доставки заказов</td>\n      <td>2.00</td>\n    </tr>\n    <tr>\n      <th>5</th>\n      <td>Добавить страницу отзывов клиентов о магазине, что позволит увеличить количество заказов</td>\n      <td>1.33</td>\n    </tr>\n    <tr>\n      <th>3</th>\n      <td>Изменить структура категорий, что увеличит конверсию, т.к. пользователи быстрее найдут нужный товар</td>\n      <td>1.12</td>\n    </tr>\n    <tr>\n      <th>4</th>\n      <td>Изменить цвет фона главной страницы, чтобы увеличить вовлеченность пользователей</td>\n      <td>1.00</td>\n    </tr>\n  </tbody>\n</table>\n</div>"
     },
     "execution_count": 14,
     "metadata": {},
     "output_type": "execute_result"
    }
   ],
   "source": [
    "pd.set_option('display.float_format', lambda x: '%.2f' % x)\n",
    "hypothesis[['hypothesis', 'ice']].sort_values(by='ice', ascending=False)"
   ]
  },
  {
   "cell_type": "markdown",
   "metadata": {
    "id": "gg8152799kdw"
   },
   "source": [
    "### Фреймворк - RICE"
   ]
  },
  {
   "cell_type": "code",
   "execution_count": 15,
   "metadata": {
    "id": "2Nh7soTI9kdw"
   },
   "outputs": [],
   "source": [
    "hypothesis['rice'] = hypothesis['reach'] * hypothesis['impact'] * hypothesis['confidence'] / hypothesis['efforts']"
   ]
  },
  {
   "cell_type": "code",
   "execution_count": 16,
   "metadata": {
    "colab": {
     "base_uri": "https://localhost:8080/",
     "height": 0
    },
    "id": "t2YphXc09kdw",
    "outputId": "9cde891b-730d-4e78-d5d8-261dfa56b1bb",
    "scrolled": true
   },
   "outputs": [
    {
     "data": {
      "text/plain": "                                                                                                     hypothesis   rice\n7              Добавить форму подписки на все основные страницы, чтобы собрать базу клиентов для email-рассылок 112.00\n2  Добавить блоки рекомендаций товаров на сайт интернет магазина, чтобы повысить конверсию и средний чек заказа  56.00\n0            Добавить два новых канала привлечения трафика, что позволит привлекать на 30% больше пользователей  40.00\n6          Показать на главной странице баннеры с актуальными акциями и распродажами, чтобы увеличить конверсию  40.00\n8                                                       Запустить акцию, дающую скидку на товар в день рождения  16.20\n3           Изменить структура категорий, что увеличит конверсию, т.к. пользователи быстрее найдут нужный товар   9.00\n1                                     Запустить собственную службу доставки, что сократит срок доставки заказов   4.00\n5                      Добавить страницу отзывов клиентов о магазине, что позволит увеличить количество заказов   4.00\n4                              Изменить цвет фона главной страницы, чтобы увеличить вовлеченность пользователей   3.00",
      "text/html": "<div>\n<style scoped>\n    .dataframe tbody tr th:only-of-type {\n        vertical-align: middle;\n    }\n\n    .dataframe tbody tr th {\n        vertical-align: top;\n    }\n\n    .dataframe thead th {\n        text-align: right;\n    }\n</style>\n<table border=\"1\" class=\"dataframe\">\n  <thead>\n    <tr style=\"text-align: right;\">\n      <th></th>\n      <th>hypothesis</th>\n      <th>rice</th>\n    </tr>\n  </thead>\n  <tbody>\n    <tr>\n      <th>7</th>\n      <td>Добавить форму подписки на все основные страницы, чтобы собрать базу клиентов для email-рассылок</td>\n      <td>112.00</td>\n    </tr>\n    <tr>\n      <th>2</th>\n      <td>Добавить блоки рекомендаций товаров на сайт интернет магазина, чтобы повысить конверсию и средний чек заказа</td>\n      <td>56.00</td>\n    </tr>\n    <tr>\n      <th>0</th>\n      <td>Добавить два новых канала привлечения трафика, что позволит привлекать на 30% больше пользователей</td>\n      <td>40.00</td>\n    </tr>\n    <tr>\n      <th>6</th>\n      <td>Показать на главной странице баннеры с актуальными акциями и распродажами, чтобы увеличить конверсию</td>\n      <td>40.00</td>\n    </tr>\n    <tr>\n      <th>8</th>\n      <td>Запустить акцию, дающую скидку на товар в день рождения</td>\n      <td>16.20</td>\n    </tr>\n    <tr>\n      <th>3</th>\n      <td>Изменить структура категорий, что увеличит конверсию, т.к. пользователи быстрее найдут нужный товар</td>\n      <td>9.00</td>\n    </tr>\n    <tr>\n      <th>1</th>\n      <td>Запустить собственную службу доставки, что сократит срок доставки заказов</td>\n      <td>4.00</td>\n    </tr>\n    <tr>\n      <th>5</th>\n      <td>Добавить страницу отзывов клиентов о магазине, что позволит увеличить количество заказов</td>\n      <td>4.00</td>\n    </tr>\n    <tr>\n      <th>4</th>\n      <td>Изменить цвет фона главной страницы, чтобы увеличить вовлеченность пользователей</td>\n      <td>3.00</td>\n    </tr>\n  </tbody>\n</table>\n</div>"
     },
     "execution_count": 16,
     "metadata": {},
     "output_type": "execute_result"
    }
   ],
   "source": [
    "pd.set_option('display.float_format', lambda x: '%.2f' % x)\n",
    "hypothesis[['hypothesis', 'rice']].sort_values(by='rice', ascending=False)"
   ]
  },
  {
   "cell_type": "markdown",
   "metadata": {
    "id": "29yJxEME9kdx"
   },
   "source": [
    "Положение гипотез сильно поменялось, потому что фреймворк RICE учитывает количество затронутых пользователей. Чем больше пользователей гипотеза охватит, тем выше в приоритете она будет.  Добавление формы подписки затронет больше половины всех пользователей."
   ]
  },
  {
   "cell_type": "markdown",
   "metadata": {
    "id": "nEyReyAi9kdx"
   },
   "source": [
    "# Часть 2. Анализ результатов A/B-теста."
   ]
  },
  {
   "cell_type": "markdown",
   "metadata": {
    "id": "VHI7zCBt9kdx"
   },
   "source": [
    "По результатам A/B-теста построим графики и сделаем выводы.\n",
    "- [Кумулятивные графики](#Кумулятивные-графики-4.2)\n",
    " - Кумулятивной выручки по группам.\n",
    " - Кумулятивного среднего чека по группам.\n",
    " - Относительного изменения кумулятивного среднего чека группы B к группе A.\n",
    " - Кумулятивной конверсии по группам.\n",
    " - Относительного изменения кумулятивной конверсии группы B к группе A.\n",
    "- [Точечные графики и выбросы](#Точечные-графики-и-выбросы-4.3)\n",
    " - Количества заказов по пользователям.\n",
    " - Посчитаем 95-й и 99-й перцентили количества заказов на пользователя.\n",
    " - Стоимостей заказов.\n",
    " - Посчитаем 95-й и 99-й перцентили стоимости заказов.\n",
    "- [Посчитаем статистическую значимость различий](#Посчитаем-статистическую-значимость-4.4)\n",
    " - В конверсии между группами по «сырым» данным.\n",
    " - В среднем чеке заказа между группами по «сырым» данным.\n",
    " - В конверсии между группами по «очищенным» данным. \n",
    " - В среднем чеке заказа между группами по «очищенным» данным.\n",
    "- [Решение по результатам теста](#Решение-по-результатам-теста-4.5)"
   ]
  },
  {
   "cell_type": "markdown",
   "metadata": {
    "id": "ug5j1Zjh9kdy"
   },
   "source": [
    "## Загрузка и предобработка данных"
   ]
  },
  {
   "cell_type": "code",
   "execution_count": 17,
   "metadata": {
    "id": "YtUQyuI_9kdy"
   },
   "outputs": [],
   "source": [
    "orders = pd.read_csv('/datasets/orders.csv')\n",
    "visitors = pd.read_csv('/datasets/visitors.csv')"
   ]
  },
  {
   "cell_type": "code",
   "execution_count": 18,
   "metadata": {
    "colab": {
     "base_uri": "https://localhost:8080/",
     "height": 1000
    },
    "id": "15oNHtYJ9kdy",
    "outputId": "2f33ba63-3c35-4be0-fdc5-4482493f4977",
    "scrolled": false
   },
   "outputs": [
    {
     "data": {
      "text/plain": "   transactionId   visitorId        date  revenue group\n0     3667963787  3312258926  2019-08-15     1650     B\n1     2804400009  3642806036  2019-08-15      730     B\n2     2961555356  4069496402  2019-08-15      400     A\n3     3797467345  1196621759  2019-08-15     9759     B\n4     2282983706  2322279887  2019-08-15     2308     B",
      "text/html": "<div>\n<style scoped>\n    .dataframe tbody tr th:only-of-type {\n        vertical-align: middle;\n    }\n\n    .dataframe tbody tr th {\n        vertical-align: top;\n    }\n\n    .dataframe thead th {\n        text-align: right;\n    }\n</style>\n<table border=\"1\" class=\"dataframe\">\n  <thead>\n    <tr style=\"text-align: right;\">\n      <th></th>\n      <th>transactionId</th>\n      <th>visitorId</th>\n      <th>date</th>\n      <th>revenue</th>\n      <th>group</th>\n    </tr>\n  </thead>\n  <tbody>\n    <tr>\n      <th>0</th>\n      <td>3667963787</td>\n      <td>3312258926</td>\n      <td>2019-08-15</td>\n      <td>1650</td>\n      <td>B</td>\n    </tr>\n    <tr>\n      <th>1</th>\n      <td>2804400009</td>\n      <td>3642806036</td>\n      <td>2019-08-15</td>\n      <td>730</td>\n      <td>B</td>\n    </tr>\n    <tr>\n      <th>2</th>\n      <td>2961555356</td>\n      <td>4069496402</td>\n      <td>2019-08-15</td>\n      <td>400</td>\n      <td>A</td>\n    </tr>\n    <tr>\n      <th>3</th>\n      <td>3797467345</td>\n      <td>1196621759</td>\n      <td>2019-08-15</td>\n      <td>9759</td>\n      <td>B</td>\n    </tr>\n    <tr>\n      <th>4</th>\n      <td>2282983706</td>\n      <td>2322279887</td>\n      <td>2019-08-15</td>\n      <td>2308</td>\n      <td>B</td>\n    </tr>\n  </tbody>\n</table>\n</div>"
     },
     "metadata": {},
     "output_type": "display_data"
    },
    {
     "name": "stdout",
     "output_type": "stream",
     "text": [
      "-----------------------------------------------\n",
      "<class 'pandas.core.frame.DataFrame'>\n",
      "RangeIndex: 1197 entries, 0 to 1196\n",
      "Data columns (total 5 columns):\n",
      " #   Column         Non-Null Count  Dtype \n",
      "---  ------         --------------  ----- \n",
      " 0   transactionId  1197 non-null   int64 \n",
      " 1   visitorId      1197 non-null   int64 \n",
      " 2   date           1197 non-null   object\n",
      " 3   revenue        1197 non-null   int64 \n",
      " 4   group          1197 non-null   object\n",
      "dtypes: int64(3), object(2)\n",
      "memory usage: 46.9+ KB\n"
     ]
    },
    {
     "data": {
      "text/plain": "None"
     },
     "metadata": {},
     "output_type": "display_data"
    },
    {
     "name": "stdout",
     "output_type": "stream",
     "text": [
      "-----------------------------------------------\n"
     ]
    },
    {
     "data": {
      "text/plain": "count      1197.00\nmean       8348.01\nstd       39191.13\nmin          50.00\n25%        1220.00\n50%        2978.00\n75%        8290.00\nmax     1294500.00\nName: revenue, dtype: float64"
     },
     "metadata": {},
     "output_type": "display_data"
    },
    {
     "name": "stdout",
     "output_type": "stream",
     "text": [
      "-----------------------------------------------\n"
     ]
    },
    {
     "data": {
      "text/plain": "         date group  visitors\n0  2019-08-01     A       719\n1  2019-08-02     A       619\n2  2019-08-03     A       507\n3  2019-08-04     A       717\n4  2019-08-05     A       756",
      "text/html": "<div>\n<style scoped>\n    .dataframe tbody tr th:only-of-type {\n        vertical-align: middle;\n    }\n\n    .dataframe tbody tr th {\n        vertical-align: top;\n    }\n\n    .dataframe thead th {\n        text-align: right;\n    }\n</style>\n<table border=\"1\" class=\"dataframe\">\n  <thead>\n    <tr style=\"text-align: right;\">\n      <th></th>\n      <th>date</th>\n      <th>group</th>\n      <th>visitors</th>\n    </tr>\n  </thead>\n  <tbody>\n    <tr>\n      <th>0</th>\n      <td>2019-08-01</td>\n      <td>A</td>\n      <td>719</td>\n    </tr>\n    <tr>\n      <th>1</th>\n      <td>2019-08-02</td>\n      <td>A</td>\n      <td>619</td>\n    </tr>\n    <tr>\n      <th>2</th>\n      <td>2019-08-03</td>\n      <td>A</td>\n      <td>507</td>\n    </tr>\n    <tr>\n      <th>3</th>\n      <td>2019-08-04</td>\n      <td>A</td>\n      <td>717</td>\n    </tr>\n    <tr>\n      <th>4</th>\n      <td>2019-08-05</td>\n      <td>A</td>\n      <td>756</td>\n    </tr>\n  </tbody>\n</table>\n</div>"
     },
     "metadata": {},
     "output_type": "display_data"
    },
    {
     "name": "stdout",
     "output_type": "stream",
     "text": [
      "-----------------------------------------------\n",
      "<class 'pandas.core.frame.DataFrame'>\n",
      "RangeIndex: 62 entries, 0 to 61\n",
      "Data columns (total 3 columns):\n",
      " #   Column    Non-Null Count  Dtype \n",
      "---  ------    --------------  ----- \n",
      " 0   date      62 non-null     object\n",
      " 1   group     62 non-null     object\n",
      " 2   visitors  62 non-null     int64 \n",
      "dtypes: int64(1), object(2)\n",
      "memory usage: 1.6+ KB\n"
     ]
    },
    {
     "data": {
      "text/plain": "None"
     },
     "metadata": {},
     "output_type": "display_data"
    },
    {
     "name": "stdout",
     "output_type": "stream",
     "text": [
      "-----------------------------------------------\n"
     ]
    },
    {
     "data": {
      "text/plain": "       visitors\ncount     62.00\nmean     607.29\nstd      114.40\nmin      361.00\n25%      534.00\n50%      624.50\n75%      710.50\nmax      770.00",
      "text/html": "<div>\n<style scoped>\n    .dataframe tbody tr th:only-of-type {\n        vertical-align: middle;\n    }\n\n    .dataframe tbody tr th {\n        vertical-align: top;\n    }\n\n    .dataframe thead th {\n        text-align: right;\n    }\n</style>\n<table border=\"1\" class=\"dataframe\">\n  <thead>\n    <tr style=\"text-align: right;\">\n      <th></th>\n      <th>visitors</th>\n    </tr>\n  </thead>\n  <tbody>\n    <tr>\n      <th>count</th>\n      <td>62.00</td>\n    </tr>\n    <tr>\n      <th>mean</th>\n      <td>607.29</td>\n    </tr>\n    <tr>\n      <th>std</th>\n      <td>114.40</td>\n    </tr>\n    <tr>\n      <th>min</th>\n      <td>361.00</td>\n    </tr>\n    <tr>\n      <th>25%</th>\n      <td>534.00</td>\n    </tr>\n    <tr>\n      <th>50%</th>\n      <td>624.50</td>\n    </tr>\n    <tr>\n      <th>75%</th>\n      <td>710.50</td>\n    </tr>\n    <tr>\n      <th>max</th>\n      <td>770.00</td>\n    </tr>\n  </tbody>\n</table>\n</div>"
     },
     "metadata": {},
     "output_type": "display_data"
    }
   ],
   "source": [
    "display(orders.head())\n",
    "print('-----------------------------------------------')\n",
    "display(orders.info())\n",
    "print('-----------------------------------------------')\n",
    "display(orders['revenue'].describe())\n",
    "print('-----------------------------------------------')\n",
    "display(visitors.head())\n",
    "print('-----------------------------------------------')\n",
    "display(visitors.info())\n",
    "print('-----------------------------------------------')\n",
    "display(visitors.describe())"
   ]
  },
  {
   "cell_type": "code",
   "execution_count": 19,
   "metadata": {
    "id": "2efvmvVe9kdz"
   },
   "outputs": [],
   "source": [
    "visitors['date'] = pd.to_datetime(visitors['date'], format='%Y-%m-%d')\n",
    "orders['date'] = pd.to_datetime(orders['date'], format='%Y-%m-%d')\n",
    "\n",
    "orders = orders.rename(columns={'transactionId':'transaction_id', 'visitorId':'visitor_id'})"
   ]
  },
  {
   "cell_type": "markdown",
   "metadata": {
    "id": "umj_1PW79kdz"
   },
   "source": [
    "Данные хорошие, почти без проблем. Привели столбцы date к формату даты. Переименовали столбцы. Обнаружили выбросы в выручке, обработаем их в конце исследования."
   ]
  },
  {
   "cell_type": "code",
   "execution_count": 20,
   "metadata": {
    "colab": {
     "base_uri": "https://localhost:8080/",
     "height": 221
    },
    "id": "L0nADiOZ9kdz",
    "outputId": "5918e24a-7596-400d-a8d9-29f48b4d1872"
   },
   "outputs": [
    {
     "data": {
      "text/plain": "group  visitor_id    A    B\n0         8300375 1.00 1.00\n1       199603092 4.00 1.00\n2       232979603 1.00 1.00\n3       237748145 4.00 1.00\n4       276558944 1.00 1.00",
      "text/html": "<div>\n<style scoped>\n    .dataframe tbody tr th:only-of-type {\n        vertical-align: middle;\n    }\n\n    .dataframe tbody tr th {\n        vertical-align: top;\n    }\n\n    .dataframe thead th {\n        text-align: right;\n    }\n</style>\n<table border=\"1\" class=\"dataframe\">\n  <thead>\n    <tr style=\"text-align: right;\">\n      <th>group</th>\n      <th>visitor_id</th>\n      <th>A</th>\n      <th>B</th>\n    </tr>\n  </thead>\n  <tbody>\n    <tr>\n      <th>0</th>\n      <td>8300375</td>\n      <td>1.00</td>\n      <td>1.00</td>\n    </tr>\n    <tr>\n      <th>1</th>\n      <td>199603092</td>\n      <td>4.00</td>\n      <td>1.00</td>\n    </tr>\n    <tr>\n      <th>2</th>\n      <td>232979603</td>\n      <td>1.00</td>\n      <td>1.00</td>\n    </tr>\n    <tr>\n      <th>3</th>\n      <td>237748145</td>\n      <td>4.00</td>\n      <td>1.00</td>\n    </tr>\n    <tr>\n      <th>4</th>\n      <td>276558944</td>\n      <td>1.00</td>\n      <td>1.00</td>\n    </tr>\n  </tbody>\n</table>\n</div>"
     },
     "metadata": {},
     "output_type": "display_data"
    },
    {
     "name": "stdout",
     "output_type": "stream",
     "text": [
      "Количество пользователей попавших в обе группы:  58\n"
     ]
    }
   ],
   "source": [
    "# Проверка на попадание покупок пользователей в обе группы\n",
    "orders_in_two_groups = (pd.pivot_table(orders, \n",
    "                                      values='transaction_id', \n",
    "                                      index=['visitor_id'],\n",
    "                                      columns=['group'], \n",
    "                                      aggfunc='count')\n",
    "                          .dropna()\n",
    "                          .reset_index()\n",
    "                       )\n",
    "\n",
    "#orders_in_two_groups.columns = ['visitor_id', 'a', 'b']\n",
    "\n",
    "display(orders_in_two_groups.head())\n",
    "print('Количество пользователей попавших в обе группы: ', len(orders_in_two_groups))"
   ]
  },
  {
   "cell_type": "code",
   "execution_count": 21,
   "metadata": {
    "id": "GaVLC9wp9kdz"
   },
   "outputs": [],
   "source": [
    "# Уберем всех пользователей попавших в обе группы\n",
    "orders = orders[~orders['visitor_id'].isin(orders_in_two_groups['visitor_id'])]"
   ]
  },
  {
   "cell_type": "markdown",
   "metadata": {
    "id": "iFC5hSX69kdz"
   },
   "source": [
    "Нашли 58 пользователей, чьи покупки попали в обе группы. Чтобы не допустить искажения результатов, удалим покупки данных пользователей из исследования."
   ]
  },
  {
   "cell_type": "markdown",
   "metadata": {
    "id": "gpBNEfJX9kd0"
   },
   "source": [
    "## Кумулятивные графики"
   ]
  },
  {
   "cell_type": "code",
   "execution_count": 22,
   "metadata": {
    "id": "IboBwPuU9kd0"
   },
   "outputs": [],
   "source": [
    "# Cоздадим таблицу уникальных пар значений дат и групп теста \n",
    "dates_groups = orders[['date', 'group']].drop_duplicates()"
   ]
  },
  {
   "cell_type": "code",
   "execution_count": 23,
   "metadata": {
    "id": "LAGGrEj_9kd0",
    "scrolled": false
   },
   "outputs": [],
   "source": [
    "# Соберём агрегированные кумулятивные по дням данные о заказах\n",
    "orders_agg = dates_groups.apply(\n",
    "    lambda x: orders[(orders['date'] <= x['date'])&(orders['group'] == x['group'])]\n",
    "    .agg({'date': 'max',\n",
    "        'group': 'max',\n",
    "        'transaction_id': pd.Series.nunique,\n",
    "        'visitor_id': pd.Series.nunique,\n",
    "        'revenue': 'sum'}),\n",
    "    axis=1,\n",
    ").sort_values(by=['date', 'group'])"
   ]
  },
  {
   "cell_type": "code",
   "execution_count": 24,
   "metadata": {
    "id": "XZYYQTeT9kd0"
   },
   "outputs": [],
   "source": [
    "# Соберём агрегированные кумулятивные по дням данные о посетителях\n",
    "visitors_agg = dates_groups.apply(\n",
    "    lambda x: visitors[(visitors['date'] <= x['date'])&(visitors['group'] == x['group'])]\n",
    "    .agg({'date': 'max', \n",
    "        'group': 'max', \n",
    "        'visitors': 'sum'}),\n",
    "    axis=1,\n",
    ").sort_values(by=['date', 'group'])"
   ]
  },
  {
   "cell_type": "code",
   "execution_count": 25,
   "metadata": {
    "id": "bMcjKhoO9kd0"
   },
   "outputs": [],
   "source": [
    "# Объединяем кумулятивные данные в одну таблицу\n",
    "cum_data = orders_agg.merge(visitors_agg, how='left', on=['date', 'group'])\n",
    "\n",
    "# Переименуем столбцы\n",
    "cum_data.columns = ['date', 'group', 'orders', 'buyers', 'revenue', 'visitors']"
   ]
  },
  {
   "cell_type": "code",
   "execution_count": 26,
   "metadata": {
    "colab": {
     "base_uri": "https://localhost:8080/",
     "height": 0
    },
    "id": "QuN6ZDN59kd1",
    "outputId": "b23c6ca4-5eb8-40dc-db4f-94e416e5f55b"
   },
   "outputs": [
    {
     "data": {
      "text/plain": "        date group  orders  buyers  revenue  visitors\n0 2019-08-01     A      23      19   142779       719\n1 2019-08-01     B      17      17    59758       713\n2 2019-08-02     A      42      36   234381      1338\n3 2019-08-02     B      40      39   221801      1294\n4 2019-08-03     A      66      60   346854      1845",
      "text/html": "<div>\n<style scoped>\n    .dataframe tbody tr th:only-of-type {\n        vertical-align: middle;\n    }\n\n    .dataframe tbody tr th {\n        vertical-align: top;\n    }\n\n    .dataframe thead th {\n        text-align: right;\n    }\n</style>\n<table border=\"1\" class=\"dataframe\">\n  <thead>\n    <tr style=\"text-align: right;\">\n      <th></th>\n      <th>date</th>\n      <th>group</th>\n      <th>orders</th>\n      <th>buyers</th>\n      <th>revenue</th>\n      <th>visitors</th>\n    </tr>\n  </thead>\n  <tbody>\n    <tr>\n      <th>0</th>\n      <td>2019-08-01</td>\n      <td>A</td>\n      <td>23</td>\n      <td>19</td>\n      <td>142779</td>\n      <td>719</td>\n    </tr>\n    <tr>\n      <th>1</th>\n      <td>2019-08-01</td>\n      <td>B</td>\n      <td>17</td>\n      <td>17</td>\n      <td>59758</td>\n      <td>713</td>\n    </tr>\n    <tr>\n      <th>2</th>\n      <td>2019-08-02</td>\n      <td>A</td>\n      <td>42</td>\n      <td>36</td>\n      <td>234381</td>\n      <td>1338</td>\n    </tr>\n    <tr>\n      <th>3</th>\n      <td>2019-08-02</td>\n      <td>B</td>\n      <td>40</td>\n      <td>39</td>\n      <td>221801</td>\n      <td>1294</td>\n    </tr>\n    <tr>\n      <th>4</th>\n      <td>2019-08-03</td>\n      <td>A</td>\n      <td>66</td>\n      <td>60</td>\n      <td>346854</td>\n      <td>1845</td>\n    </tr>\n  </tbody>\n</table>\n</div>"
     },
     "execution_count": 26,
     "metadata": {},
     "output_type": "execute_result"
    }
   ],
   "source": [
    "cum_data.head()"
   ]
  },
  {
   "cell_type": "code",
   "execution_count": 27,
   "metadata": {
    "id": "WG_2tM_k9kd1"
   },
   "outputs": [],
   "source": [
    "cum_revenue_a = cum_data[cum_data['group']=='A'][['date','revenue', 'orders', 'visitors']]\n",
    "cum_revenue_b = cum_data[cum_data['group']=='B'][['date','revenue', 'orders', 'visitors']]\n",
    "\n",
    "cum_revenue_a['conversion'] = cum_revenue_a['orders'] / cum_revenue_a['visitors']\n",
    "cum_revenue_b['conversion'] = cum_revenue_b['orders'] / cum_revenue_b['visitors']"
   ]
  },
  {
   "cell_type": "code",
   "execution_count": 28,
   "metadata": {
    "id": "CySXStLd9kd1"
   },
   "outputs": [],
   "source": [
    "cum_revenue_all = cum_revenue_a.merge(cum_revenue_b, on='date', how='left', suffixes=['_a', '_b'])"
   ]
  },
  {
   "cell_type": "code",
   "execution_count": 29,
   "metadata": {
    "colab": {
     "base_uri": "https://localhost:8080/",
     "height": 0
    },
    "id": "JKJ3yZfa9kd1",
    "outputId": "cf1668c7-fcb5-411f-be31-c53af97c1729"
   },
   "outputs": [
    {
     "data": {
      "text/plain": "        date  revenue_a  orders_a  visitors_a  conversion_a  revenue_b  orders_b  visitors_b  conversion_b\n0 2019-08-01     142779        23         719          0.03      59758        17         713          0.02\n1 2019-08-02     234381        42        1338          0.03     221801        40        1294          0.03\n2 2019-08-03     346854        66        1845          0.04     288850        54        1803          0.03\n3 2019-08-04     388030        77        2562          0.03     385740        68        2573          0.03\n4 2019-08-05     474413        99        3318          0.03     475648        89        3280          0.03",
      "text/html": "<div>\n<style scoped>\n    .dataframe tbody tr th:only-of-type {\n        vertical-align: middle;\n    }\n\n    .dataframe tbody tr th {\n        vertical-align: top;\n    }\n\n    .dataframe thead th {\n        text-align: right;\n    }\n</style>\n<table border=\"1\" class=\"dataframe\">\n  <thead>\n    <tr style=\"text-align: right;\">\n      <th></th>\n      <th>date</th>\n      <th>revenue_a</th>\n      <th>orders_a</th>\n      <th>visitors_a</th>\n      <th>conversion_a</th>\n      <th>revenue_b</th>\n      <th>orders_b</th>\n      <th>visitors_b</th>\n      <th>conversion_b</th>\n    </tr>\n  </thead>\n  <tbody>\n    <tr>\n      <th>0</th>\n      <td>2019-08-01</td>\n      <td>142779</td>\n      <td>23</td>\n      <td>719</td>\n      <td>0.03</td>\n      <td>59758</td>\n      <td>17</td>\n      <td>713</td>\n      <td>0.02</td>\n    </tr>\n    <tr>\n      <th>1</th>\n      <td>2019-08-02</td>\n      <td>234381</td>\n      <td>42</td>\n      <td>1338</td>\n      <td>0.03</td>\n      <td>221801</td>\n      <td>40</td>\n      <td>1294</td>\n      <td>0.03</td>\n    </tr>\n    <tr>\n      <th>2</th>\n      <td>2019-08-03</td>\n      <td>346854</td>\n      <td>66</td>\n      <td>1845</td>\n      <td>0.04</td>\n      <td>288850</td>\n      <td>54</td>\n      <td>1803</td>\n      <td>0.03</td>\n    </tr>\n    <tr>\n      <th>3</th>\n      <td>2019-08-04</td>\n      <td>388030</td>\n      <td>77</td>\n      <td>2562</td>\n      <td>0.03</td>\n      <td>385740</td>\n      <td>68</td>\n      <td>2573</td>\n      <td>0.03</td>\n    </tr>\n    <tr>\n      <th>4</th>\n      <td>2019-08-05</td>\n      <td>474413</td>\n      <td>99</td>\n      <td>3318</td>\n      <td>0.03</td>\n      <td>475648</td>\n      <td>89</td>\n      <td>3280</td>\n      <td>0.03</td>\n    </tr>\n  </tbody>\n</table>\n</div>"
     },
     "execution_count": 29,
     "metadata": {},
     "output_type": "execute_result"
    }
   ],
   "source": [
    "cum_revenue_all.head()"
   ]
  },
  {
   "cell_type": "markdown",
   "metadata": {
    "id": "wRRSw--I9kd2"
   },
   "source": [
    "### Кумулятивная выручка по группам"
   ]
  },
  {
   "cell_type": "code",
   "execution_count": 30,
   "metadata": {
    "id": "eTqlWtSY9kd2"
   },
   "outputs": [],
   "source": [
    "### Выставляем стиль визуализаций seaborn.\n",
    "sns.set(style='whitegrid')"
   ]
  },
  {
   "cell_type": "code",
   "execution_count": 31,
   "metadata": {
    "colab": {
     "base_uri": "https://localhost:8080/",
     "height": 0
    },
    "id": "NBrtAnYF9kd2",
    "outputId": "c347fa14-b586-4e9a-99c3-06af7f8eb0bf"
   },
   "outputs": [
    {
     "name": "stderr",
     "output_type": "stream",
     "text": [
      "c:\\users\\andrey\\appdata\\local\\programs\\python\\python38\\lib\\site-packages\\seaborn\\_decorators.py:36: FutureWarning: Pass the following variables as keyword args: x, y. From version 0.12, the only valid positional argument will be `data`, and passing other arguments without an explicit keyword will result in an error or misinterpretation.\n",
      "  warnings.warn(\n",
      "c:\\users\\andrey\\appdata\\local\\programs\\python\\python38\\lib\\site-packages\\seaborn\\_decorators.py:36: FutureWarning: Pass the following variables as keyword args: x, y. From version 0.12, the only valid positional argument will be `data`, and passing other arguments without an explicit keyword will result in an error or misinterpretation.\n",
      "  warnings.warn(\n"
     ]
    },
    {
     "data": {
      "text/plain": "<Figure size 1152x648 with 1 Axes>",
      "image/png": "[encoded data removed]"
     },
     "metadata": {},
     "output_type": "display_data"
    }
   ],
   "source": [
    "plt.figure(figsize =(16, 9))\n",
    "\n",
    "sns.lineplot(cum_revenue_all['date'], cum_revenue_all['revenue_a'], label='A')\n",
    "\n",
    "sns.lineplot(cum_revenue_all['date'], cum_revenue_all['revenue_b'], label='B')\n",
    "\n",
    "plt.xlabel('Дата')\n",
    "plt.ylabel('Кумулятивная выручка, руб')\n",
    "plt.title('Кумулятивная выручка по дням по группам')\n",
    "\n",
    "plt.legend()\n",
    "plt.show()"
   ]
  },
  {
   "cell_type": "markdown",
   "metadata": {
    "id": "ZU2BPFe99kd2"
   },
   "source": [
    "Примерно в середине теста наблюдается резкий скачёк выручки в группе B. Это может свидетельствовать о выбросах, обнаруженных в предобработке. Они могут исказить результаты теста. Без их влияния, возможно, выручка в обеих группах будет примерно равна. "
   ]
  },
  {
   "cell_type": "markdown",
   "metadata": {
    "id": "MASKg78M9kd2"
   },
   "source": [
    "### Кумулятивный средний чек по группам"
   ]
  },
  {
   "cell_type": "code",
   "execution_count": 32,
   "metadata": {
    "colab": {
     "base_uri": "https://localhost:8080/",
     "height": 0
    },
    "id": "mEWvNbeN9kd2",
    "outputId": "31333ad9-4ce0-423d-afdc-bc2c0b04b59b"
   },
   "outputs": [
    {
     "name": "stderr",
     "output_type": "stream",
     "text": [
      "c:\\users\\andrey\\appdata\\local\\programs\\python\\python38\\lib\\site-packages\\seaborn\\_decorators.py:36: FutureWarning: Pass the following variables as keyword args: x, y. From version 0.12, the only valid positional argument will be `data`, and passing other arguments without an explicit keyword will result in an error or misinterpretation.\n",
      "  warnings.warn(\n",
      "c:\\users\\andrey\\appdata\\local\\programs\\python\\python38\\lib\\site-packages\\seaborn\\_decorators.py:36: FutureWarning: Pass the following variables as keyword args: x, y. From version 0.12, the only valid positional argument will be `data`, and passing other arguments without an explicit keyword will result in an error or misinterpretation.\n",
      "  warnings.warn(\n"
     ]
    },
    {
     "data": {
      "text/plain": "<Figure size 1152x648 with 1 Axes>",
      "image/png": "[encoded data removed]"
     },
     "metadata": {},
     "output_type": "display_data"
    }
   ],
   "source": [
    "plt.figure(figsize =(16, 9))\n",
    "\n",
    "sns.lineplot(cum_revenue_all['date'], \n",
    "         cum_revenue_all['revenue_a']/cum_revenue_all['orders_a'], \n",
    "         label='A')\n",
    "\n",
    "sns.lineplot(cum_revenue_all['date'], \n",
    "         cum_revenue_all['revenue_b']/cum_revenue_all['orders_b'], \n",
    "         label='B')\n",
    "\n",
    "plt.xlabel('Дата')\n",
    "plt.ylabel('Кумулятивный средний чек, руб')\n",
    "plt.title('Кумулятивный средний чек по дням по группам')\n",
    "\n",
    "plt.legend() \n",
    "plt.show()"
   ]
  },
  {
   "cell_type": "markdown",
   "metadata": {
    "id": "vZvJ7iFu9kd3"
   },
   "source": [
    "Здесь мы так же наблюдаем резкий скачёк среднего чека в группе B. Исключив выбросы, данные выровняются."
   ]
  },
  {
   "cell_type": "markdown",
   "metadata": {
    "id": "BdTZ3XWI9kd3"
   },
   "source": [
    "###  Относительное изменение кумулятивного среднего чека группы B к группе A"
   ]
  },
  {
   "cell_type": "code",
   "execution_count": 33,
   "metadata": {
    "colab": {
     "base_uri": "https://localhost:8080/",
     "height": 0
    },
    "id": "bCSSz6Rb9kd3",
    "outputId": "619a6380-ba13-4e83-93e6-47d8ad15df02",
    "scrolled": false
   },
   "outputs": [
    {
     "data": {
      "text/plain": "<Figure size 1152x648 with 1 Axes>",
      "image/png": "[encoded data removed]"
     },
     "metadata": {},
     "output_type": "display_data"
    }
   ],
   "source": [
    "plt.figure(figsize =(16, 9))\n",
    "\n",
    "sns.lineplot(data = cum_revenue_all,\n",
    "             x = 'date', \n",
    "         y=(cum_revenue_all['revenue_b']/cum_revenue_all['orders_b'])\\\n",
    "            /(cum_revenue_all['revenue_a']/cum_revenue_all['orders_a'])-1)\n",
    "\n",
    "plt.axhline(y=0, color='grey', linestyle='--') \n",
    "\n",
    "plt.xlabel('Дата')\n",
    "plt.ylabel('Относительное изменение')\n",
    "plt.title('Относительное изменение кумулятивного среднего чека группы B к группе A')\n",
    " \n",
    "plt.show()"
   ]
  },
  {
   "cell_type": "markdown",
   "metadata": {
    "id": "mX9V1PD19kd3"
   },
   "source": [
    "В начале теста в группе A был провал по среднему чеку, но с середины, он выровнялся. Резкий скачёк в относительном изменении среднего чека является следствием выбросов. \n"
   ]
  },
  {
   "cell_type": "markdown",
   "metadata": {
    "id": "oHMmmZyi9kd4"
   },
   "source": [
    "### Кумулятивная конверсия по группам"
   ]
  },
  {
   "cell_type": "code",
   "execution_count": 34,
   "metadata": {
    "colab": {
     "base_uri": "https://localhost:8080/",
     "height": 0
    },
    "id": "435YzmHW9kd4",
    "outputId": "18132b7a-4e56-4162-b55a-b6205013ec7e",
    "scrolled": false
   },
   "outputs": [
    {
     "name": "stderr",
     "output_type": "stream",
     "text": [
      "c:\\users\\andrey\\appdata\\local\\programs\\python\\python38\\lib\\site-packages\\seaborn\\_decorators.py:36: FutureWarning: Pass the following variables as keyword args: x, y. From version 0.12, the only valid positional argument will be `data`, and passing other arguments without an explicit keyword will result in an error or misinterpretation.\n",
      "  warnings.warn(\n",
      "c:\\users\\andrey\\appdata\\local\\programs\\python\\python38\\lib\\site-packages\\seaborn\\_decorators.py:36: FutureWarning: Pass the following variables as keyword args: x, y. From version 0.12, the only valid positional argument will be `data`, and passing other arguments without an explicit keyword will result in an error or misinterpretation.\n",
      "  warnings.warn(\n"
     ]
    },
    {
     "data": {
      "text/plain": "<Figure size 1152x648 with 1 Axes>",
      "image/png": "[encoded data removed]"
     },
     "metadata": {},
     "output_type": "display_data"
    }
   ],
   "source": [
    "plt.figure(figsize =(16, 9))\n",
    "\n",
    "sns.lineplot(cum_revenue_all['date'], cum_revenue_all['conversion_a'], label='A')\n",
    "\n",
    "sns.lineplot(cum_revenue_all['date'], cum_revenue_all['conversion_b'], label='B')\n",
    "\n",
    "plt.xlabel('Дата')\n",
    "plt.ylabel('Кумулятивная конверсия')\n",
    "plt.title('Кумулятивная конверсия по дням по группам')\n",
    "\n",
    "plt.legend()\n",
    "plt.show()"
   ]
  },
  {
   "cell_type": "markdown",
   "metadata": {
    "id": "n3URSfQ59kd4"
   },
   "source": [
    "Кумулятивная конверсия с середины теста показывает устоявшуюся картину. Группа B чувствует себя лучше.\n"
   ]
  },
  {
   "cell_type": "markdown",
   "metadata": {
    "id": "U5tipZdz9kd4"
   },
   "source": [
    "### Относительное изменение кумулятивной конверсии группы B к группе A"
   ]
  },
  {
   "cell_type": "code",
   "execution_count": 35,
   "metadata": {
    "colab": {
     "base_uri": "https://localhost:8080/",
     "height": 0
    },
    "id": "RRIUquEe9kd4",
    "outputId": "9c49acdf-36ac-4f76-8d60-79c221c236d5"
   },
   "outputs": [
    {
     "name": "stderr",
     "output_type": "stream",
     "text": [
      "c:\\users\\andrey\\appdata\\local\\programs\\python\\python38\\lib\\site-packages\\seaborn\\_decorators.py:36: FutureWarning: Pass the following variables as keyword args: x, y. From version 0.12, the only valid positional argument will be `data`, and passing other arguments without an explicit keyword will result in an error or misinterpretation.\n",
      "  warnings.warn(\n"
     ]
    },
    {
     "data": {
      "text/plain": "<Figure size 1152x648 with 1 Axes>",
      "image/png": "[encoded data removed]"
     },
     "metadata": {},
     "output_type": "display_data"
    }
   ],
   "source": [
    "plt.figure(figsize =(16, 9))\n",
    "\n",
    "sns.lineplot(cum_revenue_all['date'], \n",
    "             cum_revenue_all['conversion_b']/cum_revenue_all['conversion_a']-1)\n",
    "\n",
    "plt.xlabel('Дата')\n",
    "plt.ylabel('Кумулятивная конверсия')\n",
    "plt.title('Отношение изменения конверсии группы B к группе A')\n",
    "\n",
    "plt.axhline(y=0, color='grey', linestyle='--', label='Без изменений')\n",
    "plt.axhline(y=0.1, color='red', linestyle='--', label='Рост +10%')\n",
    "plt.axis(['2019-08-01', '2019-09-01', -0.5, 0.5]) \n",
    "plt.legend()\n",
    "plt.show()"
   ]
  },
  {
   "cell_type": "markdown",
   "metadata": {
    "id": "EEY5Zyyj9kd5"
   },
   "source": [
    "Группа B показывает хорошее отношение изменения конверсии к группе A, более чем в +10%. "
   ]
  },
  {
   "cell_type": "markdown",
   "metadata": {
    "id": "9IfdlNcD9kd5"
   },
   "source": [
    "## Точечные графики и выбросы"
   ]
  },
  {
   "cell_type": "markdown",
   "metadata": {
    "id": "sS_OzTLy9kd5"
   },
   "source": [
    "### Точечный график количества покупок по пользователям"
   ]
  },
  {
   "cell_type": "code",
   "execution_count": 36,
   "metadata": {
    "colab": {
     "base_uri": "https://localhost:8080/",
     "height": 0
    },
    "id": "b4-2Z0oQ9kd5",
    "outputId": "4b7a0c6c-9b3a-4719-9a5f-0afa6dbded35"
   },
   "outputs": [
    {
     "name": "stderr",
     "output_type": "stream",
     "text": [
      "c:\\users\\andrey\\appdata\\local\\programs\\python\\python38\\lib\\site-packages\\seaborn\\_decorators.py:36: FutureWarning: Pass the following variables as keyword args: x, y. From version 0.12, the only valid positional argument will be `data`, and passing other arguments without an explicit keyword will result in an error or misinterpretation.\n",
      "  warnings.warn(\n"
     ]
    },
    {
     "data": {
      "text/plain": "<Figure size 1152x648 with 1 Axes>",
      "image/png": "[encoded data removed]"
     },
     "metadata": {},
     "output_type": "display_data"
    },
    {
     "name": "stdout",
     "output_type": "stream",
     "text": [
      "95 перцентиль количества покупок - 1.0\n",
      "99 перцентиль количества покупок - 2.0\n"
     ]
    }
   ],
   "source": [
    "# Проверим количество покупок на пользователя на выбросы\n",
    "users_orders = (orders.groupby('visitor_id', as_index=False)\n",
    "                 .agg(orders=('transaction_id', pd.Series.nunique))\n",
    "                 .sort_values(by='orders', ascending=False)\n",
    "                )\n",
    "\n",
    "plt.figure(figsize =(16, 9))\n",
    "\n",
    "sns.scatterplot(users_orders.index, users_orders['orders'], alpha=0.7) \n",
    "\n",
    "plt.xlabel('Пользователи')\n",
    "plt.ylabel('Количество покупок')\n",
    "plt.title('Количество покупок на пользователя')\n",
    "\n",
    "plt.show()\n",
    "\n",
    "print('95 перцентиль количества покупок - {}'.format(users_orders['orders'].quantile(.95)))\n",
    "print('99 перцентиль количества покупок - {}'.format(users_orders['orders'].quantile(.99)))"
   ]
  },
  {
   "cell_type": "markdown",
   "metadata": {
    "id": "e24cB36t9kd5"
   },
   "source": [
    "Почти все пользователи предпочитают делать не более 1 покупки. 2 и более покупок совершают только 1% покупателей."
   ]
  },
  {
   "cell_type": "markdown",
   "metadata": {
    "id": "HZvUu1239kd6"
   },
   "source": [
    "### Точечный график стоимости заказов"
   ]
  },
  {
   "cell_type": "code",
   "execution_count": 37,
   "metadata": {
    "colab": {
     "base_uri": "https://localhost:8080/",
     "height": 0
    },
    "id": "rUlppEZc9kd6",
    "outputId": "cadef55f-66e9-42b0-d9fb-cd37a4c3ddcd"
   },
   "outputs": [
    {
     "name": "stderr",
     "output_type": "stream",
     "text": [
      "c:\\users\\andrey\\appdata\\local\\programs\\python\\python38\\lib\\site-packages\\seaborn\\_decorators.py:36: FutureWarning: Pass the following variables as keyword args: x, y. From version 0.12, the only valid positional argument will be `data`, and passing other arguments without an explicit keyword will result in an error or misinterpretation.\n",
      "  warnings.warn(\n"
     ]
    },
    {
     "data": {
      "text/plain": "<Figure size 1152x648 with 1 Axes>",
      "image/png": "[encoded data removed]"
     },
     "metadata": {},
     "output_type": "display_data"
    },
    {
     "name": "stdout",
     "output_type": "stream",
     "text": [
      "95 перцентиль стоимости покупок - 26785.0\n",
      "99 перцентиль стоимости покупок - 53904.0\n"
     ]
    }
   ],
   "source": [
    "# Проверим revenue на выбросы\n",
    "plt.figure(figsize =(16, 9))\n",
    "\n",
    "sns.scatterplot(orders.index, orders['revenue'], alpha=0.7) \n",
    "\n",
    "plt.xlabel('Пользователи')\n",
    "plt.ylabel('Сумма покупки, руб.')\n",
    "plt.title('Сумма покупки на пользователя')\n",
    "\n",
    "plt.show()\n",
    "\n",
    "print('95 перцентиль стоимости покупок - {}'.format(orders['revenue'].quantile(.95)))\n",
    "print('99 перцентиль стоимости покупок - {}'.format(orders['revenue'].quantile(.99)))"
   ]
  },
  {
   "cell_type": "markdown",
   "metadata": {
    "id": "DTZTFm3S9kd6"
   },
   "source": [
    "99% пользователей совершили покупки стоимостью до 54000 руб. На графике же мы видим уникальный чек сразу на 1,25 млн. руб. Вот мы и нашли тот самый выброс, который исказил нам всю картину в группе B. "
   ]
  },
  {
   "cell_type": "markdown",
   "metadata": {
    "id": "fm1Ykex-9kd6"
   },
   "source": [
    "## Проверим гипотезы\n",
    "###  H<sub>0</sub> - разница конверсии между группами по «сырым» данным статистически незначительна"
   ]
  },
  {
   "cell_type": "code",
   "execution_count": 38,
   "metadata": {
    "id": "HNjTKsRs9kd6"
   },
   "outputs": [],
   "source": [
    "# Посчтиаем уникальные покупки на пользователя в каждой группе\n",
    "orders_a = (orders[orders['group'] == 'A']\n",
    "                  .groupby('visitor_id')\n",
    "                  .agg(orders=('transaction_id',pd.Series.nunique))\n",
    "                  .reset_index())\n",
    "\n",
    "orders_b = (orders[orders['group'] == 'B']\n",
    "                  .groupby('visitor_id')\n",
    "                  .agg(orders=('transaction_id',pd.Series.nunique))\n",
    "                  .reset_index())"
   ]
  },
  {
   "cell_type": "code",
   "execution_count": 39,
   "metadata": {
    "id": "HYPUoxui9kd6"
   },
   "outputs": [],
   "source": [
    "# Создадим отдельную табличку с посетителями в каждой группе по дням\n",
    "visitors_group = pd.pivot_table(visitors, values='visitors', index='date', columns='group').reset_index()\n",
    "visitors_group.columns = ['date', 'visitors_a', 'visitors_b']"
   ]
  },
  {
   "cell_type": "code",
   "execution_count": 40,
   "metadata": {
    "id": "NSePcuFc9kd7"
   },
   "outputs": [],
   "source": [
    "# Объявим переменные в которых пользователям с заказами будет соответствовать число заказов пользователя. \n",
    "# А пользователям без заказов — нули\n",
    "sample_a = pd.concat([orders_a['orders'], pd.Series(0,\n",
    "                    index=np.arange(visitors_group['visitors_a'].sum()\n",
    "                    - len(orders_a['orders'])), name='orders')],\n",
    "                    axis=0)\n",
    "\n",
    "sample_b = pd.concat([orders_b['orders'], pd.Series(0,\n",
    "                    index=np.arange(visitors_group['visitors_b'].sum()\n",
    "                    - len(orders_b['orders'])), name='orders')],\n",
    "                    axis=0)"
   ]
  },
  {
   "cell_type": "code",
   "execution_count": 41,
   "metadata": {
    "colab": {
     "base_uri": "https://localhost:8080/"
    },
    "id": "l04a-h6G9kd7",
    "outputId": "fc52d879-e013-40ba-dc43-a498cf69dc43"
   },
   "outputs": [
    {
     "name": "stdout",
     "output_type": "stream",
     "text": [
      "Стат. значимость конверсии: 0.011\n",
      "Отношение конверсии группы B к A: 0.160\n"
     ]
    }
   ],
   "source": [
    "print('Стат. значимость конверсии: {0:.3f}'.format(stats.mannwhitneyu(sample_a, sample_b, alternative='two-sided')[1]))\n",
    "print('Отношение конверсии группы B к A: {0:.3f}'.format(sample_b.mean() / sample_a.mean() - 1))"
   ]
  },
  {
   "cell_type": "markdown",
   "metadata": {
    "id": "5gVysX4Y9kd7"
   },
   "source": [
    "Отвергаем H<sub>0</sub> - конверсия между группами по «сырым» данным статистически значима. Отношение конверсии группы B к A: 16%.\n"
   ]
  },
  {
   "cell_type": "markdown",
   "metadata": {
    "id": "npOUnxTR9kd7"
   },
   "source": [
    "### H<sub>0</sub> - разница среднего чек заказа между группами по «сырым» данным  статистически незначительна"
   ]
  },
  {
   "cell_type": "code",
   "execution_count": 42,
   "metadata": {
    "id": "B9dHkjmZ9kd7"
   },
   "outputs": [],
   "source": [
    "# Объявим переменные в которых будет информация по выручке по каждой группе\n",
    "revenue_a = orders[orders['group']=='A']['revenue']\n",
    "revenue_b = orders[orders['group']=='B']['revenue']"
   ]
  },
  {
   "cell_type": "code",
   "execution_count": 43,
   "metadata": {
    "colab": {
     "base_uri": "https://localhost:8080/"
    },
    "id": "sNFRyvHB9kd8",
    "outputId": "5cda2978-958d-4b05-94c9-23502f034f75"
   },
   "outputs": [
    {
     "name": "stdout",
     "output_type": "stream",
     "text": [
      "Стат. значимость среднего чека: 0.829\n",
      "Отношение среднего чека группы B к группе A: 0.287\n"
     ]
    }
   ],
   "source": [
    "print('Стат. значимость среднего чека: {0:.3f}'.format(stats.mannwhitneyu(revenue_a, revenue_b, alternative='two-sided')[1]))\n",
    "print('Отношение среднего чека группы B к группе A: {0:.3f}'.format(revenue_b.mean() / revenue_a.mean() - 1)) "
   ]
  },
  {
   "cell_type": "markdown",
   "metadata": {
    "id": "PYhxr-rr9kd8"
   },
   "source": [
    "Не отвергаем гипотезу, нельзя сделать вывод о различии среднего чека заказа между группами по сырым данным. Положительное отношение среднего чека группы B к A в 28%. Явно сыграли злую шутку найденные выбросы!"
   ]
  },
  {
   "cell_type": "markdown",
   "metadata": {
    "id": "z3KS_Ot-9kd9"
   },
   "source": [
    "###  H<sub>0</sub> - разница конверсии между группами по «очищенным» данным статистически незначительна"
   ]
  },
  {
   "cell_type": "code",
   "execution_count": 44,
   "metadata": {
    "id": "Ly0Kr3CC9kd9"
   },
   "outputs": [],
   "source": [
    "# Найдем аномальных пользователей с большим количеством заказов.\n",
    "users_many_orders = pd.concat([orders_a[orders_a['orders'] >= 2]['visitor_id'],\n",
    "                               orders_b[orders_b['orders'] >= 2]['visitor_id']], \n",
    "                              axis=0)\n",
    "\n",
    "# С большим чеком.\n",
    "users_expens_orders = orders[orders['revenue'] > 30000]['visitor_id']\n",
    "\n",
    "# Объеденим аномальных пользователей.\n",
    "abnormal_users = (pd.concat([users_many_orders, users_expens_orders],axis=0)\n",
    "                 .drop_duplicates()\n",
    "                 .sort_values())"
   ]
  },
  {
   "cell_type": "code",
   "execution_count": 45,
   "metadata": {
    "id": "Y2fjRGZn9kd9"
   },
   "outputs": [],
   "source": [
    "# Очистим конверсию от аномальных пользователей.\n",
    "sample_a_filtered = pd.concat([orders_a[~(orders_a['visitor_id'].isin(abnormal_users))]['orders'], \n",
    "                               pd.Series(0,\n",
    "                               index=np.arange(visitors_group['visitors_a'].sum() - len(orders_a['orders'])), \n",
    "                               name='orders')], axis=0)\n",
    "\n",
    "sample_b_filtered = pd.concat([orders_b[~(orders_b['visitor_id'].isin(abnormal_users))]['orders'], \n",
    "                               pd.Series(0,\n",
    "                               index=np.arange(visitors_group['visitors_b'].sum()- len(orders_b['orders'])), \n",
    "                               name='orders')], axis=0)"
   ]
  },
  {
   "cell_type": "code",
   "execution_count": 46,
   "metadata": {
    "colab": {
     "base_uri": "https://localhost:8080/"
    },
    "id": "osFwVaAE9kd9",
    "outputId": "efbf747a-7b55-49fa-8aec-abbd44298796"
   },
   "outputs": [
    {
     "name": "stdout",
     "output_type": "stream",
     "text": [
      "Стат. значимость конверсии: 0.013\n",
      "Отношение конверсии группы B к A: 0.180\n"
     ]
    }
   ],
   "source": [
    "print('Стат. значимость конверсии: {0:.3f}'.format(stats.mannwhitneyu(sample_a_filtered, sample_b_filtered, alternative='two-sided')[1]))\n",
    "print('Отношение конверсии группы B к A: {0:.3f}'.format(sample_b_filtered.mean() / sample_a_filtered.mean() - 1)) "
   ]
  },
  {
   "cell_type": "markdown",
   "metadata": {
    "id": "cV04bypQ9kd9"
   },
   "source": [
    "После очищения данных от аномальных пользователей, значения конверсии практически не изменились. Отвергаем H<sub>0</sub>, конверсия статистически значимая. Положительное отношение конверсии группы B к группе A - 18%.\n"
   ]
  },
  {
   "cell_type": "markdown",
   "metadata": {
    "id": "ZnRMTRqk9kd-"
   },
   "source": [
    "### H<sub>0</sub> - разница среднего чека заказа между группами по «очищенным» данным статистически незначима"
   ]
  },
  {
   "cell_type": "code",
   "execution_count": 47,
   "metadata": {
    "id": "0lGq0Gge9kd-"
   },
   "outputs": [],
   "source": [
    "# Очистим средний чек от аномальных пользователей.\n",
    "revenue_filtered_a = orders[(orders['group'] == 'A')&(~orders['visitor_id'].isin(abnormal_users))]['revenue']\n",
    "\n",
    "revenue_filtered_b = orders[(orders['group'] == 'B')&(~orders['visitor_id'].isin(abnormal_users))]['revenue']"
   ]
  },
  {
   "cell_type": "code",
   "execution_count": 48,
   "metadata": {
    "colab": {
     "base_uri": "https://localhost:8080/"
    },
    "id": "YBb-lk7W9kd-",
    "outputId": "82b24682-f9e6-45eb-e45f-55064879a1a4"
   },
   "outputs": [
    {
     "name": "stdout",
     "output_type": "stream",
     "text": [
      "Стат. значимость среднего чека: 0.829\n",
      "Отношение среднего чека группы B к группе A: -0.011\n"
     ]
    }
   ],
   "source": [
    "print('Стат. значимость среднего чека: {0:.3f}'.format(stats.mannwhitneyu(revenue_filtered_a, revenue_filtered_b, alternative='two-sided')[1]))\n",
    "print('Отношение среднего чека группы B к группе A: {0:.3f}'.format(revenue_filtered_b.mean() / revenue_filtered_a.mean() - 1)) "
   ]
  },
  {
   "cell_type": "markdown",
   "metadata": {
    "id": "1o-bwyqw9kd-"
   },
   "source": [
    "После очищения данных от аномальных пользователей, значение отношения среднего чека, группы B к группе A, сильно поменялось в противополжную сторону. Если с выбросами, группа B сильно вырывалась вперед на 28%, то сейчас различие составило -1%. При этом, гипотезу о разницы среднего чека не отвергаем, статистической значимости нет. "
   ]
  },
  {
   "cell_type": "markdown",
   "metadata": {
    "id": "KCyQ3a4d9kd-"
   },
   "source": [
    "## Решение по результатам теста"
   ]
  },
  {
   "cell_type": "markdown",
   "metadata": {
    "id": "krerbepI9kd_"
   },
   "source": [
    "Останавливаем тест. Целью теста было увеличение выручки интернет-магазина. В этой задаче, победителя нет. Нет статистической значимости в среднем чеке. При этом конверсия значимо выросла на 18% в группе B."
   ]
  },
  {
   "cell_type": "markdown",
   "metadata": {
    "id": "RZB4cRO69kd_"
   },
   "source": [
    "# Выводы"
   ]
  },
  {
   "cell_type": "markdown",
   "metadata": {
    "id": "1iDjLuLl9kd_",
    "pycharm": {
     "name": "#%% md\n"
    }
   },
   "source": [
    "\n",
    "\n",
    "\n",
    "Нашли 58 пользователей, чьи покупки попали в обе группы.\n",
    "В начале теста в группе A был провал по среднему чеку, но с середины, он выровнялся.\n",
    "Примерно в середине теста наблюдается резкий скачёк выручки в группе B.\n",
    "Кумулятивная конверсия с середины теста показывает устоявшуюся картину. Группа B чувствует себя лучше.\n",
    "Группа B показывает хорошее отношение изменения конверсии к группе A, более чем в +10%.\n",
    "Почти все пользователи предпочитают делать не более 1 покупки. 2 и более покупок совершают только 1% покупателей.\n",
    "99% пользователей совершили покупки стоимостью до 54000 руб.\n",
    "\n",
    "\n",
    "По сырым данным, мы имеем статистически значимое, положительное отношение конверсии группы B к A в 16%\n",
    "По сырым данным, статистически не значимое, положительное отношение среднего чека группы B к A в 28%.\n",
    "После очищения данных от аномальных пользователей, значения конверсии практически не изменились. Фиксируем статистическую значимость, положительного отношения конверсии группы B к группе A в 18%.\n",
    "Значение отношения среднего чека, группы B к группе A, сильно поменялось в противополжную сторону. Если с выбросами, группа B сильно вырывалась вперед на 28%, то сейчас различие составило -1%. При этом статистической значимости нет.\n",
    "\n",
    "Тест останавливаем и признаем успешным с повышением конверсии на 18%. \n",
    "\n",
    "\n"
   ]
  }
 ],
 "metadata": {
  "ExecuteTimeLog": [
   {
    "duration": 1444,
    "start_time": "2021-06-27T14:52:34.363Z"
   },
   {
    "duration": 19,
    "start_time": "2021-06-27T14:53:13.476Z"
   },
   {
    "duration": 19,
    "start_time": "2021-06-27T14:53:27.623Z"
   },
   {
    "duration": 23,
    "start_time": "2021-06-27T14:53:38.157Z"
   },
   {
    "duration": 6157,
    "start_time": "2021-06-27T14:56:33.852Z"
   },
   {
    "duration": 6,
    "start_time": "2021-06-27T14:57:44.257Z"
   },
   {
    "duration": 11,
    "start_time": "2021-06-27T14:57:51.611Z"
   },
   {
    "duration": 258,
    "start_time": "2021-06-27T14:58:55.186Z"
   },
   {
    "duration": 13,
    "start_time": "2021-06-27T14:59:03.485Z"
   },
   {
    "duration": 275,
    "start_time": "2021-06-27T15:00:11.880Z"
   },
   {
    "duration": 16,
    "start_time": "2021-06-27T15:00:17.382Z"
   },
   {
    "duration": 17,
    "start_time": "2021-06-27T15:02:12.656Z"
   },
   {
    "duration": 12,
    "start_time": "2021-06-27T15:02:31.455Z"
   },
   {
    "duration": 13,
    "start_time": "2021-06-27T15:02:32.225Z"
   },
   {
    "duration": 1542,
    "start_time": "2021-06-27T15:02:36.533Z"
   },
   {
    "duration": 19,
    "start_time": "2021-06-27T15:02:38.078Z"
   },
   {
    "duration": 18,
    "start_time": "2021-06-27T15:02:38.100Z"
   },
   {
    "duration": 3,
    "start_time": "2021-06-27T15:02:38.121Z"
   },
   {
    "duration": 7,
    "start_time": "2021-06-27T15:02:38.127Z"
   },
   {
    "duration": 14,
    "start_time": "2021-06-27T15:02:38.155Z"
   },
   {
    "duration": 13,
    "start_time": "2021-06-27T15:02:44.666Z"
   },
   {
    "duration": 13,
    "start_time": "2021-06-27T15:02:46.859Z"
   },
   {
    "duration": 13,
    "start_time": "2021-06-27T15:02:49.812Z"
   },
   {
    "duration": 6,
    "start_time": "2021-06-27T15:04:04.584Z"
   },
   {
    "duration": 15,
    "start_time": "2021-06-27T15:04:05.807Z"
   },
   {
    "duration": 13,
    "start_time": "2021-06-27T15:04:13.009Z"
   },
   {
    "duration": 6352,
    "start_time": "2021-06-27T16:12:31.927Z"
   },
   {
    "duration": 274,
    "start_time": "2021-06-27T16:12:49.201Z"
   },
   {
    "duration": 6,
    "start_time": "2021-06-27T16:13:07.982Z"
   },
   {
    "duration": 250,
    "start_time": "2021-06-27T16:13:20.454Z"
   },
   {
    "duration": 6079,
    "start_time": "2021-06-27T16:13:32.489Z"
   },
   {
    "duration": 8,
    "start_time": "2021-06-27T16:13:39.722Z"
   },
   {
    "duration": 6322,
    "start_time": "2021-06-27T16:14:05.240Z"
   },
   {
    "duration": 6,
    "start_time": "2021-06-27T16:17:52.639Z"
   },
   {
    "duration": 280,
    "start_time": "2021-06-27T16:18:03.396Z"
   },
   {
    "duration": 7,
    "start_time": "2021-06-27T16:18:07.612Z"
   },
   {
    "duration": 8,
    "start_time": "2021-06-27T16:19:17.439Z"
   },
   {
    "duration": 6,
    "start_time": "2021-06-27T16:19:23.889Z"
   },
   {
    "duration": 6141,
    "start_time": "2021-06-27T16:19:43.760Z"
   },
   {
    "duration": 9,
    "start_time": "2021-06-27T16:19:54.605Z"
   },
   {
    "duration": 5,
    "start_time": "2021-06-27T16:20:05.033Z"
   },
   {
    "duration": 6,
    "start_time": "2021-06-27T16:20:16.656Z"
   },
   {
    "duration": 7,
    "start_time": "2021-06-27T16:20:24.196Z"
   },
   {
    "duration": 5,
    "start_time": "2021-06-27T16:20:44.415Z"
   },
   {
    "duration": 7,
    "start_time": "2021-06-27T16:38:18.081Z"
   },
   {
    "duration": 1208,
    "start_time": "2021-06-27T16:48:35.206Z"
   },
   {
    "duration": 1314,
    "start_time": "2021-06-27T16:48:40.903Z"
   },
   {
    "duration": 72,
    "start_time": "2021-06-27T16:49:06.787Z"
   },
   {
    "duration": 18,
    "start_time": "2021-06-27T16:49:12.992Z"
   },
   {
    "duration": 11,
    "start_time": "2021-06-27T16:49:24.841Z"
   },
   {
    "duration": 19,
    "start_time": "2021-06-27T16:49:33.419Z"
   },
   {
    "duration": 6266,
    "start_time": "2021-06-27T17:33:01.544Z"
   },
   {
    "duration": 6248,
    "start_time": "2021-06-27T17:33:43.778Z"
   },
   {
    "duration": 594,
    "start_time": "2021-06-27T17:34:00.380Z"
   },
   {
    "duration": 21,
    "start_time": "2021-06-27T17:34:08.229Z"
   },
   {
    "duration": 16,
    "start_time": "2021-06-27T17:35:07.219Z"
   },
   {
    "duration": 13,
    "start_time": "2021-06-27T17:35:09.795Z"
   },
   {
    "duration": 351,
    "start_time": "2021-06-28T14:53:28.374Z"
   },
   {
    "duration": 1538,
    "start_time": "2021-06-28T14:53:33.470Z"
   },
   {
    "duration": 22,
    "start_time": "2021-06-28T14:53:35.010Z"
   },
   {
    "duration": 33,
    "start_time": "2021-06-28T14:53:35.041Z"
   },
   {
    "duration": 5,
    "start_time": "2021-06-28T14:53:35.077Z"
   },
   {
    "duration": 11,
    "start_time": "2021-06-28T14:53:35.085Z"
   },
   {
    "duration": 55,
    "start_time": "2021-06-28T14:53:35.099Z"
   },
   {
    "duration": 7,
    "start_time": "2021-06-28T14:53:35.159Z"
   },
   {
    "duration": 19,
    "start_time": "2021-06-28T14:53:35.171Z"
   },
   {
    "duration": 96,
    "start_time": "2021-06-28T14:53:35.193Z"
   },
   {
    "duration": 20,
    "start_time": "2021-06-28T14:53:35.291Z"
   },
   {
    "duration": 606,
    "start_time": "2021-06-28T14:53:35.315Z"
   },
   {
    "duration": 16,
    "start_time": "2021-06-28T14:53:35.924Z"
   },
   {
    "duration": 32,
    "start_time": "2021-06-28T14:53:35.942Z"
   },
   {
    "duration": 32,
    "start_time": "2021-06-28T14:54:18.109Z"
   },
   {
    "duration": 58,
    "start_time": "2021-06-28T14:55:05.742Z"
   },
   {
    "duration": 81,
    "start_time": "2021-06-28T14:55:26.082Z"
   },
   {
    "duration": 50,
    "start_time": "2021-06-28T14:55:43.440Z"
   },
   {
    "duration": 594,
    "start_time": "2021-06-28T14:57:13.133Z"
   },
   {
    "duration": 19,
    "start_time": "2021-06-28T14:57:31.659Z"
   },
   {
    "duration": 9,
    "start_time": "2021-06-28T14:59:00.986Z"
   },
   {
    "duration": 360,
    "start_time": "2021-06-28T15:00:52.470Z"
   },
   {
    "duration": 288,
    "start_time": "2021-06-28T15:02:01.056Z"
   },
   {
    "duration": 10,
    "start_time": "2021-06-28T15:04:59.971Z"
   },
   {
    "duration": 18,
    "start_time": "2021-06-28T15:05:03.728Z"
   },
   {
    "duration": 8,
    "start_time": "2021-06-28T15:06:24.026Z"
   },
   {
    "duration": 13,
    "start_time": "2021-06-28T15:06:28.221Z"
   },
   {
    "duration": 8,
    "start_time": "2021-06-28T15:10:06.690Z"
   },
   {
    "duration": 349,
    "start_time": "2021-06-28T15:10:07.572Z"
   },
   {
    "duration": 278,
    "start_time": "2021-06-28T15:10:08.582Z"
   },
   {
    "duration": 399,
    "start_time": "2021-06-28T15:10:09.459Z"
   },
   {
    "duration": 353,
    "start_time": "2021-06-28T15:10:18.132Z"
   },
   {
    "duration": 278,
    "start_time": "2021-06-28T15:10:19.215Z"
   },
   {
    "duration": 9,
    "start_time": "2021-06-28T15:10:20.211Z"
   },
   {
    "duration": 20,
    "start_time": "2021-06-28T15:10:21.064Z"
   },
   {
    "duration": 11,
    "start_time": "2021-06-28T15:10:23.142Z"
   },
   {
    "duration": 9,
    "start_time": "2021-06-28T15:11:07.707Z"
   },
   {
    "duration": 20,
    "start_time": "2021-06-28T15:11:09.520Z"
   },
   {
    "duration": 10,
    "start_time": "2021-06-28T15:11:18.684Z"
   },
   {
    "duration": 9,
    "start_time": "2021-06-28T15:12:55.770Z"
   },
   {
    "duration": 22,
    "start_time": "2021-06-28T15:12:59.107Z"
   },
   {
    "duration": 19,
    "start_time": "2021-06-28T15:13:09.618Z"
   },
   {
    "duration": 21,
    "start_time": "2021-06-28T15:13:13.662Z"
   },
   {
    "duration": 21,
    "start_time": "2021-06-28T15:13:23.963Z"
   },
   {
    "duration": 9,
    "start_time": "2021-06-28T15:13:34.647Z"
   },
   {
    "duration": 14,
    "start_time": "2021-06-28T15:13:37.668Z"
   },
   {
    "duration": 12,
    "start_time": "2021-06-28T15:14:01.421Z"
   },
   {
    "duration": 12,
    "start_time": "2021-06-28T15:14:05.362Z"
   },
   {
    "duration": 54,
    "start_time": "2021-06-28T15:18:18.183Z"
   },
   {
    "duration": 54,
    "start_time": "2021-06-28T15:18:19.393Z"
   },
   {
    "duration": 86,
    "start_time": "2021-06-28T15:18:44.667Z"
   },
   {
    "duration": 95,
    "start_time": "2021-06-28T15:18:48.632Z"
   },
   {
    "duration": 52,
    "start_time": "2021-06-28T15:18:55.598Z"
   },
   {
    "duration": 51,
    "start_time": "2021-06-28T15:18:59.292Z"
   },
   {
    "duration": 51,
    "start_time": "2021-06-28T15:19:03.467Z"
   },
   {
    "duration": 50,
    "start_time": "2021-06-28T15:19:08.320Z"
   },
   {
    "duration": 47,
    "start_time": "2021-06-28T15:19:14.683Z"
   },
   {
    "duration": 48,
    "start_time": "2021-06-28T15:19:18.944Z"
   },
   {
    "duration": 51,
    "start_time": "2021-06-28T15:19:30.803Z"
   },
   {
    "duration": 8,
    "start_time": "2021-06-28T15:19:49.026Z"
   },
   {
    "duration": 8,
    "start_time": "2021-06-28T15:19:59.242Z"
   },
   {
    "duration": 17,
    "start_time": "2021-06-28T15:20:11.343Z"
   },
   {
    "duration": 1329,
    "start_time": "2021-06-28T15:20:32.485Z"
   },
   {
    "duration": 19,
    "start_time": "2021-06-28T15:20:33.817Z"
   },
   {
    "duration": 18,
    "start_time": "2021-06-28T15:20:33.839Z"
   },
   {
    "duration": 5,
    "start_time": "2021-06-28T15:20:33.860Z"
   },
   {
    "duration": 14,
    "start_time": "2021-06-28T15:20:33.867Z"
   },
   {
    "duration": 15,
    "start_time": "2021-06-28T15:20:33.883Z"
   },
   {
    "duration": 10,
    "start_time": "2021-06-28T15:20:33.901Z"
   },
   {
    "duration": 41,
    "start_time": "2021-06-28T15:20:33.915Z"
   },
   {
    "duration": 57,
    "start_time": "2021-06-28T15:20:33.959Z"
   },
   {
    "duration": 52,
    "start_time": "2021-06-28T15:20:34.019Z"
   },
   {
    "duration": 10,
    "start_time": "2021-06-28T15:20:34.074Z"
   },
   {
    "duration": 14,
    "start_time": "2021-06-28T15:20:34.087Z"
   },
   {
    "duration": 365,
    "start_time": "2021-06-28T15:20:34.104Z"
   },
   {
    "duration": 273,
    "start_time": "2021-06-28T15:20:34.472Z"
   },
   {
    "duration": 10,
    "start_time": "2021-06-28T15:20:34.755Z"
   },
   {
    "duration": 22,
    "start_time": "2021-06-28T15:20:34.769Z"
   },
   {
    "duration": 13,
    "start_time": "2021-06-28T15:20:34.794Z"
   },
   {
    "duration": 15,
    "start_time": "2021-06-28T15:20:34.809Z"
   },
   {
    "duration": 36,
    "start_time": "2021-06-28T15:20:34.827Z"
   },
   {
    "duration": 9,
    "start_time": "2021-06-28T15:22:51.384Z"
   },
   {
    "duration": 378,
    "start_time": "2021-06-28T15:22:56.376Z"
   },
   {
    "duration": 8,
    "start_time": "2021-06-28T15:23:01.310Z"
   },
   {
    "duration": 10,
    "start_time": "2021-06-28T15:26:21.646Z"
   },
   {
    "duration": 11,
    "start_time": "2021-06-28T15:27:29.032Z"
   },
   {
    "duration": 15,
    "start_time": "2021-06-28T15:27:33.808Z"
   },
   {
    "duration": 11,
    "start_time": "2021-06-28T15:39:48.044Z"
   },
   {
    "duration": 279,
    "start_time": "2021-06-28T15:39:54.240Z"
   },
   {
    "duration": 10,
    "start_time": "2021-06-28T15:39:56.609Z"
   },
   {
    "duration": 9,
    "start_time": "2021-06-28T15:40:07.895Z"
   },
   {
    "duration": 76,
    "start_time": "2021-06-28T15:40:10.407Z"
   },
   {
    "duration": 10,
    "start_time": "2021-06-28T15:40:15.120Z"
   },
   {
    "duration": 10,
    "start_time": "2021-06-28T15:41:49.413Z"
   },
   {
    "duration": 262,
    "start_time": "2021-06-28T15:41:59.134Z"
   },
   {
    "duration": 6501,
    "start_time": "2021-06-28T15:42:12.051Z"
   },
   {
    "duration": 6982,
    "start_time": "2021-06-28T15:42:25.675Z"
   },
   {
    "duration": 23,
    "start_time": "2021-06-28T15:42:38.744Z"
   },
   {
    "duration": 18,
    "start_time": "2021-06-28T15:43:08.162Z"
   },
   {
    "duration": 20,
    "start_time": "2021-06-28T15:43:27.798Z"
   },
   {
    "duration": 7,
    "start_time": "2021-06-28T15:46:31.172Z"
   },
   {
    "duration": 247,
    "start_time": "2021-06-28T15:46:37.598Z"
   },
   {
    "duration": 23,
    "start_time": "2021-06-28T15:47:05.814Z"
   },
   {
    "duration": 279,
    "start_time": "2021-06-28T15:49:57.547Z"
   },
   {
    "duration": 256,
    "start_time": "2021-06-28T15:50:01.643Z"
   },
   {
    "duration": 26,
    "start_time": "2021-06-28T15:50:05.419Z"
   },
   {
    "duration": 31,
    "start_time": "2021-06-28T15:50:48.384Z"
   },
   {
    "duration": 24,
    "start_time": "2021-06-28T15:51:01.280Z"
   },
   {
    "duration": 29,
    "start_time": "2021-06-28T15:51:06.935Z"
   },
   {
    "duration": 22,
    "start_time": "2021-06-28T15:51:49.154Z"
   },
   {
    "duration": 1117,
    "start_time": "2021-06-28T15:52:22.318Z"
   },
   {
    "duration": 29,
    "start_time": "2021-06-28T15:52:33.379Z"
   },
   {
    "duration": 246,
    "start_time": "2021-06-28T15:52:45.290Z"
   },
   {
    "duration": 30,
    "start_time": "2021-06-28T15:52:50.962Z"
   },
   {
    "duration": 27,
    "start_time": "2021-06-28T15:53:14.190Z"
   },
   {
    "duration": 31,
    "start_time": "2021-06-28T15:53:20.278Z"
   },
   {
    "duration": 23,
    "start_time": "2021-06-28T15:54:33.288Z"
   },
   {
    "duration": 266,
    "start_time": "2021-06-28T15:54:36.637Z"
   },
   {
    "duration": 34,
    "start_time": "2021-06-28T15:54:45.975Z"
   },
   {
    "duration": 32,
    "start_time": "2021-06-28T15:54:55.013Z"
   },
   {
    "duration": 37,
    "start_time": "2021-06-28T15:55:09.149Z"
   },
   {
    "duration": 24,
    "start_time": "2021-06-28T15:55:38.414Z"
   },
   {
    "duration": 8,
    "start_time": "2021-06-28T15:56:52.703Z"
   },
   {
    "duration": 257,
    "start_time": "2021-06-28T15:57:27.299Z"
   },
   {
    "duration": 181,
    "start_time": "2021-06-28T15:57:38.920Z"
   },
   {
    "duration": 254,
    "start_time": "2021-06-28T15:57:49.624Z"
   },
   {
    "duration": 249,
    "start_time": "2021-06-28T15:57:56.426Z"
   },
   {
    "duration": 274,
    "start_time": "2021-06-28T15:58:03.618Z"
   },
   {
    "duration": 258,
    "start_time": "2021-06-28T15:58:23.051Z"
   },
   {
    "duration": 279,
    "start_time": "2021-06-28T15:59:02.455Z"
   },
   {
    "duration": 290,
    "start_time": "2021-06-28T16:00:25.681Z"
   },
   {
    "duration": 318,
    "start_time": "2021-06-28T16:00:36.950Z"
   },
   {
    "duration": 544,
    "start_time": "2021-06-28T16:01:00.520Z"
   },
   {
    "duration": 520,
    "start_time": "2021-06-28T16:01:06.045Z"
   },
   {
    "duration": 450,
    "start_time": "2021-06-28T16:01:09.085Z"
   },
   {
    "duration": 464,
    "start_time": "2021-06-28T16:01:24.167Z"
   },
   {
    "duration": 275,
    "start_time": "2021-06-28T16:02:43.708Z"
   },
   {
    "duration": 246,
    "start_time": "2021-06-28T16:04:16.063Z"
   },
   {
    "duration": 251,
    "start_time": "2021-06-28T16:04:20.556Z"
   },
   {
    "duration": 26,
    "start_time": "2021-06-28T16:04:38.159Z"
   },
   {
    "duration": 11,
    "start_time": "2021-06-28T16:04:45.825Z"
   },
   {
    "duration": 16,
    "start_time": "2021-06-28T16:04:49.737Z"
   },
   {
    "duration": 1111,
    "start_time": "2021-06-28T16:05:01.814Z"
   },
   {
    "duration": 4,
    "start_time": "2021-06-28T16:05:22.361Z"
   },
   {
    "duration": 31,
    "start_time": "2021-06-28T16:05:22.368Z"
   },
   {
    "duration": 21,
    "start_time": "2021-06-28T16:05:22.402Z"
   },
   {
    "duration": 12,
    "start_time": "2021-06-28T16:05:22.426Z"
   },
   {
    "duration": 9,
    "start_time": "2021-06-28T16:05:22.441Z"
   },
   {
    "duration": 22,
    "start_time": "2021-06-28T16:05:22.453Z"
   },
   {
    "duration": 14,
    "start_time": "2021-06-28T16:05:22.478Z"
   },
   {
    "duration": 24,
    "start_time": "2021-06-28T16:05:22.495Z"
   },
   {
    "duration": 61,
    "start_time": "2021-06-28T16:05:22.522Z"
   },
   {
    "duration": 51,
    "start_time": "2021-06-28T16:05:22.586Z"
   },
   {
    "duration": 24,
    "start_time": "2021-06-28T16:05:22.639Z"
   },
   {
    "duration": 38,
    "start_time": "2021-06-28T16:05:22.665Z"
   },
   {
    "duration": 5,
    "start_time": "2021-06-28T16:05:41.121Z"
   },
   {
    "duration": 7,
    "start_time": "2021-06-28T16:05:43.339Z"
   },
   {
    "duration": 4,
    "start_time": "2021-06-28T16:06:22.927Z"
   },
   {
    "duration": 23,
    "start_time": "2021-06-28T16:06:22.934Z"
   },
   {
    "duration": 17,
    "start_time": "2021-06-28T16:06:22.960Z"
   },
   {
    "duration": 4,
    "start_time": "2021-06-28T16:06:22.980Z"
   },
   {
    "duration": 8,
    "start_time": "2021-06-28T16:06:22.986Z"
   },
   {
    "duration": 15,
    "start_time": "2021-06-28T16:06:22.997Z"
   },
   {
    "duration": 7,
    "start_time": "2021-06-28T16:06:23.014Z"
   },
   {
    "duration": 34,
    "start_time": "2021-06-28T16:06:23.024Z"
   },
   {
    "duration": 55,
    "start_time": "2021-06-28T16:06:23.061Z"
   },
   {
    "duration": 51,
    "start_time": "2021-06-28T16:06:23.118Z"
   },
   {
    "duration": 10,
    "start_time": "2021-06-28T16:06:23.171Z"
   },
   {
    "duration": 32,
    "start_time": "2021-06-28T16:06:23.184Z"
   },
   {
    "duration": 7,
    "start_time": "2021-06-28T16:06:25.266Z"
   },
   {
    "duration": 18,
    "start_time": "2021-06-28T16:06:26.839Z"
   },
   {
    "duration": 6,
    "start_time": "2021-06-28T16:07:21.219Z"
   },
   {
    "duration": 7,
    "start_time": "2021-06-28T16:07:23.042Z"
   },
   {
    "duration": 4,
    "start_time": "2021-06-28T16:07:27.274Z"
   },
   {
    "duration": 25,
    "start_time": "2021-06-28T16:07:27.280Z"
   },
   {
    "duration": 20,
    "start_time": "2021-06-28T16:07:27.308Z"
   },
   {
    "duration": 14,
    "start_time": "2021-06-28T16:07:27.330Z"
   },
   {
    "duration": 18,
    "start_time": "2021-06-28T16:07:27.347Z"
   },
   {
    "duration": 22,
    "start_time": "2021-06-28T16:07:27.367Z"
   },
   {
    "duration": 25,
    "start_time": "2021-06-28T16:07:27.392Z"
   },
   {
    "duration": 17,
    "start_time": "2021-06-28T16:07:27.421Z"
   },
   {
    "duration": 74,
    "start_time": "2021-06-28T16:07:27.441Z"
   },
   {
    "duration": 55,
    "start_time": "2021-06-28T16:07:27.517Z"
   },
   {
    "duration": 11,
    "start_time": "2021-06-28T16:07:27.574Z"
   },
   {
    "duration": 54,
    "start_time": "2021-06-28T16:07:27.587Z"
   },
   {
    "duration": 6,
    "start_time": "2021-06-28T16:07:27.654Z"
   },
   {
    "duration": 20,
    "start_time": "2021-06-28T16:07:30.346Z"
   },
   {
    "duration": 253,
    "start_time": "2021-06-28T16:07:47.935Z"
   },
   {
    "duration": 20,
    "start_time": "2021-06-28T16:07:50.576Z"
   },
   {
    "duration": 19,
    "start_time": "2021-06-28T16:08:22.912Z"
   },
   {
    "duration": 6,
    "start_time": "2021-06-28T16:08:24.091Z"
   },
   {
    "duration": 8,
    "start_time": "2021-06-28T16:08:25.172Z"
   },
   {
    "duration": 5,
    "start_time": "2021-06-28T16:08:28.277Z"
   },
   {
    "duration": 29,
    "start_time": "2021-06-28T16:08:28.284Z"
   },
   {
    "duration": 31,
    "start_time": "2021-06-28T16:08:28.315Z"
   },
   {
    "duration": 10,
    "start_time": "2021-06-28T16:08:28.349Z"
   },
   {
    "duration": 13,
    "start_time": "2021-06-28T16:08:28.361Z"
   },
   {
    "duration": 25,
    "start_time": "2021-06-28T16:08:28.376Z"
   },
   {
    "duration": 18,
    "start_time": "2021-06-28T16:08:28.404Z"
   },
   {
    "duration": 20,
    "start_time": "2021-06-28T16:08:28.425Z"
   },
   {
    "duration": 57,
    "start_time": "2021-06-28T16:08:28.448Z"
   },
   {
    "duration": 53,
    "start_time": "2021-06-28T16:08:28.507Z"
   },
   {
    "duration": 10,
    "start_time": "2021-06-28T16:08:28.563Z"
   },
   {
    "duration": 54,
    "start_time": "2021-06-28T16:08:28.575Z"
   },
   {
    "duration": 6,
    "start_time": "2021-06-28T16:08:28.632Z"
   },
   {
    "duration": 19,
    "start_time": "2021-06-28T16:08:29.880Z"
   },
   {
    "duration": 28,
    "start_time": "2021-06-28T16:08:46.694Z"
   },
   {
    "duration": 4,
    "start_time": "2021-06-28T16:08:52.457Z"
   },
   {
    "duration": 20,
    "start_time": "2021-06-28T16:08:52.464Z"
   },
   {
    "duration": 20,
    "start_time": "2021-06-28T16:08:52.488Z"
   },
   {
    "duration": 5,
    "start_time": "2021-06-28T16:08:52.511Z"
   },
   {
    "duration": 8,
    "start_time": "2021-06-28T16:08:52.518Z"
   },
   {
    "duration": 33,
    "start_time": "2021-06-28T16:08:52.528Z"
   },
   {
    "duration": 8,
    "start_time": "2021-06-28T16:08:52.564Z"
   },
   {
    "duration": 18,
    "start_time": "2021-06-28T16:08:52.575Z"
   },
   {
    "duration": 56,
    "start_time": "2021-06-28T16:08:52.595Z"
   },
   {
    "duration": 52,
    "start_time": "2021-06-28T16:08:52.653Z"
   },
   {
    "duration": 50,
    "start_time": "2021-06-28T16:08:52.707Z"
   },
   {
    "duration": 28,
    "start_time": "2021-06-28T16:08:56.393Z"
   },
   {
    "duration": 28,
    "start_time": "2021-06-28T16:09:57.970Z"
   },
   {
    "duration": 30,
    "start_time": "2021-06-28T16:10:18.203Z"
   },
   {
    "duration": 22,
    "start_time": "2021-06-28T16:10:24.143Z"
   },
   {
    "duration": 7,
    "start_time": "2021-06-28T16:10:26.705Z"
   },
   {
    "duration": 19,
    "start_time": "2021-06-28T16:10:27.882Z"
   },
   {
    "duration": 24,
    "start_time": "2021-06-28T16:13:32.787Z"
   },
   {
    "duration": 42,
    "start_time": "2021-06-28T16:14:22.383Z"
   },
   {
    "duration": 7,
    "start_time": "2021-06-28T16:14:50.389Z"
   },
   {
    "duration": 262,
    "start_time": "2021-06-28T16:16:37.010Z"
   },
   {
    "duration": 259,
    "start_time": "2021-06-28T16:16:40.439Z"
   },
   {
    "duration": 411,
    "start_time": "2021-06-28T16:16:48.906Z"
   },
   {
    "duration": 685,
    "start_time": "2021-06-28T16:16:57.309Z"
   },
   {
    "duration": 523,
    "start_time": "2021-06-28T16:17:02.192Z"
   },
   {
    "duration": 524,
    "start_time": "2021-06-28T16:17:05.851Z"
   },
   {
    "duration": 263,
    "start_time": "2021-06-28T16:18:02.573Z"
   },
   {
    "duration": 250,
    "start_time": "2021-06-28T16:18:06.550Z"
   },
   {
    "duration": 451,
    "start_time": "2021-06-28T16:18:13.237Z"
   },
   {
    "duration": 460,
    "start_time": "2021-06-28T16:18:18.291Z"
   },
   {
    "duration": 248,
    "start_time": "2021-06-28T16:19:51.850Z"
   },
   {
    "duration": 2353,
    "start_time": "2021-06-28T16:20:03.481Z"
   },
   {
    "duration": 209,
    "start_time": "2021-06-28T16:20:08.429Z"
   },
   {
    "duration": 241,
    "start_time": "2021-06-28T16:21:34.842Z"
   },
   {
    "duration": 7,
    "start_time": "2021-06-28T16:21:39.813Z"
   },
   {
    "duration": 523,
    "start_time": "2021-06-28T16:22:08.346Z"
   },
   {
    "duration": 523,
    "start_time": "2021-06-28T16:22:43.398Z"
   },
   {
    "duration": 516,
    "start_time": "2021-06-28T16:24:22.874Z"
   },
   {
    "duration": 520,
    "start_time": "2021-06-28T16:24:33.869Z"
   },
   {
    "duration": 12,
    "start_time": "2021-06-28T16:25:21.746Z"
   },
   {
    "duration": 10,
    "start_time": "2021-06-28T16:25:28.245Z"
   },
   {
    "duration": 10,
    "start_time": "2021-06-28T16:25:35.708Z"
   },
   {
    "duration": 9,
    "start_time": "2021-06-28T16:25:37.280Z"
   },
   {
    "duration": 18,
    "start_time": "2021-06-28T16:25:39.874Z"
   },
   {
    "duration": 9,
    "start_time": "2021-06-28T16:25:43.850Z"
   },
   {
    "duration": 9,
    "start_time": "2021-06-28T16:25:51.427Z"
   },
   {
    "duration": 21,
    "start_time": "2021-06-28T16:25:55.434Z"
   },
   {
    "duration": 20,
    "start_time": "2021-06-28T16:26:02.265Z"
   },
   {
    "duration": 21,
    "start_time": "2021-06-28T16:26:05.489Z"
   },
   {
    "duration": 249,
    "start_time": "2021-06-28T16:26:09.549Z"
   },
   {
    "duration": 22,
    "start_time": "2021-06-28T16:26:13.706Z"
   },
   {
    "duration": 277,
    "start_time": "2021-06-28T16:26:20.980Z"
   },
   {
    "duration": 7,
    "start_time": "2021-06-28T16:26:28.624Z"
   },
   {
    "duration": 16,
    "start_time": "2021-06-28T16:27:07.236Z"
   },
   {
    "duration": 8,
    "start_time": "2021-06-28T16:27:15.502Z"
   },
   {
    "duration": 9,
    "start_time": "2021-06-28T16:27:21.874Z"
   },
   {
    "duration": 8,
    "start_time": "2021-06-28T16:27:27.154Z"
   },
   {
    "duration": 9,
    "start_time": "2021-06-28T16:27:30.832Z"
   },
   {
    "duration": 241,
    "start_time": "2021-06-28T16:27:37.273Z"
   },
   {
    "duration": 294,
    "start_time": "2021-06-28T16:27:38.438Z"
   },
   {
    "duration": 263,
    "start_time": "2021-06-28T16:27:39.092Z"
   },
   {
    "duration": 10,
    "start_time": "2021-06-28T16:27:41.890Z"
   },
   {
    "duration": 8,
    "start_time": "2021-06-28T16:27:46.312Z"
   },
   {
    "duration": 7,
    "start_time": "2021-06-28T16:28:02.485Z"
   },
   {
    "duration": 11,
    "start_time": "2021-06-28T16:28:09.613Z"
   },
   {
    "duration": 244,
    "start_time": "2021-06-28T16:28:31.165Z"
   },
   {
    "duration": 337,
    "start_time": "2021-06-28T16:30:19.980Z"
   },
   {
    "duration": 564,
    "start_time": "2021-06-28T16:30:47.952Z"
   },
   {
    "duration": 517,
    "start_time": "2021-06-28T16:32:08.099Z"
   },
   {
    "duration": 565,
    "start_time": "2021-06-28T16:33:10.731Z"
   },
   {
    "duration": 3389,
    "start_time": "2021-06-28T16:33:51.726Z"
   },
   {
    "duration": 6,
    "start_time": "2021-06-28T16:34:06.622Z"
   },
   {
    "duration": 3302,
    "start_time": "2021-06-28T16:34:10.704Z"
   },
   {
    "duration": 8,
    "start_time": "2021-06-28T16:34:17.060Z"
   },
   {
    "duration": 3388,
    "start_time": "2021-06-28T16:34:33.730Z"
   },
   {
    "duration": 4,
    "start_time": "2021-06-28T16:34:46.281Z"
   },
   {
    "duration": 26,
    "start_time": "2021-06-28T16:34:46.287Z"
   },
   {
    "duration": 16,
    "start_time": "2021-06-28T16:34:46.316Z"
   },
   {
    "duration": 11,
    "start_time": "2021-06-28T16:34:46.334Z"
   },
   {
    "duration": 22,
    "start_time": "2021-06-28T16:34:46.347Z"
   },
   {
    "duration": 26,
    "start_time": "2021-06-28T16:34:46.372Z"
   },
   {
    "duration": 16,
    "start_time": "2021-06-28T16:34:46.400Z"
   },
   {
    "duration": 27,
    "start_time": "2021-06-28T16:34:46.418Z"
   },
   {
    "duration": 70,
    "start_time": "2021-06-28T16:34:46.449Z"
   },
   {
    "duration": 50,
    "start_time": "2021-06-28T16:34:46.522Z"
   },
   {
    "duration": 10,
    "start_time": "2021-06-28T16:34:46.575Z"
   },
   {
    "duration": 31,
    "start_time": "2021-06-28T16:34:46.587Z"
   },
   {
    "duration": 42,
    "start_time": "2021-06-28T16:34:46.621Z"
   },
   {
    "duration": 519,
    "start_time": "2021-06-28T16:34:46.665Z"
   },
   {
    "duration": 19,
    "start_time": "2021-06-28T16:34:47.186Z"
   },
   {
    "duration": 514,
    "start_time": "2021-06-28T16:34:53.571Z"
   },
   {
    "duration": 24,
    "start_time": "2021-06-28T16:34:57.451Z"
   },
   {
    "duration": 519,
    "start_time": "2021-06-28T16:36:42.070Z"
   },
   {
    "duration": 513,
    "start_time": "2021-06-28T16:36:46.601Z"
   },
   {
    "duration": 1408,
    "start_time": "2021-06-28T16:36:52.621Z"
   },
   {
    "duration": 20,
    "start_time": "2021-06-28T16:36:54.032Z"
   },
   {
    "duration": 32,
    "start_time": "2021-06-28T16:36:54.063Z"
   },
   {
    "duration": 32,
    "start_time": "2021-06-28T16:36:54.098Z"
   },
   {
    "duration": 44,
    "start_time": "2021-06-28T16:36:54.132Z"
   },
   {
    "duration": 40,
    "start_time": "2021-06-28T16:36:54.178Z"
   },
   {
    "duration": 32,
    "start_time": "2021-06-28T16:36:54.221Z"
   },
   {
    "duration": 34,
    "start_time": "2021-06-28T16:36:54.259Z"
   },
   {
    "duration": 89,
    "start_time": "2021-06-28T16:36:54.296Z"
   },
   {
    "duration": 70,
    "start_time": "2021-06-28T16:36:54.388Z"
   },
   {
    "duration": 13,
    "start_time": "2021-06-28T16:36:54.461Z"
   },
   {
    "duration": 53,
    "start_time": "2021-06-28T16:36:54.477Z"
   },
   {
    "duration": 20,
    "start_time": "2021-06-28T16:36:54.533Z"
   },
   {
    "duration": 397,
    "start_time": "2021-06-28T16:36:54.560Z"
   },
   {
    "duration": 385,
    "start_time": "2021-06-28T16:36:54.960Z"
   },
   {
    "duration": 12,
    "start_time": "2021-06-28T16:36:55.347Z"
   },
   {
    "duration": 363,
    "start_time": "2021-06-28T16:36:55.364Z"
   },
   {
    "duration": 280,
    "start_time": "2021-06-28T16:36:55.729Z"
   },
   {
    "duration": 9,
    "start_time": "2021-06-28T16:36:56.011Z"
   },
   {
    "duration": 38,
    "start_time": "2021-06-28T16:36:56.024Z"
   },
   {
    "duration": 29,
    "start_time": "2021-06-28T16:36:56.065Z"
   },
   {
    "duration": 31,
    "start_time": "2021-06-28T16:36:56.096Z"
   },
   {
    "duration": 38,
    "start_time": "2021-06-28T16:36:56.130Z"
   },
   {
    "duration": 308,
    "start_time": "2021-06-28T16:44:14.348Z"
   },
   {
    "duration": 11,
    "start_time": "2021-06-28T16:44:28.177Z"
   },
   {
    "duration": 9,
    "start_time": "2021-06-28T16:44:29.578Z"
   },
   {
    "duration": 14,
    "start_time": "2021-06-28T16:44:30.445Z"
   },
   {
    "duration": 340,
    "start_time": "2021-06-28T16:44:34.253Z"
   },
   {
    "duration": 297,
    "start_time": "2021-06-28T16:44:40.457Z"
   },
   {
    "duration": 288,
    "start_time": "2021-06-28T16:44:43.735Z"
   },
   {
    "duration": 382,
    "start_time": "2021-06-28T16:44:48.707Z"
   },
   {
    "duration": 580,
    "start_time": "2021-06-28T16:44:52.607Z"
   },
   {
    "duration": 456,
    "start_time": "2021-06-28T16:44:57.214Z"
   },
   {
    "duration": 5,
    "start_time": "2021-06-28T16:45:14.204Z"
   },
   {
    "duration": 536,
    "start_time": "2021-06-28T16:45:15.156Z"
   },
   {
    "duration": 276,
    "start_time": "2021-06-28T16:46:31.410Z"
   },
   {
    "duration": 527,
    "start_time": "2021-06-28T16:47:28.627Z"
   },
   {
    "duration": 538,
    "start_time": "2021-06-28T16:49:58.087Z"
   },
   {
    "duration": 536,
    "start_time": "2021-06-28T16:50:07.293Z"
   },
   {
    "duration": 705,
    "start_time": "2021-06-28T16:50:18.749Z"
   },
   {
    "duration": 764,
    "start_time": "2021-06-28T16:50:34.851Z"
   },
   {
    "duration": 667,
    "start_time": "2021-06-28T16:51:00.192Z"
   },
   {
    "duration": 758,
    "start_time": "2021-06-28T16:51:15.911Z"
   },
   {
    "duration": 4,
    "start_time": "2021-06-28T16:52:05.066Z"
   },
   {
    "duration": 33,
    "start_time": "2021-06-28T16:52:05.073Z"
   },
   {
    "duration": 20,
    "start_time": "2021-06-28T16:52:05.109Z"
   },
   {
    "duration": 7,
    "start_time": "2021-06-28T16:52:05.132Z"
   },
   {
    "duration": 12,
    "start_time": "2021-06-28T16:52:05.141Z"
   },
   {
    "duration": 24,
    "start_time": "2021-06-28T16:52:05.155Z"
   },
   {
    "duration": 17,
    "start_time": "2021-06-28T16:52:05.181Z"
   },
   {
    "duration": 24,
    "start_time": "2021-06-28T16:52:05.201Z"
   },
   {
    "duration": 65,
    "start_time": "2021-06-28T16:52:05.229Z"
   },
   {
    "duration": 49,
    "start_time": "2021-06-28T16:52:05.297Z"
   },
   {
    "duration": 10,
    "start_time": "2021-06-28T16:52:05.349Z"
   },
   {
    "duration": 56,
    "start_time": "2021-06-28T16:52:05.361Z"
   },
   {
    "duration": 6,
    "start_time": "2021-06-28T16:52:05.419Z"
   },
   {
    "duration": 20,
    "start_time": "2021-06-28T16:52:05.427Z"
   },
   {
    "duration": 351,
    "start_time": "2021-06-28T16:52:05.449Z"
   },
   {
    "duration": 279,
    "start_time": "2021-06-28T16:52:05.803Z"
   },
   {
    "duration": 9,
    "start_time": "2021-06-28T16:52:06.085Z"
   },
   {
    "duration": 19,
    "start_time": "2021-06-28T16:52:06.097Z"
   },
   {
    "duration": 37,
    "start_time": "2021-06-28T16:52:06.118Z"
   },
   {
    "duration": 17,
    "start_time": "2021-06-28T16:52:06.157Z"
   },
   {
    "duration": 26,
    "start_time": "2021-06-28T16:52:06.176Z"
   },
   {
    "duration": 9,
    "start_time": "2021-06-28T16:52:06.205Z"
   },
   {
    "duration": 1548,
    "start_time": "2021-06-28T16:52:14.177Z"
   },
   {
    "duration": 20,
    "start_time": "2021-06-28T16:52:15.728Z"
   },
   {
    "duration": 21,
    "start_time": "2021-06-28T16:52:15.752Z"
   },
   {
    "duration": 5,
    "start_time": "2021-06-28T16:52:15.777Z"
   },
   {
    "duration": 10,
    "start_time": "2021-06-28T16:52:15.785Z"
   },
   {
    "duration": 14,
    "start_time": "2021-06-28T16:52:15.797Z"
   },
   {
    "duration": 43,
    "start_time": "2021-06-28T16:52:15.814Z"
   },
   {
    "duration": 14,
    "start_time": "2021-06-28T16:52:15.861Z"
   },
   {
    "duration": 56,
    "start_time": "2021-06-28T16:52:15.878Z"
   },
   {
    "duration": 62,
    "start_time": "2021-06-28T16:52:15.936Z"
   },
   {
    "duration": 10,
    "start_time": "2021-06-28T16:52:16.002Z"
   },
   {
    "duration": 64,
    "start_time": "2021-06-28T16:52:16.015Z"
   },
   {
    "duration": 5,
    "start_time": "2021-06-28T16:52:16.082Z"
   },
   {
    "duration": 18,
    "start_time": "2021-06-28T16:52:16.089Z"
   },
   {
    "duration": 358,
    "start_time": "2021-06-28T16:52:16.110Z"
   },
   {
    "duration": 285,
    "start_time": "2021-06-28T16:52:16.470Z"
   },
   {
    "duration": 9,
    "start_time": "2021-06-28T16:52:16.757Z"
   },
   {
    "duration": 25,
    "start_time": "2021-06-28T16:52:16.768Z"
   },
   {
    "duration": 21,
    "start_time": "2021-06-28T16:52:16.796Z"
   },
   {
    "duration": 24,
    "start_time": "2021-06-28T16:52:16.820Z"
   },
   {
    "duration": 25,
    "start_time": "2021-06-28T16:52:16.846Z"
   },
   {
    "duration": 15,
    "start_time": "2021-06-28T16:52:16.874Z"
   },
   {
    "duration": 803,
    "start_time": "2021-06-28T16:52:16.894Z"
   },
   {
    "duration": 620,
    "start_time": "2021-06-28T16:52:17.700Z"
   },
   {
    "duration": 568,
    "start_time": "2021-06-28T16:52:18.322Z"
   },
   {
    "duration": 747,
    "start_time": "2021-06-28T16:55:53.118Z"
   },
   {
    "duration": 4,
    "start_time": "2021-06-28T16:56:02.698Z"
   },
   {
    "duration": 747,
    "start_time": "2021-06-28T16:56:09.588Z"
   },
   {
    "duration": 408,
    "start_time": "2021-06-28T16:57:58.715Z"
   },
   {
    "duration": 454,
    "start_time": "2021-06-28T16:58:32.485Z"
   },
   {
    "duration": 512,
    "start_time": "2021-06-28T16:58:35.405Z"
   },
   {
    "duration": 444,
    "start_time": "2021-06-28T16:58:38.374Z"
   },
   {
    "duration": 735,
    "start_time": "2021-06-28T16:58:54.597Z"
   },
   {
    "duration": 672,
    "start_time": "2021-06-28T16:59:55.761Z"
   },
   {
    "duration": 680,
    "start_time": "2021-06-28T17:00:12.946Z"
   },
   {
    "duration": 725,
    "start_time": "2021-06-28T17:02:45.467Z"
   },
   {
    "duration": 6142,
    "start_time": "2021-06-28T17:04:10.889Z"
   },
   {
    "duration": 450,
    "start_time": "2021-06-28T17:04:55.611Z"
   },
   {
    "duration": 676,
    "start_time": "2021-06-28T17:05:11.372Z"
   },
   {
    "duration": 666,
    "start_time": "2021-06-28T17:05:21.526Z"
   },
   {
    "duration": 826,
    "start_time": "2021-06-28T17:05:44.291Z"
   },
   {
    "duration": 797,
    "start_time": "2021-06-28T17:05:56.290Z"
   },
   {
    "duration": 915,
    "start_time": "2021-06-28T17:07:18.504Z"
   },
   {
    "duration": 10,
    "start_time": "2021-06-28T17:09:00.145Z"
   },
   {
    "duration": 9,
    "start_time": "2021-06-28T17:09:01.469Z"
   },
   {
    "duration": 12,
    "start_time": "2021-06-28T17:09:02.531Z"
   },
   {
    "duration": 12,
    "start_time": "2021-06-28T17:12:00.277Z"
   },
   {
    "duration": 14,
    "start_time": "2021-06-28T17:12:01.095Z"
   },
   {
    "duration": 13,
    "start_time": "2021-06-28T17:12:52.960Z"
   },
   {
    "duration": 10,
    "start_time": "2021-06-28T17:12:55.867Z"
   },
   {
    "duration": 14,
    "start_time": "2021-06-28T17:12:57.071Z"
   },
   {
    "duration": 832,
    "start_time": "2021-06-28T17:14:28.178Z"
   },
   {
    "duration": 667,
    "start_time": "2021-06-28T17:16:14.602Z"
   },
   {
    "duration": 80,
    "start_time": "2021-06-28T17:16:29.087Z"
   },
   {
    "duration": 704,
    "start_time": "2021-06-28T17:16:35.043Z"
   },
   {
    "duration": 648,
    "start_time": "2021-06-28T17:16:38.600Z"
   },
   {
    "duration": 723,
    "start_time": "2021-06-28T17:16:44.380Z"
   },
   {
    "duration": 698,
    "start_time": "2021-06-28T17:17:24.079Z"
   },
   {
    "duration": 898,
    "start_time": "2021-06-28T17:18:31.877Z"
   },
   {
    "duration": 799,
    "start_time": "2021-06-28T17:20:27.100Z"
   },
   {
    "duration": 865,
    "start_time": "2021-06-28T17:20:34.783Z"
   },
   {
    "duration": 808,
    "start_time": "2021-06-28T17:20:47.015Z"
   },
   {
    "duration": 857,
    "start_time": "2021-06-28T17:20:50.771Z"
   },
   {
    "duration": 802,
    "start_time": "2021-06-28T17:21:12.338Z"
   },
   {
    "duration": 250,
    "start_time": "2021-06-28T17:26:04.827Z"
   },
   {
    "duration": 248,
    "start_time": "2021-06-28T17:26:20.778Z"
   },
   {
    "duration": 250,
    "start_time": "2021-06-28T17:26:25.722Z"
   },
   {
    "duration": 5907,
    "start_time": "2021-06-28T17:26:42.584Z"
   },
   {
    "duration": 206,
    "start_time": "2021-06-28T17:27:11.359Z"
   },
   {
    "duration": 179,
    "start_time": "2021-06-28T17:27:40.426Z"
   },
   {
    "duration": 253,
    "start_time": "2021-06-28T17:28:41.553Z"
   },
   {
    "duration": 451,
    "start_time": "2021-06-28T17:29:11.636Z"
   },
   {
    "duration": 6355,
    "start_time": "2021-06-28T17:29:18.446Z"
   },
   {
    "duration": 691,
    "start_time": "2021-06-28T17:29:32.199Z"
   },
   {
    "duration": 682,
    "start_time": "2021-06-28T17:30:52.486Z"
   },
   {
    "duration": 527,
    "start_time": "2021-06-28T17:31:01.858Z"
   },
   {
    "duration": 720,
    "start_time": "2021-06-28T17:31:05.142Z"
   },
   {
    "duration": 728,
    "start_time": "2021-06-28T17:31:14.469Z"
   },
   {
    "duration": 12,
    "start_time": "2021-06-28T17:32:22.500Z"
   },
   {
    "duration": 762,
    "start_time": "2021-06-28T17:33:15.882Z"
   },
   {
    "duration": 742,
    "start_time": "2021-06-28T17:33:22.935Z"
   },
   {
    "duration": 785,
    "start_time": "2021-06-28T17:35:31.899Z"
   },
   {
    "duration": 510,
    "start_time": "2021-06-28T17:36:03.054Z"
   },
   {
    "duration": 766,
    "start_time": "2021-06-28T17:36:08.302Z"
   },
   {
    "duration": 818,
    "start_time": "2021-06-28T17:36:16.439Z"
   },
   {
    "duration": 788,
    "start_time": "2021-06-28T17:36:23.247Z"
   },
   {
    "duration": 7554,
    "start_time": "2021-06-28T17:36:40.887Z"
   },
   {
    "duration": 11,
    "start_time": "2021-06-28T17:36:56.877Z"
   },
   {
    "duration": 493,
    "start_time": "2021-06-28T17:37:01.790Z"
   },
   {
    "duration": 744,
    "start_time": "2021-06-28T17:37:06.064Z"
   },
   {
    "duration": 924,
    "start_time": "2021-06-28T17:37:36.796Z"
   },
   {
    "duration": 8,
    "start_time": "2021-06-28T17:39:03.571Z"
   },
   {
    "duration": 7,
    "start_time": "2021-06-28T17:39:08.528Z"
   },
   {
    "duration": 8,
    "start_time": "2021-06-28T17:39:16.005Z"
   },
   {
    "duration": 11,
    "start_time": "2021-06-28T17:39:26.394Z"
   },
   {
    "duration": 7,
    "start_time": "2021-06-28T17:40:03.012Z"
   },
   {
    "duration": 7,
    "start_time": "2021-06-28T17:40:12.907Z"
   },
   {
    "duration": 8,
    "start_time": "2021-06-28T17:40:22.141Z"
   },
   {
    "duration": 558,
    "start_time": "2021-06-28T17:41:46.141Z"
   },
   {
    "duration": 573,
    "start_time": "2021-06-28T17:41:59.816Z"
   },
   {
    "duration": 582,
    "start_time": "2021-06-28T17:42:12.727Z"
   },
   {
    "duration": 9,
    "start_time": "2021-06-28T17:43:31.914Z"
   },
   {
    "duration": 1517,
    "start_time": "2021-06-28T17:43:42.923Z"
   },
   {
    "duration": 23,
    "start_time": "2021-06-28T17:43:44.443Z"
   },
   {
    "duration": 22,
    "start_time": "2021-06-28T17:43:44.474Z"
   },
   {
    "duration": 6,
    "start_time": "2021-06-28T17:43:44.499Z"
   },
   {
    "duration": 12,
    "start_time": "2021-06-28T17:43:44.507Z"
   },
   {
    "duration": 13,
    "start_time": "2021-06-28T17:43:44.555Z"
   },
   {
    "duration": 10,
    "start_time": "2021-06-28T17:43:44.572Z"
   },
   {
    "duration": 18,
    "start_time": "2021-06-28T17:43:44.585Z"
   },
   {
    "duration": 71,
    "start_time": "2021-06-28T17:43:44.607Z"
   },
   {
    "duration": 98,
    "start_time": "2021-06-28T17:43:44.681Z"
   },
   {
    "duration": 16,
    "start_time": "2021-06-28T17:43:44.782Z"
   },
   {
    "duration": 77,
    "start_time": "2021-06-28T17:43:44.802Z"
   },
   {
    "duration": 6,
    "start_time": "2021-06-28T17:43:44.883Z"
   },
   {
    "duration": 18,
    "start_time": "2021-06-28T17:43:44.892Z"
   },
   {
    "duration": 382,
    "start_time": "2021-06-28T17:43:44.913Z"
   },
   {
    "duration": 299,
    "start_time": "2021-06-28T17:43:45.299Z"
   },
   {
    "duration": 10,
    "start_time": "2021-06-28T17:43:45.601Z"
   },
   {
    "duration": 22,
    "start_time": "2021-06-28T17:43:45.614Z"
   },
   {
    "duration": 14,
    "start_time": "2021-06-28T17:43:45.656Z"
   },
   {
    "duration": 16,
    "start_time": "2021-06-28T17:43:45.673Z"
   },
   {
    "duration": 16,
    "start_time": "2021-06-28T17:43:45.692Z"
   },
   {
    "duration": 40,
    "start_time": "2021-06-28T17:43:45.713Z"
   },
   {
    "duration": 791,
    "start_time": "2021-06-28T17:43:45.757Z"
   },
   {
    "duration": 756,
    "start_time": "2021-06-28T17:43:46.554Z"
   },
   {
    "duration": 798,
    "start_time": "2021-06-28T17:43:47.313Z"
   },
   {
    "duration": 757,
    "start_time": "2021-06-28T17:43:48.113Z"
   },
   {
    "duration": 842,
    "start_time": "2021-06-28T17:43:48.873Z"
   },
   {
    "duration": 937,
    "start_time": "2021-06-28T17:43:49.717Z"
   },
   {
    "duration": 9,
    "start_time": "2021-06-28T17:43:50.656Z"
   },
   {
    "duration": 620,
    "start_time": "2021-06-28T17:43:50.668Z"
   },
   {
    "duration": 9,
    "start_time": "2021-06-28T17:43:51.290Z"
   },
   {
    "duration": 452,
    "start_time": "2021-06-28T17:45:12.618Z"
   },
   {
    "duration": 277,
    "start_time": "2021-06-28T17:45:23.637Z"
   },
   {
    "duration": 363,
    "start_time": "2021-06-28T17:45:31.492Z"
   },
   {
    "duration": 260,
    "start_time": "2021-06-28T17:45:35.865Z"
   },
   {
    "duration": 263,
    "start_time": "2021-06-28T17:45:42.287Z"
   },
   {
    "duration": 258,
    "start_time": "2021-06-28T17:46:45.708Z"
   },
   {
    "duration": 264,
    "start_time": "2021-06-28T17:46:53.149Z"
   },
   {
    "duration": 550,
    "start_time": "2021-06-28T17:47:08.691Z"
   },
   {
    "duration": 546,
    "start_time": "2021-06-28T17:47:16.630Z"
   },
   {
    "duration": 435,
    "start_time": "2021-06-30T15:58:01.010Z"
   },
   {
    "duration": 1475,
    "start_time": "2021-06-30T15:58:05.676Z"
   },
   {
    "duration": 17,
    "start_time": "2021-06-30T15:58:07.154Z"
   },
   {
    "duration": 22,
    "start_time": "2021-06-30T15:58:07.174Z"
   },
   {
    "duration": 7,
    "start_time": "2021-06-30T15:58:07.200Z"
   },
   {
    "duration": 12,
    "start_time": "2021-06-30T15:58:07.210Z"
   },
   {
    "duration": 38,
    "start_time": "2021-06-30T15:58:07.225Z"
   },
   {
    "duration": 6,
    "start_time": "2021-06-30T15:58:07.266Z"
   },
   {
    "duration": 18,
    "start_time": "2021-06-30T15:58:07.276Z"
   },
   {
    "duration": 47,
    "start_time": "2021-06-30T15:58:07.297Z"
   },
   {
    "duration": 64,
    "start_time": "2021-06-30T15:58:07.346Z"
   },
   {
    "duration": 49,
    "start_time": "2021-06-30T15:58:07.413Z"
   },
   {
    "duration": 35,
    "start_time": "2021-06-30T15:58:07.465Z"
   },
   {
    "duration": 5,
    "start_time": "2021-06-30T15:58:07.502Z"
   },
   {
    "duration": 11,
    "start_time": "2021-06-30T15:58:07.509Z"
   },
   {
    "duration": 373,
    "start_time": "2021-06-30T15:58:07.522Z"
   },
   {
    "duration": 280,
    "start_time": "2021-06-30T15:58:07.898Z"
   },
   {
    "duration": 12,
    "start_time": "2021-06-30T15:58:08.180Z"
   },
   {
    "duration": 20,
    "start_time": "2021-06-30T15:58:08.194Z"
   },
   {
    "duration": 12,
    "start_time": "2021-06-30T15:58:08.217Z"
   },
   {
    "duration": 35,
    "start_time": "2021-06-30T15:58:08.232Z"
   },
   {
    "duration": 14,
    "start_time": "2021-06-30T15:58:08.270Z"
   },
   {
    "duration": 7,
    "start_time": "2021-06-30T15:58:08.286Z"
   },
   {
    "duration": 800,
    "start_time": "2021-06-30T15:58:08.297Z"
   },
   {
    "duration": 758,
    "start_time": "2021-06-30T15:58:09.099Z"
   },
   {
    "duration": 778,
    "start_time": "2021-06-30T15:58:09.862Z"
   },
   {
    "duration": 759,
    "start_time": "2021-06-30T15:58:10.642Z"
   },
   {
    "duration": 823,
    "start_time": "2021-06-30T15:58:11.403Z"
   },
   {
    "duration": 978,
    "start_time": "2021-06-30T15:58:12.228Z"
   },
   {
    "duration": 8,
    "start_time": "2021-06-30T15:58:13.208Z"
   },
   {
    "duration": 649,
    "start_time": "2021-06-30T15:58:13.218Z"
   },
   {
    "duration": 9,
    "start_time": "2021-06-30T15:58:13.869Z"
   },
   {
    "duration": 529,
    "start_time": "2021-06-30T15:58:13.880Z"
   },
   {
    "duration": 373,
    "start_time": "2021-06-30T15:58:53.451Z"
   },
   {
    "duration": 305,
    "start_time": "2021-06-30T15:59:57.493Z"
   },
   {
    "duration": 8876,
    "start_time": "2021-06-30T16:03:11.970Z"
   },
   {
    "duration": 114,
    "start_time": "2021-06-30T16:04:07.614Z"
   },
   {
    "duration": 552,
    "start_time": "2021-06-30T16:04:21.003Z"
   },
   {
    "duration": 104,
    "start_time": "2021-06-30T16:04:30.200Z"
   },
   {
    "duration": 550,
    "start_time": "2021-06-30T16:04:35.673Z"
   },
   {
    "duration": 334,
    "start_time": "2021-06-30T16:09:20.855Z"
   },
   {
    "duration": 4,
    "start_time": "2021-06-30T16:09:54.588Z"
   },
   {
    "duration": 342,
    "start_time": "2021-06-30T16:09:58.358Z"
   },
   {
    "duration": 6,
    "start_time": "2021-06-30T16:10:19.750Z"
   },
   {
    "duration": 6,
    "start_time": "2021-06-30T16:10:39.716Z"
   },
   {
    "duration": 5,
    "start_time": "2021-06-30T16:10:52.018Z"
   },
   {
    "duration": 21,
    "start_time": "2021-06-30T16:13:21.738Z"
   },
   {
    "duration": 15,
    "start_time": "2021-06-30T16:13:28.767Z"
   },
   {
    "duration": 11,
    "start_time": "2021-06-30T16:15:29.624Z"
   },
   {
    "duration": 17,
    "start_time": "2021-06-30T16:15:50.098Z"
   },
   {
    "duration": 20,
    "start_time": "2021-06-30T16:15:58.266Z"
   },
   {
    "duration": 304,
    "start_time": "2021-06-30T16:22:39.924Z"
   },
   {
    "duration": 275,
    "start_time": "2021-06-30T16:22:49.151Z"
   },
   {
    "duration": 268,
    "start_time": "2021-06-30T16:22:55.689Z"
   },
   {
    "duration": 12,
    "start_time": "2021-06-30T16:23:20.618Z"
   },
   {
    "duration": 8,
    "start_time": "2021-06-30T16:23:29.255Z"
   },
   {
    "duration": 117,
    "start_time": "2021-06-30T16:24:58.312Z"
   },
   {
    "duration": 297,
    "start_time": "2021-06-30T16:31:39.705Z"
   },
   {
    "duration": 646,
    "start_time": "2021-06-30T16:32:35.407Z"
   },
   {
    "duration": 334,
    "start_time": "2021-06-30T16:32:41.936Z"
   },
   {
    "duration": 14,
    "start_time": "2021-06-30T16:33:28.742Z"
   },
   {
    "duration": 360,
    "start_time": "2021-06-30T16:33:42.343Z"
   },
   {
    "duration": 15,
    "start_time": "2021-06-30T16:34:00.140Z"
   },
   {
    "duration": 1906,
    "start_time": "2021-07-01T15:20:58.319Z"
   },
   {
    "duration": 21,
    "start_time": "2021-07-01T15:21:00.228Z"
   },
   {
    "duration": 28,
    "start_time": "2021-07-01T15:21:00.257Z"
   },
   {
    "duration": 12,
    "start_time": "2021-07-01T15:21:00.288Z"
   },
   {
    "duration": 19,
    "start_time": "2021-07-01T15:21:00.302Z"
   },
   {
    "duration": 20,
    "start_time": "2021-07-01T15:21:00.323Z"
   },
   {
    "duration": 13,
    "start_time": "2021-07-01T15:21:00.347Z"
   },
   {
    "duration": 18,
    "start_time": "2021-07-01T15:21:00.363Z"
   },
   {
    "duration": 61,
    "start_time": "2021-07-01T15:21:00.383Z"
   },
   {
    "duration": 57,
    "start_time": "2021-07-01T15:21:00.446Z"
   },
   {
    "duration": 10,
    "start_time": "2021-07-01T15:21:00.506Z"
   },
   {
    "duration": 30,
    "start_time": "2021-07-01T15:21:00.556Z"
   },
   {
    "duration": 17,
    "start_time": "2021-07-01T15:21:00.588Z"
   },
   {
    "duration": 26,
    "start_time": "2021-07-01T15:21:00.607Z"
   },
   {
    "duration": 495,
    "start_time": "2021-07-01T15:21:00.636Z"
   },
   {
    "duration": 374,
    "start_time": "2021-07-01T15:21:01.134Z"
   },
   {
    "duration": 15,
    "start_time": "2021-07-01T15:21:01.511Z"
   },
   {
    "duration": 37,
    "start_time": "2021-07-01T15:21:01.529Z"
   },
   {
    "duration": 16,
    "start_time": "2021-07-01T15:21:01.569Z"
   },
   {
    "duration": 25,
    "start_time": "2021-07-01T15:21:01.588Z"
   },
   {
    "duration": 27,
    "start_time": "2021-07-01T15:21:01.616Z"
   },
   {
    "duration": 6,
    "start_time": "2021-07-01T15:21:01.658Z"
   },
   {
    "duration": 1017,
    "start_time": "2021-07-01T15:21:01.668Z"
   },
   {
    "duration": 1045,
    "start_time": "2021-07-01T15:21:02.687Z"
   },
   {
    "duration": 792,
    "start_time": "2021-07-01T15:21:03.735Z"
   },
   {
    "duration": 777,
    "start_time": "2021-07-01T15:21:04.530Z"
   },
   {
    "duration": 814,
    "start_time": "2021-07-01T15:21:05.310Z"
   },
   {
    "duration": 995,
    "start_time": "2021-07-01T15:21:06.126Z"
   },
   {
    "duration": 9,
    "start_time": "2021-07-01T15:21:07.123Z"
   },
   {
    "duration": 645,
    "start_time": "2021-07-01T15:21:07.134Z"
   },
   {
    "duration": 8,
    "start_time": "2021-07-01T15:21:07.782Z"
   },
   {
    "duration": 325,
    "start_time": "2021-07-01T15:21:07.793Z"
   },
   {
    "duration": 14,
    "start_time": "2021-07-01T15:21:08.121Z"
   },
   {
    "duration": 6918,
    "start_time": "2021-07-01T15:21:08.154Z"
   },
   {
    "duration": 6890,
    "start_time": "2021-07-01T15:21:40.281Z"
   },
   {
    "duration": 11,
    "start_time": "2021-07-01T15:22:20.572Z"
   },
   {
    "duration": 331,
    "start_time": "2021-07-01T15:22:39.254Z"
   },
   {
    "duration": 11,
    "start_time": "2021-07-01T15:22:42.065Z"
   },
   {
    "duration": 280,
    "start_time": "2021-07-01T15:23:16.531Z"
   },
   {
    "duration": 13,
    "start_time": "2021-07-01T15:23:20.309Z"
   },
   {
    "duration": 292,
    "start_time": "2021-07-01T15:23:31.718Z"
   },
   {
    "duration": 265,
    "start_time": "2021-07-01T15:23:38.323Z"
   },
   {
    "duration": 30,
    "start_time": "2021-07-01T15:23:42.748Z"
   },
   {
    "duration": 12,
    "start_time": "2021-07-01T15:24:07.177Z"
   },
   {
    "duration": 18,
    "start_time": "2021-07-01T15:24:08.242Z"
   },
   {
    "duration": 65,
    "start_time": "2021-07-01T15:24:41.918Z"
   },
   {
    "duration": 62,
    "start_time": "2021-07-01T15:24:55.903Z"
   },
   {
    "duration": 214,
    "start_time": "2021-07-01T15:25:17.997Z"
   },
   {
    "duration": 13,
    "start_time": "2021-07-01T15:25:23.668Z"
   },
   {
    "duration": 65,
    "start_time": "2021-07-01T15:25:26.434Z"
   },
   {
    "duration": 8,
    "start_time": "2021-07-01T15:29:22.216Z"
   },
   {
    "duration": 7,
    "start_time": "2021-07-01T15:29:28.424Z"
   },
   {
    "duration": 8,
    "start_time": "2021-07-01T15:29:35.433Z"
   },
   {
    "duration": 6,
    "start_time": "2021-07-01T15:29:39.942Z"
   },
   {
    "duration": 87,
    "start_time": "2021-07-01T15:32:23.019Z"
   },
   {
    "duration": 7,
    "start_time": "2021-07-01T15:32:33.987Z"
   },
   {
    "duration": 7,
    "start_time": "2021-07-01T15:32:36.604Z"
   },
   {
    "duration": 7,
    "start_time": "2021-07-01T15:32:39.611Z"
   },
   {
    "duration": 12,
    "start_time": "2021-07-01T15:33:44.644Z"
   },
   {
    "duration": 6,
    "start_time": "2021-07-01T15:33:45.554Z"
   },
   {
    "duration": 96,
    "start_time": "2021-07-01T15:34:06.684Z"
   },
   {
    "duration": 96,
    "start_time": "2021-07-01T15:34:10.434Z"
   },
   {
    "duration": 280,
    "start_time": "2021-07-01T15:34:17.250Z"
   },
   {
    "duration": 258,
    "start_time": "2021-07-01T15:34:35.401Z"
   },
   {
    "duration": 6937,
    "start_time": "2021-07-01T15:34:40.358Z"
   },
   {
    "duration": 9,
    "start_time": "2021-07-01T15:35:42.989Z"
   },
   {
    "duration": 15,
    "start_time": "2021-07-01T15:36:31.746Z"
   },
   {
    "duration": 7,
    "start_time": "2021-07-01T15:38:09.733Z"
   },
   {
    "duration": 92,
    "start_time": "2021-07-01T15:38:57.975Z"
   },
   {
    "duration": 282,
    "start_time": "2021-07-01T15:39:01.079Z"
   },
   {
    "duration": 8,
    "start_time": "2021-07-01T15:39:03.892Z"
   },
   {
    "duration": 8,
    "start_time": "2021-07-01T15:39:05.084Z"
   },
   {
    "duration": 11,
    "start_time": "2021-07-01T15:39:33.513Z"
   },
   {
    "duration": 7,
    "start_time": "2021-07-01T15:39:34.284Z"
   },
   {
    "duration": 31,
    "start_time": "2021-07-01T15:49:45.784Z"
   },
   {
    "duration": 1423,
    "start_time": "2021-07-01T15:49:57.499Z"
   },
   {
    "duration": 22,
    "start_time": "2021-07-01T15:49:58.925Z"
   },
   {
    "duration": 18,
    "start_time": "2021-07-01T15:49:58.956Z"
   },
   {
    "duration": 6,
    "start_time": "2021-07-01T15:49:58.976Z"
   },
   {
    "duration": 13,
    "start_time": "2021-07-01T15:49:58.985Z"
   },
   {
    "duration": 13,
    "start_time": "2021-07-01T15:49:59.001Z"
   },
   {
    "duration": 36,
    "start_time": "2021-07-01T15:49:59.018Z"
   },
   {
    "duration": 22,
    "start_time": "2021-07-01T15:49:59.057Z"
   },
   {
    "duration": 63,
    "start_time": "2021-07-01T15:49:59.082Z"
   },
   {
    "duration": 55,
    "start_time": "2021-07-01T15:49:59.148Z"
   },
   {
    "duration": 50,
    "start_time": "2021-07-01T15:49:59.206Z"
   },
   {
    "duration": 45,
    "start_time": "2021-07-01T15:49:59.259Z"
   },
   {
    "duration": 6,
    "start_time": "2021-07-01T15:49:59.306Z"
   },
   {
    "duration": 19,
    "start_time": "2021-07-01T15:49:59.314Z"
   },
   {
    "duration": 372,
    "start_time": "2021-07-01T15:49:59.336Z"
   },
   {
    "duration": 288,
    "start_time": "2021-07-01T15:49:59.711Z"
   },
   {
    "duration": 26,
    "start_time": "2021-07-01T15:50:00.001Z"
   },
   {
    "duration": 20,
    "start_time": "2021-07-01T15:50:00.029Z"
   },
   {
    "duration": 19,
    "start_time": "2021-07-01T15:50:00.055Z"
   },
   {
    "duration": 14,
    "start_time": "2021-07-01T15:50:00.076Z"
   },
   {
    "duration": 17,
    "start_time": "2021-07-01T15:50:00.092Z"
   },
   {
    "duration": 13,
    "start_time": "2021-07-01T15:50:00.114Z"
   },
   {
    "duration": 896,
    "start_time": "2021-07-01T15:50:00.130Z"
   },
   {
    "duration": 843,
    "start_time": "2021-07-01T15:50:01.029Z"
   },
   {
    "duration": 844,
    "start_time": "2021-07-01T15:50:01.875Z"
   },
   {
    "duration": 739,
    "start_time": "2021-07-01T15:50:02.722Z"
   },
   {
    "duration": 868,
    "start_time": "2021-07-01T15:50:03.465Z"
   },
   {
    "duration": 976,
    "start_time": "2021-07-01T15:50:04.336Z"
   },
   {
    "duration": 8,
    "start_time": "2021-07-01T15:50:05.315Z"
   },
   {
    "duration": 739,
    "start_time": "2021-07-01T15:50:05.325Z"
   },
   {
    "duration": 8,
    "start_time": "2021-07-01T15:50:06.066Z"
   },
   {
    "duration": 223,
    "start_time": "2021-07-01T15:50:06.076Z"
   },
   {
    "duration": 17,
    "start_time": "2021-07-01T15:50:06.302Z"
   },
   {
    "duration": 85,
    "start_time": "2021-07-01T15:50:06.321Z"
   },
   {
    "duration": 7,
    "start_time": "2021-07-01T15:50:06.408Z"
   },
   {
    "duration": 10,
    "start_time": "2021-07-01T15:50:06.418Z"
   },
   {
    "duration": 33,
    "start_time": "2021-07-01T15:50:06.430Z"
   },
   {
    "duration": 27,
    "start_time": "2021-07-01T15:50:06.465Z"
   },
   {
    "duration": 85,
    "start_time": "2021-07-01T15:50:06.494Z"
   },
   {
    "duration": 11,
    "start_time": "2021-07-01T15:50:06.581Z"
   },
   {
    "duration": 9,
    "start_time": "2021-07-01T15:50:06.594Z"
   },
   {
    "duration": 29,
    "start_time": "2021-07-01T15:52:34.737Z"
   },
   {
    "duration": 1465,
    "start_time": "2021-07-01T15:52:47.742Z"
   },
   {
    "duration": 21,
    "start_time": "2021-07-01T15:52:49.211Z"
   },
   {
    "duration": 21,
    "start_time": "2021-07-01T15:52:49.235Z"
   },
   {
    "duration": 5,
    "start_time": "2021-07-01T15:52:49.258Z"
   },
   {
    "duration": 10,
    "start_time": "2021-07-01T15:52:49.265Z"
   },
   {
    "duration": 13,
    "start_time": "2021-07-01T15:52:49.277Z"
   },
   {
    "duration": 12,
    "start_time": "2021-07-01T15:52:49.293Z"
   },
   {
    "duration": 47,
    "start_time": "2021-07-01T15:52:49.309Z"
   },
   {
    "duration": 54,
    "start_time": "2021-07-01T15:52:49.359Z"
   },
   {
    "duration": 56,
    "start_time": "2021-07-01T15:52:49.415Z"
   },
   {
    "duration": 11,
    "start_time": "2021-07-01T15:52:49.474Z"
   },
   {
    "duration": 31,
    "start_time": "2021-07-01T15:52:49.487Z"
   },
   {
    "duration": 38,
    "start_time": "2021-07-01T15:52:49.520Z"
   },
   {
    "duration": 11,
    "start_time": "2021-07-01T15:52:49.560Z"
   },
   {
    "duration": 358,
    "start_time": "2021-07-01T15:52:49.573Z"
   },
   {
    "duration": 286,
    "start_time": "2021-07-01T15:52:49.933Z"
   },
   {
    "duration": 9,
    "start_time": "2021-07-01T15:52:50.222Z"
   },
   {
    "duration": 32,
    "start_time": "2021-07-01T15:52:50.233Z"
   },
   {
    "duration": 16,
    "start_time": "2021-07-01T15:52:50.267Z"
   },
   {
    "duration": 11,
    "start_time": "2021-07-01T15:52:50.286Z"
   },
   {
    "duration": 17,
    "start_time": "2021-07-01T15:52:50.299Z"
   },
   {
    "duration": 35,
    "start_time": "2021-07-01T15:52:50.319Z"
   },
   {
    "duration": 761,
    "start_time": "2021-07-01T15:52:50.359Z"
   },
   {
    "duration": 865,
    "start_time": "2021-07-01T15:52:51.123Z"
   },
   {
    "duration": 805,
    "start_time": "2021-07-01T15:52:51.990Z"
   },
   {
    "duration": 758,
    "start_time": "2021-07-01T15:52:52.797Z"
   },
   {
    "duration": 947,
    "start_time": "2021-07-01T15:52:53.558Z"
   },
   {
    "duration": 961,
    "start_time": "2021-07-01T15:52:54.508Z"
   },
   {
    "duration": 9,
    "start_time": "2021-07-01T15:52:55.472Z"
   },
   {
    "duration": 615,
    "start_time": "2021-07-01T15:52:55.484Z"
   },
   {
    "duration": 9,
    "start_time": "2021-07-01T15:52:56.102Z"
   },
   {
    "duration": 247,
    "start_time": "2021-07-01T15:52:56.114Z"
   },
   {
    "duration": 17,
    "start_time": "2021-07-01T15:52:56.363Z"
   },
   {
    "duration": 88,
    "start_time": "2021-07-01T15:52:56.382Z"
   },
   {
    "duration": 9,
    "start_time": "2021-07-01T15:52:56.473Z"
   },
   {
    "duration": 20,
    "start_time": "2021-07-01T15:52:56.484Z"
   },
   {
    "duration": 15,
    "start_time": "2021-07-01T15:52:56.507Z"
   },
   {
    "duration": 44,
    "start_time": "2021-07-01T15:52:56.525Z"
   },
   {
    "duration": 70,
    "start_time": "2021-07-01T15:52:56.572Z"
   },
   {
    "duration": 20,
    "start_time": "2021-07-01T15:52:56.644Z"
   },
   {
    "duration": 6,
    "start_time": "2021-07-01T15:52:56.667Z"
   },
   {
    "duration": 546,
    "start_time": "2021-07-01T16:07:30.633Z"
   },
   {
    "duration": 19,
    "start_time": "2021-07-01T16:08:36.596Z"
   },
   {
    "duration": 26,
    "start_time": "2021-07-01T16:08:46.490Z"
   },
   {
    "duration": 19,
    "start_time": "2021-07-01T16:08:52.993Z"
   },
   {
    "duration": 858,
    "start_time": "2021-07-01T16:09:23.698Z"
   },
   {
    "duration": 67,
    "start_time": "2021-07-01T16:16:52.785Z"
   },
   {
    "duration": 8,
    "start_time": "2021-07-01T16:20:17.493Z"
   },
   {
    "duration": 7,
    "start_time": "2021-07-01T16:20:21.393Z"
   },
   {
    "duration": 1444,
    "start_time": "2021-07-01T16:50:52.675Z"
   },
   {
    "duration": 19,
    "start_time": "2021-07-01T16:50:54.122Z"
   },
   {
    "duration": 30,
    "start_time": "2021-07-01T16:50:54.144Z"
   },
   {
    "duration": 18,
    "start_time": "2021-07-01T16:50:54.177Z"
   },
   {
    "duration": 23,
    "start_time": "2021-07-01T16:50:54.199Z"
   },
   {
    "duration": 26,
    "start_time": "2021-07-01T16:50:54.225Z"
   },
   {
    "duration": 8,
    "start_time": "2021-07-01T16:50:54.254Z"
   },
   {
    "duration": 24,
    "start_time": "2021-07-01T16:50:54.267Z"
   },
   {
    "duration": 68,
    "start_time": "2021-07-01T16:50:54.294Z"
   },
   {
    "duration": 97,
    "start_time": "2021-07-01T16:50:54.365Z"
   },
   {
    "duration": 11,
    "start_time": "2021-07-01T16:50:54.464Z"
   },
   {
    "duration": 55,
    "start_time": "2021-07-01T16:50:54.478Z"
   },
   {
    "duration": 21,
    "start_time": "2021-07-01T16:50:54.536Z"
   },
   {
    "duration": 26,
    "start_time": "2021-07-01T16:50:54.560Z"
   },
   {
    "duration": 365,
    "start_time": "2021-07-01T16:50:54.589Z"
   },
   {
    "duration": 287,
    "start_time": "2021-07-01T16:50:54.956Z"
   },
   {
    "duration": 11,
    "start_time": "2021-07-01T16:50:55.255Z"
   },
   {
    "duration": 24,
    "start_time": "2021-07-01T16:50:55.269Z"
   },
   {
    "duration": 14,
    "start_time": "2021-07-01T16:50:55.296Z"
   },
   {
    "duration": 28,
    "start_time": "2021-07-01T16:50:55.312Z"
   },
   {
    "duration": 14,
    "start_time": "2021-07-01T16:50:55.355Z"
   },
   {
    "duration": 21,
    "start_time": "2021-07-01T16:50:55.372Z"
   },
   {
    "duration": 773,
    "start_time": "2021-07-01T16:50:55.400Z"
   },
   {
    "duration": 748,
    "start_time": "2021-07-01T16:50:56.177Z"
   },
   {
    "duration": 781,
    "start_time": "2021-07-01T16:50:56.928Z"
   },
   {
    "duration": 753,
    "start_time": "2021-07-01T16:50:57.711Z"
   },
   {
    "duration": 860,
    "start_time": "2021-07-01T16:50:58.468Z"
   },
   {
    "duration": 985,
    "start_time": "2021-07-01T16:50:59.330Z"
   },
   {
    "duration": 872,
    "start_time": "2021-07-01T16:51:00.318Z"
   },
   {
    "duration": 219,
    "start_time": "2021-07-01T16:51:01.193Z"
   },
   {
    "duration": 16,
    "start_time": "2021-07-01T16:51:01.415Z"
   },
   {
    "duration": 85,
    "start_time": "2021-07-01T16:51:01.433Z"
   },
   {
    "duration": 7,
    "start_time": "2021-07-01T16:51:01.521Z"
   },
   {
    "duration": 38,
    "start_time": "2021-07-01T16:51:01.530Z"
   },
   {
    "duration": 35,
    "start_time": "2021-07-01T16:51:01.570Z"
   },
   {
    "duration": 44,
    "start_time": "2021-07-01T16:51:01.607Z"
   },
   {
    "duration": 79,
    "start_time": "2021-07-01T16:51:01.653Z"
   },
   {
    "duration": 11,
    "start_time": "2021-07-01T16:51:01.734Z"
   },
   {
    "duration": 50,
    "start_time": "2021-07-01T16:51:01.747Z"
   },
   {
    "duration": 7,
    "start_time": "2021-07-01T16:53:05.858Z"
   },
   {
    "duration": 12,
    "start_time": "2021-07-01T16:53:21.269Z"
   },
   {
    "duration": 20,
    "start_time": "2021-07-01T16:53:31.836Z"
   },
   {
    "duration": 16,
    "start_time": "2021-07-01T16:54:12.101Z"
   },
   {
    "duration": 7,
    "start_time": "2021-07-01T16:55:46.941Z"
   },
   {
    "duration": 8,
    "start_time": "2021-07-01T16:55:50.953Z"
   },
   {
    "duration": 291,
    "start_time": "2021-07-01T16:57:06.691Z"
   },
   {
    "duration": 341,
    "start_time": "2021-07-01T16:57:08.397Z"
   },
   {
    "duration": 9,
    "start_time": "2021-07-01T16:57:11.692Z"
   },
   {
    "duration": 13,
    "start_time": "2021-07-01T16:57:12.479Z"
   },
   {
    "duration": 34,
    "start_time": "2021-07-01T16:58:57.516Z"
   },
   {
    "duration": 1929,
    "start_time": "2021-07-01T16:59:43.345Z"
   },
   {
    "duration": 335,
    "start_time": "2021-07-01T17:00:01.551Z"
   },
   {
    "duration": 407,
    "start_time": "2021-07-01T17:00:43.090Z"
   },
   {
    "duration": 1510,
    "start_time": "2021-07-01T17:01:02.001Z"
   },
   {
    "duration": 19,
    "start_time": "2021-07-01T17:01:03.514Z"
   },
   {
    "duration": 27,
    "start_time": "2021-07-01T17:01:03.536Z"
   },
   {
    "duration": 12,
    "start_time": "2021-07-01T17:01:03.565Z"
   },
   {
    "duration": 12,
    "start_time": "2021-07-01T17:01:03.579Z"
   },
   {
    "duration": 19,
    "start_time": "2021-07-01T17:01:03.594Z"
   },
   {
    "duration": 10,
    "start_time": "2021-07-01T17:01:03.615Z"
   },
   {
    "duration": 30,
    "start_time": "2021-07-01T17:01:03.628Z"
   },
   {
    "duration": 61,
    "start_time": "2021-07-01T17:01:03.661Z"
   },
   {
    "duration": 54,
    "start_time": "2021-07-01T17:01:03.724Z"
   },
   {
    "duration": 10,
    "start_time": "2021-07-01T17:01:03.781Z"
   },
   {
    "duration": 61,
    "start_time": "2021-07-01T17:01:03.793Z"
   },
   {
    "duration": 6,
    "start_time": "2021-07-01T17:01:03.857Z"
   },
   {
    "duration": 12,
    "start_time": "2021-07-01T17:01:03.865Z"
   },
   {
    "duration": 374,
    "start_time": "2021-07-01T17:01:03.880Z"
   },
   {
    "duration": 282,
    "start_time": "2021-07-01T17:01:04.257Z"
   },
   {
    "duration": 19,
    "start_time": "2021-07-01T17:01:04.542Z"
   },
   {
    "duration": 17,
    "start_time": "2021-07-01T17:01:04.564Z"
   },
   {
    "duration": 14,
    "start_time": "2021-07-01T17:01:04.584Z"
   },
   {
    "duration": 54,
    "start_time": "2021-07-01T17:01:04.601Z"
   },
   {
    "duration": 14,
    "start_time": "2021-07-01T17:01:04.658Z"
   },
   {
    "duration": 10,
    "start_time": "2021-07-01T17:01:04.674Z"
   },
   {
    "duration": 755,
    "start_time": "2021-07-01T17:01:04.689Z"
   },
   {
    "duration": 743,
    "start_time": "2021-07-01T17:01:05.446Z"
   },
   {
    "duration": 797,
    "start_time": "2021-07-01T17:01:06.191Z"
   },
   {
    "duration": 738,
    "start_time": "2021-07-01T17:01:06.991Z"
   },
   {
    "duration": 803,
    "start_time": "2021-07-01T17:01:07.731Z"
   },
   {
    "duration": 975,
    "start_time": "2021-07-01T17:01:08.537Z"
   },
   {
    "duration": 853,
    "start_time": "2021-07-01T17:01:09.515Z"
   },
   {
    "duration": 210,
    "start_time": "2021-07-01T17:01:10.371Z"
   },
   {
    "duration": 1193,
    "start_time": "2021-07-01T17:01:10.584Z"
   },
   {
    "duration": -1675,
    "start_time": "2021-07-01T17:01:13.455Z"
   },
   {
    "duration": -1675,
    "start_time": "2021-07-01T17:01:13.456Z"
   },
   {
    "duration": -1675,
    "start_time": "2021-07-01T17:01:13.457Z"
   },
   {
    "duration": -1675,
    "start_time": "2021-07-01T17:01:13.459Z"
   },
   {
    "duration": -1678,
    "start_time": "2021-07-01T17:01:13.463Z"
   },
   {
    "duration": -1678,
    "start_time": "2021-07-01T17:01:13.464Z"
   },
   {
    "duration": -1678,
    "start_time": "2021-07-01T17:01:13.466Z"
   },
   {
    "duration": -1678,
    "start_time": "2021-07-01T17:01:13.467Z"
   },
   {
    "duration": -1678,
    "start_time": "2021-07-01T17:01:13.469Z"
   },
   {
    "duration": 32,
    "start_time": "2021-07-01T17:01:25.888Z"
   },
   {
    "duration": 35,
    "start_time": "2021-07-01T17:01:31.744Z"
   },
   {
    "duration": 25,
    "start_time": "2021-07-01T17:01:40.669Z"
   },
   {
    "duration": 34,
    "start_time": "2021-07-01T17:01:45.398Z"
   },
   {
    "duration": 25,
    "start_time": "2021-07-01T17:01:48.863Z"
   },
   {
    "duration": 9,
    "start_time": "2021-07-01T17:02:11.200Z"
   },
   {
    "duration": 10,
    "start_time": "2021-07-01T17:02:13.059Z"
   },
   {
    "duration": 8,
    "start_time": "2021-07-01T17:02:46.898Z"
   },
   {
    "duration": 8,
    "start_time": "2021-07-01T17:02:47.834Z"
   },
   {
    "duration": 14,
    "start_time": "2021-07-01T17:02:56.282Z"
   },
   {
    "duration": 12,
    "start_time": "2021-07-01T17:03:03.517Z"
   },
   {
    "duration": 10,
    "start_time": "2021-07-01T17:03:04.303Z"
   },
   {
    "duration": 19,
    "start_time": "2021-07-01T17:03:33.541Z"
   },
   {
    "duration": 16,
    "start_time": "2021-07-01T17:03:48.620Z"
   },
   {
    "duration": 11,
    "start_time": "2021-07-01T17:03:58.580Z"
   },
   {
    "duration": 8,
    "start_time": "2021-07-01T17:03:59.281Z"
   },
   {
    "duration": 34,
    "start_time": "2021-07-01T17:04:30.357Z"
   },
   {
    "duration": -1674,
    "start_time": "2021-07-01T17:04:54.234Z"
   },
   {
    "duration": 28,
    "start_time": "2021-07-01T17:04:53.897Z"
   },
   {
    "duration": 28,
    "start_time": "2021-07-01T17:05:07.542Z"
   },
   {
    "duration": 26,
    "start_time": "2021-07-01T17:05:22.763Z"
   },
   {
    "duration": 7,
    "start_time": "2021-07-01T17:05:27.486Z"
   },
   {
    "duration": 6,
    "start_time": "2021-07-01T17:06:00.387Z"
   },
   {
    "duration": 7,
    "start_time": "2021-07-01T17:11:06.989Z"
   },
   {
    "duration": 12,
    "start_time": "2021-07-01T17:14:58.655Z"
   },
   {
    "duration": 12,
    "start_time": "2021-07-01T17:15:01.993Z"
   },
   {
    "duration": 268,
    "start_time": "2021-07-01T17:15:02.851Z"
   },
   {
    "duration": 1519,
    "start_time": "2021-07-01T17:15:08.122Z"
   },
   {
    "duration": 20,
    "start_time": "2021-07-01T17:15:09.644Z"
   },
   {
    "duration": 40,
    "start_time": "2021-07-01T17:15:09.667Z"
   },
   {
    "duration": 19,
    "start_time": "2021-07-01T17:15:09.710Z"
   },
   {
    "duration": 19,
    "start_time": "2021-07-01T17:15:09.732Z"
   },
   {
    "duration": 26,
    "start_time": "2021-07-01T17:15:09.754Z"
   },
   {
    "duration": 47,
    "start_time": "2021-07-01T17:15:09.783Z"
   },
   {
    "duration": 32,
    "start_time": "2021-07-01T17:15:09.834Z"
   },
   {
    "duration": 65,
    "start_time": "2021-07-01T17:15:09.870Z"
   },
   {
    "duration": 56,
    "start_time": "2021-07-01T17:15:09.938Z"
   },
   {
    "duration": 12,
    "start_time": "2021-07-01T17:15:09.996Z"
   },
   {
    "duration": 70,
    "start_time": "2021-07-01T17:15:10.010Z"
   },
   {
    "duration": 6,
    "start_time": "2021-07-01T17:15:10.083Z"
   },
   {
    "duration": 21,
    "start_time": "2021-07-01T17:15:10.091Z"
   },
   {
    "duration": 379,
    "start_time": "2021-07-01T17:15:10.115Z"
   },
   {
    "duration": 301,
    "start_time": "2021-07-01T17:15:10.496Z"
   },
   {
    "duration": 9,
    "start_time": "2021-07-01T17:15:10.800Z"
   },
   {
    "duration": 31,
    "start_time": "2021-07-01T17:15:10.812Z"
   },
   {
    "duration": 23,
    "start_time": "2021-07-01T17:15:10.845Z"
   },
   {
    "duration": 22,
    "start_time": "2021-07-01T17:15:10.871Z"
   },
   {
    "duration": 23,
    "start_time": "2021-07-01T17:15:10.895Z"
   },
   {
    "duration": 22,
    "start_time": "2021-07-01T17:15:10.920Z"
   },
   {
    "duration": 777,
    "start_time": "2021-07-01T17:15:10.947Z"
   },
   {
    "duration": 756,
    "start_time": "2021-07-01T17:15:11.727Z"
   },
   {
    "duration": 816,
    "start_time": "2021-07-01T17:15:12.485Z"
   },
   {
    "duration": 752,
    "start_time": "2021-07-01T17:15:13.303Z"
   },
   {
    "duration": 900,
    "start_time": "2021-07-01T17:15:14.057Z"
   },
   {
    "duration": 946,
    "start_time": "2021-07-01T17:15:14.960Z"
   },
   {
    "duration": 829,
    "start_time": "2021-07-01T17:15:15.909Z"
   },
   {
    "duration": 213,
    "start_time": "2021-07-01T17:15:16.741Z"
   },
   {
    "duration": 27,
    "start_time": "2021-07-01T17:15:16.957Z"
   },
   {
    "duration": 18,
    "start_time": "2021-07-01T17:15:16.987Z"
   },
   {
    "duration": 25,
    "start_time": "2021-07-01T17:15:17.007Z"
   },
   {
    "duration": 23,
    "start_time": "2021-07-01T17:15:17.035Z"
   },
   {
    "duration": 24,
    "start_time": "2021-07-01T17:15:17.060Z"
   },
   {
    "duration": 24,
    "start_time": "2021-07-01T17:15:17.086Z"
   },
   {
    "duration": 22,
    "start_time": "2021-07-01T17:15:17.113Z"
   },
   {
    "duration": 393,
    "start_time": "2021-07-01T17:15:17.137Z"
   },
   {
    "duration": -1677,
    "start_time": "2021-07-01T17:15:19.210Z"
   },
   {
    "duration": -1678,
    "start_time": "2021-07-01T17:15:19.212Z"
   },
   {
    "duration": 11,
    "start_time": "2021-07-01T17:15:40.485Z"
   },
   {
    "duration": 261,
    "start_time": "2021-07-01T17:15:41.621Z"
   },
   {
    "duration": 13,
    "start_time": "2021-07-01T17:15:58.948Z"
   },
   {
    "duration": 13,
    "start_time": "2021-07-01T17:15:59.901Z"
   },
   {
    "duration": 11,
    "start_time": "2021-07-01T17:16:00.679Z"
   },
   {
    "duration": 12,
    "start_time": "2021-07-01T17:16:35.287Z"
   },
   {
    "duration": 8,
    "start_time": "2021-07-01T17:16:36.125Z"
   },
   {
    "duration": 1510,
    "start_time": "2021-07-01T17:23:46.724Z"
   },
   {
    "duration": 19,
    "start_time": "2021-07-01T17:23:48.237Z"
   },
   {
    "duration": 31,
    "start_time": "2021-07-01T17:23:48.259Z"
   },
   {
    "duration": 10,
    "start_time": "2021-07-01T17:23:48.293Z"
   },
   {
    "duration": 10,
    "start_time": "2021-07-01T17:23:48.306Z"
   },
   {
    "duration": 29,
    "start_time": "2021-07-01T17:23:48.319Z"
   },
   {
    "duration": 15,
    "start_time": "2021-07-01T17:23:48.351Z"
   },
   {
    "duration": 39,
    "start_time": "2021-07-01T17:23:48.370Z"
   },
   {
    "duration": 93,
    "start_time": "2021-07-01T17:23:48.412Z"
   },
   {
    "duration": 57,
    "start_time": "2021-07-01T17:23:48.508Z"
   },
   {
    "duration": 10,
    "start_time": "2021-07-01T17:23:48.568Z"
   },
   {
    "duration": 42,
    "start_time": "2021-07-01T17:23:48.581Z"
   },
   {
    "duration": 6,
    "start_time": "2021-07-01T17:23:48.625Z"
   },
   {
    "duration": 29,
    "start_time": "2021-07-01T17:23:48.656Z"
   },
   {
    "duration": 366,
    "start_time": "2021-07-01T17:23:48.688Z"
   },
   {
    "duration": 305,
    "start_time": "2021-07-01T17:23:49.057Z"
   },
   {
    "duration": 9,
    "start_time": "2021-07-01T17:23:49.364Z"
   },
   {
    "duration": 22,
    "start_time": "2021-07-01T17:23:49.376Z"
   },
   {
    "duration": 14,
    "start_time": "2021-07-01T17:23:49.401Z"
   },
   {
    "duration": 9,
    "start_time": "2021-07-01T17:23:49.418Z"
   },
   {
    "duration": 17,
    "start_time": "2021-07-01T17:23:49.456Z"
   },
   {
    "duration": 5,
    "start_time": "2021-07-01T17:23:49.475Z"
   },
   {
    "duration": 809,
    "start_time": "2021-07-01T17:23:49.485Z"
   },
   {
    "duration": 757,
    "start_time": "2021-07-01T17:23:50.297Z"
   },
   {
    "duration": 796,
    "start_time": "2021-07-01T17:23:51.058Z"
   },
   {
    "duration": 754,
    "start_time": "2021-07-01T17:23:51.858Z"
   },
   {
    "duration": 802,
    "start_time": "2021-07-01T17:23:52.615Z"
   },
   {
    "duration": 1104,
    "start_time": "2021-07-01T17:23:53.421Z"
   },
   {
    "duration": 1009,
    "start_time": "2021-07-01T17:23:54.528Z"
   },
   {
    "duration": 274,
    "start_time": "2021-07-01T17:23:55.540Z"
   },
   {
    "duration": 37,
    "start_time": "2021-07-01T17:23:55.817Z"
   },
   {
    "duration": 8,
    "start_time": "2021-07-01T17:23:55.857Z"
   },
   {
    "duration": 25,
    "start_time": "2021-07-01T17:23:55.867Z"
   },
   {
    "duration": 10,
    "start_time": "2021-07-01T17:23:55.895Z"
   },
   {
    "duration": 10,
    "start_time": "2021-07-01T17:23:55.907Z"
   },
   {
    "duration": 35,
    "start_time": "2021-07-01T17:23:55.920Z"
   },
   {
    "duration": 11,
    "start_time": "2021-07-01T17:23:55.958Z"
   },
   {
    "duration": 12,
    "start_time": "2021-07-01T17:23:55.972Z"
   },
   {
    "duration": 12,
    "start_time": "2021-07-01T17:23:55.987Z"
   },
   {
    "duration": 17,
    "start_time": "2021-07-01T17:23:56.002Z"
   },
   {
    "duration": 8,
    "start_time": "2021-07-01T17:26:01.731Z"
   },
   {
    "duration": 10,
    "start_time": "2021-07-01T17:26:22.213Z"
   },
   {
    "duration": 1498,
    "start_time": "2021-07-01T17:26:35.115Z"
   },
   {
    "duration": 20,
    "start_time": "2021-07-01T17:26:36.615Z"
   },
   {
    "duration": 25,
    "start_time": "2021-07-01T17:26:36.641Z"
   },
   {
    "duration": 16,
    "start_time": "2021-07-01T17:26:36.669Z"
   },
   {
    "duration": 31,
    "start_time": "2021-07-01T17:26:36.688Z"
   },
   {
    "duration": 23,
    "start_time": "2021-07-01T17:26:36.721Z"
   },
   {
    "duration": 14,
    "start_time": "2021-07-01T17:26:36.748Z"
   },
   {
    "duration": 24,
    "start_time": "2021-07-01T17:26:36.766Z"
   },
   {
    "duration": 78,
    "start_time": "2021-07-01T17:26:36.793Z"
   },
   {
    "duration": 89,
    "start_time": "2021-07-01T17:26:36.874Z"
   },
   {
    "duration": 12,
    "start_time": "2021-07-01T17:26:36.966Z"
   },
   {
    "duration": 46,
    "start_time": "2021-07-01T17:26:36.980Z"
   },
   {
    "duration": 28,
    "start_time": "2021-07-01T17:26:37.029Z"
   },
   {
    "duration": 18,
    "start_time": "2021-07-01T17:26:37.059Z"
   },
   {
    "duration": 379,
    "start_time": "2021-07-01T17:26:37.080Z"
   },
   {
    "duration": 294,
    "start_time": "2021-07-01T17:26:37.462Z"
   },
   {
    "duration": 9,
    "start_time": "2021-07-01T17:26:37.759Z"
   },
   {
    "duration": 27,
    "start_time": "2021-07-01T17:26:37.770Z"
   },
   {
    "duration": 26,
    "start_time": "2021-07-01T17:26:37.799Z"
   },
   {
    "duration": 20,
    "start_time": "2021-07-01T17:26:37.827Z"
   },
   {
    "duration": 26,
    "start_time": "2021-07-01T17:26:37.850Z"
   },
   {
    "duration": 19,
    "start_time": "2021-07-01T17:26:37.881Z"
   },
   {
    "duration": 757,
    "start_time": "2021-07-01T17:26:37.903Z"
   },
   {
    "duration": 855,
    "start_time": "2021-07-01T17:26:38.663Z"
   },
   {
    "duration": 797,
    "start_time": "2021-07-01T17:26:39.521Z"
   },
   {
    "duration": 745,
    "start_time": "2021-07-01T17:26:40.321Z"
   },
   {
    "duration": 840,
    "start_time": "2021-07-01T17:26:41.069Z"
   },
   {
    "duration": 953,
    "start_time": "2021-07-01T17:26:41.912Z"
   },
   {
    "duration": 961,
    "start_time": "2021-07-01T17:26:42.867Z"
   },
   {
    "duration": 219,
    "start_time": "2021-07-01T17:26:43.831Z"
   },
   {
    "duration": 27,
    "start_time": "2021-07-01T17:26:44.055Z"
   },
   {
    "duration": 30,
    "start_time": "2021-07-01T17:26:44.084Z"
   },
   {
    "duration": 21,
    "start_time": "2021-07-01T17:26:44.116Z"
   },
   {
    "duration": 16,
    "start_time": "2021-07-01T17:26:44.140Z"
   },
   {
    "duration": 12,
    "start_time": "2021-07-01T17:26:44.159Z"
   },
   {
    "duration": 23,
    "start_time": "2021-07-01T17:26:44.174Z"
   },
   {
    "duration": 12,
    "start_time": "2021-07-01T17:26:44.199Z"
   },
   {
    "duration": 11,
    "start_time": "2021-07-01T17:26:44.214Z"
   },
   {
    "duration": 32,
    "start_time": "2021-07-01T17:26:44.227Z"
   },
   {
    "duration": 6,
    "start_time": "2021-07-01T17:26:44.262Z"
   },
   {
    "duration": 1443,
    "start_time": "2021-07-02T04:56:43.912Z"
   },
   {
    "duration": 19,
    "start_time": "2021-07-02T04:56:45.357Z"
   },
   {
    "duration": 19,
    "start_time": "2021-07-02T04:56:45.380Z"
   },
   {
    "duration": 6,
    "start_time": "2021-07-02T04:56:45.402Z"
   },
   {
    "duration": 11,
    "start_time": "2021-07-02T04:56:45.410Z"
   },
   {
    "duration": 14,
    "start_time": "2021-07-02T04:56:45.423Z"
   },
   {
    "duration": 12,
    "start_time": "2021-07-02T04:56:45.439Z"
   },
   {
    "duration": 38,
    "start_time": "2021-07-02T04:56:45.455Z"
   },
   {
    "duration": 57,
    "start_time": "2021-07-02T04:56:45.497Z"
   },
   {
    "duration": 55,
    "start_time": "2021-07-02T04:56:45.557Z"
   },
   {
    "duration": 10,
    "start_time": "2021-07-02T04:56:45.615Z"
   },
   {
    "duration": 60,
    "start_time": "2021-07-02T04:56:45.628Z"
   },
   {
    "duration": 6,
    "start_time": "2021-07-02T04:56:45.691Z"
   },
   {
    "duration": 15,
    "start_time": "2021-07-02T04:56:45.699Z"
   },
   {
    "duration": 358,
    "start_time": "2021-07-02T04:56:45.716Z"
   },
   {
    "duration": 285,
    "start_time": "2021-07-02T04:56:46.076Z"
   },
   {
    "duration": 22,
    "start_time": "2021-07-02T04:56:46.363Z"
   },
   {
    "duration": 20,
    "start_time": "2021-07-02T04:56:46.388Z"
   },
   {
    "duration": 15,
    "start_time": "2021-07-02T04:56:46.410Z"
   },
   {
    "duration": 11,
    "start_time": "2021-07-02T04:56:46.427Z"
   },
   {
    "duration": 47,
    "start_time": "2021-07-02T04:56:46.440Z"
   },
   {
    "duration": 8,
    "start_time": "2021-07-02T04:56:46.490Z"
   },
   {
    "duration": 769,
    "start_time": "2021-07-02T04:56:46.503Z"
   },
   {
    "duration": 748,
    "start_time": "2021-07-02T04:56:47.275Z"
   },
   {
    "duration": 811,
    "start_time": "2021-07-02T04:56:48.026Z"
   },
   {
    "duration": 750,
    "start_time": "2021-07-02T04:56:48.840Z"
   },
   {
    "duration": 783,
    "start_time": "2021-07-02T04:56:49.594Z"
   },
   {
    "duration": 948,
    "start_time": "2021-07-02T04:56:50.379Z"
   },
   {
    "duration": 806,
    "start_time": "2021-07-02T04:56:51.330Z"
   },
   {
    "duration": 257,
    "start_time": "2021-07-02T04:56:52.138Z"
   },
   {
    "duration": 23,
    "start_time": "2021-07-02T04:56:52.398Z"
   },
   {
    "duration": 8,
    "start_time": "2021-07-02T04:56:52.423Z"
   },
   {
    "duration": 11,
    "start_time": "2021-07-02T04:56:52.434Z"
   },
   {
    "duration": 38,
    "start_time": "2021-07-02T04:56:52.447Z"
   },
   {
    "duration": 9,
    "start_time": "2021-07-02T04:56:52.488Z"
   },
   {
    "duration": 12,
    "start_time": "2021-07-02T04:56:52.499Z"
   },
   {
    "duration": 10,
    "start_time": "2021-07-02T04:56:52.514Z"
   },
   {
    "duration": 8,
    "start_time": "2021-07-02T04:56:52.526Z"
   },
   {
    "duration": 50,
    "start_time": "2021-07-02T04:56:52.537Z"
   },
   {
    "duration": 6,
    "start_time": "2021-07-02T04:56:52.590Z"
   },
   {
    "duration": 446,
    "start_time": "2021-07-02T15:10:59.865Z"
   },
   {
    "duration": 1602,
    "start_time": "2021-07-02T15:11:04.584Z"
   },
   {
    "duration": 21,
    "start_time": "2021-07-02T15:11:06.192Z"
   },
   {
    "duration": 19,
    "start_time": "2021-07-02T15:11:06.216Z"
   },
   {
    "duration": 8,
    "start_time": "2021-07-02T15:11:06.238Z"
   },
   {
    "duration": 36,
    "start_time": "2021-07-02T15:11:06.249Z"
   },
   {
    "duration": 17,
    "start_time": "2021-07-02T15:11:06.288Z"
   },
   {
    "duration": 7,
    "start_time": "2021-07-02T15:11:06.311Z"
   },
   {
    "duration": 18,
    "start_time": "2021-07-02T15:11:06.322Z"
   },
   {
    "duration": 109,
    "start_time": "2021-07-02T15:11:06.343Z"
   },
   {
    "duration": 64,
    "start_time": "2021-07-02T15:11:06.455Z"
   },
   {
    "duration": 14,
    "start_time": "2021-07-02T15:11:06.521Z"
   },
   {
    "duration": 65,
    "start_time": "2021-07-02T15:11:06.539Z"
   },
   {
    "duration": 6,
    "start_time": "2021-07-02T15:11:06.606Z"
   },
   {
    "duration": 11,
    "start_time": "2021-07-02T15:11:06.616Z"
   },
   {
    "duration": 406,
    "start_time": "2021-07-02T15:11:06.630Z"
   },
   {
    "duration": 286,
    "start_time": "2021-07-02T15:11:07.038Z"
   },
   {
    "duration": 9,
    "start_time": "2021-07-02T15:11:07.326Z"
   },
   {
    "duration": 22,
    "start_time": "2021-07-02T15:11:07.338Z"
   },
   {
    "duration": 33,
    "start_time": "2021-07-02T15:11:07.363Z"
   },
   {
    "duration": 9,
    "start_time": "2021-07-02T15:11:07.399Z"
   },
   {
    "duration": 15,
    "start_time": "2021-07-02T15:11:07.411Z"
   },
   {
    "duration": 5,
    "start_time": "2021-07-02T15:11:07.433Z"
   },
   {
    "duration": 1093,
    "start_time": "2021-07-02T15:11:07.442Z"
   },
   {
    "duration": 990,
    "start_time": "2021-07-02T15:11:08.538Z"
   },
   {
    "duration": 1088,
    "start_time": "2021-07-02T15:11:09.531Z"
   },
   {
    "duration": 819,
    "start_time": "2021-07-02T15:11:10.622Z"
   },
   {
    "duration": 879,
    "start_time": "2021-07-02T15:11:11.444Z"
   },
   {
    "duration": 1018,
    "start_time": "2021-07-02T15:11:12.326Z"
   },
   {
    "duration": 1040,
    "start_time": "2021-07-02T15:11:13.348Z"
   },
   {
    "duration": 245,
    "start_time": "2021-07-02T15:11:14.391Z"
   },
   {
    "duration": 24,
    "start_time": "2021-07-02T15:11:14.638Z"
   },
   {
    "duration": 13,
    "start_time": "2021-07-02T15:11:14.686Z"
   },
   {
    "duration": 30,
    "start_time": "2021-07-02T15:11:14.701Z"
   },
   {
    "duration": 9,
    "start_time": "2021-07-02T15:11:14.734Z"
   },
   {
    "duration": 23,
    "start_time": "2021-07-02T15:11:14.746Z"
   },
   {
    "duration": 30,
    "start_time": "2021-07-02T15:11:14.772Z"
   },
   {
    "duration": 22,
    "start_time": "2021-07-02T15:11:14.805Z"
   },
   {
    "duration": 37,
    "start_time": "2021-07-02T15:11:14.830Z"
   },
   {
    "duration": 20,
    "start_time": "2021-07-02T15:11:14.870Z"
   },
   {
    "duration": 18,
    "start_time": "2021-07-02T15:11:14.893Z"
   },
   {
    "duration": 742,
    "start_time": "2021-07-02T15:15:29.003Z"
   },
   {
    "duration": 557,
    "start_time": "2021-07-02T15:16:06.994Z"
   },
   {
    "duration": 231,
    "start_time": "2021-07-02T15:16:17.518Z"
   },
   {
    "duration": 358,
    "start_time": "2021-07-02T15:16:51.120Z"
   },
   {
    "duration": 483,
    "start_time": "2021-07-02T15:17:05.291Z"
   },
   {
    "duration": 367,
    "start_time": "2021-07-02T15:17:16.451Z"
   },
   {
    "duration": 590,
    "start_time": "2021-07-02T15:17:54.979Z"
   },
   {
    "duration": 236,
    "start_time": "2021-07-02T15:19:06.331Z"
   },
   {
    "duration": 431,
    "start_time": "2021-07-02T15:19:16.823Z"
   },
   {
    "duration": 497,
    "start_time": "2021-07-02T15:20:26.348Z"
   },
   {
    "duration": 532,
    "start_time": "2021-07-02T15:20:36.704Z"
   },
   {
    "duration": 807,
    "start_time": "2021-07-02T15:20:40.460Z"
   },
   {
    "duration": 354,
    "start_time": "2021-07-02T15:20:48.058Z"
   },
   {
    "duration": 436,
    "start_time": "2021-07-23T14:56:32.754Z"
   }
  ],
  "colab": {
   "collapsed_sections": [
    "gg8152799kdw",
    "gpBNEfJX9kd0",
    "wRRSw--I9kd2",
    "MASKg78M9kd2",
    "BdTZ3XWI9kd3",
    "oHMmmZyi9kd4",
    "U5tipZdz9kd4",
    "9IfdlNcD9kd5",
    "sS_OzTLy9kd5",
    "HZvUu1239kd6"
   ],
   "name": "ab_test_project_Praktikum.ipynb",
   "provenance": []
  },
  "kernelspec": {
   "display_name": "Python 3",
   "language": "python",
   "name": "python3"
  },
  "language_info": {
   "codemirror_mode": {
    "name": "ipython",
    "version": 3
   },
   "file_extension": ".py",
   "mimetype": "text/x-python",
   "name": "python",
   "nbconvert_exporter": "python",
   "pygments_lexer": "ipython3",
   "version": "3.7.8"
  },
  "toc": {
   "base_numbering": 1,
   "nav_menu": {},
   "number_sections": false,
   "sideBar": true,
   "skip_h1_title": false,
   "title_cell": "Table of Contents",
   "title_sidebar": "Contents",
   "toc_cell": false,
   "toc_position": {
    "height": "calc(100% - 180px)",
    "left": "10px",
    "top": "150px",
    "width": "165px"
   },
   "toc_section_display": true,
   "toc_window_display": true
  }
 },
 "nbformat": 4,
 "nbformat_minor": 1
}