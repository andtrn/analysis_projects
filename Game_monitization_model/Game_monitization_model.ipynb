{
 "cells": [
  {
   "cell_type": "markdown",
   "metadata": {},
   "source": [
    "# Формирование модели монетизации \"Космические братья\""
   ]
  },
  {
   "cell_type": "markdown",
   "metadata": {},
   "source": [
    "## Задачи, краткие выводы, описание"
   ]
  },
  {
   "cell_type": "markdown",
   "metadata": {},
   "source": [
    "Сформируем модель монетизации игрового приложения.\n",
    "\n",
    "Многие игры зарабатывают с помощью рекламы. И все они сталкиваются с противоречием:\n",
    "\n",
    "- Пользователь разозлится и уйдёт, если начать показывать ему рекламу раньше, чем игра его затянет.\n",
    "- Но  чем позже создатели игры включат рекламу, тем меньше они заработают.\n",
    "\n",
    "Пока создатели игры планируют показывать её на экране выбором постройки. Поможем им не уйти в минус.\n",
    "\n",
    "1. [Проведите исследовательский анализ данных](#Исследовательский-анализ-данных-(EDA)-4)\n",
    "2. [Проанализируйте влияние событий на совершение целевого события](#Влияние-событий-на-совершение-целевого-события-5)\n",
    "3. [Проверьте статистические гипотезы](#Проверка-статистических-гипотез-7)"
   ]
  },
  {
   "cell_type": "markdown",
   "metadata": {},
   "source": [
    "---\n",
    "Краткие выводы:\n",
    "\n",
    "<b>42%</b> первых игроков выполнили целевое действие.\n",
    "\n",
    "В среднем игроки завершают первый этап игры за <b>2 недели.</b>\n",
    "\n",
    "При цене в 0.07 доллара за показ рекламы:\n",
    "- Показывая рекламу <b>всем</b> и сразу, <u>получим прибыль</u> в размере <b>1891 долларов.</b>\n",
    "- Если начать показывать рекламу <b>со второй постройки</b>, то <u>получим прибыль</u> в <b>400 долларов</b> на первом уровне.\n",
    "- Но показывая рекламу <b>с третьей постройки</b>, <b><u>потеряем</u> 547 долларов.</b>\n",
    "\n",
    "Предпочтительнее использовать модель показа рекламы со <b>второй постройки</b>, таким образом мы не отпугнем, только вступивших в игру, пользователей. \n",
    "\n",
    "<b>Стоит перераспределить расходы на привлечение пользователей в сторону YouTube и Яндекс.Директ</b>\n",
    "\n",
    "---"
   ]
  },
  {
   "cell_type": "markdown",
   "metadata": {},
   "source": [
    "Ссылка на презентацию: https://drive.google.com/file/d/1hYnDvhNgKG5XdHKSkluzAU719terg_ud/view?usp=sharing"
   ]
  },
  {
   "cell_type": "markdown",
   "metadata": {},
   "source": [
    "Ссылка на дашборд: https://public.tableau.com/app/profile/andrey1394/viz/Cosmo-brothers_dashboard/Dashboard1"
   ]
  },
  {
   "cell_type": "markdown",
   "metadata": {},
   "source": [
    "## Обновление и импорт библиотек."
   ]
  },
  {
   "cell_type": "code",
   "execution_count": 1,
   "metadata": {},
   "outputs": [
    {
     "name": "stdout",
     "output_type": "stream",
     "text": [
      "Defaulting to user installation because normal site-packages is not writeable\n",
      "Collecting matplotlib\n",
      "  Downloading matplotlib-3.4.3-cp37-cp37m-manylinux1_x86_64.whl (10.3 MB)\n",
      "\u001B[K     |████████████████████████████████| 10.3 MB 24 kB/s eta 0:00:01\n",
      "\u001B[?25hRequirement already satisfied, skipping upgrade: kiwisolver>=1.0.1 in /opt/conda/lib/python3.7/site-packages (from matplotlib) (1.3.1)\n",
      "Requirement already satisfied, skipping upgrade: pyparsing>=2.2.1 in /opt/conda/lib/python3.7/site-packages (from matplotlib) (2.4.7)\n",
      "Requirement already satisfied, skipping upgrade: python-dateutil>=2.7 in /opt/conda/lib/python3.7/site-packages (from matplotlib) (2.8.1)\n",
      "Requirement already satisfied, skipping upgrade: numpy>=1.16 in /opt/conda/lib/python3.7/site-packages (from matplotlib) (1.19.5)\n",
      "Requirement already satisfied, skipping upgrade: cycler>=0.10 in /opt/conda/lib/python3.7/site-packages (from matplotlib) (0.10.0)\n",
      "Requirement already satisfied, skipping upgrade: pillow>=6.2.0 in /opt/conda/lib/python3.7/site-packages (from matplotlib) (7.0.0)\n",
      "Requirement already satisfied, skipping upgrade: six>=1.5 in /opt/conda/lib/python3.7/site-packages (from python-dateutil>=2.7->matplotlib) (1.15.0)\n",
      "Installing collected packages: matplotlib\n",
      "Successfully installed matplotlib-3.4.3\n"
     ]
    }
   ],
   "source": [
    "!pip install matplotlib -U"
   ]
  },
  {
   "cell_type": "code",
   "execution_count": 2,
   "metadata": {
    "scrolled": false
   },
   "outputs": [
    {
     "name": "stdout",
     "output_type": "stream",
     "text": [
      "Defaulting to user installation because normal site-packages is not writeable\n",
      "Collecting seaborn\n",
      "  Downloading seaborn-0.11.2-py3-none-any.whl (292 kB)\n",
      "\u001B[K     |████████████████████████████████| 292 kB 894 kB/s eta 0:00:01\n",
      "\u001B[?25hRequirement already satisfied, skipping upgrade: scipy>=1.0 in /opt/conda/lib/python3.7/site-packages (from seaborn) (1.4.1)\n",
      "Requirement already satisfied, skipping upgrade: numpy>=1.15 in /opt/conda/lib/python3.7/site-packages (from seaborn) (1.19.5)\n",
      "Requirement already satisfied, skipping upgrade: matplotlib>=2.2 in /home/jovyan/.local/lib/python3.7/site-packages (from seaborn) (3.4.3)\n",
      "Requirement already satisfied, skipping upgrade: pandas>=0.23 in /opt/conda/lib/python3.7/site-packages (from seaborn) (0.25.1)\n",
      "Requirement already satisfied, skipping upgrade: pyparsing>=2.2.1 in /opt/conda/lib/python3.7/site-packages (from matplotlib>=2.2->seaborn) (2.4.7)\n",
      "Requirement already satisfied, skipping upgrade: kiwisolver>=1.0.1 in /opt/conda/lib/python3.7/site-packages (from matplotlib>=2.2->seaborn) (1.3.1)\n",
      "Requirement already satisfied, skipping upgrade: python-dateutil>=2.7 in /opt/conda/lib/python3.7/site-packages (from matplotlib>=2.2->seaborn) (2.8.1)\n",
      "Requirement already satisfied, skipping upgrade: cycler>=0.10 in /opt/conda/lib/python3.7/site-packages (from matplotlib>=2.2->seaborn) (0.10.0)\n",
      "Requirement already satisfied, skipping upgrade: pillow>=6.2.0 in /opt/conda/lib/python3.7/site-packages (from matplotlib>=2.2->seaborn) (7.0.0)\n",
      "Requirement already satisfied, skipping upgrade: pytz>=2017.2 in /opt/conda/lib/python3.7/site-packages (from pandas>=0.23->seaborn) (2021.1)\n",
      "Requirement already satisfied, skipping upgrade: six>=1.5 in /opt/conda/lib/python3.7/site-packages (from python-dateutil>=2.7->matplotlib>=2.2->seaborn) (1.15.0)\n",
      "Installing collected packages: seaborn\n",
      "Successfully installed seaborn-0.11.2\n"
     ]
    }
   ],
   "source": [
    "!pip install seaborn -U"
   ]
  },
  {
   "cell_type": "code",
   "execution_count": 3,
   "metadata": {},
   "outputs": [],
   "source": [
    "import pandas as pd\n",
    "pd.plotting.register_matplotlib_converters()\n",
    "import numpy as np\n",
    "import matplotlib.pyplot as plt\n",
    "import seaborn as sns\n",
    "from scipy import stats as st\n",
    "import warnings\n",
    "warnings.filterwarnings('ignore')"
   ]
  },
  {
   "cell_type": "markdown",
   "metadata": {},
   "source": [
    "## Загрузка данных и первый взгляд"
   ]
  },
  {
   "cell_type": "code",
   "execution_count": 4,
   "metadata": {},
   "outputs": [],
   "source": [
    "game_actions = pd.read_csv('/datasets/game_actions.csv')\n",
    "ad_costs = pd.read_csv('/datasets/ad_costs.csv')\n",
    "user_source = pd.read_csv('/datasets/user_source.csv')"
   ]
  },
  {
   "cell_type": "code",
   "execution_count": 5,
   "metadata": {
    "scrolled": false
   },
   "outputs": [
    {
     "data": {
      "text/html": [
       "<div>\n",
       "<style scoped>\n",
       "    .dataframe tbody tr th:only-of-type {\n",
       "        vertical-align: middle;\n",
       "    }\n",
       "\n",
       "    .dataframe tbody tr th {\n",
       "        vertical-align: top;\n",
       "    }\n",
       "\n",
       "    .dataframe thead th {\n",
       "        text-align: right;\n",
       "    }\n",
       "</style>\n",
       "<table border=\"1\" class=\"dataframe\">\n",
       "  <thead>\n",
       "    <tr style=\"text-align: right;\">\n",
       "      <th></th>\n",
       "      <th>event_datetime</th>\n",
       "      <th>event</th>\n",
       "      <th>building_type</th>\n",
       "      <th>user_id</th>\n",
       "      <th>project_type</th>\n",
       "    </tr>\n",
       "  </thead>\n",
       "  <tbody>\n",
       "    <tr>\n",
       "      <td>0</td>\n",
       "      <td>2020-05-04 00:00:01</td>\n",
       "      <td>building</td>\n",
       "      <td>assembly_shop</td>\n",
       "      <td>55e92310-cb8e-4754-b622-597e124b03de</td>\n",
       "      <td>NaN</td>\n",
       "    </tr>\n",
       "    <tr>\n",
       "      <td>1</td>\n",
       "      <td>2020-05-04 00:00:03</td>\n",
       "      <td>building</td>\n",
       "      <td>assembly_shop</td>\n",
       "      <td>c07b1c10-f477-44dc-81dc-ec82254b1347</td>\n",
       "      <td>NaN</td>\n",
       "    </tr>\n",
       "    <tr>\n",
       "      <td>2</td>\n",
       "      <td>2020-05-04 00:00:16</td>\n",
       "      <td>building</td>\n",
       "      <td>assembly_shop</td>\n",
       "      <td>6edd42cc-e753-4ff6-a947-2107cd560710</td>\n",
       "      <td>NaN</td>\n",
       "    </tr>\n",
       "    <tr>\n",
       "      <td>3</td>\n",
       "      <td>2020-05-04 00:00:16</td>\n",
       "      <td>building</td>\n",
       "      <td>assembly_shop</td>\n",
       "      <td>92c69003-d60a-444a-827f-8cc51bf6bf4c</td>\n",
       "      <td>NaN</td>\n",
       "    </tr>\n",
       "    <tr>\n",
       "      <td>4</td>\n",
       "      <td>2020-05-04 00:00:35</td>\n",
       "      <td>building</td>\n",
       "      <td>assembly_shop</td>\n",
       "      <td>cdc6bb92-0ccb-4490-9866-ef142f09139d</td>\n",
       "      <td>NaN</td>\n",
       "    </tr>\n",
       "  </tbody>\n",
       "</table>\n",
       "</div>"
      ],
      "text/plain": [
       "        event_datetime     event  building_type  \\\n",
       "0  2020-05-04 00:00:01  building  assembly_shop   \n",
       "1  2020-05-04 00:00:03  building  assembly_shop   \n",
       "2  2020-05-04 00:00:16  building  assembly_shop   \n",
       "3  2020-05-04 00:00:16  building  assembly_shop   \n",
       "4  2020-05-04 00:00:35  building  assembly_shop   \n",
       "\n",
       "                                user_id project_type  \n",
       "0  55e92310-cb8e-4754-b622-597e124b03de          NaN  \n",
       "1  c07b1c10-f477-44dc-81dc-ec82254b1347          NaN  \n",
       "2  6edd42cc-e753-4ff6-a947-2107cd560710          NaN  \n",
       "3  92c69003-d60a-444a-827f-8cc51bf6bf4c          NaN  \n",
       "4  cdc6bb92-0ccb-4490-9866-ef142f09139d          NaN  "
      ]
     },
     "metadata": {},
     "output_type": "display_data"
    },
    {
     "name": "stdout",
     "output_type": "stream",
     "text": [
      "<class 'pandas.core.frame.DataFrame'>\n",
      "RangeIndex: 135640 entries, 0 to 135639\n",
      "Data columns (total 5 columns):\n",
      "event_datetime    135640 non-null object\n",
      "event             135640 non-null object\n",
      "building_type     127957 non-null object\n",
      "user_id           135640 non-null object\n",
      "project_type      1866 non-null object\n",
      "dtypes: object(5)\n",
      "memory usage: 5.2+ MB\n",
      "None\n",
      "----------------------------------------------------\n",
      "                 count  unique                                   top    freq\n",
      "event_datetime  135640  128790                   2020-05-08 22:30:04       4\n",
      "event           135640       3                              building  127957\n",
      "building_type   127957       3                             spaceport   59325\n",
      "user_id         135640   13576  d6aca06a-cd75-4cd8-b8cd-240a3c163884      22\n",
      "project_type      1866       1            satellite_orbital_assembly    1866\n"
     ]
    }
   ],
   "source": [
    "display(game_actions.head())\n",
    "print(game_actions.info())\n",
    "print('----------------------------------------------------')\n",
    "print(game_actions.describe().T)"
   ]
  },
  {
   "cell_type": "markdown",
   "metadata": {},
   "source": [
    "Пропуски в данных обусловлены форматом записи ивентов. Если `event` не постройка, то в `building_type` будет пропуск. То же самое с `project_type` если `event` не `project`.  Заполять их не будем. Некоторым функциям проще работать с пропущенные значениями."
   ]
  },
  {
   "cell_type": "code",
   "execution_count": 6,
   "metadata": {
    "scrolled": false
   },
   "outputs": [
    {
     "data": {
      "text/html": [
       "<div>\n",
       "<style scoped>\n",
       "    .dataframe tbody tr th:only-of-type {\n",
       "        vertical-align: middle;\n",
       "    }\n",
       "\n",
       "    .dataframe tbody tr th {\n",
       "        vertical-align: top;\n",
       "    }\n",
       "\n",
       "    .dataframe thead th {\n",
       "        text-align: right;\n",
       "    }\n",
       "</style>\n",
       "<table border=\"1\" class=\"dataframe\">\n",
       "  <thead>\n",
       "    <tr style=\"text-align: right;\">\n",
       "      <th></th>\n",
       "      <th>source</th>\n",
       "      <th>day</th>\n",
       "      <th>cost</th>\n",
       "    </tr>\n",
       "  </thead>\n",
       "  <tbody>\n",
       "    <tr>\n",
       "      <td>0</td>\n",
       "      <td>facebook_ads</td>\n",
       "      <td>2020-05-03</td>\n",
       "      <td>935.882786</td>\n",
       "    </tr>\n",
       "    <tr>\n",
       "      <td>1</td>\n",
       "      <td>facebook_ads</td>\n",
       "      <td>2020-05-04</td>\n",
       "      <td>548.354480</td>\n",
       "    </tr>\n",
       "    <tr>\n",
       "      <td>2</td>\n",
       "      <td>facebook_ads</td>\n",
       "      <td>2020-05-05</td>\n",
       "      <td>260.185754</td>\n",
       "    </tr>\n",
       "    <tr>\n",
       "      <td>3</td>\n",
       "      <td>facebook_ads</td>\n",
       "      <td>2020-05-06</td>\n",
       "      <td>177.982200</td>\n",
       "    </tr>\n",
       "    <tr>\n",
       "      <td>4</td>\n",
       "      <td>facebook_ads</td>\n",
       "      <td>2020-05-07</td>\n",
       "      <td>111.766796</td>\n",
       "    </tr>\n",
       "    <tr>\n",
       "      <td>5</td>\n",
       "      <td>facebook_ads</td>\n",
       "      <td>2020-05-08</td>\n",
       "      <td>68.009276</td>\n",
       "    </tr>\n",
       "    <tr>\n",
       "      <td>6</td>\n",
       "      <td>facebook_ads</td>\n",
       "      <td>2020-05-09</td>\n",
       "      <td>38.723350</td>\n",
       "    </tr>\n",
       "    <tr>\n",
       "      <td>7</td>\n",
       "      <td>instagram_new_adverts</td>\n",
       "      <td>2020-05-03</td>\n",
       "      <td>943.204717</td>\n",
       "    </tr>\n",
       "    <tr>\n",
       "      <td>8</td>\n",
       "      <td>instagram_new_adverts</td>\n",
       "      <td>2020-05-04</td>\n",
       "      <td>502.925451</td>\n",
       "    </tr>\n",
       "    <tr>\n",
       "      <td>9</td>\n",
       "      <td>instagram_new_adverts</td>\n",
       "      <td>2020-05-05</td>\n",
       "      <td>313.970984</td>\n",
       "    </tr>\n",
       "    <tr>\n",
       "      <td>10</td>\n",
       "      <td>instagram_new_adverts</td>\n",
       "      <td>2020-05-06</td>\n",
       "      <td>173.071145</td>\n",
       "    </tr>\n",
       "    <tr>\n",
       "      <td>11</td>\n",
       "      <td>instagram_new_adverts</td>\n",
       "      <td>2020-05-07</td>\n",
       "      <td>109.915254</td>\n",
       "    </tr>\n",
       "    <tr>\n",
       "      <td>12</td>\n",
       "      <td>instagram_new_adverts</td>\n",
       "      <td>2020-05-08</td>\n",
       "      <td>71.578739</td>\n",
       "    </tr>\n",
       "    <tr>\n",
       "      <td>13</td>\n",
       "      <td>instagram_new_adverts</td>\n",
       "      <td>2020-05-09</td>\n",
       "      <td>46.775400</td>\n",
       "    </tr>\n",
       "    <tr>\n",
       "      <td>14</td>\n",
       "      <td>yandex_direct</td>\n",
       "      <td>2020-05-03</td>\n",
       "      <td>969.139394</td>\n",
       "    </tr>\n",
       "    <tr>\n",
       "      <td>15</td>\n",
       "      <td>yandex_direct</td>\n",
       "      <td>2020-05-04</td>\n",
       "      <td>554.651494</td>\n",
       "    </tr>\n",
       "    <tr>\n",
       "      <td>16</td>\n",
       "      <td>yandex_direct</td>\n",
       "      <td>2020-05-05</td>\n",
       "      <td>308.232990</td>\n",
       "    </tr>\n",
       "    <tr>\n",
       "      <td>17</td>\n",
       "      <td>yandex_direct</td>\n",
       "      <td>2020-05-06</td>\n",
       "      <td>180.917099</td>\n",
       "    </tr>\n",
       "    <tr>\n",
       "      <td>18</td>\n",
       "      <td>yandex_direct</td>\n",
       "      <td>2020-05-07</td>\n",
       "      <td>114.429338</td>\n",
       "    </tr>\n",
       "    <tr>\n",
       "      <td>19</td>\n",
       "      <td>yandex_direct</td>\n",
       "      <td>2020-05-08</td>\n",
       "      <td>62.961630</td>\n",
       "    </tr>\n",
       "    <tr>\n",
       "      <td>20</td>\n",
       "      <td>yandex_direct</td>\n",
       "      <td>2020-05-09</td>\n",
       "      <td>42.779505</td>\n",
       "    </tr>\n",
       "    <tr>\n",
       "      <td>21</td>\n",
       "      <td>youtube_channel_reklama</td>\n",
       "      <td>2020-05-03</td>\n",
       "      <td>454.224943</td>\n",
       "    </tr>\n",
       "    <tr>\n",
       "      <td>22</td>\n",
       "      <td>youtube_channel_reklama</td>\n",
       "      <td>2020-05-04</td>\n",
       "      <td>259.073224</td>\n",
       "    </tr>\n",
       "    <tr>\n",
       "      <td>23</td>\n",
       "      <td>youtube_channel_reklama</td>\n",
       "      <td>2020-05-05</td>\n",
       "      <td>147.041741</td>\n",
       "    </tr>\n",
       "    <tr>\n",
       "      <td>24</td>\n",
       "      <td>youtube_channel_reklama</td>\n",
       "      <td>2020-05-06</td>\n",
       "      <td>88.506074</td>\n",
       "    </tr>\n",
       "    <tr>\n",
       "      <td>25</td>\n",
       "      <td>youtube_channel_reklama</td>\n",
       "      <td>2020-05-07</td>\n",
       "      <td>55.740645</td>\n",
       "    </tr>\n",
       "    <tr>\n",
       "      <td>26</td>\n",
       "      <td>youtube_channel_reklama</td>\n",
       "      <td>2020-05-08</td>\n",
       "      <td>40.217907</td>\n",
       "    </tr>\n",
       "    <tr>\n",
       "      <td>27</td>\n",
       "      <td>youtube_channel_reklama</td>\n",
       "      <td>2020-05-09</td>\n",
       "      <td>23.314669</td>\n",
       "    </tr>\n",
       "  </tbody>\n",
       "</table>\n",
       "</div>"
      ],
      "text/plain": [
       "                     source         day        cost\n",
       "0              facebook_ads  2020-05-03  935.882786\n",
       "1              facebook_ads  2020-05-04  548.354480\n",
       "2              facebook_ads  2020-05-05  260.185754\n",
       "3              facebook_ads  2020-05-06  177.982200\n",
       "4              facebook_ads  2020-05-07  111.766796\n",
       "5              facebook_ads  2020-05-08   68.009276\n",
       "6              facebook_ads  2020-05-09   38.723350\n",
       "7     instagram_new_adverts  2020-05-03  943.204717\n",
       "8     instagram_new_adverts  2020-05-04  502.925451\n",
       "9     instagram_new_adverts  2020-05-05  313.970984\n",
       "10    instagram_new_adverts  2020-05-06  173.071145\n",
       "11    instagram_new_adverts  2020-05-07  109.915254\n",
       "12    instagram_new_adverts  2020-05-08   71.578739\n",
       "13    instagram_new_adverts  2020-05-09   46.775400\n",
       "14            yandex_direct  2020-05-03  969.139394\n",
       "15            yandex_direct  2020-05-04  554.651494\n",
       "16            yandex_direct  2020-05-05  308.232990\n",
       "17            yandex_direct  2020-05-06  180.917099\n",
       "18            yandex_direct  2020-05-07  114.429338\n",
       "19            yandex_direct  2020-05-08   62.961630\n",
       "20            yandex_direct  2020-05-09   42.779505\n",
       "21  youtube_channel_reklama  2020-05-03  454.224943\n",
       "22  youtube_channel_reklama  2020-05-04  259.073224\n",
       "23  youtube_channel_reklama  2020-05-05  147.041741\n",
       "24  youtube_channel_reklama  2020-05-06   88.506074\n",
       "25  youtube_channel_reklama  2020-05-07   55.740645\n",
       "26  youtube_channel_reklama  2020-05-08   40.217907\n",
       "27  youtube_channel_reklama  2020-05-09   23.314669"
      ]
     },
     "metadata": {},
     "output_type": "display_data"
    },
    {
     "name": "stdout",
     "output_type": "stream",
     "text": [
      "             cost\n",
      "count   28.000000\n",
      "mean   271.556321\n",
      "std    286.867650\n",
      "min     23.314669\n",
      "25%     66.747365\n",
      "50%    160.056443\n",
      "75%    349.034473\n",
      "max    969.139394\n"
     ]
    }
   ],
   "source": [
    "display(ad_costs)\n",
    "print(ad_costs.describe())"
   ]
  },
  {
   "cell_type": "markdown",
   "metadata": {},
   "source": [
    "Оплату за пользователей производили за день до фактического привлечения. Самые большие расходы на рекламу были в первый день выпуска soft launch, и снижались с каждый последующим днем."
   ]
  },
  {
   "cell_type": "code",
   "execution_count": 7,
   "metadata": {},
   "outputs": [
    {
     "data": {
      "text/html": [
       "<div>\n",
       "<style scoped>\n",
       "    .dataframe tbody tr th:only-of-type {\n",
       "        vertical-align: middle;\n",
       "    }\n",
       "\n",
       "    .dataframe tbody tr th {\n",
       "        vertical-align: top;\n",
       "    }\n",
       "\n",
       "    .dataframe thead th {\n",
       "        text-align: right;\n",
       "    }\n",
       "</style>\n",
       "<table border=\"1\" class=\"dataframe\">\n",
       "  <thead>\n",
       "    <tr style=\"text-align: right;\">\n",
       "      <th></th>\n",
       "      <th>user_id</th>\n",
       "      <th>source</th>\n",
       "    </tr>\n",
       "  </thead>\n",
       "  <tbody>\n",
       "    <tr>\n",
       "      <td>0</td>\n",
       "      <td>0001f83c-c6ac-4621-b7f0-8a28b283ac30</td>\n",
       "      <td>facebook_ads</td>\n",
       "    </tr>\n",
       "    <tr>\n",
       "      <td>1</td>\n",
       "      <td>00151b4f-ba38-44a8-a650-d7cf130a0105</td>\n",
       "      <td>yandex_direct</td>\n",
       "    </tr>\n",
       "    <tr>\n",
       "      <td>2</td>\n",
       "      <td>001aaea6-3d14-43f1-8ca8-7f48820f17aa</td>\n",
       "      <td>youtube_channel_reklama</td>\n",
       "    </tr>\n",
       "    <tr>\n",
       "      <td>3</td>\n",
       "      <td>001d39dc-366c-4021-9604-6a3b9ff01e25</td>\n",
       "      <td>instagram_new_adverts</td>\n",
       "    </tr>\n",
       "    <tr>\n",
       "      <td>4</td>\n",
       "      <td>002f508f-67b6-479f-814b-b05f00d4e995</td>\n",
       "      <td>facebook_ads</td>\n",
       "    </tr>\n",
       "  </tbody>\n",
       "</table>\n",
       "</div>"
      ],
      "text/plain": [
       "                                user_id                   source\n",
       "0  0001f83c-c6ac-4621-b7f0-8a28b283ac30             facebook_ads\n",
       "1  00151b4f-ba38-44a8-a650-d7cf130a0105            yandex_direct\n",
       "2  001aaea6-3d14-43f1-8ca8-7f48820f17aa  youtube_channel_reklama\n",
       "3  001d39dc-366c-4021-9604-6a3b9ff01e25    instagram_new_adverts\n",
       "4  002f508f-67b6-479f-814b-b05f00d4e995             facebook_ads"
      ]
     },
     "metadata": {},
     "output_type": "display_data"
    },
    {
     "name": "stdout",
     "output_type": "stream",
     "text": [
      "<class 'pandas.core.frame.DataFrame'>\n",
      "RangeIndex: 13576 entries, 0 to 13575\n",
      "Data columns (total 2 columns):\n",
      "user_id    13576 non-null object\n",
      "source     13576 non-null object\n",
      "dtypes: object(2)\n",
      "memory usage: 212.2+ KB\n",
      "None\n"
     ]
    }
   ],
   "source": [
    "display(user_source.head())\n",
    "print(user_source.info())"
   ]
  },
  {
   "cell_type": "markdown",
   "metadata": {},
   "source": [
    "### Предобработка данных"
   ]
  },
  {
   "cell_type": "code",
   "execution_count": 8,
   "metadata": {},
   "outputs": [],
   "source": [
    "game_actions['event_datetime'] = pd.to_datetime(game_actions['event_datetime'], format='%Y-%m-%d %H:%M:%S')\n",
    "ad_costs['day'] = pd.to_datetime(ad_costs['day'], format='%Y-%m-%d')"
   ]
  },
  {
   "cell_type": "markdown",
   "metadata": {},
   "source": [
    "Откинем точное время ивента за ненадобностью. Оставим только год, месяц и день. "
   ]
  },
  {
   "cell_type": "code",
   "execution_count": 9,
   "metadata": {
    "scrolled": false
   },
   "outputs": [
    {
     "data": {
      "text/html": [
       "<div>\n",
       "<style scoped>\n",
       "    .dataframe tbody tr th:only-of-type {\n",
       "        vertical-align: middle;\n",
       "    }\n",
       "\n",
       "    .dataframe tbody tr th {\n",
       "        vertical-align: top;\n",
       "    }\n",
       "\n",
       "    .dataframe thead th {\n",
       "        text-align: right;\n",
       "    }\n",
       "</style>\n",
       "<table border=\"1\" class=\"dataframe\">\n",
       "  <thead>\n",
       "    <tr style=\"text-align: right;\">\n",
       "      <th></th>\n",
       "      <th>event_datetime</th>\n",
       "      <th>event</th>\n",
       "      <th>building_type</th>\n",
       "      <th>user_id</th>\n",
       "      <th>project_type</th>\n",
       "    </tr>\n",
       "  </thead>\n",
       "  <tbody>\n",
       "    <tr>\n",
       "      <td>74891</td>\n",
       "      <td>2020-05-10 18:41:56</td>\n",
       "      <td>building</td>\n",
       "      <td>research_center</td>\n",
       "      <td>c9af55d2-b0ae-4bb4-b3d5-f32aa9ac03af</td>\n",
       "      <td>NaN</td>\n",
       "    </tr>\n",
       "  </tbody>\n",
       "</table>\n",
       "</div>"
      ],
      "text/plain": [
       "           event_datetime     event    building_type  \\\n",
       "74891 2020-05-10 18:41:56  building  research_center   \n",
       "\n",
       "                                    user_id project_type  \n",
       "74891  c9af55d2-b0ae-4bb4-b3d5-f32aa9ac03af          NaN  "
      ]
     },
     "execution_count": 9,
     "metadata": {},
     "output_type": "execute_result"
    }
   ],
   "source": [
    "game_actions[game_actions.duplicated()]"
   ]
  },
  {
   "cell_type": "markdown",
   "metadata": {},
   "source": [
    "В данных имеется один дубликат, похоже что произошел сбой в системе. Необходимо сообщить об этом разработчикам. Данный дубликат удалим, он всего один на 135 тысяч строк."
   ]
  },
  {
   "cell_type": "code",
   "execution_count": 10,
   "metadata": {},
   "outputs": [],
   "source": [
    "game_actions = game_actions.drop_duplicates().reset_index(drop=True)"
   ]
  },
  {
   "cell_type": "code",
   "execution_count": 11,
   "metadata": {},
   "outputs": [
    {
     "data": {
      "text/html": [
       "<div>\n",
       "<style scoped>\n",
       "    .dataframe tbody tr th:only-of-type {\n",
       "        vertical-align: middle;\n",
       "    }\n",
       "\n",
       "    .dataframe tbody tr th {\n",
       "        vertical-align: top;\n",
       "    }\n",
       "\n",
       "    .dataframe thead th {\n",
       "        text-align: right;\n",
       "    }\n",
       "</style>\n",
       "<table border=\"1\" class=\"dataframe\">\n",
       "  <thead>\n",
       "    <tr style=\"text-align: right;\">\n",
       "      <th></th>\n",
       "      <th>user_id</th>\n",
       "      <th>source</th>\n",
       "    </tr>\n",
       "  </thead>\n",
       "  <tbody>\n",
       "  </tbody>\n",
       "</table>\n",
       "</div>"
      ],
      "text/plain": [
       "Empty DataFrame\n",
       "Columns: [user_id, source]\n",
       "Index: []"
      ]
     },
     "execution_count": 11,
     "metadata": {},
     "output_type": "execute_result"
    }
   ],
   "source": [
    "user_source[user_source.duplicated()]"
   ]
  },
  {
   "cell_type": "code",
   "execution_count": 12,
   "metadata": {},
   "outputs": [],
   "source": [
    "game_actions['event_datetime'] = game_actions['event_datetime'].astype('datetime64[D]')\n",
    "reg_datetime = game_actions.groupby('user_id').agg(reg_datetime=('event_datetime', 'min')).reset_index()\n",
    "game_actions = game_actions.merge(reg_datetime, on='user_id')"
   ]
  },
  {
   "cell_type": "markdown",
   "metadata": {},
   "source": [
    "Откинем точное время ивента за ненадобностью. Оставим только год, месяц и день. "
   ]
  },
  {
   "cell_type": "markdown",
   "metadata": {},
   "source": [
    "## Исследовательский анализ данных (EDA)"
   ]
  },
  {
   "cell_type": "code",
   "execution_count": 13,
   "metadata": {
    "scrolled": false
   },
   "outputs": [
    {
     "data": {
      "text/plain": [
       "Timedelta('32 days 00:00:00')"
      ]
     },
     "execution_count": 13,
     "metadata": {},
     "output_type": "execute_result"
    }
   ],
   "source": [
    "game_actions['event_datetime'].max() - game_actions['event_datetime'].min()"
   ]
  },
  {
   "cell_type": "markdown",
   "metadata": {},
   "source": [
    "Всего данных за 32 дня"
   ]
  },
  {
   "cell_type": "code",
   "execution_count": 14,
   "metadata": {
    "scrolled": false
   },
   "outputs": [
    {
     "data": {
      "text/plain": [
       "event\n",
       "building            127956\n",
       "finished_stage_1      5817\n",
       "project               1866\n",
       "Name: user_id, dtype: int64"
      ]
     },
     "execution_count": 14,
     "metadata": {},
     "output_type": "execute_result"
    }
   ],
   "source": [
    "game_actions.groupby('event')['user_id'].count()"
   ]
  },
  {
   "cell_type": "markdown",
   "metadata": {},
   "source": [
    "Всего за месяц 13576 игроков построили 127956 строений. В среднем, каждый из них построил по 9,5 зданий. Только 5817 пользователей завершили первый этап, остальные 7759 либо предпочли не завершать уровень(в игре есть возможность остаться на первом уровне, даже после завершения проекта или победы над игроком), либо отвалились. "
   ]
  },
  {
   "cell_type": "code",
   "execution_count": 15,
   "metadata": {},
   "outputs": [],
   "source": [
    "users_reg_date = game_actions[['reg_datetime', 'user_id']].drop_duplicates()"
   ]
  },
  {
   "cell_type": "code",
   "execution_count": 16,
   "metadata": {},
   "outputs": [
    {
     "data": {
      "text/html": [
       "<div>\n",
       "<style scoped>\n",
       "    .dataframe tbody tr th:only-of-type {\n",
       "        vertical-align: middle;\n",
       "    }\n",
       "\n",
       "    .dataframe tbody tr th {\n",
       "        vertical-align: top;\n",
       "    }\n",
       "\n",
       "    .dataframe thead th {\n",
       "        text-align: right;\n",
       "    }\n",
       "</style>\n",
       "<table border=\"1\" class=\"dataframe\">\n",
       "  <thead>\n",
       "    <tr style=\"text-align: right;\">\n",
       "      <th></th>\n",
       "      <th>reg_datetime</th>\n",
       "      <th>user_id</th>\n",
       "    </tr>\n",
       "  </thead>\n",
       "  <tbody>\n",
       "    <tr>\n",
       "      <td>0</td>\n",
       "      <td>2020-05-04</td>\n",
       "      <td>55e92310-cb8e-4754-b622-597e124b03de</td>\n",
       "    </tr>\n",
       "    <tr>\n",
       "      <td>7</td>\n",
       "      <td>2020-05-04</td>\n",
       "      <td>c07b1c10-f477-44dc-81dc-ec82254b1347</td>\n",
       "    </tr>\n",
       "    <tr>\n",
       "      <td>20</td>\n",
       "      <td>2020-05-04</td>\n",
       "      <td>6edd42cc-e753-4ff6-a947-2107cd560710</td>\n",
       "    </tr>\n",
       "    <tr>\n",
       "      <td>33</td>\n",
       "      <td>2020-05-04</td>\n",
       "      <td>92c69003-d60a-444a-827f-8cc51bf6bf4c</td>\n",
       "    </tr>\n",
       "    <tr>\n",
       "      <td>43</td>\n",
       "      <td>2020-05-04</td>\n",
       "      <td>cdc6bb92-0ccb-4490-9866-ef142f09139d</td>\n",
       "    </tr>\n",
       "  </tbody>\n",
       "</table>\n",
       "</div>"
      ],
      "text/plain": [
       "   reg_datetime                               user_id\n",
       "0    2020-05-04  55e92310-cb8e-4754-b622-597e124b03de\n",
       "7    2020-05-04  c07b1c10-f477-44dc-81dc-ec82254b1347\n",
       "20   2020-05-04  6edd42cc-e753-4ff6-a947-2107cd560710\n",
       "33   2020-05-04  92c69003-d60a-444a-827f-8cc51bf6bf4c\n",
       "43   2020-05-04  cdc6bb92-0ccb-4490-9866-ef142f09139d"
      ]
     },
     "execution_count": 16,
     "metadata": {},
     "output_type": "execute_result"
    }
   ],
   "source": [
    "users_reg_date.head()"
   ]
  },
  {
   "cell_type": "code",
   "execution_count": 17,
   "metadata": {},
   "outputs": [],
   "source": [
    "def sns_histplot(df, x, cumulative, title, ylabel, xlim, nloc, rotation):\n",
    "    sns.set(style='white')\n",
    "    fig = plt.figure(figsize=(16,5))\n",
    "    ax = fig.add_subplot(1,1,1)  \n",
    "    sns.histplot(data=df, x=x, cumulative=cumulative, discrete=True, ax=ax)\n",
    "    plt.title(title, loc='left', fontsize=18)\n",
    "    ax.set_xlim(xlim)\n",
    "    ax.spines['top'].set_visible(False)\n",
    "    ax.spines['right'].set_visible(False)\n",
    "    ax.spines['left'].set_visible(False)\n",
    "    ax.spines['bottom'].set_position(('outward', 5))\n",
    "    ax.set_xlabel('')\n",
    "    ax.set_ylabel('')\n",
    "    ax.xaxis.set_major_locator(plt.MaxNLocator(nloc))\n",
    "    ax.tick_params(axis='x', rotation=rotation)\n",
    "    plt.show()"
   ]
  },
  {
   "cell_type": "code",
   "execution_count": 18,
   "metadata": {
    "scrolled": false
   },
   "outputs": [
    {
     "data": {
      "image/png": "[encoded data removed]",
      "text/plain": [
       "<Figure size 1152x360 with 1 Axes>"
      ]
     },
     "metadata": {},
     "output_type": "display_data"
    }
   ],
   "source": [
    "df_buildings = game_actions[game_actions['event']=='building']\n",
    "\n",
    "sns_histplot(df = df_buildings, \n",
    "             x = 'event_datetime', \n",
    "             cumulative = False, \n",
    "             title = 'Распределение количества построек по дням', \n",
    "             ylabel = 'Количество игроков',\n",
    "             xlim = (min(game_actions['event_datetime'])-pd.Timedelta(days=1),max(game_actions['event_datetime'])),\n",
    "             nloc=33,\n",
    "             rotation=90)"
   ]
  },
  {
   "cell_type": "code",
   "execution_count": 19,
   "metadata": {},
   "outputs": [
    {
     "data": {
      "image/png": "[encoded data removed]",
      "text/plain": [
       "<Figure size 1152x360 with 1 Axes>"
      ]
     },
     "metadata": {},
     "output_type": "display_data"
    }
   ],
   "source": [
    "sns_histplot(df = users_reg_date, \n",
    "             x = 'reg_datetime', \n",
    "             cumulative = True, \n",
    "             title = 'Кумулятивное количество игроков по дням', \n",
    "             ylabel = 'Количество игроков', \n",
    "             xlim = (min(game_actions['event_datetime'])-pd.Timedelta(days=1),max(game_actions['event_datetime'])),\n",
    "             nloc=33,\n",
    "             rotation=90\n",
    "            )"
   ]
  },
  {
   "cell_type": "markdown",
   "metadata": {},
   "source": [
    "Количество построек растет с ростом числа игроков. График кумулятивного количества пользователей построен по той же оси Х, что и график распределения количества построек, для более наглядного понимания, почему 11.05 происходит падение и дальнейшее снижение построек.\n",
    "\n",
    "После завершения привлечения новых пользователей, количество построек резко падает на 7000 единиц и продолжает снижаться. Не удивительно, ведь игроки строят необходимые объекты и проходят дальше."
   ]
  },
  {
   "cell_type": "code",
   "execution_count": 20,
   "metadata": {
    "scrolled": false
   },
   "outputs": [
    {
     "data": {
      "image/png": "[encoded data removed]",
      "text/plain": [
       "<Figure size 1152x360 with 1 Axes>"
      ]
     },
     "metadata": {},
     "output_type": "display_data"
    }
   ],
   "source": [
    "df_finished = game_actions[game_actions['event']=='finished_stage_1']\n",
    "sns_histplot(df = df_finished, \n",
    "             x = 'event_datetime',\n",
    "             cumulative = False, \n",
    "             title = 'Распределение количества игроков, завершивших первый этап, по дням', \n",
    "             ylabel = 'Количество игроков',\n",
    "             xlim = (min(game_actions['event_datetime'])-pd.Timedelta(days=1),max(game_actions['event_datetime'])),\n",
    "             nloc=33,\n",
    "             rotation=90\n",
    "            )"
   ]
  },
  {
   "cell_type": "markdown",
   "metadata": {},
   "source": [
    "Некоторые игроки завершили первый этап уже на следующий день, после запуска игры. На 13 день, с момента запуска игры, приходится пик игроков завершивших первый этап. "
   ]
  },
  {
   "cell_type": "code",
   "execution_count": 21,
   "metadata": {
    "scrolled": false
   },
   "outputs": [
    {
     "data": {
      "image/png": "[encoded data removed]",
      "text/plain": [
       "<Figure size 1152x360 with 1 Axes>"
      ]
     },
     "metadata": {},
     "output_type": "display_data"
    }
   ],
   "source": [
    "df_project = game_actions[game_actions['event']=='project']\n",
    "sns_histplot(df = df_project, \n",
    "             x = 'event_datetime', \n",
    "             cumulative = False, \n",
    "             title = 'Распределение количества игроков, завершивших проект, по дням', \n",
    "             ylabel = 'Количество игроков',\n",
    "             xlim = (min(game_actions['event_datetime'])-pd.Timedelta(days=1),max(game_actions['event_datetime'])),\n",
    "             nloc=33,\n",
    "             rotation=90\n",
    "            )"
   ]
  },
  {
   "cell_type": "markdown",
   "metadata": {},
   "source": [
    "Первые проекты завершились спустя 5 дней, после запуска игры. Пик количества построенных орбитальных станций приходится на 12 день, после запуска игры."
   ]
  },
  {
   "cell_type": "code",
   "execution_count": 22,
   "metadata": {},
   "outputs": [
    {
     "data": {
      "image/png": "[encoded data removed]",
      "text/plain": [
       "<Figure size 1152x360 with 1 Axes>"
      ]
     },
     "metadata": {},
     "output_type": "display_data"
    }
   ],
   "source": [
    "df_users_building = game_actions.groupby(['user_id']).agg(building_cnt=('building_type', 'count')).reset_index()\n",
    "\n",
    "sns_histplot(df = df_users_building, \n",
    "             x = 'building_cnt',\n",
    "             cumulative = False, \n",
    "             title = 'Распределение количества игроков, по количеству построенных зданий', \n",
    "             ylabel = 'Количество игроков',\n",
    "             xlim = (0, 21),\n",
    "             nloc=21,\n",
    "             rotation=0)"
   ]
  },
  {
   "cell_type": "markdown",
   "metadata": {},
   "source": [
    "Наблюдается небольшой провал в 7 и 8 зданий. Возможно 6 зданий достаточно для победы в PvP, а для постройки орбитальной станции необходимо 9+ зданий."
   ]
  },
  {
   "cell_type": "markdown",
   "metadata": {},
   "source": [
    "## Влияние событий на совершение целевого события"
   ]
  },
  {
   "cell_type": "code",
   "execution_count": 23,
   "metadata": {},
   "outputs": [],
   "source": [
    "release_project = game_actions.loc[game_actions['project_type'].notna()]"
   ]
  },
  {
   "cell_type": "code",
   "execution_count": 24,
   "metadata": {},
   "outputs": [
    {
     "data": {
      "text/plain": [
       "1866"
      ]
     },
     "execution_count": 24,
     "metadata": {},
     "output_type": "execute_result"
    }
   ],
   "source": [
    "len(release_project)"
   ]
  },
  {
   "cell_type": "markdown",
   "metadata": {},
   "source": [
    "Всего 1866 игроков реализовали проект. "
   ]
  },
  {
   "cell_type": "markdown",
   "metadata": {},
   "source": [
    "### Победа над первым врагом"
   ]
  },
  {
   "cell_type": "code",
   "execution_count": 25,
   "metadata": {},
   "outputs": [],
   "source": [
    "finish_stage_win = game_actions.loc[(game_actions['event']=='finished_stage_1')&\n",
    "                                (~game_actions['user_id'].isin(release_project['user_id']))\n",
    "                               ]"
   ]
  },
  {
   "cell_type": "code",
   "execution_count": 26,
   "metadata": {},
   "outputs": [],
   "source": [
    "finish_stage_win_buildings_cnt = (game_actions[game_actions['user_id'].isin(finish_stage_win['user_id'])\n",
    "                                              ]\n",
    "                                  .groupby('user_id')['building_type']\n",
    "                                  .count()\n",
    "                                  .reset_index()\n",
    "                                 )"
   ]
  },
  {
   "cell_type": "code",
   "execution_count": 27,
   "metadata": {},
   "outputs": [
    {
     "data": {
      "image/png": "[encoded data removed]",
      "text/plain": [
       "<Figure size 1152x360 with 1 Axes>"
      ]
     },
     "metadata": {},
     "output_type": "display_data"
    }
   ],
   "source": [
    "sns_histplot(df = finish_stage_win_buildings_cnt, \n",
    "             x = 'building_type',\n",
    "             cumulative = False, \n",
    "             title = 'Распределение количества игроков, победивших в битве, по количеству построеных зданий', \n",
    "             ylabel = 'Количество игроков',\n",
    "             xlim = (0, 17),\n",
    "             nloc=17,\n",
    "             rotation=0)"
   ]
  },
  {
   "cell_type": "markdown",
   "metadata": {},
   "source": [
    "Игроки построившие только 2 здания уже имеют возможность пройти первый этап игры. Пик количества построек с помощью которых игроки, побеждают в битве и проходят первый этап, приходится на 9 зданий. "
   ]
  },
  {
   "cell_type": "code",
   "execution_count": 28,
   "metadata": {},
   "outputs": [],
   "source": [
    "finish_stage_win['timedelta_finish_start'] = ((finish_stage_win['event_datetime'] - finish_stage_win['reg_datetime'])\n",
    "                                              .dt.total_seconds() / 86400\n",
    "                                             ).round()"
   ]
  },
  {
   "cell_type": "code",
   "execution_count": 29,
   "metadata": {},
   "outputs": [
    {
     "data": {
      "image/png": "[encoded data removed]",
      "text/plain": [
       "<Figure size 1152x360 with 1 Axes>"
      ]
     },
     "metadata": {},
     "output_type": "display_data"
    },
    {
     "name": "stdout",
     "output_type": "stream",
     "text": [
      "Игроков завершивших этап победой над врагом: 3951\n",
      "% Игроков завершивших этап победой над врагом: 0.2910282852091927\n"
     ]
    }
   ],
   "source": [
    "sns_histplot(df = finish_stage_win, \n",
    "             x = 'timedelta_finish_start',\n",
    "             cumulative = False, \n",
    "             title = 'Распределение количества игроков, победивших в битве, по затраченному количеству дней', \n",
    "             ylabel = 'Количество игроков',\n",
    "             xlim = (0, 30),\n",
    "             nloc=30,\n",
    "             rotation=0)\n",
    "\n",
    "print('Игроков завершивших этап победой над врагом:', len(finish_stage_win))\n",
    "print('% Игроков завершивших этап победой над врагом:', len(finish_stage_win) / len(user_source))"
   ]
  },
  {
   "cell_type": "markdown",
   "metadata": {},
   "source": [
    "Всего 3951 или 29% игроков одержали победу над первым врагом и перешли на следующий уровень.\n",
    "Некоторые игроки уже на второй день проходили первый этап игры, победой над врагом. Вот это скорость. \n",
    "В среднем, игроки проходят первый этап победой над врагом за 10-11 дней."
   ]
  },
  {
   "cell_type": "markdown",
   "metadata": {},
   "source": [
    "### Реализация проекта - разработка орбитальной сборки спутников"
   ]
  },
  {
   "cell_type": "code",
   "execution_count": 30,
   "metadata": {},
   "outputs": [],
   "source": [
    "finish_stage_project = game_actions.loc[(game_actions['event']=='finished_stage_1')&\n",
    "                                        (game_actions['user_id'].isin(release_project['user_id']))\n",
    "                                       ]"
   ]
  },
  {
   "cell_type": "code",
   "execution_count": 31,
   "metadata": {},
   "outputs": [],
   "source": [
    "finish_stage_project_buildings_cnt = (game_actions[game_actions['user_id'].isin(finish_stage_project['user_id'])\n",
    "                                              ]\n",
    "                                  .groupby('user_id')['building_type']\n",
    "                                  .count()\n",
    "                                  .reset_index()\n",
    "                                 )"
   ]
  },
  {
   "cell_type": "code",
   "execution_count": 32,
   "metadata": {},
   "outputs": [
    {
     "data": {
      "image/png": "[encoded data removed]",
      "text/plain": [
       "<Figure size 1152x360 with 1 Axes>"
      ]
     },
     "metadata": {},
     "output_type": "display_data"
    }
   ],
   "source": [
    "sns_histplot(df = finish_stage_project_buildings_cnt, \n",
    "             x = 'building_type',\n",
    "             cumulative = False, \n",
    "             title = 'Распределение количества игроков, реализовавших проект, по количеству построек', \n",
    "             ylabel = 'Количество игроков',\n",
    "             xlim = (9, 21),\n",
    "             nloc=12,\n",
    "             rotation=0)"
   ]
  },
  {
   "cell_type": "markdown",
   "metadata": {},
   "source": [
    "Предыдущее наблюдение о необходимом количестве зданий, для реализации проекта, подтверждается. Для постройки орбитальной станции, необходимо возвести минимум 10 зданий. "
   ]
  },
  {
   "cell_type": "code",
   "execution_count": 33,
   "metadata": {},
   "outputs": [],
   "source": [
    "finish_stage_project['timedelta_finish_start'] = ((finish_stage_project['event_datetime'] - finish_stage_project['reg_datetime'])\n",
    "                                              .dt.total_seconds() / 86400\n",
    "                                             ).round()"
   ]
  },
  {
   "cell_type": "code",
   "execution_count": 34,
   "metadata": {},
   "outputs": [
    {
     "data": {
      "image/png": "[encoded data removed]",
      "text/plain": [
       "<Figure size 1152x360 with 1 Axes>"
      ]
     },
     "metadata": {},
     "output_type": "display_data"
    },
    {
     "name": "stdout",
     "output_type": "stream",
     "text": [
      "Игроков завершивших этап победой над врагом: 1866\n",
      "% Игроков завершивших этап победой над врагом: 0.13744843842074247\n"
     ]
    }
   ],
   "source": [
    "sns_histplot(df = finish_stage_project, \n",
    "             x = 'timedelta_finish_start',\n",
    "             cumulative = False, \n",
    "             title = 'Распределение количества игроков, реализовавших проект, по затраченному количеству дней', \n",
    "             ylabel = 'Количество игроков',\n",
    "             xlim = (0, 30),\n",
    "             nloc=33,\n",
    "             rotation=0)\n",
    "\n",
    "print('Игроков завершивших этап победой над врагом:', len(finish_stage_project))\n",
    "print('% Игроков завершивших этап победой над врагом:', len(finish_stage_project) / len(user_source))"
   ]
  },
  {
   "cell_type": "markdown",
   "metadata": {},
   "source": [
    "Для реализации проекта игрокам требуется минимум 5 дней. В среднем 11 дней.\n",
    "Все 1866 игроков реализовавших проект, закончили первый этап. 13% всех игроков, завершили уровень разработкой орбитальной сборки спутников. "
   ]
  },
  {
   "cell_type": "markdown",
   "metadata": {},
   "source": [
    "## Изучение модели монетизации"
   ]
  },
  {
   "cell_type": "markdown",
   "metadata": {},
   "source": [
    "### Текущие расходы"
   ]
  },
  {
   "cell_type": "code",
   "execution_count": 35,
   "metadata": {},
   "outputs": [],
   "source": [
    "user_source = user_source.merge(game_actions[['reg_datetime', 'user_id']].drop_duplicates(), \n",
    "                                on='user_id')\n",
    "\n",
    "user_source['reg_datetime'] = user_source['reg_datetime'].astype('datetime64[D]')\n",
    "\n",
    "cnt_user_source_reg = (user_source.groupby(['source', 'reg_datetime'])\n",
    "                       .agg(user_cnt=('user_id', 'count'))\n",
    "                       .reset_index()\n",
    "                      )\n",
    "\n",
    "ad_costs['day'] = ad_costs['day'] + pd.Timedelta(days=1)\n",
    "\n",
    "ad_costs = ad_costs.merge(cnt_user_source_reg, \n",
    "                          left_on=['source', 'day'], \n",
    "                          right_on=['source', 'reg_datetime'])"
   ]
  },
  {
   "cell_type": "code",
   "execution_count": 36,
   "metadata": {},
   "outputs": [],
   "source": [
    "ad_costs['cac'] = ad_costs['cost'] / ad_costs['user_cnt']"
   ]
  },
  {
   "cell_type": "code",
   "execution_count": 37,
   "metadata": {},
   "outputs": [],
   "source": [
    "def ad_costs_plots(df, y, title, ylabel, legend_title, loc, bbox):\n",
    "    fig = plt.figure(figsize=(16,5))\n",
    "    sns.set(style='white')\n",
    "    ax = sns.lineplot(data=df, x='day', y=y, hue='source', marker='o')\n",
    "    plt.title(title, loc='left', fontsize=18)\n",
    "    plt.legend(loc=loc, \n",
    "           title=legend_title,\n",
    "           bbox_to_anchor=bbox)\n",
    "    ax.spines['top'].set_visible(False)\n",
    "    ax.spines['right'].set_visible(False)\n",
    "    ax.spines['left'].set_visible(False)\n",
    "    ax.spines['bottom'].set_position(('outward', 5))\n",
    "    ax.set_xlabel('')\n",
    "    ax.set_ylabel('')\n",
    "    plt.show()"
   ]
  },
  {
   "cell_type": "code",
   "execution_count": 38,
   "metadata": {},
   "outputs": [
    {
     "data": {
      "image/png": "[encoded data removed]",
      "text/plain": [
       "<Figure size 1152x360 with 1 Axes>"
      ]
     },
     "metadata": {},
     "output_type": "display_data"
    }
   ],
   "source": [
    "ad_costs_plots(df=ad_costs, \n",
    "               y='cost', \n",
    "               title='Сумма контрактов на привлечение игроков, по каналам и датам', \n",
    "               ylabel='Сумма, $', \n",
    "               legend_title='Каналы привлечения',\n",
    "               loc='upper right',\n",
    "               bbox=(1,1),\n",
    "              )"
   ]
  },
  {
   "cell_type": "markdown",
   "metadata": {},
   "source": [
    "Все контракты, кроме YouTube, были заключены примерно на одни суммы. Сумма контракта с YouTube в 2 раза ниже остальных.  "
   ]
  },
  {
   "cell_type": "code",
   "execution_count": 39,
   "metadata": {
    "scrolled": true
   },
   "outputs": [
    {
     "data": {
      "image/png": "[encoded data removed]",
      "text/plain": [
       "<Figure size 1152x360 with 1 Axes>"
      ]
     },
     "metadata": {},
     "output_type": "display_data"
    }
   ],
   "source": [
    "ad_costs_plots(df=ad_costs, \n",
    "               y='cac', \n",
    "               title='Стоимость привлечения одного игрока, по разным каналам и датам', \n",
    "               ylabel='Стоимость, $', \n",
    "               legend_title='Каналы привлечения',\n",
    "               loc='center right',\n",
    "               bbox=(0.45,0.4))"
   ]
  },
  {
   "cell_type": "markdown",
   "metadata": {},
   "source": [
    "CAC на YouTube самый низкий, возможно поэтому и сумма контракта ниже остальных. Facebook самый дорогой, интересно, как много игроков он привлекает? "
   ]
  },
  {
   "cell_type": "code",
   "execution_count": 40,
   "metadata": {},
   "outputs": [
    {
     "data": {
      "image/png": "[encoded data removed]",
      "text/plain": [
       "<Figure size 1152x360 with 1 Axes>"
      ]
     },
     "metadata": {},
     "output_type": "display_data"
    }
   ],
   "source": [
    "ad_costs_plots(df=ad_costs, \n",
    "               y='user_cnt', \n",
    "               title='Количество привлеченных игроков по разным каналам и датам', \n",
    "               ylabel='Количество привлеченных игроков', \n",
    "               legend_title='Каналы привлечения',\n",
    "               loc='upper right',\n",
    "               bbox=(1,1))"
   ]
  },
  {
   "cell_type": "markdown",
   "metadata": {},
   "source": [
    "А вот и ответ. Дорогой не значит хороший! Facebook привлек почти столько же игроков, сколько и самый дешевый YouTube. Яндекс.Директ чуть дороже YouTube, но выделено средств на него было столько же, сколько на Instagram, а привлек Директ сильно больше других каналов. \n",
    "\n",
    "Стоит перераспределить расходы на привлечение пользователей в сторону YouTube и Яндекс.Директ"
   ]
  },
  {
   "cell_type": "code",
   "execution_count": 41,
   "metadata": {},
   "outputs": [
    {
     "data": {
      "text/plain": [
       "7603.576986788022"
      ]
     },
     "execution_count": 41,
     "metadata": {},
     "output_type": "execute_result"
    }
   ],
   "source": [
    "ad_costs['cost'].sum()"
   ]
  },
  {
   "cell_type": "code",
   "execution_count": 42,
   "metadata": {},
   "outputs": [
    {
     "data": {
      "text/plain": [
       "0.5600749106355349"
      ]
     },
     "execution_count": 42,
     "metadata": {},
     "output_type": "execute_result"
    }
   ],
   "source": [
    "ad_costs['cost'].sum() / user_source['user_id'].count()"
   ]
  },
  {
   "cell_type": "markdown",
   "metadata": {},
   "source": [
    "На привлечение первых пользователей было потрачено 7603,5 доллара. \n",
    "\n",
    "В среднем, за каждого пользователя компания заплатила 0.56 доллара. Возьмем среднюю стоимость привлечения по всем каналам, не будем же мы показывать разное количество рекламы пользователям, пришедшим из разных источников. "
   ]
  },
  {
   "cell_type": "markdown",
   "metadata": {},
   "source": [
    "### Расчет потенциальной выручки"
   ]
  },
  {
   "cell_type": "code",
   "execution_count": 43,
   "metadata": {},
   "outputs": [],
   "source": [
    "game_actions = game_actions.sort_values(by='event_datetime', ascending=True)\n",
    "\n",
    "game_actions['building_id'] = np.where(\n",
    "    game_actions['building_type'].isna(), \n",
    "    0,\n",
    "    1\n",
    ")\n",
    "game_actions['building_id'] = (game_actions.sort_values(['event_datetime', 'user_id'])\n",
    "                               .groupby('user_id')\n",
    "                               .building_id.apply(lambda x : x.groupby(x.ne(1).cumsum()).cumcount()+1)\n",
    "                              )\n",
    "\n",
    "game_actions['building_id'] = np.where(\n",
    "    game_actions['building_type'].isna(), \n",
    "    0,\n",
    "    game_actions['building_id']\n",
    ")"
   ]
  },
  {
   "cell_type": "code",
   "execution_count": 44,
   "metadata": {},
   "outputs": [],
   "source": [
    "game_actions['all_buildings'] = np.where(\n",
    "    game_actions['building_id']==0, \n",
    "    np.nan,\n",
    "    0.07\n",
    ")\n",
    "game_actions['all_buildings'] = game_actions['all_buildings'].cumsum()"
   ]
  },
  {
   "cell_type": "code",
   "execution_count": 45,
   "metadata": {},
   "outputs": [],
   "source": [
    "game_actions['after_first_building'] = np.where(\n",
    "    game_actions['building_id']==0, \n",
    "    np.nan,\n",
    "    np.where(game_actions['building_id']<=1, np.nan, 0.07)\n",
    ")\n",
    "game_actions['after_first_building'] = game_actions['after_first_building'].cumsum()"
   ]
  },
  {
   "cell_type": "code",
   "execution_count": 46,
   "metadata": {},
   "outputs": [],
   "source": [
    "game_actions['after_second_building'] = np.where(\n",
    "    game_actions['building_id']==0, \n",
    "    np.nan,\n",
    "    np.where(game_actions['building_id']<=2, np.nan, 0.07)\n",
    ")\n",
    "game_actions['after_second_building'] = game_actions['after_second_building'].cumsum()"
   ]
  },
  {
   "cell_type": "code",
   "execution_count": 47,
   "metadata": {
    "scrolled": false
   },
   "outputs": [
    {
     "data": {
      "image/png": "[encoded data removed]",
      "text/plain": [
       "<Figure size 1152x360 with 1 Axes>"
      ]
     },
     "metadata": {},
     "output_type": "display_data"
    }
   ],
   "source": [
    "fig = plt.figure(figsize=(16,5))\n",
    "sns.set(style='white')\n",
    "\n",
    "ax = sns.lineplot(data=game_actions,\n",
    "                  x='event_datetime',\n",
    "                  y='all_buildings', \n",
    "                  ci=None,\n",
    "                  marker='o'\n",
    "                 )\n",
    "\n",
    "ax = sns.lineplot(data=game_actions,\n",
    "                  x='event_datetime', \n",
    "                  y='after_first_building', \n",
    "                  ci=None, \n",
    "                  marker='>'\n",
    "                 )\n",
    "\n",
    "ax = sns.lineplot(data=game_actions,\n",
    "                  x='event_datetime', \n",
    "                  y='after_second_building', \n",
    "                  ci=None,\n",
    "                  marker='^'\n",
    "                 )\n",
    "\n",
    "ax.axhline(ad_costs['cost'].sum(), \n",
    "           color='red', \n",
    "           ls='--')\n",
    "\n",
    "ax.legend(['Всем и сразу', 'Со второй постройки', 'С третьей постройки', 'Затраты на привлечение'], \n",
    "          loc='upper left',\n",
    "          title='Модели показа рекламы',\n",
    "          bbox_to_anchor=(0.75,0.73)\n",
    "         )\n",
    "\n",
    "plt.title('Сумма полученных средств, от просмотра рекламы, по моделям показа рекламы и дням', loc='left', fontsize=18)\n",
    "plt.xlabel('')\n",
    "plt.ylabel('Сумма, $')\n",
    "plt.yticks(np.arange(0, 10000, step=1000))\n",
    "ax.spines['top'].set_visible(False)\n",
    "ax.spines['right'].set_visible(False)\n",
    "ax.spines['left'].set_visible(False)\n",
    "ax.spines['bottom'].set_position(('outward', 5))\n",
    "ax.set_xlabel('')\n",
    "ax.set_ylabel('')\n",
    "\n",
    "plt.show()"
   ]
  },
  {
   "cell_type": "markdown",
   "metadata": {},
   "source": [
    "При цене в 0.07 доллара за показ рекламы:\n",
    "<br> - Показывая рекламу всем и сразу, получим прибыль в размере 1891 долларов.\n",
    "<br> - Если начать показывать рекламу после первой постройки, то получим прибыль в 400 долларов на первом уровне.\n",
    "<br> - Но показывая рекламу после второй постройки, потеряем 547 долларов."
   ]
  },
  {
   "cell_type": "markdown",
   "metadata": {},
   "source": [
    "## Проверка статистических гипотез"
   ]
  },
  {
   "cell_type": "markdown",
   "metadata": {},
   "source": [
    "### H<sub>0</sub> - время прохождения уровня между пользователями, которые заканчивают уровень через реализацию проекта, и пользователями, которые заканчивают уровень победой над другим игроком, равно."
   ]
  },
  {
   "cell_type": "markdown",
   "metadata": {},
   "source": [
    "H<sub>1</sub> - время прохождения уровня между пользователями, которые заканчивают уровень через реализацию проекта, и пользователями, которые заканчивают уровень победой над другим игроком, различается."
   ]
  },
  {
   "cell_type": "code",
   "execution_count": 48,
   "metadata": {},
   "outputs": [],
   "source": [
    "timedelta_reg_project = (finish_stage_project['event_datetime'] - finish_stage_project['reg_datetime']).dt.total_seconds()"
   ]
  },
  {
   "cell_type": "code",
   "execution_count": 49,
   "metadata": {},
   "outputs": [],
   "source": [
    "timedelta_reg_win = (finish_stage_win['event_datetime'] - finish_stage_win['reg_datetime']).dt.total_seconds()"
   ]
  },
  {
   "cell_type": "code",
   "execution_count": 50,
   "metadata": {
    "scrolled": true
   },
   "outputs": [
    {
     "name": "stdout",
     "output_type": "stream",
     "text": [
      "p-значение: 4.786610358453673e-105\n",
      "Отвергаем нулевую гипотезу\n"
     ]
    }
   ],
   "source": [
    "alpha = 0.05  # критический уровень статистической значимости\n",
    "# если p-value окажется меньше него - отвергнем гипотезу\n",
    "\n",
    "results = st.mannwhitneyu(timedelta_reg_project, timedelta_reg_win, alternative='two-sided')\n",
    "\n",
    "print('p-значение:', results.pvalue)\n",
    "\n",
    "if results.pvalue < alpha:\n",
    "    print('Отвергаем нулевую гипотезу')\n",
    "else:\n",
    "    print('Не получилось отвергнуть нулевую гипотезу') "
   ]
  },
  {
   "cell_type": "markdown",
   "metadata": {},
   "source": [
    "Отвергаем гипотезу о равенстве времени прохождения уровня между пользователями, которые заканчивают уровень через реализацию проекта, и пользователями, которые заканчивают уровень победой над другим игроком.\n",
    "\n",
    "Есть статистически значимые различия. "
   ]
  },
  {
   "cell_type": "markdown",
   "metadata": {},
   "source": [
    "### H<sub>0</sub> - количество построек пользователей, которые заканчивают уровень через реализацию проекта, и пользователями, которые заканчивают уровень победой над другим игроком, равно."
   ]
  },
  {
   "cell_type": "markdown",
   "metadata": {},
   "source": [
    "H<sub>1</sub> - количество построек пользователей, которые заканчивают уровень через реализацию проекта, и пользователями, которые заканчивают уровень победой над другим игроком, различается."
   ]
  },
  {
   "cell_type": "code",
   "execution_count": 51,
   "metadata": {},
   "outputs": [],
   "source": [
    "buildings_project = (game_actions[game_actions['user_id'].isin(finish_stage_project['user_id'])]\n",
    "                          .groupby('user_id')['building_type']\n",
    "                          .count()\n",
    "                    .reset_index(drop=True))"
   ]
  },
  {
   "cell_type": "code",
   "execution_count": 52,
   "metadata": {},
   "outputs": [],
   "source": [
    "buildings_win = (game_actions[game_actions['user_id'].isin(finish_stage_win['user_id'])]\n",
    "                          .groupby('user_id')['building_type']\n",
    "                          .count()\n",
    "                          .reset_index(drop=True))"
   ]
  },
  {
   "cell_type": "code",
   "execution_count": 53,
   "metadata": {},
   "outputs": [
    {
     "name": "stdout",
     "output_type": "stream",
     "text": [
      "p-значение: 5.211926275022306e-305\n",
      "Отвергаем нулевую гипотезу\n"
     ]
    }
   ],
   "source": [
    "alpha = 0.05  # критический уровень статистической значимости\n",
    "# если p-value окажется меньше него - отвергнем гипотезу\n",
    "\n",
    "results = st.mannwhitneyu(buildings_project, buildings_win, alternative='two-sided')\n",
    "\n",
    "print('p-значение:', results.pvalue)\n",
    "\n",
    "if results.pvalue < alpha:\n",
    "    print('Отвергаем нулевую гипотезу')\n",
    "else:\n",
    "    print('Не получилось отвергнуть нулевую гипотезу') "
   ]
  },
  {
   "cell_type": "markdown",
   "metadata": {},
   "source": [
    "Отвергаем гипотезу о равенстве количества построек пользователей, которые заканчивают уровень через реализацию проекта, и пользователями, которые заканчивают уровень победой над другим игроком.\n",
    "\n",
    "Есть статистически значимые различия."
   ]
  },
  {
   "cell_type": "markdown",
   "metadata": {},
   "source": [
    "## Выводы"
   ]
  },
  {
   "cell_type": "markdown",
   "metadata": {
    "pycharm": {
     "name": "#%% md\n"
    }
   },
   "source": [
    "Выгруженные данные очень качественные, с одной лишь проблемой - одним дубликатом.\n",
    "\n",
    "Всего за месяц <b>13576</b> игроков построили <b>127956</b> строений. В среднем, каждый из них построил по 9 зданий. \n",
    "<br>Только <b>5817 пользователей завершили первый этап</b>, остальные <b>7759</b> либо предпочли не завершать уровень(в игре есть возможность остаться на первом уровне, даже после завершения проекта или победы над игроком), либо отвалились.\n",
    "\n",
    "После заврешения привлечения новых пользователей, количество построек резко падает на 7000 единиц и продолжает снижаться. Не удивительно, ведь игроки строят необходимые объекты и проходят дальше.\n",
    "\n",
    "<b>В среднем игроки завершают первый этап игры за 2 недели.</b>\n",
    "\n",
    "Некоторые игроки завершили первый этап уже на следующий день, после запуска игры. На 13 день, с момента запуска игры, приходится пик игроков завершивших первый этап.\n",
    "\n",
    "Игроки построившие только 2 здания уже имеют возможность пройти первый этап игры, победой над врагом. Пик количества построек с помощью которых игроки, побеждают в битве и проходят первый этап, приходится на 9 зданий.\n",
    "Для построения орбитальной станции, необходимо возвести минимум 10 зданий.\n",
    "\n",
    "Всего 1866 игроков реализовали проект.\n",
    "\n",
    "<b>3951 или 29% игроков</b> одержали <b>победу над первым врагом</b> и перешли на следующий уровень.\n",
    "\n",
    "<b>Все 1866 игроков реализовавших проект, закончили первый этап.</b> 13% всех игроков, завершили уровень разработкой орбитальной сборки спутников.\n",
    "\n",
    "На <b>привлечение</b> первых пользователей было потрачено <b>7603,5 доллара.</b>\n",
    "\n",
    "В среднем, за каждого пользователя <b>компания заплатила 0.56 доллара.</b> \n",
    "\n",
    "Facebook привлек почти столько же игроков, сколько и самый дешевый YouTube. Яндекс.Директ чуть дороже YouTube, но выделено средств на него было столько же, сколько на Instagram, а привлек Директ сильно больше других каналов.\n",
    "\n",
    "Стоит перераспределить расходы на привлечение пользователей в сторону YouTube и Яндекс.Директ\n",
    "\n",
    "При цене в 0.07 доллара за показ рекламы:\n",
    "- Показывая рекламу <b>всем</b> и сразу, <u>получим прибыль</u> в размере <b>1891 долларов.</b>\n",
    "- Если начать показывать рекламу <b>со второй постройки</b>, то <u>получим прибыль</u> в <b>400 долларов</b> на первом уровне.\n",
    "- Но показывая рекламу <b>с третьей постройки</b>, <b><u>потеряем</u> 547 долларов.</b>\n",
    "\n"
   ]
  }
 ],
 "metadata": {
  "ExecuteTimeLog": [
   {
    "duration": 267,
    "start_time": "2021-09-12T17:53:20.395Z"
   },
   {
    "duration": 2739,
    "start_time": "2021-09-12T17:53:25.065Z"
   },
   {
    "duration": 2352,
    "start_time": "2021-09-12T17:53:27.806Z"
   },
   {
    "duration": 1167,
    "start_time": "2021-09-12T17:53:30.160Z"
   },
   {
    "duration": 241,
    "start_time": "2021-09-12T17:53:31.329Z"
   },
   {
    "duration": 248,
    "start_time": "2021-09-12T17:53:31.572Z"
   },
   {
    "duration": 14,
    "start_time": "2021-09-12T17:53:31.821Z"
   },
   {
    "duration": 10,
    "start_time": "2021-09-12T17:53:31.837Z"
   },
   {
    "duration": 60,
    "start_time": "2021-09-12T17:53:31.848Z"
   },
   {
    "duration": 72,
    "start_time": "2021-09-12T17:53:31.911Z"
   },
   {
    "duration": 54,
    "start_time": "2021-09-12T17:53:31.991Z"
   },
   {
    "duration": 67,
    "start_time": "2021-09-12T17:53:32.047Z"
   },
   {
    "duration": 11,
    "start_time": "2021-09-12T17:53:32.116Z"
   },
   {
    "duration": 5,
    "start_time": "2021-09-12T17:53:32.128Z"
   },
   {
    "duration": 20,
    "start_time": "2021-09-12T17:53:32.135Z"
   },
   {
    "duration": 42,
    "start_time": "2021-09-12T17:53:32.156Z"
   },
   {
    "duration": 6,
    "start_time": "2021-09-12T17:53:32.200Z"
   },
   {
    "duration": 5,
    "start_time": "2021-09-12T17:53:32.208Z"
   },
   {
    "duration": 915,
    "start_time": "2021-09-12T17:53:32.215Z"
   },
   {
    "duration": 900,
    "start_time": "2021-09-12T17:53:33.132Z"
   },
   {
    "duration": 873,
    "start_time": "2021-09-12T17:53:34.033Z"
   },
   {
    "duration": 850,
    "start_time": "2021-09-12T17:53:34.908Z"
   },
   {
    "duration": 358,
    "start_time": "2021-09-12T17:53:35.760Z"
   },
   {
    "duration": 9,
    "start_time": "2021-09-12T17:53:36.120Z"
   },
   {
    "duration": 7,
    "start_time": "2021-09-12T17:53:36.130Z"
   },
   {
    "duration": 20,
    "start_time": "2021-09-12T17:53:36.139Z"
   },
   {
    "duration": 37,
    "start_time": "2021-09-12T17:53:36.161Z"
   },
   {
    "duration": 419,
    "start_time": "2021-09-12T17:53:36.202Z"
   },
   {
    "duration": 6,
    "start_time": "2021-09-12T17:53:36.623Z"
   },
   {
    "duration": 393,
    "start_time": "2021-09-12T17:53:36.630Z"
   },
   {
    "duration": 16,
    "start_time": "2021-09-12T17:53:37.024Z"
   },
   {
    "duration": 30,
    "start_time": "2021-09-12T17:53:37.041Z"
   },
   {
    "duration": 339,
    "start_time": "2021-09-12T17:53:37.073Z"
   },
   {
    "duration": 5,
    "start_time": "2021-09-12T17:53:37.414Z"
   },
   {
    "duration": 368,
    "start_time": "2021-09-12T17:53:37.421Z"
   },
   {
    "duration": 46,
    "start_time": "2021-09-12T17:53:37.791Z"
   },
   {
    "duration": 3,
    "start_time": "2021-09-12T17:53:37.839Z"
   },
   {
    "duration": 13,
    "start_time": "2021-09-12T17:53:37.843Z"
   },
   {
    "duration": 414,
    "start_time": "2021-09-12T17:53:37.857Z"
   },
   {
    "duration": 386,
    "start_time": "2021-09-12T17:53:38.272Z"
   },
   {
    "duration": 414,
    "start_time": "2021-09-12T17:53:38.660Z"
   },
   {
    "duration": 4,
    "start_time": "2021-09-12T17:53:39.076Z"
   },
   {
    "duration": 10,
    "start_time": "2021-09-12T17:53:39.082Z"
   },
   {
    "duration": 17899,
    "start_time": "2021-09-12T17:53:39.093Z"
   },
   {
    "duration": 6,
    "start_time": "2021-09-12T17:53:56.994Z"
   },
   {
    "duration": 9,
    "start_time": "2021-09-12T17:53:57.001Z"
   },
   {
    "duration": 8,
    "start_time": "2021-09-12T17:53:57.012Z"
   },
   {
    "duration": 909,
    "start_time": "2021-09-12T17:53:57.022Z"
   },
   {
    "duration": 4,
    "start_time": "2021-09-12T17:53:57.933Z"
   },
   {
    "duration": 9,
    "start_time": "2021-09-12T17:53:57.939Z"
   },
   {
    "duration": 9,
    "start_time": "2021-09-12T17:53:57.950Z"
   },
   {
    "duration": 49,
    "start_time": "2021-09-12T17:53:57.961Z"
   },
   {
    "duration": 24,
    "start_time": "2021-09-12T17:53:58.012Z"
   },
   {
    "duration": 6,
    "start_time": "2021-09-12T17:53:58.038Z"
   },
   {
    "duration": 2566,
    "start_time": "2021-09-12T18:15:22.912Z"
   },
   {
    "duration": 2494,
    "start_time": "2021-09-12T18:15:25.480Z"
   },
   {
    "duration": 1134,
    "start_time": "2021-09-12T18:15:27.979Z"
   },
   {
    "duration": 236,
    "start_time": "2021-09-12T18:15:29.115Z"
   },
   {
    "duration": 239,
    "start_time": "2021-09-12T18:15:29.353Z"
   },
   {
    "duration": 15,
    "start_time": "2021-09-12T18:15:29.594Z"
   },
   {
    "duration": 10,
    "start_time": "2021-09-12T18:15:29.612Z"
   },
   {
    "duration": 36,
    "start_time": "2021-09-12T18:15:29.624Z"
   },
   {
    "duration": 104,
    "start_time": "2021-09-12T18:15:29.662Z"
   },
   {
    "duration": 58,
    "start_time": "2021-09-12T18:15:29.767Z"
   },
   {
    "duration": 69,
    "start_time": "2021-09-12T18:15:29.826Z"
   },
   {
    "duration": 13,
    "start_time": "2021-09-12T18:15:29.897Z"
   },
   {
    "duration": 6,
    "start_time": "2021-09-12T18:15:29.912Z"
   },
   {
    "duration": 17,
    "start_time": "2021-09-12T18:15:29.920Z"
   },
   {
    "duration": 22,
    "start_time": "2021-09-12T18:15:29.938Z"
   },
   {
    "duration": 8,
    "start_time": "2021-09-12T18:15:29.992Z"
   },
   {
    "duration": 20,
    "start_time": "2021-09-12T18:15:30.003Z"
   },
   {
    "duration": 896,
    "start_time": "2021-09-12T18:15:30.025Z"
   },
   {
    "duration": 889,
    "start_time": "2021-09-12T18:15:30.923Z"
   },
   {
    "duration": 856,
    "start_time": "2021-09-12T18:15:31.813Z"
   },
   {
    "duration": 860,
    "start_time": "2021-09-12T18:15:32.670Z"
   },
   {
    "duration": 365,
    "start_time": "2021-09-12T18:15:33.534Z"
   },
   {
    "duration": 8,
    "start_time": "2021-09-12T18:15:33.901Z"
   },
   {
    "duration": 7,
    "start_time": "2021-09-12T18:15:33.911Z"
   },
   {
    "duration": 19,
    "start_time": "2021-09-12T18:15:33.919Z"
   },
   {
    "duration": 21,
    "start_time": "2021-09-12T18:15:33.939Z"
   },
   {
    "duration": 437,
    "start_time": "2021-09-12T18:15:33.962Z"
   },
   {
    "duration": 6,
    "start_time": "2021-09-12T18:15:34.402Z"
   },
   {
    "duration": 340,
    "start_time": "2021-09-12T18:15:34.410Z"
   },
   {
    "duration": 15,
    "start_time": "2021-09-12T18:15:34.752Z"
   },
   {
    "duration": 31,
    "start_time": "2021-09-12T18:15:34.769Z"
   },
   {
    "duration": 316,
    "start_time": "2021-09-12T18:15:34.802Z"
   },
   {
    "duration": 6,
    "start_time": "2021-09-12T18:15:35.120Z"
   },
   {
    "duration": 377,
    "start_time": "2021-09-12T18:15:35.127Z"
   },
   {
    "duration": 48,
    "start_time": "2021-09-12T18:15:35.506Z"
   },
   {
    "duration": 4,
    "start_time": "2021-09-12T18:15:35.555Z"
   },
   {
    "duration": 7,
    "start_time": "2021-09-12T18:15:35.561Z"
   },
   {
    "duration": 426,
    "start_time": "2021-09-12T18:15:35.569Z"
   },
   {
    "duration": 399,
    "start_time": "2021-09-12T18:15:35.997Z"
   },
   {
    "duration": 410,
    "start_time": "2021-09-12T18:15:36.397Z"
   },
   {
    "duration": 4,
    "start_time": "2021-09-12T18:15:36.809Z"
   },
   {
    "duration": 8,
    "start_time": "2021-09-12T18:15:36.814Z"
   },
   {
    "duration": 18025,
    "start_time": "2021-09-12T18:15:36.824Z"
   },
   {
    "duration": 6,
    "start_time": "2021-09-12T18:15:54.851Z"
   },
   {
    "duration": 9,
    "start_time": "2021-09-12T18:15:54.859Z"
   },
   {
    "duration": 21,
    "start_time": "2021-09-12T18:15:54.870Z"
   },
   {
    "duration": 853,
    "start_time": "2021-09-12T18:15:54.893Z"
   },
   {
    "duration": 5,
    "start_time": "2021-09-12T18:15:55.748Z"
   },
   {
    "duration": 9,
    "start_time": "2021-09-12T18:15:55.754Z"
   },
   {
    "duration": 7,
    "start_time": "2021-09-12T18:15:55.764Z"
   },
   {
    "duration": 38,
    "start_time": "2021-09-12T18:15:55.773Z"
   },
   {
    "duration": 23,
    "start_time": "2021-09-12T18:15:55.813Z"
   },
   {
    "duration": 5,
    "start_time": "2021-09-12T18:15:55.838Z"
   },
   {
    "duration": 5452,
    "start_time": "2021-09-13T06:35:45.569Z"
   },
   {
    "duration": 3209,
    "start_time": "2021-09-13T06:35:51.023Z"
   },
   {
    "duration": 1293,
    "start_time": "2021-09-13T06:35:54.237Z"
   },
   {
    "duration": 236,
    "start_time": "2021-09-13T06:35:55.532Z"
   },
   {
    "duration": 227,
    "start_time": "2021-09-13T06:35:55.770Z"
   },
   {
    "duration": 14,
    "start_time": "2021-09-13T06:35:55.999Z"
   },
   {
    "duration": 10,
    "start_time": "2021-09-13T06:35:56.016Z"
   },
   {
    "duration": 35,
    "start_time": "2021-09-13T06:35:56.028Z"
   },
   {
    "duration": 95,
    "start_time": "2021-09-13T06:35:56.065Z"
   },
   {
    "duration": 59,
    "start_time": "2021-09-13T06:35:56.161Z"
   },
   {
    "duration": 53,
    "start_time": "2021-09-13T06:35:56.222Z"
   },
   {
    "duration": 21,
    "start_time": "2021-09-13T06:35:56.277Z"
   },
   {
    "duration": 11,
    "start_time": "2021-09-13T06:35:56.300Z"
   },
   {
    "duration": 19,
    "start_time": "2021-09-13T06:35:56.312Z"
   },
   {
    "duration": 28,
    "start_time": "2021-09-13T06:35:56.333Z"
   },
   {
    "duration": 34,
    "start_time": "2021-09-13T06:35:56.362Z"
   },
   {
    "duration": 11,
    "start_time": "2021-09-13T06:35:56.397Z"
   },
   {
    "duration": 986,
    "start_time": "2021-09-13T06:35:56.409Z"
   },
   {
    "duration": 887,
    "start_time": "2021-09-13T06:35:57.397Z"
   },
   {
    "duration": 875,
    "start_time": "2021-09-13T06:35:58.285Z"
   },
   {
    "duration": 886,
    "start_time": "2021-09-13T06:35:59.162Z"
   },
   {
    "duration": 357,
    "start_time": "2021-09-13T06:36:00.053Z"
   },
   {
    "duration": 10,
    "start_time": "2021-09-13T06:36:00.412Z"
   },
   {
    "duration": 6,
    "start_time": "2021-09-13T06:36:00.424Z"
   },
   {
    "duration": 20,
    "start_time": "2021-09-13T06:36:00.431Z"
   },
   {
    "duration": 28,
    "start_time": "2021-09-13T06:36:00.452Z"
   },
   {
    "duration": 433,
    "start_time": "2021-09-13T06:36:00.482Z"
   },
   {
    "duration": 6,
    "start_time": "2021-09-13T06:36:00.917Z"
   },
   {
    "duration": 360,
    "start_time": "2021-09-13T06:36:00.925Z"
   },
   {
    "duration": 17,
    "start_time": "2021-09-13T06:36:01.289Z"
   },
   {
    "duration": 21,
    "start_time": "2021-09-13T06:36:01.308Z"
   },
   {
    "duration": 312,
    "start_time": "2021-09-13T06:36:01.331Z"
   },
   {
    "duration": 6,
    "start_time": "2021-09-13T06:36:01.645Z"
   },
   {
    "duration": 359,
    "start_time": "2021-09-13T06:36:01.652Z"
   },
   {
    "duration": 52,
    "start_time": "2021-09-13T06:36:02.013Z"
   },
   {
    "duration": 4,
    "start_time": "2021-09-13T06:36:02.066Z"
   },
   {
    "duration": 30,
    "start_time": "2021-09-13T06:36:02.071Z"
   },
   {
    "duration": 429,
    "start_time": "2021-09-13T06:36:02.103Z"
   },
   {
    "duration": 399,
    "start_time": "2021-09-13T06:36:02.534Z"
   },
   {
    "duration": 418,
    "start_time": "2021-09-13T06:36:02.934Z"
   },
   {
    "duration": 4,
    "start_time": "2021-09-13T06:36:03.354Z"
   },
   {
    "duration": 8,
    "start_time": "2021-09-13T06:36:03.359Z"
   },
   {
    "duration": 18519,
    "start_time": "2021-09-13T06:36:03.368Z"
   },
   {
    "duration": 7,
    "start_time": "2021-09-13T06:36:21.889Z"
   },
   {
    "duration": 8,
    "start_time": "2021-09-13T06:36:21.899Z"
   },
   {
    "duration": 15,
    "start_time": "2021-09-13T06:36:21.909Z"
   },
   {
    "duration": 940,
    "start_time": "2021-09-13T06:36:21.926Z"
   },
   {
    "duration": 4,
    "start_time": "2021-09-13T06:36:22.868Z"
   },
   {
    "duration": 8,
    "start_time": "2021-09-13T06:36:22.873Z"
   },
   {
    "duration": 5,
    "start_time": "2021-09-13T06:36:22.892Z"
   },
   {
    "duration": 24,
    "start_time": "2021-09-13T06:36:22.899Z"
   },
   {
    "duration": 22,
    "start_time": "2021-09-13T06:36:22.924Z"
   },
   {
    "duration": 5,
    "start_time": "2021-09-13T06:36:22.948Z"
   },
   {
    "duration": 859,
    "start_time": "2021-09-13T06:44:30.760Z"
   },
   {
    "duration": 860,
    "start_time": "2021-09-13T06:49:07.783Z"
   },
   {
    "duration": 120,
    "start_time": "2021-09-13T07:10:14.960Z"
   },
   {
    "duration": 2752,
    "start_time": "2021-09-13T07:47:59.548Z"
   },
   {
    "duration": 2576,
    "start_time": "2021-09-13T07:48:02.302Z"
   },
   {
    "duration": 1142,
    "start_time": "2021-09-13T07:48:04.880Z"
   },
   {
    "duration": 246,
    "start_time": "2021-09-13T07:48:06.024Z"
   },
   {
    "duration": 280,
    "start_time": "2021-09-13T07:48:06.272Z"
   },
   {
    "duration": 15,
    "start_time": "2021-09-13T07:48:06.554Z"
   },
   {
    "duration": 27,
    "start_time": "2021-09-13T07:48:06.571Z"
   },
   {
    "duration": 36,
    "start_time": "2021-09-13T07:48:06.601Z"
   },
   {
    "duration": 94,
    "start_time": "2021-09-13T07:48:06.639Z"
   },
   {
    "duration": 58,
    "start_time": "2021-09-13T07:48:06.734Z"
   },
   {
    "duration": 59,
    "start_time": "2021-09-13T07:48:06.794Z"
   },
   {
    "duration": 12,
    "start_time": "2021-09-13T07:48:06.854Z"
   },
   {
    "duration": 24,
    "start_time": "2021-09-13T07:48:06.868Z"
   },
   {
    "duration": 16,
    "start_time": "2021-09-13T07:48:06.894Z"
   },
   {
    "duration": 24,
    "start_time": "2021-09-13T07:48:06.912Z"
   },
   {
    "duration": 8,
    "start_time": "2021-09-13T07:48:06.938Z"
   },
   {
    "duration": 8,
    "start_time": "2021-09-13T07:48:06.948Z"
   },
   {
    "duration": 955,
    "start_time": "2021-09-13T07:48:06.957Z"
   },
   {
    "duration": 930,
    "start_time": "2021-09-13T07:48:07.914Z"
   },
   {
    "duration": 923,
    "start_time": "2021-09-13T07:48:08.846Z"
   },
   {
    "duration": 902,
    "start_time": "2021-09-13T07:48:09.770Z"
   },
   {
    "duration": 365,
    "start_time": "2021-09-13T07:48:10.674Z"
   },
   {
    "duration": 8,
    "start_time": "2021-09-13T07:48:11.043Z"
   },
   {
    "duration": 10,
    "start_time": "2021-09-13T07:48:11.053Z"
   },
   {
    "duration": 27,
    "start_time": "2021-09-13T07:48:11.065Z"
   },
   {
    "duration": 22,
    "start_time": "2021-09-13T07:48:11.094Z"
   },
   {
    "duration": 431,
    "start_time": "2021-09-13T07:48:11.118Z"
   },
   {
    "duration": 7,
    "start_time": "2021-09-13T07:48:11.552Z"
   },
   {
    "duration": 363,
    "start_time": "2021-09-13T07:48:11.561Z"
   },
   {
    "duration": 15,
    "start_time": "2021-09-13T07:48:11.925Z"
   },
   {
    "duration": 21,
    "start_time": "2021-09-13T07:48:11.942Z"
   },
   {
    "duration": 348,
    "start_time": "2021-09-13T07:48:11.965Z"
   },
   {
    "duration": 6,
    "start_time": "2021-09-13T07:48:12.315Z"
   },
   {
    "duration": 344,
    "start_time": "2021-09-13T07:48:12.323Z"
   },
   {
    "duration": 60,
    "start_time": "2021-09-13T07:48:12.669Z"
   },
   {
    "duration": 3,
    "start_time": "2021-09-13T07:48:12.731Z"
   },
   {
    "duration": 7,
    "start_time": "2021-09-13T07:48:12.736Z"
   },
   {
    "duration": 405,
    "start_time": "2021-09-13T07:48:12.744Z"
   },
   {
    "duration": 404,
    "start_time": "2021-09-13T07:48:13.150Z"
   },
   {
    "duration": 401,
    "start_time": "2021-09-13T07:48:13.556Z"
   },
   {
    "duration": 4,
    "start_time": "2021-09-13T07:48:13.959Z"
   },
   {
    "duration": 9,
    "start_time": "2021-09-13T07:48:13.964Z"
   },
   {
    "duration": 18827,
    "start_time": "2021-09-13T07:48:13.975Z"
   },
   {
    "duration": 6,
    "start_time": "2021-09-13T07:48:32.804Z"
   },
   {
    "duration": 7,
    "start_time": "2021-09-13T07:48:32.812Z"
   },
   {
    "duration": 7,
    "start_time": "2021-09-13T07:48:32.820Z"
   },
   {
    "duration": 853,
    "start_time": "2021-09-13T07:48:32.829Z"
   },
   {
    "duration": 10,
    "start_time": "2021-09-13T07:48:33.683Z"
   },
   {
    "duration": 6,
    "start_time": "2021-09-13T07:48:33.695Z"
   },
   {
    "duration": 6,
    "start_time": "2021-09-13T07:48:33.703Z"
   },
   {
    "duration": 24,
    "start_time": "2021-09-13T07:48:33.710Z"
   },
   {
    "duration": 23,
    "start_time": "2021-09-13T07:48:33.736Z"
   },
   {
    "duration": 5,
    "start_time": "2021-09-13T07:48:33.761Z"
   },
   {
    "duration": 378,
    "start_time": "2021-09-13T15:41:26.569Z"
   },
   {
    "duration": 7286,
    "start_time": "2021-09-13T15:41:32.017Z"
   },
   {
    "duration": 4826,
    "start_time": "2021-09-13T15:41:39.306Z"
   },
   {
    "duration": 1806,
    "start_time": "2021-09-13T15:41:44.136Z"
   },
   {
    "duration": 298,
    "start_time": "2021-09-13T15:41:45.946Z"
   },
   {
    "duration": 287,
    "start_time": "2021-09-13T15:41:46.247Z"
   },
   {
    "duration": 23,
    "start_time": "2021-09-13T15:41:46.536Z"
   },
   {
    "duration": 14,
    "start_time": "2021-09-13T15:41:46.561Z"
   },
   {
    "duration": 47,
    "start_time": "2021-09-13T15:41:46.615Z"
   },
   {
    "duration": 128,
    "start_time": "2021-09-13T15:41:46.665Z"
   },
   {
    "duration": 85,
    "start_time": "2021-09-13T15:41:46.796Z"
   },
   {
    "duration": 94,
    "start_time": "2021-09-13T15:41:46.883Z"
   },
   {
    "duration": 16,
    "start_time": "2021-09-13T15:41:46.979Z"
   },
   {
    "duration": 20,
    "start_time": "2021-09-13T15:41:46.997Z"
   },
   {
    "duration": 43,
    "start_time": "2021-09-13T15:41:47.020Z"
   },
   {
    "duration": 30,
    "start_time": "2021-09-13T15:41:47.065Z"
   },
   {
    "duration": 21,
    "start_time": "2021-09-13T15:41:47.097Z"
   },
   {
    "duration": 25,
    "start_time": "2021-09-13T15:41:47.120Z"
   },
   {
    "duration": 1500,
    "start_time": "2021-09-13T15:41:47.147Z"
   },
   {
    "duration": 1392,
    "start_time": "2021-09-13T15:41:48.650Z"
   },
   {
    "duration": 1442,
    "start_time": "2021-09-13T15:41:50.045Z"
   },
   {
    "duration": 1430,
    "start_time": "2021-09-13T15:41:51.489Z"
   },
   {
    "duration": 519,
    "start_time": "2021-09-13T15:41:52.922Z"
   },
   {
    "duration": 12,
    "start_time": "2021-09-13T15:41:53.446Z"
   },
   {
    "duration": 6,
    "start_time": "2021-09-13T15:41:53.461Z"
   },
   {
    "duration": 51,
    "start_time": "2021-09-13T15:41:53.469Z"
   },
   {
    "duration": 28,
    "start_time": "2021-09-13T15:41:53.522Z"
   },
   {
    "duration": 688,
    "start_time": "2021-09-13T15:41:53.553Z"
   },
   {
    "duration": 8,
    "start_time": "2021-09-13T15:41:54.243Z"
   },
   {
    "duration": 533,
    "start_time": "2021-09-13T15:41:54.254Z"
   },
   {
    "duration": 31,
    "start_time": "2021-09-13T15:41:54.789Z"
   },
   {
    "duration": 23,
    "start_time": "2021-09-13T15:41:54.823Z"
   },
   {
    "duration": 476,
    "start_time": "2021-09-13T15:41:54.850Z"
   },
   {
    "duration": 9,
    "start_time": "2021-09-13T15:41:55.329Z"
   },
   {
    "duration": 498,
    "start_time": "2021-09-13T15:41:55.340Z"
   },
   {
    "duration": 90,
    "start_time": "2021-09-13T15:41:55.841Z"
   },
   {
    "duration": 7,
    "start_time": "2021-09-13T15:41:55.934Z"
   },
   {
    "duration": 6,
    "start_time": "2021-09-13T15:41:55.944Z"
   },
   {
    "duration": 628,
    "start_time": "2021-09-13T15:41:55.952Z"
   },
   {
    "duration": 607,
    "start_time": "2021-09-13T15:41:56.582Z"
   },
   {
    "duration": 637,
    "start_time": "2021-09-13T15:41:57.192Z"
   },
   {
    "duration": 7,
    "start_time": "2021-09-13T15:41:57.831Z"
   },
   {
    "duration": 11,
    "start_time": "2021-09-13T15:41:57.840Z"
   },
   {
    "duration": 31979,
    "start_time": "2021-09-13T15:41:57.853Z"
   },
   {
    "duration": 10,
    "start_time": "2021-09-13T15:42:29.835Z"
   },
   {
    "duration": 24,
    "start_time": "2021-09-13T15:42:29.848Z"
   },
   {
    "duration": 98,
    "start_time": "2021-09-13T15:42:29.875Z"
   },
   {
    "duration": 1471,
    "start_time": "2021-09-13T15:42:29.976Z"
   },
   {
    "duration": 6,
    "start_time": "2021-09-13T15:42:31.449Z"
   },
   {
    "duration": 16,
    "start_time": "2021-09-13T15:42:31.457Z"
   },
   {
    "duration": 29,
    "start_time": "2021-09-13T15:42:31.476Z"
   },
   {
    "duration": 47,
    "start_time": "2021-09-13T15:42:31.507Z"
   },
   {
    "duration": 35,
    "start_time": "2021-09-13T15:42:31.557Z"
   },
   {
    "duration": 8,
    "start_time": "2021-09-13T15:42:31.595Z"
   },
   {
    "duration": 1243,
    "start_time": "2021-09-13T15:45:46.863Z"
   },
   {
    "duration": 1411,
    "start_time": "2021-09-13T15:47:14.127Z"
   },
   {
    "duration": 1312,
    "start_time": "2021-09-13T15:47:40.111Z"
   },
   {
    "duration": 8,
    "start_time": "2021-09-13T15:53:36.389Z"
   },
   {
    "duration": 1428,
    "start_time": "2021-09-13T15:53:38.648Z"
   },
   {
    "duration": 7,
    "start_time": "2021-09-13T15:54:50.771Z"
   },
   {
    "duration": 2778,
    "start_time": "2021-09-13T15:54:53.412Z"
   },
   {
    "duration": 6,
    "start_time": "2021-09-13T15:54:59.255Z"
   },
   {
    "duration": 1580,
    "start_time": "2021-09-13T15:55:00.739Z"
   },
   {
    "duration": 8,
    "start_time": "2021-09-13T15:55:16.493Z"
   },
   {
    "duration": 1472,
    "start_time": "2021-09-13T15:55:18.117Z"
   },
   {
    "duration": 7,
    "start_time": "2021-09-13T15:55:30.424Z"
   },
   {
    "duration": 1409,
    "start_time": "2021-09-13T15:55:31.701Z"
   },
   {
    "duration": 7,
    "start_time": "2021-09-13T15:57:45.439Z"
   },
   {
    "duration": 2032,
    "start_time": "2021-09-13T15:57:47.279Z"
   },
   {
    "duration": 7,
    "start_time": "2021-09-13T15:58:17.415Z"
   },
   {
    "duration": 1412,
    "start_time": "2021-09-13T15:58:18.812Z"
   },
   {
    "duration": 11,
    "start_time": "2021-09-13T15:59:04.834Z"
   },
   {
    "duration": 1493,
    "start_time": "2021-09-13T15:59:05.926Z"
   },
   {
    "duration": 9,
    "start_time": "2021-09-13T15:59:32.578Z"
   },
   {
    "duration": 1527,
    "start_time": "2021-09-13T15:59:33.935Z"
   },
   {
    "duration": 9,
    "start_time": "2021-09-13T15:59:52.892Z"
   },
   {
    "duration": 1539,
    "start_time": "2021-09-13T15:59:53.964Z"
   },
   {
    "duration": 1424,
    "start_time": "2021-09-13T16:02:10.977Z"
   },
   {
    "duration": 1390,
    "start_time": "2021-09-13T16:03:49.531Z"
   },
   {
    "duration": 8,
    "start_time": "2021-09-13T16:04:31.482Z"
   },
   {
    "duration": 1429,
    "start_time": "2021-09-13T16:04:33.148Z"
   },
   {
    "duration": 7,
    "start_time": "2021-09-13T16:04:58.106Z"
   },
   {
    "duration": 1453,
    "start_time": "2021-09-13T16:04:59.923Z"
   },
   {
    "duration": 1258,
    "start_time": "2021-09-13T16:05:16.458Z"
   },
   {
    "duration": 1402,
    "start_time": "2021-09-13T16:05:51.346Z"
   },
   {
    "duration": 26,
    "start_time": "2021-09-13T16:06:09.579Z"
   },
   {
    "duration": 425,
    "start_time": "2021-09-13T16:06:55.414Z"
   },
   {
    "duration": 304,
    "start_time": "2021-09-13T16:07:13.697Z"
   },
   {
    "duration": 339,
    "start_time": "2021-09-13T16:07:42.860Z"
   },
   {
    "duration": 1876,
    "start_time": "2021-09-13T16:08:25.454Z"
   },
   {
    "duration": 16,
    "start_time": "2021-09-13T16:08:36.252Z"
   },
   {
    "duration": 4257,
    "start_time": "2021-09-13T16:09:04.519Z"
   },
   {
    "duration": 4226,
    "start_time": "2021-09-13T16:09:26.098Z"
   },
   {
    "duration": 3676,
    "start_time": "2021-09-13T16:09:30.327Z"
   },
   {
    "duration": 1542,
    "start_time": "2021-09-13T16:09:34.007Z"
   },
   {
    "duration": 306,
    "start_time": "2021-09-13T16:09:35.552Z"
   },
   {
    "duration": 359,
    "start_time": "2021-09-13T16:09:35.860Z"
   },
   {
    "duration": 24,
    "start_time": "2021-09-13T16:09:36.221Z"
   },
   {
    "duration": 17,
    "start_time": "2021-09-13T16:09:36.247Z"
   },
   {
    "duration": 87,
    "start_time": "2021-09-13T16:09:36.270Z"
   },
   {
    "duration": 131,
    "start_time": "2021-09-13T16:09:36.361Z"
   },
   {
    "duration": 90,
    "start_time": "2021-09-13T16:09:36.495Z"
   },
   {
    "duration": 101,
    "start_time": "2021-09-13T16:09:36.588Z"
   },
   {
    "duration": 27,
    "start_time": "2021-09-13T16:09:36.691Z"
   },
   {
    "duration": 7,
    "start_time": "2021-09-13T16:09:36.720Z"
   },
   {
    "duration": 25,
    "start_time": "2021-09-13T16:09:36.729Z"
   },
   {
    "duration": 66,
    "start_time": "2021-09-13T16:09:36.758Z"
   },
   {
    "duration": 11,
    "start_time": "2021-09-13T16:09:36.827Z"
   },
   {
    "duration": 8,
    "start_time": "2021-09-13T16:09:36.840Z"
   },
   {
    "duration": 1626,
    "start_time": "2021-09-13T16:09:36.851Z"
   },
   {
    "duration": 1361,
    "start_time": "2021-09-13T16:09:38.480Z"
   },
   {
    "duration": 1435,
    "start_time": "2021-09-13T16:09:39.843Z"
   },
   {
    "duration": 1385,
    "start_time": "2021-09-13T16:09:41.281Z"
   },
   {
    "duration": 612,
    "start_time": "2021-09-13T16:09:42.669Z"
   },
   {
    "duration": 12,
    "start_time": "2021-09-13T16:09:43.286Z"
   },
   {
    "duration": 20,
    "start_time": "2021-09-13T16:09:43.301Z"
   },
   {
    "duration": 37,
    "start_time": "2021-09-13T16:09:43.323Z"
   },
   {
    "duration": 32,
    "start_time": "2021-09-13T16:09:43.362Z"
   },
   {
    "duration": 499,
    "start_time": "2021-09-13T16:09:43.396Z"
   },
   {
    "duration": 19,
    "start_time": "2021-09-13T16:09:43.898Z"
   },
   {
    "duration": 533,
    "start_time": "2021-09-13T16:09:43.919Z"
   },
   {
    "duration": 21,
    "start_time": "2021-09-13T16:09:44.455Z"
   },
   {
    "duration": 46,
    "start_time": "2021-09-13T16:09:44.478Z"
   },
   {
    "duration": 438,
    "start_time": "2021-09-13T16:09:44.526Z"
   },
   {
    "duration": 9,
    "start_time": "2021-09-13T16:09:44.967Z"
   },
   {
    "duration": 501,
    "start_time": "2021-09-13T16:09:44.979Z"
   },
   {
    "duration": 89,
    "start_time": "2021-09-13T16:09:45.483Z"
   },
   {
    "duration": 7,
    "start_time": "2021-09-13T16:09:45.575Z"
   },
   {
    "duration": 6,
    "start_time": "2021-09-13T16:09:45.585Z"
   },
   {
    "duration": 618,
    "start_time": "2021-09-13T16:09:45.616Z"
   },
   {
    "duration": 618,
    "start_time": "2021-09-13T16:09:46.238Z"
   },
   {
    "duration": 662,
    "start_time": "2021-09-13T16:09:46.859Z"
   },
   {
    "duration": 7,
    "start_time": "2021-09-13T16:09:47.524Z"
   },
   {
    "duration": 7,
    "start_time": "2021-09-13T16:09:47.534Z"
   },
   {
    "duration": 31760,
    "start_time": "2021-09-13T16:09:47.544Z"
   },
   {
    "duration": 13,
    "start_time": "2021-09-13T16:10:19.306Z"
   },
   {
    "duration": 10,
    "start_time": "2021-09-13T16:10:19.321Z"
   },
   {
    "duration": 9,
    "start_time": "2021-09-13T16:10:19.334Z"
   },
   {
    "duration": 1312,
    "start_time": "2021-09-13T16:10:19.347Z"
   },
   {
    "duration": 5,
    "start_time": "2021-09-13T16:10:20.661Z"
   },
   {
    "duration": 8,
    "start_time": "2021-09-13T16:10:20.669Z"
   },
   {
    "duration": 15,
    "start_time": "2021-09-13T16:10:20.679Z"
   },
   {
    "duration": 48,
    "start_time": "2021-09-13T16:10:20.697Z"
   },
   {
    "duration": 36,
    "start_time": "2021-09-13T16:10:20.748Z"
   },
   {
    "duration": 32,
    "start_time": "2021-09-13T16:10:20.787Z"
   },
   {
    "duration": 37,
    "start_time": "2021-09-13T16:11:24.507Z"
   },
   {
    "duration": 7,
    "start_time": "2021-09-13T16:11:55.867Z"
   },
   {
    "duration": 1517,
    "start_time": "2021-09-13T16:11:58.073Z"
   },
   {
    "duration": 38,
    "start_time": "2021-09-13T16:12:25.206Z"
   },
   {
    "duration": 37,
    "start_time": "2021-09-13T16:12:42.197Z"
   },
   {
    "duration": 37,
    "start_time": "2021-09-13T16:12:50.551Z"
   },
   {
    "duration": 37,
    "start_time": "2021-09-13T16:13:35.417Z"
   },
   {
    "duration": 22,
    "start_time": "2021-09-13T16:13:52.632Z"
   },
   {
    "duration": 1418,
    "start_time": "2021-09-13T16:14:15.814Z"
   },
   {
    "duration": 1477,
    "start_time": "2021-09-13T16:14:22.320Z"
   },
   {
    "duration": 1411,
    "start_time": "2021-09-13T16:14:27.813Z"
   },
   {
    "duration": 39,
    "start_time": "2021-09-13T16:14:37.827Z"
   },
   {
    "duration": 22,
    "start_time": "2021-09-13T16:14:58.307Z"
   },
   {
    "duration": 26,
    "start_time": "2021-09-13T16:15:37.069Z"
   },
   {
    "duration": 7,
    "start_time": "2021-09-13T16:16:38.825Z"
   },
   {
    "duration": 1433,
    "start_time": "2021-09-13T16:16:42.459Z"
   },
   {
    "duration": 7,
    "start_time": "2021-09-13T16:17:36.427Z"
   },
   {
    "duration": 1884,
    "start_time": "2021-09-13T16:17:40.461Z"
   },
   {
    "duration": 1411,
    "start_time": "2021-09-13T16:17:54.010Z"
   },
   {
    "duration": 1476,
    "start_time": "2021-09-13T16:18:07.758Z"
   },
   {
    "duration": 1392,
    "start_time": "2021-09-13T16:18:13.332Z"
   },
   {
    "duration": 18,
    "start_time": "2021-09-13T16:19:52.481Z"
   },
   {
    "duration": 4451,
    "start_time": "2021-09-13T16:19:56.958Z"
   },
   {
    "duration": 6425,
    "start_time": "2021-09-13T16:20:01.412Z"
   },
   {
    "duration": 1602,
    "start_time": "2021-09-13T16:20:07.840Z"
   },
   {
    "duration": 315,
    "start_time": "2021-09-13T16:20:09.444Z"
   },
   {
    "duration": 379,
    "start_time": "2021-09-13T16:20:09.762Z"
   },
   {
    "duration": 26,
    "start_time": "2021-09-13T16:20:10.143Z"
   },
   {
    "duration": 14,
    "start_time": "2021-09-13T16:20:10.171Z"
   },
   {
    "duration": 87,
    "start_time": "2021-09-13T16:20:10.189Z"
   },
   {
    "duration": 130,
    "start_time": "2021-09-13T16:20:10.279Z"
   },
   {
    "duration": 73,
    "start_time": "2021-09-13T16:20:10.411Z"
   },
   {
    "duration": 84,
    "start_time": "2021-09-13T16:20:10.486Z"
   },
   {
    "duration": 16,
    "start_time": "2021-09-13T16:20:10.573Z"
   },
   {
    "duration": 7,
    "start_time": "2021-09-13T16:20:10.591Z"
   },
   {
    "duration": 19,
    "start_time": "2021-09-13T16:20:10.617Z"
   },
   {
    "duration": 26,
    "start_time": "2021-09-13T16:20:10.638Z"
   },
   {
    "duration": 12,
    "start_time": "2021-09-13T16:20:10.666Z"
   },
   {
    "duration": 7,
    "start_time": "2021-09-13T16:20:10.716Z"
   },
   {
    "duration": 957,
    "start_time": "2021-09-13T16:20:10.725Z"
   },
   {
    "duration": -931,
    "start_time": "2021-09-13T16:20:12.618Z"
   },
   {
    "duration": -932,
    "start_time": "2021-09-13T16:20:12.620Z"
   },
   {
    "duration": -935,
    "start_time": "2021-09-13T16:20:12.625Z"
   },
   {
    "duration": -940,
    "start_time": "2021-09-13T16:20:12.631Z"
   },
   {
    "duration": -941,
    "start_time": "2021-09-13T16:20:12.633Z"
   },
   {
    "duration": -945,
    "start_time": "2021-09-13T16:20:12.638Z"
   },
   {
    "duration": -944,
    "start_time": "2021-09-13T16:20:12.639Z"
   },
   {
    "duration": -948,
    "start_time": "2021-09-13T16:20:12.644Z"
   },
   {
    "duration": -948,
    "start_time": "2021-09-13T16:20:12.646Z"
   },
   {
    "duration": -948,
    "start_time": "2021-09-13T16:20:12.648Z"
   },
   {
    "duration": -952,
    "start_time": "2021-09-13T16:20:12.653Z"
   },
   {
    "duration": -953,
    "start_time": "2021-09-13T16:20:12.655Z"
   },
   {
    "duration": -953,
    "start_time": "2021-09-13T16:20:12.657Z"
   },
   {
    "duration": -954,
    "start_time": "2021-09-13T16:20:12.659Z"
   },
   {
    "duration": -953,
    "start_time": "2021-09-13T16:20:12.660Z"
   },
   {
    "duration": -954,
    "start_time": "2021-09-13T16:20:12.662Z"
   },
   {
    "duration": -954,
    "start_time": "2021-09-13T16:20:12.664Z"
   },
   {
    "duration": -954,
    "start_time": "2021-09-13T16:20:12.665Z"
   },
   {
    "duration": -954,
    "start_time": "2021-09-13T16:20:12.667Z"
   },
   {
    "duration": -954,
    "start_time": "2021-09-13T16:20:12.668Z"
   },
   {
    "duration": -955,
    "start_time": "2021-09-13T16:20:12.670Z"
   },
   {
    "duration": -959,
    "start_time": "2021-09-13T16:20:12.676Z"
   },
   {
    "duration": -960,
    "start_time": "2021-09-13T16:20:12.678Z"
   },
   {
    "duration": -960,
    "start_time": "2021-09-13T16:20:12.680Z"
   },
   {
    "duration": -960,
    "start_time": "2021-09-13T16:20:12.681Z"
   },
   {
    "duration": -961,
    "start_time": "2021-09-13T16:20:12.683Z"
   },
   {
    "duration": -960,
    "start_time": "2021-09-13T16:20:12.684Z"
   },
   {
    "duration": -961,
    "start_time": "2021-09-13T16:20:12.686Z"
   },
   {
    "duration": -961,
    "start_time": "2021-09-13T16:20:12.688Z"
   },
   {
    "duration": -965,
    "start_time": "2021-09-13T16:20:12.693Z"
   },
   {
    "duration": -966,
    "start_time": "2021-09-13T16:20:12.695Z"
   },
   {
    "duration": -966,
    "start_time": "2021-09-13T16:20:12.697Z"
   },
   {
    "duration": -966,
    "start_time": "2021-09-13T16:20:12.699Z"
   },
   {
    "duration": -966,
    "start_time": "2021-09-13T16:20:12.700Z"
   },
   {
    "duration": -967,
    "start_time": "2021-09-13T16:20:12.702Z"
   },
   {
    "duration": -966,
    "start_time": "2021-09-13T16:20:12.703Z"
   },
   {
    "duration": -967,
    "start_time": "2021-09-13T16:20:12.705Z"
   },
   {
    "duration": 1688,
    "start_time": "2021-09-13T16:20:21.136Z"
   },
   {
    "duration": 7,
    "start_time": "2021-09-13T16:21:33.408Z"
   },
   {
    "duration": 1309,
    "start_time": "2021-09-13T16:21:35.294Z"
   },
   {
    "duration": 1253,
    "start_time": "2021-09-13T16:21:40.730Z"
   },
   {
    "duration": 1365,
    "start_time": "2021-09-13T16:21:46.182Z"
   },
   {
    "duration": 1283,
    "start_time": "2021-09-13T16:21:53.789Z"
   },
   {
    "duration": 8,
    "start_time": "2021-09-13T16:22:10.896Z"
   },
   {
    "duration": 1290,
    "start_time": "2021-09-13T16:22:12.831Z"
   },
   {
    "duration": 1142,
    "start_time": "2021-09-13T16:22:17.008Z"
   },
   {
    "duration": 7,
    "start_time": "2021-09-13T16:23:06.029Z"
   },
   {
    "duration": 1279,
    "start_time": "2021-09-13T16:23:07.072Z"
   },
   {
    "duration": 1294,
    "start_time": "2021-09-13T16:23:14.434Z"
   },
   {
    "duration": 1246,
    "start_time": "2021-09-13T16:23:53.429Z"
   },
   {
    "duration": 1273,
    "start_time": "2021-09-13T16:24:35.089Z"
   },
   {
    "duration": 1235,
    "start_time": "2021-09-13T16:25:18.542Z"
   },
   {
    "duration": 1259,
    "start_time": "2021-09-13T16:25:30.105Z"
   },
   {
    "duration": 1239,
    "start_time": "2021-09-13T16:28:37.697Z"
   },
   {
    "duration": 531,
    "start_time": "2021-09-13T16:31:37.015Z"
   },
   {
    "duration": 13,
    "start_time": "2021-09-13T16:34:20.362Z"
   },
   {
    "duration": 654,
    "start_time": "2021-09-13T16:34:54.879Z"
   },
   {
    "duration": 535,
    "start_time": "2021-09-13T16:35:03.540Z"
   },
   {
    "duration": 500,
    "start_time": "2021-09-13T16:35:20.271Z"
   },
   {
    "duration": 978,
    "start_time": "2021-09-13T16:37:15.341Z"
   },
   {
    "duration": 107,
    "start_time": "2021-09-13T16:37:22.057Z"
   },
   {
    "duration": 532,
    "start_time": "2021-09-13T16:37:24.973Z"
   },
   {
    "duration": 546,
    "start_time": "2021-09-13T16:37:30.620Z"
   },
   {
    "duration": 542,
    "start_time": "2021-09-13T16:37:34.118Z"
   },
   {
    "duration": 557,
    "start_time": "2021-09-13T16:37:38.017Z"
   },
   {
    "duration": 6,
    "start_time": "2021-09-13T16:37:51.672Z"
   },
   {
    "duration": 688,
    "start_time": "2021-09-13T16:37:54.545Z"
   },
   {
    "duration": 577,
    "start_time": "2021-09-13T16:38:01.790Z"
   },
   {
    "duration": 556,
    "start_time": "2021-09-13T16:38:05.751Z"
   },
   {
    "duration": 1141,
    "start_time": "2021-09-13T16:38:59.912Z"
   },
   {
    "duration": 1198,
    "start_time": "2021-09-13T16:39:29.922Z"
   },
   {
    "duration": 351,
    "start_time": "2021-09-13T16:39:42.677Z"
   },
   {
    "duration": 1122,
    "start_time": "2021-09-13T16:39:46.371Z"
   },
   {
    "duration": 97,
    "start_time": "2021-09-13T16:40:08.300Z"
   },
   {
    "duration": 553,
    "start_time": "2021-09-13T16:41:23.594Z"
   },
   {
    "duration": 7,
    "start_time": "2021-09-13T16:41:34.247Z"
   },
   {
    "duration": 1369,
    "start_time": "2021-09-13T16:41:37.212Z"
   },
   {
    "duration": 1189,
    "start_time": "2021-09-13T16:41:41.213Z"
   },
   {
    "duration": 526,
    "start_time": "2021-09-13T16:41:47.370Z"
   },
   {
    "duration": 7,
    "start_time": "2021-09-13T16:48:35.474Z"
   },
   {
    "duration": 1371,
    "start_time": "2021-09-13T16:48:37.040Z"
   },
   {
    "duration": 7,
    "start_time": "2021-09-13T16:48:43.869Z"
   },
   {
    "duration": 1193,
    "start_time": "2021-09-13T16:48:44.975Z"
   },
   {
    "duration": 512,
    "start_time": "2021-09-13T16:48:55.837Z"
   },
   {
    "duration": 7,
    "start_time": "2021-09-13T16:49:04.476Z"
   },
   {
    "duration": 1157,
    "start_time": "2021-09-13T16:49:05.442Z"
   },
   {
    "duration": 7,
    "start_time": "2021-09-13T16:49:11.606Z"
   },
   {
    "duration": 1290,
    "start_time": "2021-09-13T16:49:13.398Z"
   },
   {
    "duration": 628,
    "start_time": "2021-09-13T16:49:24.415Z"
   },
   {
    "duration": 8,
    "start_time": "2021-09-13T16:49:30.939Z"
   },
   {
    "duration": 1411,
    "start_time": "2021-09-13T16:49:32.094Z"
   },
   {
    "duration": 8,
    "start_time": "2021-09-13T16:50:10.031Z"
   },
   {
    "duration": 1316,
    "start_time": "2021-09-13T16:50:11.822Z"
   },
   {
    "duration": 8,
    "start_time": "2021-09-13T16:50:17.957Z"
   },
   {
    "duration": 1788,
    "start_time": "2021-09-13T16:50:18.991Z"
   },
   {
    "duration": 9,
    "start_time": "2021-09-13T16:50:35.357Z"
   },
   {
    "duration": 1450,
    "start_time": "2021-09-13T16:50:36.736Z"
   },
   {
    "duration": 8,
    "start_time": "2021-09-13T16:51:08.423Z"
   },
   {
    "duration": 1784,
    "start_time": "2021-09-13T16:51:09.412Z"
   },
   {
    "duration": 8,
    "start_time": "2021-09-13T16:51:15.346Z"
   },
   {
    "duration": 1160,
    "start_time": "2021-09-13T16:51:16.338Z"
   },
   {
    "duration": 8,
    "start_time": "2021-09-13T16:51:32.008Z"
   },
   {
    "duration": 1130,
    "start_time": "2021-09-13T16:51:32.980Z"
   },
   {
    "duration": 8,
    "start_time": "2021-09-13T16:51:43.438Z"
   },
   {
    "duration": 1752,
    "start_time": "2021-09-13T16:51:44.517Z"
   },
   {
    "duration": 7,
    "start_time": "2021-09-13T16:52:02.356Z"
   },
   {
    "duration": 1325,
    "start_time": "2021-09-13T16:52:03.232Z"
   },
   {
    "duration": 8,
    "start_time": "2021-09-13T16:52:14.549Z"
   },
   {
    "duration": 1305,
    "start_time": "2021-09-13T16:52:15.742Z"
   },
   {
    "duration": 8,
    "start_time": "2021-09-13T16:52:23.717Z"
   },
   {
    "duration": 1365,
    "start_time": "2021-09-13T16:52:24.755Z"
   },
   {
    "duration": 12,
    "start_time": "2021-09-13T16:52:40.042Z"
   },
   {
    "duration": 1415,
    "start_time": "2021-09-13T16:52:41.001Z"
   },
   {
    "duration": 1227,
    "start_time": "2021-09-13T16:52:50.134Z"
   },
   {
    "duration": 7,
    "start_time": "2021-09-13T16:53:05.042Z"
   },
   {
    "duration": 1051,
    "start_time": "2021-09-13T16:53:24.216Z"
   },
   {
    "duration": 7,
    "start_time": "2021-09-13T16:53:28.119Z"
   },
   {
    "duration": 1349,
    "start_time": "2021-09-13T16:53:29.049Z"
   },
   {
    "duration": 1232,
    "start_time": "2021-09-13T16:53:55.727Z"
   },
   {
    "duration": 1280,
    "start_time": "2021-09-13T16:53:59.146Z"
   },
   {
    "duration": 1306,
    "start_time": "2021-09-13T16:54:15.411Z"
   },
   {
    "duration": 897,
    "start_time": "2021-09-13T16:54:32.724Z"
   },
   {
    "duration": 8,
    "start_time": "2021-09-13T16:55:01.481Z"
   },
   {
    "duration": 1381,
    "start_time": "2021-09-13T16:55:02.699Z"
   },
   {
    "duration": 8,
    "start_time": "2021-09-13T16:55:14.270Z"
   },
   {
    "duration": 1374,
    "start_time": "2021-09-13T16:55:15.108Z"
   },
   {
    "duration": 8,
    "start_time": "2021-09-13T16:55:20.793Z"
   },
   {
    "duration": 1632,
    "start_time": "2021-09-13T16:55:21.824Z"
   },
   {
    "duration": 1446,
    "start_time": "2021-09-13T16:55:31.429Z"
   },
   {
    "duration": 1426,
    "start_time": "2021-09-13T16:55:39.573Z"
   },
   {
    "duration": 1418,
    "start_time": "2021-09-13T16:55:44.715Z"
   },
   {
    "duration": 1515,
    "start_time": "2021-09-13T16:55:53.147Z"
   },
   {
    "duration": 1556,
    "start_time": "2021-09-13T16:55:58.073Z"
   },
   {
    "duration": 849,
    "start_time": "2021-09-13T16:56:09.886Z"
   },
   {
    "duration": 7,
    "start_time": "2021-09-13T16:56:32.659Z"
   },
   {
    "duration": 1620,
    "start_time": "2021-09-13T16:56:52.344Z"
   },
   {
    "duration": 666,
    "start_time": "2021-09-13T16:57:14.653Z"
   },
   {
    "duration": 678,
    "start_time": "2021-09-13T16:58:10.330Z"
   },
   {
    "duration": 4619,
    "start_time": "2021-09-13T16:59:11.988Z"
   },
   {
    "duration": 4536,
    "start_time": "2021-09-13T16:59:16.610Z"
   },
   {
    "duration": 1458,
    "start_time": "2021-09-13T16:59:21.152Z"
   },
   {
    "duration": 296,
    "start_time": "2021-09-13T16:59:22.612Z"
   },
   {
    "duration": 322,
    "start_time": "2021-09-13T16:59:22.912Z"
   },
   {
    "duration": 23,
    "start_time": "2021-09-13T16:59:23.236Z"
   },
   {
    "duration": 15,
    "start_time": "2021-09-13T16:59:23.262Z"
   },
   {
    "duration": 95,
    "start_time": "2021-09-13T16:59:23.281Z"
   },
   {
    "duration": 124,
    "start_time": "2021-09-13T16:59:23.379Z"
   },
   {
    "duration": 70,
    "start_time": "2021-09-13T16:59:23.506Z"
   },
   {
    "duration": 90,
    "start_time": "2021-09-13T16:59:23.579Z"
   },
   {
    "duration": 16,
    "start_time": "2021-09-13T16:59:23.671Z"
   },
   {
    "duration": 26,
    "start_time": "2021-09-13T16:59:23.690Z"
   },
   {
    "duration": 21,
    "start_time": "2021-09-13T16:59:23.718Z"
   },
   {
    "duration": 27,
    "start_time": "2021-09-13T16:59:23.741Z"
   },
   {
    "duration": 12,
    "start_time": "2021-09-13T16:59:23.770Z"
   },
   {
    "duration": 37,
    "start_time": "2021-09-13T16:59:23.785Z"
   },
   {
    "duration": 1809,
    "start_time": "2021-09-13T16:59:23.825Z"
   },
   {
    "duration": 1443,
    "start_time": "2021-09-13T16:59:25.637Z"
   },
   {
    "duration": 1552,
    "start_time": "2021-09-13T16:59:27.082Z"
   },
   {
    "duration": 1468,
    "start_time": "2021-09-13T16:59:28.637Z"
   },
   {
    "duration": 616,
    "start_time": "2021-09-13T16:59:30.107Z"
   },
   {
    "duration": 12,
    "start_time": "2021-09-13T16:59:30.728Z"
   },
   {
    "duration": 16,
    "start_time": "2021-09-13T16:59:30.743Z"
   },
   {
    "duration": 33,
    "start_time": "2021-09-13T16:59:30.762Z"
   },
   {
    "duration": 52,
    "start_time": "2021-09-13T16:59:30.798Z"
   },
   {
    "duration": 499,
    "start_time": "2021-09-13T16:59:30.853Z"
   },
   {
    "duration": 8,
    "start_time": "2021-09-13T16:59:31.354Z"
   },
   {
    "duration": 522,
    "start_time": "2021-09-13T16:59:31.365Z"
   },
   {
    "duration": 33,
    "start_time": "2021-09-13T16:59:31.890Z"
   },
   {
    "duration": 26,
    "start_time": "2021-09-13T16:59:31.925Z"
   },
   {
    "duration": 487,
    "start_time": "2021-09-13T16:59:31.953Z"
   },
   {
    "duration": 8,
    "start_time": "2021-09-13T16:59:32.442Z"
   },
   {
    "duration": 476,
    "start_time": "2021-09-13T16:59:32.453Z"
   },
   {
    "duration": 86,
    "start_time": "2021-09-13T16:59:32.932Z"
   },
   {
    "duration": 5,
    "start_time": "2021-09-13T16:59:33.020Z"
   },
   {
    "duration": 19,
    "start_time": "2021-09-13T16:59:33.028Z"
   },
   {
    "duration": 583,
    "start_time": "2021-09-13T16:59:33.050Z"
   },
   {
    "duration": 574,
    "start_time": "2021-09-13T16:59:33.636Z"
   },
   {
    "duration": 628,
    "start_time": "2021-09-13T16:59:34.216Z"
   },
   {
    "duration": 6,
    "start_time": "2021-09-13T16:59:34.846Z"
   },
   {
    "duration": 34,
    "start_time": "2021-09-13T16:59:34.855Z"
   },
   {
    "duration": 30989,
    "start_time": "2021-09-13T16:59:34.891Z"
   },
   {
    "duration": 8,
    "start_time": "2021-09-13T17:00:05.883Z"
   },
   {
    "duration": 27,
    "start_time": "2021-09-13T17:00:05.893Z"
   },
   {
    "duration": 11,
    "start_time": "2021-09-13T17:00:05.922Z"
   },
   {
    "duration": 1031,
    "start_time": "2021-09-13T17:00:05.936Z"
   },
   {
    "duration": 5,
    "start_time": "2021-09-13T17:00:06.969Z"
   },
   {
    "duration": 19,
    "start_time": "2021-09-13T17:00:06.977Z"
   },
   {
    "duration": 29,
    "start_time": "2021-09-13T17:00:06.999Z"
   },
   {
    "duration": 40,
    "start_time": "2021-09-13T17:00:07.032Z"
   },
   {
    "duration": 33,
    "start_time": "2021-09-13T17:00:07.075Z"
   },
   {
    "duration": 10,
    "start_time": "2021-09-13T17:00:07.110Z"
   },
   {
    "duration": 559,
    "start_time": "2021-09-13T17:01:26.260Z"
   },
   {
    "duration": 441,
    "start_time": "2021-09-13T17:05:15.033Z"
   },
   {
    "duration": 5,
    "start_time": "2021-09-13T17:05:31.417Z"
   },
   {
    "duration": 7,
    "start_time": "2021-09-13T17:06:20.334Z"
   },
   {
    "duration": 589,
    "start_time": "2021-09-13T17:09:24.479Z"
   },
   {
    "duration": 593,
    "start_time": "2021-09-13T17:09:31.356Z"
   },
   {
    "duration": 767,
    "start_time": "2021-09-13T17:09:44.673Z"
   },
   {
    "duration": 855,
    "start_time": "2021-09-13T17:10:05.341Z"
   },
   {
    "duration": 727,
    "start_time": "2021-09-13T17:10:33.573Z"
   },
   {
    "duration": 1054,
    "start_time": "2021-09-13T17:11:10.624Z"
   },
   {
    "duration": 1200,
    "start_time": "2021-09-13T17:11:20.911Z"
   },
   {
    "duration": 732,
    "start_time": "2021-09-13T17:11:27.553Z"
   },
   {
    "duration": 735,
    "start_time": "2021-09-13T17:15:00.044Z"
   },
   {
    "duration": 555,
    "start_time": "2021-09-13T17:15:08.285Z"
   },
   {
    "duration": 648,
    "start_time": "2021-09-13T17:16:29.393Z"
   },
   {
    "duration": 549,
    "start_time": "2021-09-13T17:16:33.255Z"
   },
   {
    "duration": 480,
    "start_time": "2021-09-13T17:16:39.592Z"
   },
   {
    "duration": 528,
    "start_time": "2021-09-13T17:16:43.379Z"
   },
   {
    "duration": 13,
    "start_time": "2021-09-13T17:19:12.342Z"
   },
   {
    "duration": 304,
    "start_time": "2021-09-13T17:19:17.997Z"
   },
   {
    "duration": 9,
    "start_time": "2021-09-13T17:19:23.762Z"
   },
   {
    "duration": 6,
    "start_time": "2021-09-13T17:19:54.096Z"
   },
   {
    "duration": 6,
    "start_time": "2021-09-13T17:19:57.211Z"
   },
   {
    "duration": 6,
    "start_time": "2021-09-13T17:20:05.523Z"
   },
   {
    "duration": 11,
    "start_time": "2021-09-13T17:20:30.009Z"
   },
   {
    "duration": 12,
    "start_time": "2021-09-13T17:20:33.971Z"
   },
   {
    "duration": 536,
    "start_time": "2021-09-13T17:23:51.717Z"
   },
   {
    "duration": 716,
    "start_time": "2021-09-13T17:24:02.432Z"
   },
   {
    "duration": 669,
    "start_time": "2021-09-13T17:24:09.973Z"
   },
   {
    "duration": 674,
    "start_time": "2021-09-13T17:24:55.923Z"
   },
   {
    "duration": 690,
    "start_time": "2021-09-13T17:28:45.739Z"
   },
   {
    "duration": 8,
    "start_time": "2021-09-13T17:29:38.333Z"
   },
   {
    "duration": 111,
    "start_time": "2021-09-13T17:30:35.437Z"
   },
   {
    "duration": 300,
    "start_time": "2021-09-13T17:30:38.624Z"
   },
   {
    "duration": 8,
    "start_time": "2021-09-13T17:30:57.993Z"
   },
   {
    "duration": 625,
    "start_time": "2021-09-13T17:30:58.826Z"
   },
   {
    "duration": 8,
    "start_time": "2021-09-13T17:31:22.076Z"
   },
   {
    "duration": 546,
    "start_time": "2021-09-13T17:31:23.348Z"
   },
   {
    "duration": 99,
    "start_time": "2021-09-13T17:31:59.698Z"
   },
   {
    "duration": 1183,
    "start_time": "2021-09-13T17:32:06.209Z"
   },
   {
    "duration": 19,
    "start_time": "2021-09-13T17:32:18.713Z"
   },
   {
    "duration": 577,
    "start_time": "2021-09-13T17:32:34.896Z"
   },
   {
    "duration": 547,
    "start_time": "2021-09-13T17:32:41.650Z"
   },
   {
    "duration": 9,
    "start_time": "2021-09-13T17:33:13.718Z"
   },
   {
    "duration": 547,
    "start_time": "2021-09-13T17:33:14.631Z"
   },
   {
    "duration": 8,
    "start_time": "2021-09-13T17:33:42.030Z"
   },
   {
    "duration": 305,
    "start_time": "2021-09-13T17:33:43.084Z"
   },
   {
    "duration": 9,
    "start_time": "2021-09-13T17:33:47.704Z"
   },
   {
    "duration": 589,
    "start_time": "2021-09-13T17:33:50.116Z"
   },
   {
    "duration": 636,
    "start_time": "2021-09-13T17:34:27.056Z"
   },
   {
    "duration": 641,
    "start_time": "2021-09-13T17:34:32.779Z"
   },
   {
    "duration": 7,
    "start_time": "2021-09-13T17:35:13.993Z"
   },
   {
    "duration": 611,
    "start_time": "2021-09-13T17:35:15.229Z"
   },
   {
    "duration": 812,
    "start_time": "2021-09-13T17:35:28.636Z"
   },
   {
    "duration": 630,
    "start_time": "2021-09-13T17:36:04.128Z"
   },
   {
    "duration": 623,
    "start_time": "2021-09-13T17:36:14.456Z"
   },
   {
    "duration": 618,
    "start_time": "2021-09-13T17:36:20.207Z"
   },
   {
    "duration": 619,
    "start_time": "2021-09-13T17:36:30.529Z"
   },
   {
    "duration": 606,
    "start_time": "2021-09-13T17:36:36.748Z"
   },
   {
    "duration": 660,
    "start_time": "2021-09-13T17:37:30.914Z"
   },
   {
    "duration": 1094,
    "start_time": "2021-09-13T17:38:40.592Z"
   },
   {
    "duration": 4100,
    "start_time": "2021-09-13T17:39:22.025Z"
   },
   {
    "duration": 3909,
    "start_time": "2021-09-13T17:39:26.128Z"
   },
   {
    "duration": 1413,
    "start_time": "2021-09-13T17:39:30.041Z"
   },
   {
    "duration": 299,
    "start_time": "2021-09-13T17:39:31.457Z"
   },
   {
    "duration": 338,
    "start_time": "2021-09-13T17:39:31.758Z"
   },
   {
    "duration": 31,
    "start_time": "2021-09-13T17:39:32.099Z"
   },
   {
    "duration": 49,
    "start_time": "2021-09-13T17:39:32.133Z"
   },
   {
    "duration": 60,
    "start_time": "2021-09-13T17:39:32.184Z"
   },
   {
    "duration": 124,
    "start_time": "2021-09-13T17:39:32.248Z"
   },
   {
    "duration": 89,
    "start_time": "2021-09-13T17:39:32.375Z"
   },
   {
    "duration": 75,
    "start_time": "2021-09-13T17:39:32.466Z"
   },
   {
    "duration": 16,
    "start_time": "2021-09-13T17:39:32.544Z"
   },
   {
    "duration": 8,
    "start_time": "2021-09-13T17:39:32.562Z"
   },
   {
    "duration": 44,
    "start_time": "2021-09-13T17:39:32.573Z"
   },
   {
    "duration": 24,
    "start_time": "2021-09-13T17:39:32.620Z"
   },
   {
    "duration": 11,
    "start_time": "2021-09-13T17:39:32.646Z"
   },
   {
    "duration": 9,
    "start_time": "2021-09-13T17:39:32.659Z"
   },
   {
    "duration": 1673,
    "start_time": "2021-09-13T17:39:32.671Z"
   },
   {
    "duration": 1432,
    "start_time": "2021-09-13T17:39:34.346Z"
   },
   {
    "duration": 1598,
    "start_time": "2021-09-13T17:39:35.781Z"
   },
   {
    "duration": 1502,
    "start_time": "2021-09-13T17:39:37.382Z"
   },
   {
    "duration": 622,
    "start_time": "2021-09-13T17:39:38.886Z"
   },
   {
    "duration": 11,
    "start_time": "2021-09-13T17:39:39.510Z"
   },
   {
    "duration": 26,
    "start_time": "2021-09-13T17:39:39.523Z"
   },
   {
    "duration": 42,
    "start_time": "2021-09-13T17:39:39.551Z"
   },
   {
    "duration": 41,
    "start_time": "2021-09-13T17:39:39.596Z"
   },
   {
    "duration": 592,
    "start_time": "2021-09-13T17:39:39.645Z"
   },
   {
    "duration": 9,
    "start_time": "2021-09-13T17:39:40.241Z"
   },
   {
    "duration": 740,
    "start_time": "2021-09-13T17:39:40.252Z"
   },
   {
    "duration": 27,
    "start_time": "2021-09-13T17:39:40.994Z"
   },
   {
    "duration": 30,
    "start_time": "2021-09-13T17:39:41.023Z"
   },
   {
    "duration": 530,
    "start_time": "2021-09-13T17:39:41.056Z"
   },
   {
    "duration": 8,
    "start_time": "2021-09-13T17:39:41.588Z"
   },
   {
    "duration": 701,
    "start_time": "2021-09-13T17:39:41.598Z"
   },
   {
    "duration": 83,
    "start_time": "2021-09-13T17:39:42.302Z"
   },
   {
    "duration": 5,
    "start_time": "2021-09-13T17:39:42.388Z"
   },
   {
    "duration": 25,
    "start_time": "2021-09-13T17:39:42.396Z"
   },
   {
    "duration": 605,
    "start_time": "2021-09-13T17:39:42.423Z"
   },
   {
    "duration": 687,
    "start_time": "2021-09-13T17:39:43.030Z"
   },
   {
    "duration": 644,
    "start_time": "2021-09-13T17:39:43.719Z"
   },
   {
    "duration": 6,
    "start_time": "2021-09-13T17:39:44.365Z"
   },
   {
    "duration": 13,
    "start_time": "2021-09-13T17:39:44.373Z"
   },
   {
    "duration": 31329,
    "start_time": "2021-09-13T17:39:44.389Z"
   },
   {
    "duration": 8,
    "start_time": "2021-09-13T17:40:15.720Z"
   },
   {
    "duration": 20,
    "start_time": "2021-09-13T17:40:15.731Z"
   },
   {
    "duration": 10,
    "start_time": "2021-09-13T17:40:15.753Z"
   },
   {
    "duration": 1061,
    "start_time": "2021-09-13T17:40:15.765Z"
   },
   {
    "duration": 7,
    "start_time": "2021-09-13T17:40:16.829Z"
   },
   {
    "duration": 12,
    "start_time": "2021-09-13T17:40:16.838Z"
   },
   {
    "duration": 8,
    "start_time": "2021-09-13T17:40:16.853Z"
   },
   {
    "duration": 65,
    "start_time": "2021-09-13T17:40:16.863Z"
   },
   {
    "duration": 46,
    "start_time": "2021-09-13T17:40:16.931Z"
   },
   {
    "duration": 10,
    "start_time": "2021-09-13T17:40:16.980Z"
   },
   {
    "duration": 1028,
    "start_time": "2021-09-13T17:40:31.738Z"
   },
   {
    "duration": 27,
    "start_time": "2021-09-13T17:40:48.042Z"
   },
   {
    "duration": 3929,
    "start_time": "2021-09-13T17:42:05.105Z"
   },
   {
    "duration": 3695,
    "start_time": "2021-09-13T17:42:09.038Z"
   },
   {
    "duration": 1410,
    "start_time": "2021-09-13T17:42:12.736Z"
   },
   {
    "duration": 314,
    "start_time": "2021-09-13T17:42:14.149Z"
   },
   {
    "duration": 378,
    "start_time": "2021-09-13T17:42:14.466Z"
   },
   {
    "duration": 24,
    "start_time": "2021-09-13T17:42:14.847Z"
   },
   {
    "duration": 42,
    "start_time": "2021-09-13T17:42:14.874Z"
   },
   {
    "duration": 52,
    "start_time": "2021-09-13T17:42:14.920Z"
   },
   {
    "duration": 121,
    "start_time": "2021-09-13T17:42:14.975Z"
   },
   {
    "duration": 117,
    "start_time": "2021-09-13T17:42:15.099Z"
   },
   {
    "duration": 16,
    "start_time": "2021-09-13T17:42:15.219Z"
   },
   {
    "duration": 136,
    "start_time": "2021-09-13T17:42:15.238Z"
   },
   {
    "duration": 6,
    "start_time": "2021-09-13T17:42:15.377Z"
   },
   {
    "duration": 40,
    "start_time": "2021-09-13T17:42:15.386Z"
   },
   {
    "duration": 35,
    "start_time": "2021-09-13T17:42:15.429Z"
   },
   {
    "duration": 11,
    "start_time": "2021-09-13T17:42:15.466Z"
   },
   {
    "duration": 40,
    "start_time": "2021-09-13T17:42:15.480Z"
   },
   {
    "duration": 1892,
    "start_time": "2021-09-13T17:42:15.524Z"
   },
   {
    "duration": 1539,
    "start_time": "2021-09-13T17:42:17.418Z"
   },
   {
    "duration": 1939,
    "start_time": "2021-09-13T17:42:18.960Z"
   },
   {
    "duration": 1594,
    "start_time": "2021-09-13T17:42:20.901Z"
   },
   {
    "duration": 611,
    "start_time": "2021-09-13T17:42:22.498Z"
   },
   {
    "duration": 12,
    "start_time": "2021-09-13T17:42:23.114Z"
   },
   {
    "duration": 22,
    "start_time": "2021-09-13T17:42:23.129Z"
   },
   {
    "duration": 35,
    "start_time": "2021-09-13T17:42:23.154Z"
   },
   {
    "duration": 42,
    "start_time": "2021-09-13T17:42:23.191Z"
   },
   {
    "duration": 576,
    "start_time": "2021-09-13T17:42:23.236Z"
   },
   {
    "duration": 7,
    "start_time": "2021-09-13T17:42:23.817Z"
   },
   {
    "duration": 749,
    "start_time": "2021-09-13T17:42:23.826Z"
   },
   {
    "duration": 21,
    "start_time": "2021-09-13T17:42:24.578Z"
   },
   {
    "duration": 56,
    "start_time": "2021-09-13T17:42:24.601Z"
   },
   {
    "duration": 529,
    "start_time": "2021-09-13T17:42:24.660Z"
   },
   {
    "duration": 8,
    "start_time": "2021-09-13T17:42:25.192Z"
   },
   {
    "duration": 655,
    "start_time": "2021-09-13T17:42:25.202Z"
   },
   {
    "duration": 83,
    "start_time": "2021-09-13T17:42:25.859Z"
   },
   {
    "duration": 5,
    "start_time": "2021-09-13T17:42:25.945Z"
   },
   {
    "duration": 17,
    "start_time": "2021-09-13T17:42:25.952Z"
   },
   {
    "duration": 647,
    "start_time": "2021-09-13T17:42:25.971Z"
   },
   {
    "duration": 817,
    "start_time": "2021-09-13T17:42:26.621Z"
   },
   {
    "duration": 609,
    "start_time": "2021-09-13T17:42:27.440Z"
   },
   {
    "duration": 6,
    "start_time": "2021-09-13T17:42:28.053Z"
   },
   {
    "duration": 11,
    "start_time": "2021-09-13T17:42:28.062Z"
   },
   {
    "duration": 33797,
    "start_time": "2021-09-13T17:42:28.076Z"
   },
   {
    "duration": 11,
    "start_time": "2021-09-13T17:43:01.876Z"
   },
   {
    "duration": 27,
    "start_time": "2021-09-13T17:43:01.889Z"
   },
   {
    "duration": 37,
    "start_time": "2021-09-13T17:43:01.919Z"
   },
   {
    "duration": 33,
    "start_time": "2021-09-13T17:43:01.959Z"
   },
   {
    "duration": 1074,
    "start_time": "2021-09-13T17:43:01.995Z"
   },
   {
    "duration": 7,
    "start_time": "2021-09-13T17:43:03.072Z"
   },
   {
    "duration": 11,
    "start_time": "2021-09-13T17:43:03.082Z"
   },
   {
    "duration": 27,
    "start_time": "2021-09-13T17:43:03.096Z"
   },
   {
    "duration": 34,
    "start_time": "2021-09-13T17:43:03.126Z"
   },
   {
    "duration": 65,
    "start_time": "2021-09-13T17:43:03.163Z"
   },
   {
    "duration": 9,
    "start_time": "2021-09-13T17:43:03.230Z"
   },
   {
    "duration": 476,
    "start_time": "2021-09-13T17:44:14.972Z"
   },
   {
    "duration": 499,
    "start_time": "2021-09-13T17:44:20.452Z"
   },
   {
    "duration": 560,
    "start_time": "2021-09-13T17:44:26.508Z"
   },
   {
    "duration": 509,
    "start_time": "2021-09-13T17:44:31.471Z"
   },
   {
    "duration": 470,
    "start_time": "2021-09-13T17:44:40.225Z"
   },
   {
    "duration": 1127,
    "start_time": "2021-09-13T17:49:00.022Z"
   },
   {
    "duration": 1049,
    "start_time": "2021-09-13T17:50:49.420Z"
   },
   {
    "duration": 1046,
    "start_time": "2021-09-13T17:51:05.901Z"
   },
   {
    "duration": 1063,
    "start_time": "2021-09-13T17:51:40.488Z"
   },
   {
    "duration": 1072,
    "start_time": "2021-09-13T17:53:01.593Z"
   },
   {
    "duration": 1112,
    "start_time": "2021-09-13T17:53:09.494Z"
   },
   {
    "duration": 1050,
    "start_time": "2021-09-13T17:53:56.024Z"
   },
   {
    "duration": 1039,
    "start_time": "2021-09-13T17:54:13.108Z"
   },
   {
    "duration": 1193,
    "start_time": "2021-09-13T17:55:02.073Z"
   },
   {
    "duration": 1511,
    "start_time": "2021-09-13T17:56:04.862Z"
   },
   {
    "duration": 1142,
    "start_time": "2021-09-13T17:56:09.374Z"
   },
   {
    "duration": 1576,
    "start_time": "2021-09-13T17:56:16.331Z"
   },
   {
    "duration": 1126,
    "start_time": "2021-09-13T17:56:33.185Z"
   },
   {
    "duration": 1441,
    "start_time": "2021-09-13T17:56:44.195Z"
   },
   {
    "duration": 893,
    "start_time": "2021-09-13T17:56:52.358Z"
   },
   {
    "duration": 864,
    "start_time": "2021-09-13T17:56:57.309Z"
   },
   {
    "duration": 1164,
    "start_time": "2021-09-13T17:57:06.726Z"
   },
   {
    "duration": 1139,
    "start_time": "2021-09-13T17:57:18.261Z"
   },
   {
    "duration": 601,
    "start_time": "2021-09-13T18:07:19.573Z"
   },
   {
    "duration": 732,
    "start_time": "2021-09-13T18:07:23.215Z"
   },
   {
    "duration": 713,
    "start_time": "2021-09-13T18:07:32.593Z"
   },
   {
    "duration": 3887,
    "start_time": "2021-09-13T18:42:40.236Z"
   },
   {
    "duration": 3650,
    "start_time": "2021-09-13T18:42:44.126Z"
   },
   {
    "duration": 1582,
    "start_time": "2021-09-13T18:42:47.779Z"
   },
   {
    "duration": 315,
    "start_time": "2021-09-13T18:42:49.364Z"
   },
   {
    "duration": 340,
    "start_time": "2021-09-13T18:42:49.681Z"
   },
   {
    "duration": 26,
    "start_time": "2021-09-13T18:42:50.024Z"
   },
   {
    "duration": 16,
    "start_time": "2021-09-13T18:42:50.052Z"
   },
   {
    "duration": 91,
    "start_time": "2021-09-13T18:42:50.072Z"
   },
   {
    "duration": 94,
    "start_time": "2021-09-13T18:42:50.166Z"
   },
   {
    "duration": 109,
    "start_time": "2021-09-13T18:42:50.262Z"
   },
   {
    "duration": 16,
    "start_time": "2021-09-13T18:42:50.373Z"
   },
   {
    "duration": 139,
    "start_time": "2021-09-13T18:42:50.391Z"
   },
   {
    "duration": 6,
    "start_time": "2021-09-13T18:42:50.533Z"
   },
   {
    "duration": 46,
    "start_time": "2021-09-13T18:42:50.542Z"
   },
   {
    "duration": 39,
    "start_time": "2021-09-13T18:42:50.591Z"
   },
   {
    "duration": 11,
    "start_time": "2021-09-13T18:42:50.633Z"
   },
   {
    "duration": 24,
    "start_time": "2021-09-13T18:42:50.647Z"
   },
   {
    "duration": 1866,
    "start_time": "2021-09-13T18:42:50.673Z"
   },
   {
    "duration": 1579,
    "start_time": "2021-09-13T18:42:52.542Z"
   },
   {
    "duration": 2086,
    "start_time": "2021-09-13T18:42:54.124Z"
   },
   {
    "duration": 1821,
    "start_time": "2021-09-13T18:42:56.213Z"
   },
   {
    "duration": 646,
    "start_time": "2021-09-13T18:42:58.037Z"
   },
   {
    "duration": 12,
    "start_time": "2021-09-13T18:42:58.689Z"
   },
   {
    "duration": 14,
    "start_time": "2021-09-13T18:42:58.705Z"
   },
   {
    "duration": 27,
    "start_time": "2021-09-13T18:42:58.722Z"
   },
   {
    "duration": 33,
    "start_time": "2021-09-13T18:42:58.752Z"
   },
   {
    "duration": 597,
    "start_time": "2021-09-13T18:42:58.788Z"
   },
   {
    "duration": 8,
    "start_time": "2021-09-13T18:42:59.387Z"
   },
   {
    "duration": 757,
    "start_time": "2021-09-13T18:42:59.397Z"
   },
   {
    "duration": 21,
    "start_time": "2021-09-13T18:43:00.157Z"
   },
   {
    "duration": 46,
    "start_time": "2021-09-13T18:43:00.181Z"
   },
   {
    "duration": 536,
    "start_time": "2021-09-13T18:43:00.230Z"
   },
   {
    "duration": 8,
    "start_time": "2021-09-13T18:43:00.768Z"
   },
   {
    "duration": 708,
    "start_time": "2021-09-13T18:43:00.779Z"
   },
   {
    "duration": 88,
    "start_time": "2021-09-13T18:43:01.490Z"
   },
   {
    "duration": 6,
    "start_time": "2021-09-13T18:43:01.581Z"
   },
   {
    "duration": 34,
    "start_time": "2021-09-13T18:43:01.589Z"
   },
   {
    "duration": 719,
    "start_time": "2021-09-13T18:43:01.625Z"
   },
   {
    "duration": 624,
    "start_time": "2021-09-13T18:43:02.347Z"
   },
   {
    "duration": 673,
    "start_time": "2021-09-13T18:43:02.974Z"
   },
   {
    "duration": 7,
    "start_time": "2021-09-13T18:43:03.649Z"
   },
   {
    "duration": 16,
    "start_time": "2021-09-13T18:43:03.658Z"
   },
   {
    "duration": 32324,
    "start_time": "2021-09-13T18:43:03.677Z"
   },
   {
    "duration": 12,
    "start_time": "2021-09-13T18:43:36.004Z"
   },
   {
    "duration": 13,
    "start_time": "2021-09-13T18:43:36.019Z"
   },
   {
    "duration": 21,
    "start_time": "2021-09-13T18:43:36.035Z"
   },
   {
    "duration": 1200,
    "start_time": "2021-09-13T18:43:36.059Z"
   },
   {
    "duration": 7,
    "start_time": "2021-09-13T18:43:37.262Z"
   },
   {
    "duration": 21,
    "start_time": "2021-09-13T18:43:37.272Z"
   },
   {
    "duration": 29,
    "start_time": "2021-09-13T18:43:37.296Z"
   },
   {
    "duration": 52,
    "start_time": "2021-09-13T18:43:37.328Z"
   },
   {
    "duration": 43,
    "start_time": "2021-09-13T18:43:37.383Z"
   },
   {
    "duration": 12,
    "start_time": "2021-09-13T18:43:37.428Z"
   },
   {
    "duration": 11623,
    "start_time": "2021-09-14T07:02:47.890Z"
   },
   {
    "duration": 4549,
    "start_time": "2021-09-14T07:02:59.516Z"
   },
   {
    "duration": 1787,
    "start_time": "2021-09-14T07:03:04.069Z"
   },
   {
    "duration": 300,
    "start_time": "2021-09-14T07:03:05.859Z"
   },
   {
    "duration": 300,
    "start_time": "2021-09-14T07:03:06.161Z"
   },
   {
    "duration": 23,
    "start_time": "2021-09-14T07:03:06.464Z"
   },
   {
    "duration": 37,
    "start_time": "2021-09-14T07:03:06.489Z"
   },
   {
    "duration": 47,
    "start_time": "2021-09-14T07:03:06.529Z"
   },
   {
    "duration": 107,
    "start_time": "2021-09-14T07:03:06.580Z"
   },
   {
    "duration": 101,
    "start_time": "2021-09-14T07:03:06.691Z"
   },
   {
    "duration": 25,
    "start_time": "2021-09-14T07:03:06.794Z"
   },
   {
    "duration": 124,
    "start_time": "2021-09-14T07:03:06.822Z"
   },
   {
    "duration": 9,
    "start_time": "2021-09-14T07:03:06.949Z"
   },
   {
    "duration": 26,
    "start_time": "2021-09-14T07:03:06.961Z"
   },
   {
    "duration": 33,
    "start_time": "2021-09-14T07:03:07.017Z"
   },
   {
    "duration": 12,
    "start_time": "2021-09-14T07:03:07.052Z"
   },
   {
    "duration": 11,
    "start_time": "2021-09-14T07:03:07.068Z"
   },
   {
    "duration": 1831,
    "start_time": "2021-09-14T07:03:07.117Z"
   },
   {
    "duration": 1683,
    "start_time": "2021-09-14T07:03:08.952Z"
   },
   {
    "duration": 1880,
    "start_time": "2021-09-14T07:03:10.638Z"
   },
   {
    "duration": 1572,
    "start_time": "2021-09-14T07:03:12.521Z"
   },
   {
    "duration": 743,
    "start_time": "2021-09-14T07:03:14.096Z"
   },
   {
    "duration": 12,
    "start_time": "2021-09-14T07:03:14.841Z"
   },
   {
    "duration": 6,
    "start_time": "2021-09-14T07:03:14.856Z"
   },
   {
    "duration": 54,
    "start_time": "2021-09-14T07:03:14.864Z"
   },
   {
    "duration": 28,
    "start_time": "2021-09-14T07:03:14.920Z"
   },
   {
    "duration": 566,
    "start_time": "2021-09-14T07:03:14.954Z"
   },
   {
    "duration": 8,
    "start_time": "2021-09-14T07:03:15.523Z"
   },
   {
    "duration": 758,
    "start_time": "2021-09-14T07:03:15.534Z"
   },
   {
    "duration": 31,
    "start_time": "2021-09-14T07:03:16.294Z"
   },
   {
    "duration": 26,
    "start_time": "2021-09-14T07:03:16.327Z"
   },
   {
    "duration": 530,
    "start_time": "2021-09-14T07:03:16.356Z"
   },
   {
    "duration": 7,
    "start_time": "2021-09-14T07:03:16.889Z"
   },
   {
    "duration": 663,
    "start_time": "2021-09-14T07:03:16.899Z"
   },
   {
    "duration": 96,
    "start_time": "2021-09-14T07:03:17.565Z"
   },
   {
    "duration": 6,
    "start_time": "2021-09-14T07:03:17.663Z"
   },
   {
    "duration": 8,
    "start_time": "2021-09-14T07:03:17.673Z"
   },
   {
    "duration": 735,
    "start_time": "2021-09-14T07:03:17.684Z"
   },
   {
    "duration": 593,
    "start_time": "2021-09-14T07:03:18.423Z"
   },
   {
    "duration": 624,
    "start_time": "2021-09-14T07:03:19.019Z"
   },
   {
    "duration": 8,
    "start_time": "2021-09-14T07:03:19.646Z"
   },
   {
    "duration": 22,
    "start_time": "2021-09-14T07:03:19.657Z"
   },
   {
    "duration": 31594,
    "start_time": "2021-09-14T07:03:19.682Z"
   },
   {
    "duration": 7,
    "start_time": "2021-09-14T07:03:51.279Z"
   },
   {
    "duration": 15,
    "start_time": "2021-09-14T07:03:51.289Z"
   },
   {
    "duration": 10,
    "start_time": "2021-09-14T07:03:51.317Z"
   },
   {
    "duration": 1096,
    "start_time": "2021-09-14T07:03:51.330Z"
   },
   {
    "duration": 8,
    "start_time": "2021-09-14T07:03:52.430Z"
   },
   {
    "duration": 7,
    "start_time": "2021-09-14T07:03:52.441Z"
   },
   {
    "duration": 11,
    "start_time": "2021-09-14T07:03:52.450Z"
   },
   {
    "duration": 64,
    "start_time": "2021-09-14T07:03:52.463Z"
   },
   {
    "duration": 36,
    "start_time": "2021-09-14T07:03:52.530Z"
   },
   {
    "duration": 7,
    "start_time": "2021-09-14T07:03:52.569Z"
   }
  ],
  "kernelspec": {
   "display_name": "Python 3",
   "language": "python",
   "name": "python3"
  },
  "language_info": {
   "codemirror_mode": {
    "name": "ipython",
    "version": 3
   },
   "file_extension": ".py",
   "mimetype": "text/x-python",
   "name": "python",
   "nbconvert_exporter": "python",
   "pygments_lexer": "ipython3",
   "version": "3.7.8"
  },
  "toc": {
   "base_numbering": 1,
   "nav_menu": {},
   "number_sections": true,
   "sideBar": true,
   "skip_h1_title": true,
   "title_cell": "Table of Contents",
   "title_sidebar": "Contents",
   "toc_cell": false,
   "toc_position": {},
   "toc_section_display": true,
   "toc_window_display": false
  }
 },
 "nbformat": 4,
 "nbformat_minor": 2
}