{
 "cells": [
  {
   "cell_type": "markdown",
   "metadata": {},
   "source": [
    "# Изучение поведения юзеров приложения по продаже продуктов\n",
    "\n",
    "Стартап по продаже продуктов питания. Нужно разобраться, как ведут себя пользователи мобильного приложения.\n",
    "\n",
    "[Изучите воронку продаж.](#Воронка-продаж-4) Узнайте, как пользователи доходят до покупки. Сколько пользователей доходит до покупки, а сколько — «застревает» на предыдущих шагах? На каких именно?\n",
    "\n",
    "[После этого исследуйте результаты A/A/B-эксперимента.](#Изучение-результатов-эксперимента-5) Дизайнеры захотели поменять шрифты во всём приложении, а менеджеры испугались, что пользователям будет непривычно. Договорились принять решение по результатам A/A/B-теста. Пользователей разбили на 3 группы: 2 контрольные со старыми шрифтами и одну экспериментальную — с новыми. Выясните, какой шрифт лучше.\n"
   ]
  },
  {
   "cell_type": "markdown",
   "metadata": {},
   "source": [
    "---\n",
    "Краткие выводы: \n",
    "\n",
    "- Необходимо доработать верстку главного экрана. Большое количество пользователей отваливается на этом шаге.\n",
    "- Изменение шрифтов во всем приложении никак не сказалось на пользовательском опыте и продажах.\n",
    "---"
   ]
  },
  {
   "cell_type": "markdown",
   "metadata": {},
   "source": [
    "Описание данных:\n",
    "\n",
    "Каждая запись в логе — это действие пользователя, или событие.\n",
    "\n",
    "- `EventName` — название события;\n",
    "- `DeviceIDHash` — уникальный идентификатор пользователя;\n",
    "- `EventTimestamp` — время события;\n",
    "- `ExpId` — номер эксперимента: 246 и 247 — контрольные группы, а 248 — экспериментальная.\n",
    "---"
   ]
  },
  {
   "cell_type": "markdown",
   "metadata": {},
   "source": [
    "## Установка, обновление и импорт библиотек"
   ]
  },
  {
   "cell_type": "code",
   "execution_count": 35,
   "metadata": {
    "scrolled": true
   },
   "outputs": [
    {
     "name": "stdout",
     "output_type": "stream",
     "text": [
      "Requirement already satisfied: seaborn in c:\\users\\andrey\\appdata\\local\\packages\\pythonsoftwarefoundation.python.3.9_qbz5n2kfra8p0\\localcache\\local-packages\\python39\\site-packages (0.11.2)\n",
      "Requirement already satisfied: numpy>=1.15 in c:\\users\\andrey\\appdata\\local\\packages\\pythonsoftwarefoundation.python.3.9_qbz5n2kfra8p0\\localcache\\local-packages\\python39\\site-packages (from seaborn) (1.21.2)\n",
      "Requirement already satisfied: pandas>=0.23 in c:\\users\\andrey\\appdata\\local\\packages\\pythonsoftwarefoundation.python.3.9_qbz5n2kfra8p0\\localcache\\local-packages\\python39\\site-packages (from seaborn) (1.3.3)\n",
      "Requirement already satisfied: scipy>=1.0 in c:\\users\\andrey\\appdata\\local\\packages\\pythonsoftwarefoundation.python.3.9_qbz5n2kfra8p0\\localcache\\local-packages\\python39\\site-packages (from seaborn) (1.7.1)\n",
      "Requirement already satisfied: matplotlib>=2.2 in c:\\users\\andrey\\appdata\\local\\packages\\pythonsoftwarefoundation.python.3.9_qbz5n2kfra8p0\\localcache\\local-packages\\python39\\site-packages (from seaborn) (3.4.3)\n",
      "Requirement already satisfied: python-dateutil>=2.7 in c:\\users\\andrey\\appdata\\local\\packages\\pythonsoftwarefoundation.python.3.9_qbz5n2kfra8p0\\localcache\\local-packages\\python39\\site-packages (from matplotlib>=2.2->seaborn) (2.8.2)\n",
      "Requirement already satisfied: pillow>=6.2.0 in c:\\users\\andrey\\appdata\\local\\packages\\pythonsoftwarefoundation.python.3.9_qbz5n2kfra8p0\\localcache\\local-packages\\python39\\site-packages (from matplotlib>=2.2->seaborn) (8.3.2)\n",
      "Requirement already satisfied: pyparsing>=2.2.1 in c:\\users\\andrey\\appdata\\local\\packages\\pythonsoftwarefoundation.python.3.9_qbz5n2kfra8p0\\localcache\\local-packages\\python39\\site-packages (from matplotlib>=2.2->seaborn) (2.4.7)\n",
      "Requirement already satisfied: cycler>=0.10 in c:\\users\\andrey\\appdata\\local\\packages\\pythonsoftwarefoundation.python.3.9_qbz5n2kfra8p0\\localcache\\local-packages\\python39\\site-packages (from matplotlib>=2.2->seaborn) (0.10.0)\n",
      "Requirement already satisfied: kiwisolver>=1.0.1 in c:\\users\\andrey\\appdata\\local\\packages\\pythonsoftwarefoundation.python.3.9_qbz5n2kfra8p0\\localcache\\local-packages\\python39\\site-packages (from matplotlib>=2.2->seaborn) (1.3.2)\n",
      "Requirement already satisfied: six in c:\\users\\andrey\\appdata\\local\\packages\\pythonsoftwarefoundation.python.3.9_qbz5n2kfra8p0\\localcache\\local-packages\\python39\\site-packages (from cycler>=0.10->matplotlib>=2.2->seaborn) (1.16.0)\n",
      "Requirement already satisfied: pytz>=2017.3 in c:\\users\\andrey\\appdata\\local\\packages\\pythonsoftwarefoundation.python.3.9_qbz5n2kfra8p0\\localcache\\local-packages\\python39\\site-packages (from pandas>=0.23->seaborn) (2021.1)\n"
     ]
    }
   ],
   "source": [
    "!pip install seaborn --upgrade"
   ]
  },
  {
   "cell_type": "code",
   "execution_count": 36,
   "metadata": {},
   "outputs": [],
   "source": [
    "import pandas as pd\n",
    "pd.plotting.register_matplotlib_converters()\n",
    "import matplotlib.pyplot as plt\n",
    "import seaborn as sns\n",
    "from datetime import datetime\n",
    "from statsmodels.stats.proportion import proportions_ztest\n",
    "from statsmodels.stats.multitest import multipletests\n"
   ]
  },
  {
   "cell_type": "markdown",
   "metadata": {},
   "source": [
    "## Загрузка и предобработка данных"
   ]
  },
  {
   "cell_type": "code",
   "execution_count": 37,
   "metadata": {
    "pycharm": {
     "name": "#%%\n"
    }
   },
   "outputs": [],
   "source": [
    "df = pd.read_csv('/datasets/logs_exp.csv', sep='\\t')"
   ]
  },
  {
   "cell_type": "code",
   "execution_count": 38,
   "metadata": {
    "scrolled": true
   },
   "outputs": [
    {
     "data": {
      "text/plain": "                 EventName         DeviceIDHash  EventTimestamp  ExpId\n0         MainScreenAppear  4575588528974610257      1564029816    246\n1         MainScreenAppear  7416695313311560658      1564053102    246\n2  PaymentScreenSuccessful  3518123091307005509      1564054127    248\n3         CartScreenAppear  3518123091307005509      1564054127    248\n4  PaymentScreenSuccessful  6217807653094995999      1564055322    248",
      "text/html": "<div>\n<style scoped>\n    .dataframe tbody tr th:only-of-type {\n        vertical-align: middle;\n    }\n\n    .dataframe tbody tr th {\n        vertical-align: top;\n    }\n\n    .dataframe thead th {\n        text-align: right;\n    }\n</style>\n<table border=\"1\" class=\"dataframe\">\n  <thead>\n    <tr style=\"text-align: right;\">\n      <th></th>\n      <th>EventName</th>\n      <th>DeviceIDHash</th>\n      <th>EventTimestamp</th>\n      <th>ExpId</th>\n    </tr>\n  </thead>\n  <tbody>\n    <tr>\n      <th>0</th>\n      <td>MainScreenAppear</td>\n      <td>4575588528974610257</td>\n      <td>1564029816</td>\n      <td>246</td>\n    </tr>\n    <tr>\n      <th>1</th>\n      <td>MainScreenAppear</td>\n      <td>7416695313311560658</td>\n      <td>1564053102</td>\n      <td>246</td>\n    </tr>\n    <tr>\n      <th>2</th>\n      <td>PaymentScreenSuccessful</td>\n      <td>3518123091307005509</td>\n      <td>1564054127</td>\n      <td>248</td>\n    </tr>\n    <tr>\n      <th>3</th>\n      <td>CartScreenAppear</td>\n      <td>3518123091307005509</td>\n      <td>1564054127</td>\n      <td>248</td>\n    </tr>\n    <tr>\n      <th>4</th>\n      <td>PaymentScreenSuccessful</td>\n      <td>6217807653094995999</td>\n      <td>1564055322</td>\n      <td>248</td>\n    </tr>\n  </tbody>\n</table>\n</div>"
     },
     "metadata": {},
     "output_type": "display_data"
    },
    {
     "name": "stdout",
     "output_type": "stream",
     "text": [
      "244126\n"
     ]
    }
   ],
   "source": [
    "display(df.head())\n",
    "print(len(df))"
   ]
  },
  {
   "cell_type": "code",
   "execution_count": 39,
   "metadata": {},
   "outputs": [],
   "source": [
    "df = df.rename(columns={'EventName':'event_name', \n",
    "                   'DeviceIDHash':'user_id', \n",
    "                   'EventTimestamp':'event_time', \n",
    "                   'ExpId':'exp_id'}) "
   ]
  },
  {
   "cell_type": "code",
   "execution_count": 40,
   "metadata": {},
   "outputs": [],
   "source": [
    "df['event_time'] = pd.to_datetime(df['event_time'], unit='s')\n",
    "df['date'] = df['event_time'].dt.date\n",
    "df['date'] = pd.to_datetime(df['date'])"
   ]
  },
  {
   "cell_type": "markdown",
   "metadata": {},
   "source": [
    "Переименовали столбцы и привели формат даты и времени к верному. Создали новый столбец с датой."
   ]
  },
  {
   "cell_type": "code",
   "execution_count": 41,
   "metadata": {},
   "outputs": [
    {
     "data": {
      "text/plain": "                event_name              user_id          event_time  exp_id  \\\n244121    MainScreenAppear  4599628364049201812 2019-08-07 21:12:25     247   \n244122    MainScreenAppear  5849806612437486590 2019-08-07 21:13:59     246   \n244123    MainScreenAppear  5746969938801999050 2019-08-07 21:14:43     246   \n244124    MainScreenAppear  5746969938801999050 2019-08-07 21:14:58     246   \n244125  OffersScreenAppear  5746969938801999050 2019-08-07 21:15:17     246   \n\n             date  \n244121 2019-08-07  \n244122 2019-08-07  \n244123 2019-08-07  \n244124 2019-08-07  \n244125 2019-08-07  ",
      "text/html": "<div>\n<style scoped>\n    .dataframe tbody tr th:only-of-type {\n        vertical-align: middle;\n    }\n\n    .dataframe tbody tr th {\n        vertical-align: top;\n    }\n\n    .dataframe thead th {\n        text-align: right;\n    }\n</style>\n<table border=\"1\" class=\"dataframe\">\n  <thead>\n    <tr style=\"text-align: right;\">\n      <th></th>\n      <th>event_name</th>\n      <th>user_id</th>\n      <th>event_time</th>\n      <th>exp_id</th>\n      <th>date</th>\n    </tr>\n  </thead>\n  <tbody>\n    <tr>\n      <th>244121</th>\n      <td>MainScreenAppear</td>\n      <td>4599628364049201812</td>\n      <td>2019-08-07 21:12:25</td>\n      <td>247</td>\n      <td>2019-08-07</td>\n    </tr>\n    <tr>\n      <th>244122</th>\n      <td>MainScreenAppear</td>\n      <td>5849806612437486590</td>\n      <td>2019-08-07 21:13:59</td>\n      <td>246</td>\n      <td>2019-08-07</td>\n    </tr>\n    <tr>\n      <th>244123</th>\n      <td>MainScreenAppear</td>\n      <td>5746969938801999050</td>\n      <td>2019-08-07 21:14:43</td>\n      <td>246</td>\n      <td>2019-08-07</td>\n    </tr>\n    <tr>\n      <th>244124</th>\n      <td>MainScreenAppear</td>\n      <td>5746969938801999050</td>\n      <td>2019-08-07 21:14:58</td>\n      <td>246</td>\n      <td>2019-08-07</td>\n    </tr>\n    <tr>\n      <th>244125</th>\n      <td>OffersScreenAppear</td>\n      <td>5746969938801999050</td>\n      <td>2019-08-07 21:15:17</td>\n      <td>246</td>\n      <td>2019-08-07</td>\n    </tr>\n  </tbody>\n</table>\n</div>"
     },
     "execution_count": 41,
     "metadata": {},
     "output_type": "execute_result"
    }
   ],
   "source": [
    "df.tail()"
   ]
  },
  {
   "cell_type": "code",
   "execution_count": 42,
   "metadata": {},
   "outputs": [
    {
     "data": {
      "text/plain": "413"
     },
     "execution_count": 42,
     "metadata": {},
     "output_type": "execute_result"
    }
   ],
   "source": [
    "len(df[df.duplicated()])"
   ]
  },
  {
   "cell_type": "code",
   "execution_count": 43,
   "metadata": {},
   "outputs": [
    {
     "data": {
      "text/plain": "0.16917493425526162"
     },
     "execution_count": 43,
     "metadata": {},
     "output_type": "execute_result"
    }
   ],
   "source": [
    "len(df[df.duplicated()]) / len(df) * 100"
   ]
  },
  {
   "cell_type": "code",
   "execution_count": 44,
   "metadata": {},
   "outputs": [],
   "source": [
    "df = df.drop_duplicates()"
   ]
  },
  {
   "cell_type": "markdown",
   "metadata": {},
   "source": [
    "Дубликатов в данных менее 0.2% удалим их и не заметим. Появиться они могли из-за мелких сбоев в системе сбора информации. "
   ]
  },
  {
   "cell_type": "code",
   "execution_count": 45,
   "metadata": {},
   "outputs": [
    {
     "data": {
      "text/plain": "Empty DataFrame\nColumns: [user_id, 246, 247, 248]\nIndex: []",
      "text/html": "<div>\n<style scoped>\n    .dataframe tbody tr th:only-of-type {\n        vertical-align: middle;\n    }\n\n    .dataframe tbody tr th {\n        vertical-align: top;\n    }\n\n    .dataframe thead th {\n        text-align: right;\n    }\n</style>\n<table border=\"1\" class=\"dataframe\">\n  <thead>\n    <tr style=\"text-align: right;\">\n      <th></th>\n      <th>user_id</th>\n      <th>246</th>\n      <th>247</th>\n      <th>248</th>\n    </tr>\n  </thead>\n  <tbody>\n  </tbody>\n</table>\n</div>"
     },
     "metadata": {},
     "output_type": "display_data"
    },
    {
     "name": "stdout",
     "output_type": "stream",
     "text": [
      "Количество пользователей попавших во все группы:  0\n"
     ]
    }
   ],
   "source": [
    "# Проверка на попадание пользователей во все группы\n",
    "orders_in_two_groups = (pd.pivot_table(df, \n",
    "                                      values='event_name', \n",
    "                                      index=['user_id'],\n",
    "                                      columns=['exp_id'], \n",
    "                                      aggfunc='count')\n",
    "                          .dropna()\n",
    "                          .reset_index()\n",
    "                       )\n",
    "\n",
    "orders_in_two_groups.columns = ['user_id', '246', '247', '248']\n",
    "\n",
    "display(orders_in_two_groups.head())\n",
    "print('Количество пользователей попавших во все группы: ', len(orders_in_two_groups))"
   ]
  },
  {
   "cell_type": "markdown",
   "metadata": {},
   "source": [
    "## Анализ данных"
   ]
  },
  {
   "cell_type": "code",
   "execution_count": 46,
   "metadata": {},
   "outputs": [
    {
     "name": "stdout",
     "output_type": "stream",
     "text": [
      "event_name         5\n",
      "user_id         7551\n",
      "event_time    176654\n",
      "exp_id             3\n",
      "date              14\n",
      "dtype: int64\n",
      "Всего наблюдений: 243713\n"
     ]
    }
   ],
   "source": [
    "print(df.nunique())\n",
    "print('Всего наблюдений:', len(df))"
   ]
  },
  {
   "cell_type": "markdown",
   "metadata": {},
   "source": [
    "Всего наблюдений 244126. В логах 5 событий на 7551 пользователя из трех групп. Данные за две недели."
   ]
  },
  {
   "cell_type": "code",
   "execution_count": 47,
   "metadata": {},
   "outputs": [
    {
     "data": {
      "text/plain": "32.27559263673685"
     },
     "execution_count": 47,
     "metadata": {},
     "output_type": "execute_result"
    }
   ],
   "source": [
    "len(df) / df['user_id'].nunique()"
   ]
  },
  {
   "cell_type": "markdown",
   "metadata": {},
   "source": [
    "В среднем 32 события на пользователя."
   ]
  },
  {
   "cell_type": "markdown",
   "metadata": {},
   "source": [
    "### Период исследования"
   ]
  },
  {
   "cell_type": "code",
   "execution_count": 48,
   "metadata": {},
   "outputs": [
    {
     "name": "stdout",
     "output_type": "stream",
     "text": [
      "Начало периода: 2019-07-25 04:43:36\n",
      "Конец периода: 2019-08-07 21:15:17\n"
     ]
    }
   ],
   "source": [
    "print('Начало периода: {}'.format(df['event_time'].min()))\n",
    "print('Конец периода: {}'.format(df['event_time'].max()))"
   ]
  },
  {
   "cell_type": "markdown",
   "metadata": {},
   "source": [
    "Можно ли быть уверенным, что у нас одинаково полные данные за весь период? Технически в логи новых дней по некоторым пользователям могут «доезжать» события из прошлого — это может «перекашивать данные»."
   ]
  },
  {
   "cell_type": "code",
   "execution_count": 49,
   "metadata": {},
   "outputs": [
    {
     "data": {
      "text/plain": "<Figure size 720x360 with 1 Axes>",
      "image/png": "[encoded data removed]"
     },
     "metadata": {},
     "output_type": "display_data"
    }
   ],
   "source": [
    "sns.set_style(\"white\")\n",
    "\n",
    "fig = plt.figure(figsize =(10, 5))\n",
    "\n",
    "ax = sns.histplot(data=df, x='event_time', color='#5EAFC7')\n",
    "\n",
    "ax.spines['top'].set_visible(False)\n",
    "ax.spines['right'].set_visible(False)\n",
    "ax.spines['left'].set_visible(False)\n",
    "ax.spines['bottom'].set_position(('outward', 5))\n",
    "\n",
    "ax.tick_params(axis='both', which='both', labelsize=10, labelleft=False, labelrotation=45)\n",
    "ax.set_xticks(df['date'].unique())\n",
    "\n",
    "plt.xlabel('')\n",
    "plt.ylabel('')\n",
    "plt.title('Распределение событий по времени')\n",
    "plt.show()"
   ]
  },
  {
   "cell_type": "markdown",
   "metadata": {},
   "source": [
    "Действительно, данных до 1 августа явно не хватает. Откинем их и оставим только данные с 2019-08-01 по 2019-08-07."
   ]
  },
  {
   "cell_type": "code",
   "execution_count": 50,
   "metadata": {
    "scrolled": false
   },
   "outputs": [],
   "source": [
    "df_full = df.loc[df['date'] >= datetime(2019,8,1)]"
   ]
  },
  {
   "cell_type": "code",
   "execution_count": 51,
   "metadata": {
    "scrolled": true
   },
   "outputs": [
    {
     "name": "stdout",
     "output_type": "stream",
     "text": [
      "Откинули:\n",
      "2826 наблюдений\n",
      "17 пользователей\n"
     ]
    }
   ],
   "source": [
    "print('Откинули:')\n",
    "print('{} наблюдений'.format(len(df) - len(df_full)))\n",
    "print('{} пользователей'.format(df['user_id'].nunique() - df_full['user_id'].nunique()))"
   ]
  },
  {
   "cell_type": "code",
   "execution_count": 52,
   "metadata": {},
   "outputs": [],
   "source": [
    "exp_groups = df.groupby('exp_id').agg(count=('user_id','count')).reset_index()"
   ]
  },
  {
   "cell_type": "code",
   "execution_count": 53,
   "metadata": {},
   "outputs": [
    {
     "data": {
      "text/plain": "   exp_id  count\n0     246  80181\n1     247  77950\n2     248  85582",
      "text/html": "<div>\n<style scoped>\n    .dataframe tbody tr th:only-of-type {\n        vertical-align: middle;\n    }\n\n    .dataframe tbody tr th {\n        vertical-align: top;\n    }\n\n    .dataframe thead th {\n        text-align: right;\n    }\n</style>\n<table border=\"1\" class=\"dataframe\">\n  <thead>\n    <tr style=\"text-align: right;\">\n      <th></th>\n      <th>exp_id</th>\n      <th>count</th>\n    </tr>\n  </thead>\n  <tbody>\n    <tr>\n      <th>0</th>\n      <td>246</td>\n      <td>80181</td>\n    </tr>\n    <tr>\n      <th>1</th>\n      <td>247</td>\n      <td>77950</td>\n    </tr>\n    <tr>\n      <th>2</th>\n      <td>248</td>\n      <td>85582</td>\n    </tr>\n  </tbody>\n</table>\n</div>"
     },
     "execution_count": 53,
     "metadata": {},
     "output_type": "execute_result"
    }
   ],
   "source": [
    "exp_groups "
   ]
  },
  {
   "cell_type": "markdown",
   "metadata": {},
   "source": [
    "Данные есть по всем трем группам теста."
   ]
  },
  {
   "cell_type": "markdown",
   "metadata": {},
   "source": [
    "### События и пользователи"
   ]
  },
  {
   "cell_type": "code",
   "execution_count": 54,
   "metadata": {},
   "outputs": [],
   "source": [
    "event_count = (df.groupby('event_name')\n",
    "                .agg(count_events=('user_id','count'), \n",
    "                     count_users=('user_id','nunique'))\n",
    "                .sort_values(by='count_users', ascending=False)\n",
    "                .reset_index()\n",
    "               )\n",
    "event_count['perc_all_users'] = (event_count['count_users'] / df_full['user_id'].nunique()).map('{:.2%}'.format)"
   ]
  },
  {
   "cell_type": "code",
   "execution_count": 55,
   "metadata": {},
   "outputs": [
    {
     "data": {
      "text/plain": "                event_name  count_events  count_users perc_all_users\n0         MainScreenAppear        119101         7439         98.74%\n1       OffersScreenAppear         46808         4613         61.23%\n2         CartScreenAppear         42668         3749         49.76%\n3  PaymentScreenSuccessful         34118         3547         47.08%\n4                 Tutorial          1018          847         11.24%",
      "text/html": "<div>\n<style scoped>\n    .dataframe tbody tr th:only-of-type {\n        vertical-align: middle;\n    }\n\n    .dataframe tbody tr th {\n        vertical-align: top;\n    }\n\n    .dataframe thead th {\n        text-align: right;\n    }\n</style>\n<table border=\"1\" class=\"dataframe\">\n  <thead>\n    <tr style=\"text-align: right;\">\n      <th></th>\n      <th>event_name</th>\n      <th>count_events</th>\n      <th>count_users</th>\n      <th>perc_all_users</th>\n    </tr>\n  </thead>\n  <tbody>\n    <tr>\n      <th>0</th>\n      <td>MainScreenAppear</td>\n      <td>119101</td>\n      <td>7439</td>\n      <td>98.74%</td>\n    </tr>\n    <tr>\n      <th>1</th>\n      <td>OffersScreenAppear</td>\n      <td>46808</td>\n      <td>4613</td>\n      <td>61.23%</td>\n    </tr>\n    <tr>\n      <th>2</th>\n      <td>CartScreenAppear</td>\n      <td>42668</td>\n      <td>3749</td>\n      <td>49.76%</td>\n    </tr>\n    <tr>\n      <th>3</th>\n      <td>PaymentScreenSuccessful</td>\n      <td>34118</td>\n      <td>3547</td>\n      <td>47.08%</td>\n    </tr>\n    <tr>\n      <th>4</th>\n      <td>Tutorial</td>\n      <td>1018</td>\n      <td>847</td>\n      <td>11.24%</td>\n    </tr>\n  </tbody>\n</table>\n</div>"
     },
     "execution_count": 55,
     "metadata": {},
     "output_type": "execute_result"
    }
   ],
   "source": [
    "event_count"
   ]
  },
  {
   "cell_type": "markdown",
   "metadata": {},
   "source": [
    "При сортировке по пользователям, события выстраиваются в последовательную цепочку, за исключением Обучения. Скорее всего, большинство пользователей даже не видят страницу Обучения. 1,2% пользователей не видели главную страницу, похоже они не прошли обучение. "
   ]
  },
  {
   "cell_type": "markdown",
   "metadata": {},
   "source": [
    "## Воронка продаж "
   ]
  },
  {
   "cell_type": "code",
   "execution_count": 56,
   "metadata": {},
   "outputs": [],
   "source": [
    "event_funnel = event_count[0:4]\n",
    "event_funnel = event_funnel[['event_name', 'count_users']]"
   ]
  },
  {
   "cell_type": "code",
   "execution_count": 57,
   "metadata": {},
   "outputs": [],
   "source": [
    "event_funnel['perc_from_last_event'] = (1 - abs(event_funnel['count_users'].pct_change()).fillna(0)).map('{:.2%}'.format)"
   ]
  },
  {
   "cell_type": "code",
   "execution_count": 58,
   "metadata": {
    "scrolled": false
   },
   "outputs": [
    {
     "data": {
      "text/plain": "                event_name  count_users perc_from_last_event\n0         MainScreenAppear         7439              100.00%\n1       OffersScreenAppear         4613               62.01%\n2         CartScreenAppear         3749               81.27%\n3  PaymentScreenSuccessful         3547               94.61%",
      "text/html": "<div>\n<style scoped>\n    .dataframe tbody tr th:only-of-type {\n        vertical-align: middle;\n    }\n\n    .dataframe tbody tr th {\n        vertical-align: top;\n    }\n\n    .dataframe thead th {\n        text-align: right;\n    }\n</style>\n<table border=\"1\" class=\"dataframe\">\n  <thead>\n    <tr style=\"text-align: right;\">\n      <th></th>\n      <th>event_name</th>\n      <th>count_users</th>\n      <th>perc_from_last_event</th>\n    </tr>\n  </thead>\n  <tbody>\n    <tr>\n      <th>0</th>\n      <td>MainScreenAppear</td>\n      <td>7439</td>\n      <td>100.00%</td>\n    </tr>\n    <tr>\n      <th>1</th>\n      <td>OffersScreenAppear</td>\n      <td>4613</td>\n      <td>62.01%</td>\n    </tr>\n    <tr>\n      <th>2</th>\n      <td>CartScreenAppear</td>\n      <td>3749</td>\n      <td>81.27%</td>\n    </tr>\n    <tr>\n      <th>3</th>\n      <td>PaymentScreenSuccessful</td>\n      <td>3547</td>\n      <td>94.61%</td>\n    </tr>\n  </tbody>\n</table>\n</div>"
     },
     "execution_count": 58,
     "metadata": {},
     "output_type": "execute_result"
    }
   ],
   "source": [
    "event_funnel"
   ]
  },
  {
   "cell_type": "markdown",
   "metadata": {},
   "source": [
    "В воронке оставили 4 события. Обучение слишком сильно выпадает из воронки, с ним необходимо разобраться отдельно. Самое большое падение происходит на шаге просмотра экрана Предложений. Только 62% пользователей увидевших Главный экран, видят Предложения. Необходимо доработать верстку главного экрана, чтобы повысить долю пользователей увидевших экран Предложения. 81% пользователей, увидевших экран Предложения, добавляют товар в корзину и просматривают ее. И почти все пользователи - 94%, удачно совершают покупку после просмотра экрана с Корзиной. "
   ]
  },
  {
   "cell_type": "code",
   "execution_count": 59,
   "metadata": {},
   "outputs": [
    {
     "name": "stdout",
     "output_type": "stream",
     "text": [
      "47.68%\n"
     ]
    }
   ],
   "source": [
    "print('{:.2%}'.format(event_funnel['count_users'][3] / event_funnel['count_users'][0]))"
   ]
  },
  {
   "cell_type": "markdown",
   "metadata": {},
   "source": [
    "Конверсия составила почти 48%. Вот это результат! Почти каждый второй пользователь, который увидел стартовый экран, становится покупателем."
   ]
  },
  {
   "cell_type": "markdown",
   "metadata": {},
   "source": [
    "### Диаграмма воронки"
   ]
  },
  {
   "cell_type": "code",
   "execution_count": 60,
   "metadata": {
    "scrolled": true
   },
   "outputs": [
    {
     "data": {
      "text/plain": "<Figure size 576x288 with 1 Axes>",
      "image/png": "[encoded data removed]"
     },
     "metadata": {},
     "output_type": "display_data"
    }
   ],
   "source": [
    "sns.set_style(\"white\")\n",
    "\n",
    "fig = plt.figure(figsize =(8, 4))\n",
    "\n",
    "ax = sns.barplot(data=event_funnel, y='event_name', x='count_users', color='#5EAFC7')\n",
    "\n",
    "ax.spines['top'].set_visible(False)\n",
    "ax.spines['right'].set_visible(False)\n",
    "ax.spines['left'].set_visible(False)\n",
    "ax.spines['bottom'].set_position(('outward', 5))\n",
    "\n",
    "# Подпишем бары значениями\n",
    "for i in ax.patches:\n",
    "    # Добавим количество\n",
    "    ax.text(i.get_width()-500, i.get_y()+0.5, int(i.get_width()), fontsize=15, color='white', fontweight='bold', ha='right')\n",
    "plt.xlabel('')\n",
    "plt.ylabel('')\n",
    "plt.title('Воронка использования приложения')\n",
    "plt.show()"
   ]
  },
  {
   "cell_type": "markdown",
   "metadata": {},
   "source": [
    "Наглядно видно большое падение после просмотра Главного экрана."
   ]
  },
  {
   "cell_type": "markdown",
   "metadata": {},
   "source": [
    "## Изучение результатов эксперимента"
   ]
  },
  {
   "cell_type": "markdown",
   "metadata": {},
   "source": [
    "### Количество пользователей в каждой группе"
   ]
  },
  {
   "cell_type": "code",
   "execution_count": 61,
   "metadata": {},
   "outputs": [
    {
     "data": {
      "text/plain": "   exp_id  count\n0     246  80181\n1     247  77950\n2     248  85582",
      "text/html": "<div>\n<style scoped>\n    .dataframe tbody tr th:only-of-type {\n        vertical-align: middle;\n    }\n\n    .dataframe tbody tr th {\n        vertical-align: top;\n    }\n\n    .dataframe thead th {\n        text-align: right;\n    }\n</style>\n<table border=\"1\" class=\"dataframe\">\n  <thead>\n    <tr style=\"text-align: right;\">\n      <th></th>\n      <th>exp_id</th>\n      <th>count</th>\n    </tr>\n  </thead>\n  <tbody>\n    <tr>\n      <th>0</th>\n      <td>246</td>\n      <td>80181</td>\n    </tr>\n    <tr>\n      <th>1</th>\n      <td>247</td>\n      <td>77950</td>\n    </tr>\n    <tr>\n      <th>2</th>\n      <td>248</td>\n      <td>85582</td>\n    </tr>\n  </tbody>\n</table>\n</div>"
     },
     "execution_count": 61,
     "metadata": {},
     "output_type": "execute_result"
    }
   ],
   "source": [
    "exp_groups"
   ]
  },
  {
   "cell_type": "code",
   "execution_count": 62,
   "metadata": {},
   "outputs": [],
   "source": [
    "# Срезы данных по каждой группе занесем в отдельные переменные\n",
    "exp_group_246 = df[df['exp_id']==246]\n",
    "exp_group_247 = df[df['exp_id']==247]\n",
    "exp_group_246_247 = df[df['exp_id']!=248]\n",
    "exp_group_248 = df[df['exp_id']==248]"
   ]
  },
  {
   "cell_type": "code",
   "execution_count": 63,
   "metadata": {},
   "outputs": [],
   "source": [
    "# Посчитаем пользователей на каждом событии по группам\n",
    "events_246 = (exp_group_246.groupby('event_name')\n",
    "              .agg(count_users=('user_id', 'nunique'))\n",
    "              .sort_values(by='count_users', ascending=False)\n",
    "              .reset_index()\n",
    "             )\n",
    "events_247 = (exp_group_247.groupby('event_name')\n",
    "              .agg(count_users=('user_id', 'nunique'))\n",
    "              .sort_values(by='count_users', ascending=False)\n",
    "              .reset_index()\n",
    "             )\n",
    "events_246_247 = (exp_group_246_247.groupby('event_name')\n",
    "              .agg(count_users=('user_id', 'nunique'))\n",
    "              .sort_values(by='count_users', ascending=False)\n",
    "              .reset_index()\n",
    "             )\n",
    "events_248 = (exp_group_248.groupby('event_name')\n",
    "              .agg(count_users=('user_id', 'nunique'))\n",
    "              .sort_values(by='count_users', ascending=False)\n",
    "              .reset_index()\n",
    "             )\n",
    "\n",
    "# Добавим доли от всех пользователей группы\n",
    "events_246['perc_of_all'] = (events_246['count_users'] / exp_group_246['user_id'].nunique()).map('{:.2%}'.format)\n",
    "events_247['perc_of_all'] = (events_247['count_users'] / exp_group_247['user_id'].nunique()).map('{:.2%}'.format)\n",
    "events_246_247['perc_of_all'] = (events_246_247['count_users'] / exp_group_246_247['user_id'].nunique()).map('{:.2%}'.format)\n",
    "events_248['perc_of_all'] = (events_248['count_users'] / exp_group_248['user_id'].nunique()).map('{:.2%}'.format)"
   ]
  },
  {
   "cell_type": "code",
   "execution_count": 64,
   "metadata": {},
   "outputs": [
    {
     "name": "stdout",
     "output_type": "stream",
     "text": [
      "Группа 246:\n"
     ]
    },
    {
     "data": {
      "text/plain": "                event_name  count_users perc_of_all\n0         MainScreenAppear         2456      98.67%\n1       OffersScreenAppear         1545      62.07%\n2         CartScreenAppear         1270      51.02%\n3  PaymentScreenSuccessful         1202      48.29%\n4                 Tutorial          279      11.21%",
      "text/html": "<div>\n<style scoped>\n    .dataframe tbody tr th:only-of-type {\n        vertical-align: middle;\n    }\n\n    .dataframe tbody tr th {\n        vertical-align: top;\n    }\n\n    .dataframe thead th {\n        text-align: right;\n    }\n</style>\n<table border=\"1\" class=\"dataframe\">\n  <thead>\n    <tr style=\"text-align: right;\">\n      <th></th>\n      <th>event_name</th>\n      <th>count_users</th>\n      <th>perc_of_all</th>\n    </tr>\n  </thead>\n  <tbody>\n    <tr>\n      <th>0</th>\n      <td>MainScreenAppear</td>\n      <td>2456</td>\n      <td>98.67%</td>\n    </tr>\n    <tr>\n      <th>1</th>\n      <td>OffersScreenAppear</td>\n      <td>1545</td>\n      <td>62.07%</td>\n    </tr>\n    <tr>\n      <th>2</th>\n      <td>CartScreenAppear</td>\n      <td>1270</td>\n      <td>51.02%</td>\n    </tr>\n    <tr>\n      <th>3</th>\n      <td>PaymentScreenSuccessful</td>\n      <td>1202</td>\n      <td>48.29%</td>\n    </tr>\n    <tr>\n      <th>4</th>\n      <td>Tutorial</td>\n      <td>279</td>\n      <td>11.21%</td>\n    </tr>\n  </tbody>\n</table>\n</div>"
     },
     "metadata": {},
     "output_type": "display_data"
    },
    {
     "name": "stdout",
     "output_type": "stream",
     "text": [
      "--------------------------------------------\n",
      "Группа 247:\n"
     ]
    },
    {
     "data": {
      "text/plain": "                event_name  count_users perc_of_all\n0         MainScreenAppear         2482      98.49%\n1       OffersScreenAppear         1530      60.71%\n2         CartScreenAppear         1240      49.21%\n3  PaymentScreenSuccessful         1160      46.03%\n4                 Tutorial          286      11.35%",
      "text/html": "<div>\n<style scoped>\n    .dataframe tbody tr th:only-of-type {\n        vertical-align: middle;\n    }\n\n    .dataframe tbody tr th {\n        vertical-align: top;\n    }\n\n    .dataframe thead th {\n        text-align: right;\n    }\n</style>\n<table border=\"1\" class=\"dataframe\">\n  <thead>\n    <tr style=\"text-align: right;\">\n      <th></th>\n      <th>event_name</th>\n      <th>count_users</th>\n      <th>perc_of_all</th>\n    </tr>\n  </thead>\n  <tbody>\n    <tr>\n      <th>0</th>\n      <td>MainScreenAppear</td>\n      <td>2482</td>\n      <td>98.49%</td>\n    </tr>\n    <tr>\n      <th>1</th>\n      <td>OffersScreenAppear</td>\n      <td>1530</td>\n      <td>60.71%</td>\n    </tr>\n    <tr>\n      <th>2</th>\n      <td>CartScreenAppear</td>\n      <td>1240</td>\n      <td>49.21%</td>\n    </tr>\n    <tr>\n      <th>3</th>\n      <td>PaymentScreenSuccessful</td>\n      <td>1160</td>\n      <td>46.03%</td>\n    </tr>\n    <tr>\n      <th>4</th>\n      <td>Tutorial</td>\n      <td>286</td>\n      <td>11.35%</td>\n    </tr>\n  </tbody>\n</table>\n</div>"
     },
     "metadata": {},
     "output_type": "display_data"
    },
    {
     "name": "stdout",
     "output_type": "stream",
     "text": [
      "--------------------------------------------\n",
      "Объединенные группы 246 и 247:\n"
     ]
    },
    {
     "data": {
      "text/plain": "                event_name  count_users perc_of_all\n0         MainScreenAppear         4938      98.58%\n1       OffersScreenAppear         3075      61.39%\n2         CartScreenAppear         2510      50.11%\n3  PaymentScreenSuccessful         2362      47.16%\n4                 Tutorial          565      11.28%",
      "text/html": "<div>\n<style scoped>\n    .dataframe tbody tr th:only-of-type {\n        vertical-align: middle;\n    }\n\n    .dataframe tbody tr th {\n        vertical-align: top;\n    }\n\n    .dataframe thead th {\n        text-align: right;\n    }\n</style>\n<table border=\"1\" class=\"dataframe\">\n  <thead>\n    <tr style=\"text-align: right;\">\n      <th></th>\n      <th>event_name</th>\n      <th>count_users</th>\n      <th>perc_of_all</th>\n    </tr>\n  </thead>\n  <tbody>\n    <tr>\n      <th>0</th>\n      <td>MainScreenAppear</td>\n      <td>4938</td>\n      <td>98.58%</td>\n    </tr>\n    <tr>\n      <th>1</th>\n      <td>OffersScreenAppear</td>\n      <td>3075</td>\n      <td>61.39%</td>\n    </tr>\n    <tr>\n      <th>2</th>\n      <td>CartScreenAppear</td>\n      <td>2510</td>\n      <td>50.11%</td>\n    </tr>\n    <tr>\n      <th>3</th>\n      <td>PaymentScreenSuccessful</td>\n      <td>2362</td>\n      <td>47.16%</td>\n    </tr>\n    <tr>\n      <th>4</th>\n      <td>Tutorial</td>\n      <td>565</td>\n      <td>11.28%</td>\n    </tr>\n  </tbody>\n</table>\n</div>"
     },
     "metadata": {},
     "output_type": "display_data"
    },
    {
     "name": "stdout",
     "output_type": "stream",
     "text": [
      "--------------------------------------------\n",
      "Группа 248:\n"
     ]
    },
    {
     "data": {
      "text/plain": "                event_name  count_users perc_of_all\n0         MainScreenAppear         2501      98.39%\n1       OffersScreenAppear         1538      60.50%\n2         CartScreenAppear         1239      48.74%\n3  PaymentScreenSuccessful         1185      46.62%\n4                 Tutorial          282      11.09%",
      "text/html": "<div>\n<style scoped>\n    .dataframe tbody tr th:only-of-type {\n        vertical-align: middle;\n    }\n\n    .dataframe tbody tr th {\n        vertical-align: top;\n    }\n\n    .dataframe thead th {\n        text-align: right;\n    }\n</style>\n<table border=\"1\" class=\"dataframe\">\n  <thead>\n    <tr style=\"text-align: right;\">\n      <th></th>\n      <th>event_name</th>\n      <th>count_users</th>\n      <th>perc_of_all</th>\n    </tr>\n  </thead>\n  <tbody>\n    <tr>\n      <th>0</th>\n      <td>MainScreenAppear</td>\n      <td>2501</td>\n      <td>98.39%</td>\n    </tr>\n    <tr>\n      <th>1</th>\n      <td>OffersScreenAppear</td>\n      <td>1538</td>\n      <td>60.50%</td>\n    </tr>\n    <tr>\n      <th>2</th>\n      <td>CartScreenAppear</td>\n      <td>1239</td>\n      <td>48.74%</td>\n    </tr>\n    <tr>\n      <th>3</th>\n      <td>PaymentScreenSuccessful</td>\n      <td>1185</td>\n      <td>46.62%</td>\n    </tr>\n    <tr>\n      <th>4</th>\n      <td>Tutorial</td>\n      <td>282</td>\n      <td>11.09%</td>\n    </tr>\n  </tbody>\n</table>\n</div>"
     },
     "metadata": {},
     "output_type": "display_data"
    }
   ],
   "source": [
    "print('Группа 246:')\n",
    "display(events_246)\n",
    "print('--------------------------------------------')\n",
    "print('Группа 247:')\n",
    "display(events_247)\n",
    "print('--------------------------------------------')\n",
    "print('Объединенные группы 246 и 247:')\n",
    "display(events_246_247)\n",
    "print('--------------------------------------------')\n",
    "print('Группа 248:')\n",
    "display(events_248)"
   ]
  },
  {
   "cell_type": "markdown",
   "metadata": {},
   "source": [
    "На первый взгляд, различий нет. Проверим гипотезу с помощью z-теста. "
   ]
  },
  {
   "cell_type": "markdown",
   "metadata": {},
   "source": [
    "### Гипотеза H<sub>0</sub> -  доли пользователей, после проведения А/А теста, на каждом шаге воронки, равны"
   ]
  },
  {
   "cell_type": "code",
   "execution_count": 65,
   "metadata": {},
   "outputs": [],
   "source": [
    "def ztest_bonf_corr(event_1gr, event_2gr, exp_group_1, exp_group_2):\n",
    "# Зададим функцию подсчета p-value и коррекции уровня значимости.\n",
    "# Выведем готовые значения и ответы.\n",
    "    pvalues = []\n",
    "    for i in range(0, len(event_count)):\n",
    "        stat, pval = proportions_ztest([event_1gr['count_users'][i], event_2gr['count_users'][i]],\n",
    "                                       [exp_group_1['user_id'].nunique(), exp_group_2['user_id'].nunique()])\n",
    "        pvalues.append(pval)\n",
    "\n",
    "    reject, p_value_corrected, sidak_corr, bonf_corr = multipletests(pvalues, alpha=0.05, method='holm-sidak')\n",
    "\n",
    "    print('Скорректированное альфа значение:', bonf_corr)\n",
    "    print('-----------------------------------------------------------------------------')\n",
    "    for i in range(0, len(p_value_corrected)):\n",
    "        print('Гипотеза о равенстве долей в событии', event_count['event_name'][i])\n",
    "        print('p-значение:', p_value_corrected[i])\n",
    "        if p_value_corrected[i] < bonf_corr:\n",
    "            print('Отвергаем нулевую гипотезу: между долями есть значимая разница')\n",
    "        else:\n",
    "            print('Не получилось отвергнуть нулевую гипотезу, нет оснований считать доли разными')\n",
    "        print('-----------------------------------------------------------------------------')"
   ]
  },
  {
   "cell_type": "markdown",
   "metadata": {},
   "source": [
    "Не получилось отвергнуть гипотезу H<sub>0</sub> о равенстве долей A/A теста (246 и 247 группы). Разбиение на группы работает корректно."
   ]
  },
  {
   "cell_type": "markdown",
   "metadata": {},
   "source": [
    "### Гипотеза H<sub>0</sub> - доли пользователей, после проведения А/B теста, на каждом шаге воронки равны"
   ]
  },
  {
   "cell_type": "markdown",
   "metadata": {},
   "source": [
    "#### Группы 246 и 248"
   ]
  },
  {
   "cell_type": "code",
   "execution_count": 66,
   "outputs": [
    {
     "name": "stdout",
     "output_type": "stream",
     "text": [
      "Скорректированное альфа значение: 0.01\n",
      "-----------------------------------------------------------------------------\n",
      "Гипотеза о равенстве долей в событии MainScreenAppear\n",
      "p-значение: 0.6557877371364028\n",
      "Не получилось отвергнуть нулевую гипотезу, нет оснований считать доли разными\n",
      "-----------------------------------------------------------------------------\n",
      "Гипотеза о равенстве долей в событии OffersScreenAppear\n",
      "p-значение: 0.6557877371364028\n",
      "Не получилось отвергнуть нулевую гипотезу, нет оснований считать доли разными\n",
      "-----------------------------------------------------------------------------\n",
      "Гипотеза о равенстве долей в событии CartScreenAppear\n",
      "p-значение: 0.4268260466067505\n",
      "Не получилось отвергнуть нулевую гипотезу, нет оснований считать доли разными\n",
      "-----------------------------------------------------------------------------\n",
      "Гипотеза о равенстве долей в событии PaymentScreenSuccessful\n",
      "p-значение: 0.6557877371364028\n",
      "Не получилось отвергнуть нулевую гипотезу, нет оснований считать доли разными\n",
      "-----------------------------------------------------------------------------\n",
      "Гипотеза о равенстве долей в событии Tutorial\n",
      "p-значение: 0.8962914725257974\n",
      "Не получилось отвергнуть нулевую гипотезу, нет оснований считать доли разными\n",
      "-----------------------------------------------------------------------------\n"
     ]
    }
   ],
   "source": [
    "ztest_bonf_corr(events_246, events_248, exp_group_246, exp_group_248)"
   ],
   "metadata": {
    "collapsed": false,
    "pycharm": {
     "name": "#%%\n"
    }
   }
  },
  {
   "cell_type": "markdown",
   "metadata": {},
   "source": [
    "Не получается отвергнуть H<sub>0</sub> - статистически значимых различий долей нет."
   ]
  },
  {
   "cell_type": "markdown",
   "metadata": {},
   "source": [
    "#### Группы 247 и 248"
   ]
  },
  {
   "cell_type": "code",
   "execution_count": 67,
   "metadata": {},
   "outputs": [
    {
     "name": "stdout",
     "output_type": "stream",
     "text": [
      "Скорректированное альфа значение: 0.01\n",
      "-----------------------------------------------------------------------------\n",
      "Гипотеза о равенстве долей в событии MainScreenAppear\n",
      "p-значение: 0.9964505915634092\n",
      "Не получилось отвергнуть нулевую гипотезу, нет оснований считать доли разными\n",
      "-----------------------------------------------------------------------------\n",
      "Гипотеза о равенстве долей в событии OffersScreenAppear\n",
      "p-значение: 0.9964505915634092\n",
      "Не получилось отвергнуть нулевую гипотезу, нет оснований считать доли разными\n",
      "-----------------------------------------------------------------------------\n",
      "Гипотеза о равенстве долей в событии CartScreenAppear\n",
      "p-значение: 0.9964505915634092\n",
      "Не получилось отвергнуть нулевую гипотезу, нет оснований считать доли разными\n",
      "-----------------------------------------------------------------------------\n",
      "Гипотеза о равенстве долей в событии PaymentScreenSuccessful\n",
      "p-значение: 0.9964505915634092\n",
      "Не получилось отвергнуть нулевую гипотезу, нет оснований считать доли разными\n",
      "-----------------------------------------------------------------------------\n",
      "Гипотеза о равенстве долей в событии Tutorial\n",
      "p-значение: 0.9964505915634092\n",
      "Не получилось отвергнуть нулевую гипотезу, нет оснований считать доли разными\n",
      "-----------------------------------------------------------------------------\n"
     ]
    }
   ],
   "source": [
    "ztest_bonf_corr(events_247, events_248, exp_group_247, exp_group_248)"
   ]
  },
  {
   "cell_type": "markdown",
   "metadata": {},
   "source": [
    "Тот же результат, что и с первой контрольной группой. Не получается отвергнуть H<sub>0</sub> - статистически значимых различий в долях нет."
   ]
  },
  {
   "cell_type": "markdown",
   "metadata": {},
   "source": [
    "#### Объединенные контрольные группы и 248"
   ]
  },
  {
   "cell_type": "code",
   "execution_count": 68,
   "metadata": {},
   "outputs": [
    {
     "name": "stdout",
     "output_type": "stream",
     "text": [
      "Скорректированное альфа значение: 0.01\n",
      "-----------------------------------------------------------------------------\n",
      "Гипотеза о равенстве долей в событии MainScreenAppear\n",
      "p-значение: 0.9121255488945333\n",
      "Не получилось отвергнуть нулевую гипотезу, нет оснований считать доли разными\n",
      "-----------------------------------------------------------------------------\n",
      "Гипотеза о равенстве долей в событии OffersScreenAppear\n",
      "p-значение: 0.9121255488945333\n",
      "Не получилось отвергнуть нулевую гипотезу, нет оснований считать доли разными\n",
      "-----------------------------------------------------------------------------\n",
      "Гипотеза о равенстве долей в событии CartScreenAppear\n",
      "p-значение: 0.7795665653783019\n",
      "Не получилось отвергнуть нулевую гипотезу, нет оснований считать доли разными\n",
      "-----------------------------------------------------------------------------\n",
      "Гипотеза о равенстве долей в событии PaymentScreenSuccessful\n",
      "p-значение: 0.9121255488945333\n",
      "Не получилось отвергнуть нулевую гипотезу, нет оснований считать доли разными\n",
      "-----------------------------------------------------------------------------\n",
      "Гипотеза о равенстве долей в событии Tutorial\n",
      "p-значение: 0.9121255488945333\n",
      "Не получилось отвергнуть нулевую гипотезу, нет оснований считать доли разными\n",
      "-----------------------------------------------------------------------------\n"
     ]
    }
   ],
   "source": [
    "ztest_bonf_corr(events_246_247, events_248, exp_group_246_247, exp_group_248)"
   ]
  },
  {
   "cell_type": "markdown",
   "metadata": {},
   "source": [
    "## Выводы"
   ]
  },
  {
   "cell_type": "markdown",
   "metadata": {
    "pycharm": {
     "name": "#%% md\n"
    }
   },
   "source": [
    "Всего наблюдений 244126. В логах 5 событий на 7551 пользователя из трех групп. Данные за две недели.\n",
    "В среднем 32 события на пользователя.\n",
    "Данных до 1 августа не хватает. Откинем их и оставим только данные за одну неделю - с 2019-08-01 по 2019-08-07.\n",
    "\n",
    "При сортировке по пользователям, события выстраиваются в последовательную цепочку, за исключением Обучения. \n",
    "Скорее всего, большинство пользователей даже не видят страницу Обучения. \n",
    "1,2% пользователей не видели главную страницу, похоже они не прошли обучение.\n",
    "\n",
    "В воронке оставили 4 события. Самое большое падение происходит на шаге просмотра экрана Предложений. Только 62% пользователей увидевших Главный экран, видят Предложения. <b>Необходимо доработать верстку главного экрана, чтобы повысить долю пользователей увидевших экран Предложения.</b> 81% пользователей, увидевших экран Предложения, добавляют товар в корзину и просматривают ее. И почти все пользователи - 94%, удачно совершают покупку после просмотра экрана с Корзиной.\n",
    "\n",
    "Конверсия составила почти 48%. Почти каждый второй пользователь, который увидел стартовый экран, становится покупателем.\n",
    "\n",
    "<b>После изучения данных и проведения статистических тестов, нельзя сказать, что изменение шрифта повлияло на продажи.</b>"
   ]
  }
 ],
 "metadata": {
  "ExecuteTimeLog": [
   {
    "duration": 1377,
    "start_time": "2021-07-19T17:31:37.216Z"
   },
   {
    "duration": 439,
    "start_time": "2021-07-19T17:31:38.595Z"
   },
   {
    "duration": 15,
    "start_time": "2021-07-19T17:32:11.846Z"
   },
   {
    "duration": 171,
    "start_time": "2021-07-19T17:32:22.701Z"
   },
   {
    "duration": 11,
    "start_time": "2021-07-19T17:32:23.544Z"
   },
   {
    "duration": 1467,
    "start_time": "2021-07-20T14:33:57.479Z"
   },
   {
    "duration": 155,
    "start_time": "2021-07-20T14:33:58.948Z"
   },
   {
    "duration": 19,
    "start_time": "2021-07-20T14:33:59.106Z"
   },
   {
    "duration": 21,
    "start_time": "2021-07-20T14:35:55.064Z"
   },
   {
    "duration": 4,
    "start_time": "2021-07-20T14:37:20.488Z"
   },
   {
    "duration": 14,
    "start_time": "2021-07-20T14:37:23.298Z"
   },
   {
    "duration": 17,
    "start_time": "2021-07-20T14:39:07.160Z"
   },
   {
    "duration": 17,
    "start_time": "2021-07-20T14:39:11.439Z"
   },
   {
    "duration": 111,
    "start_time": "2021-07-20T14:39:35.042Z"
   },
   {
    "duration": 21,
    "start_time": "2021-07-20T14:39:36.394Z"
   },
   {
    "duration": 23,
    "start_time": "2021-07-20T14:49:46.011Z"
   },
   {
    "duration": 7,
    "start_time": "2021-07-20T14:50:08.391Z"
   },
   {
    "duration": 14,
    "start_time": "2021-07-20T14:51:25.737Z"
   },
   {
    "duration": 1589,
    "start_time": "2021-07-20T14:52:23.179Z"
   },
   {
    "duration": 10,
    "start_time": "2021-07-20T14:56:43.044Z"
   },
   {
    "duration": 10,
    "start_time": "2021-07-20T14:56:56.367Z"
   },
   {
    "duration": 10,
    "start_time": "2021-07-20T14:58:43.563Z"
   },
   {
    "duration": 867,
    "start_time": "2021-07-20T14:59:44.819Z"
   },
   {
    "duration": 8,
    "start_time": "2021-07-20T14:59:53.387Z"
   },
   {
    "duration": 8,
    "start_time": "2021-07-20T15:00:01.415Z"
   },
   {
    "duration": 7,
    "start_time": "2021-07-20T15:00:31.986Z"
   },
   {
    "duration": 388,
    "start_time": "2021-07-20T15:01:08.234Z"
   },
   {
    "duration": 1539,
    "start_time": "2021-07-20T15:02:25.778Z"
   },
   {
    "duration": 4605,
    "start_time": "2021-07-20T15:02:39.859Z"
   },
   {
    "duration": 390,
    "start_time": "2021-07-20T15:02:47.476Z"
   },
   {
    "duration": 5,
    "start_time": "2021-07-20T15:02:52.276Z"
   },
   {
    "duration": 357,
    "start_time": "2021-07-20T15:02:54.947Z"
   },
   {
    "duration": 350,
    "start_time": "2021-07-20T15:03:24.624Z"
   },
   {
    "duration": 3429,
    "start_time": "2021-07-20T15:03:38.150Z"
   },
   {
    "duration": 1445,
    "start_time": "2021-07-20T15:03:41.582Z"
   },
   {
    "duration": 161,
    "start_time": "2021-07-20T15:03:43.030Z"
   },
   {
    "duration": 16,
    "start_time": "2021-07-20T15:03:43.194Z"
   },
   {
    "duration": 4,
    "start_time": "2021-07-20T15:03:43.212Z"
   },
   {
    "duration": 152,
    "start_time": "2021-07-20T15:03:43.218Z"
   },
   {
    "duration": 12,
    "start_time": "2021-07-20T15:03:43.373Z"
   },
   {
    "duration": 1588,
    "start_time": "2021-07-20T15:03:43.388Z"
   },
   {
    "duration": 8,
    "start_time": "2021-07-20T15:03:44.979Z"
   },
   {
    "duration": 7,
    "start_time": "2021-07-20T15:03:44.990Z"
   },
   {
    "duration": 737,
    "start_time": "2021-07-20T15:03:45.000Z"
   },
   {
    "duration": 831,
    "start_time": "2021-07-20T15:04:19.575Z"
   },
   {
    "duration": 817,
    "start_time": "2021-07-20T15:04:27.135Z"
   },
   {
    "duration": 815,
    "start_time": "2021-07-20T15:05:01.770Z"
   },
   {
    "duration": 815,
    "start_time": "2021-07-20T15:05:31.989Z"
   },
   {
    "duration": 820,
    "start_time": "2021-07-20T15:05:55.843Z"
   },
   {
    "duration": 895,
    "start_time": "2021-07-20T15:06:22.897Z"
   },
   {
    "duration": 819,
    "start_time": "2021-07-20T15:06:35.905Z"
   },
   {
    "duration": 818,
    "start_time": "2021-07-20T15:07:56.924Z"
   },
   {
    "duration": 1365,
    "start_time": "2021-07-20T15:08:01.085Z"
   },
   {
    "duration": 870,
    "start_time": "2021-07-20T15:08:16.265Z"
   },
   {
    "duration": 916,
    "start_time": "2021-07-20T15:08:38.807Z"
   },
   {
    "duration": 817,
    "start_time": "2021-07-20T15:08:43.947Z"
   },
   {
    "duration": 933,
    "start_time": "2021-07-20T15:08:47.810Z"
   },
   {
    "duration": 809,
    "start_time": "2021-07-20T15:09:43.901Z"
   },
   {
    "duration": 784,
    "start_time": "2021-07-20T15:10:13.581Z"
   },
   {
    "duration": 806,
    "start_time": "2021-07-20T15:11:12.976Z"
   },
   {
    "duration": 892,
    "start_time": "2021-07-20T15:11:18.099Z"
   },
   {
    "duration": 820,
    "start_time": "2021-07-20T15:11:57.785Z"
   },
   {
    "duration": 787,
    "start_time": "2021-07-20T15:12:30.503Z"
   },
   {
    "duration": 806,
    "start_time": "2021-07-20T15:13:19.644Z"
   },
   {
    "duration": 825,
    "start_time": "2021-07-20T15:13:31.697Z"
   },
   {
    "duration": 919,
    "start_time": "2021-07-20T15:15:20.585Z"
   },
   {
    "duration": 849,
    "start_time": "2021-07-20T15:16:34.382Z"
   },
   {
    "duration": 1219,
    "start_time": "2021-07-20T15:17:01.043Z"
   },
   {
    "duration": 1213,
    "start_time": "2021-07-20T15:17:19.634Z"
   },
   {
    "duration": 1169,
    "start_time": "2021-07-20T15:17:26.570Z"
   },
   {
    "duration": 841,
    "start_time": "2021-07-20T15:18:17.350Z"
   },
   {
    "duration": 921,
    "start_time": "2021-07-20T15:18:21.614Z"
   },
   {
    "duration": 797,
    "start_time": "2021-07-20T15:18:26.590Z"
   },
   {
    "duration": 1204,
    "start_time": "2021-07-20T15:18:31.989Z"
   },
   {
    "duration": 184,
    "start_time": "2021-07-20T15:20:30.699Z"
   },
   {
    "duration": 1292,
    "start_time": "2021-07-20T15:20:42.623Z"
   },
   {
    "duration": 782,
    "start_time": "2021-07-20T15:20:48.729Z"
   },
   {
    "duration": 1332,
    "start_time": "2021-07-20T15:21:17.819Z"
   },
   {
    "duration": 1322,
    "start_time": "2021-07-20T15:21:32.569Z"
   },
   {
    "duration": 1219,
    "start_time": "2021-07-20T15:21:51.663Z"
   },
   {
    "duration": 1122,
    "start_time": "2021-07-20T15:21:56.567Z"
   },
   {
    "duration": 1105,
    "start_time": "2021-07-20T15:22:03.893Z"
   },
   {
    "duration": 885,
    "start_time": "2021-07-20T15:22:08.912Z"
   },
   {
    "duration": 1287,
    "start_time": "2021-07-20T15:24:46.595Z"
   },
   {
    "duration": 1149,
    "start_time": "2021-07-20T15:25:04.681Z"
   },
   {
    "duration": 1166,
    "start_time": "2021-07-20T15:25:09.316Z"
   },
   {
    "duration": 4294,
    "start_time": "2021-07-20T15:27:39.311Z"
   },
   {
    "duration": 1398,
    "start_time": "2021-07-20T15:27:43.609Z"
   },
   {
    "duration": 159,
    "start_time": "2021-07-20T15:27:45.010Z"
   },
   {
    "duration": 17,
    "start_time": "2021-07-20T15:27:45.172Z"
   },
   {
    "duration": 9,
    "start_time": "2021-07-20T15:27:45.191Z"
   },
   {
    "duration": 142,
    "start_time": "2021-07-20T15:27:45.202Z"
   },
   {
    "duration": 12,
    "start_time": "2021-07-20T15:27:45.347Z"
   },
   {
    "duration": 1569,
    "start_time": "2021-07-20T15:27:45.362Z"
   },
   {
    "duration": 8,
    "start_time": "2021-07-20T15:27:46.934Z"
   },
   {
    "duration": 11,
    "start_time": "2021-07-20T15:27:46.944Z"
   },
   {
    "duration": 816,
    "start_time": "2021-07-20T15:27:46.957Z"
   },
   {
    "duration": 228,
    "start_time": "2021-07-20T15:27:58.719Z"
   },
   {
    "duration": 617,
    "start_time": "2021-07-20T15:28:07.712Z"
   },
   {
    "duration": 765,
    "start_time": "2021-07-20T15:28:12.691Z"
   },
   {
    "duration": 577,
    "start_time": "2021-07-20T15:28:17.694Z"
   },
   {
    "duration": 650,
    "start_time": "2021-07-20T15:28:21.635Z"
   },
   {
    "duration": 777,
    "start_time": "2021-07-20T15:28:24.659Z"
   },
   {
    "duration": 1225,
    "start_time": "2021-07-20T15:28:32.262Z"
   },
   {
    "duration": 3342,
    "start_time": "2021-07-20T15:29:48.483Z"
   },
   {
    "duration": 1436,
    "start_time": "2021-07-20T15:29:51.829Z"
   },
   {
    "duration": 163,
    "start_time": "2021-07-20T15:29:53.271Z"
   },
   {
    "duration": 15,
    "start_time": "2021-07-20T15:29:53.437Z"
   },
   {
    "duration": 4,
    "start_time": "2021-07-20T15:29:53.454Z"
   },
   {
    "duration": 144,
    "start_time": "2021-07-20T15:29:53.461Z"
   },
   {
    "duration": 13,
    "start_time": "2021-07-20T15:29:53.608Z"
   },
   {
    "duration": 1508,
    "start_time": "2021-07-20T15:29:53.624Z"
   },
   {
    "duration": 7,
    "start_time": "2021-07-20T15:29:55.135Z"
   },
   {
    "duration": 8,
    "start_time": "2021-07-20T15:29:55.144Z"
   },
   {
    "duration": 875,
    "start_time": "2021-07-20T15:29:55.154Z"
   },
   {
    "duration": 780,
    "start_time": "2021-07-20T15:31:18.534Z"
   },
   {
    "duration": 781,
    "start_time": "2021-07-20T15:31:33.039Z"
   },
   {
    "duration": 809,
    "start_time": "2021-07-20T15:35:58.366Z"
   },
   {
    "duration": 781,
    "start_time": "2021-07-20T15:36:14.367Z"
   },
   {
    "duration": 796,
    "start_time": "2021-07-20T15:36:18.781Z"
   },
   {
    "duration": 428,
    "start_time": "2021-07-20T15:39:12.722Z"
   },
   {
    "duration": 9,
    "start_time": "2021-07-20T15:39:17.139Z"
   },
   {
    "duration": 116,
    "start_time": "2021-07-20T15:40:36.020Z"
   },
   {
    "duration": 1460,
    "start_time": "2021-07-20T15:40:50.722Z"
   },
   {
    "duration": 339,
    "start_time": "2021-07-20T15:43:01.566Z"
   },
   {
    "duration": 5,
    "start_time": "2021-07-20T15:43:17.004Z"
   },
   {
    "duration": 396,
    "start_time": "2021-07-20T15:43:20.284Z"
   },
   {
    "duration": 114,
    "start_time": "2021-07-20T15:43:38.620Z"
   },
   {
    "duration": 119,
    "start_time": "2021-07-20T15:43:44.259Z"
   },
   {
    "duration": 118,
    "start_time": "2021-07-20T15:44:08.018Z"
   },
   {
    "duration": 1458,
    "start_time": "2021-07-20T15:44:37.243Z"
   },
   {
    "duration": 1343,
    "start_time": "2021-07-20T15:45:18.096Z"
   },
   {
    "duration": 5,
    "start_time": "2021-07-20T15:45:49.851Z"
   },
   {
    "duration": 115,
    "start_time": "2021-07-20T15:46:02.353Z"
   },
   {
    "duration": 121,
    "start_time": "2021-07-20T15:46:07.257Z"
   },
   {
    "duration": 120,
    "start_time": "2021-07-20T15:46:19.189Z"
   },
   {
    "duration": 5,
    "start_time": "2021-07-20T15:46:27.692Z"
   },
   {
    "duration": 119,
    "start_time": "2021-07-20T15:47:34.917Z"
   },
   {
    "duration": 124,
    "start_time": "2021-07-20T15:47:48.196Z"
   },
   {
    "duration": 116,
    "start_time": "2021-07-20T15:47:52.565Z"
   },
   {
    "duration": 2229,
    "start_time": "2021-07-20T15:48:00.106Z"
   },
   {
    "duration": 311,
    "start_time": "2021-07-20T15:48:06.913Z"
   },
   {
    "duration": 374,
    "start_time": "2021-07-20T15:48:11.360Z"
   },
   {
    "duration": 332,
    "start_time": "2021-07-20T15:48:17.647Z"
   },
   {
    "duration": 382,
    "start_time": "2021-07-20T15:50:10.299Z"
   },
   {
    "duration": 425,
    "start_time": "2021-07-20T15:50:42.385Z"
   },
   {
    "duration": 1525,
    "start_time": "2021-07-20T15:50:49.770Z"
   },
   {
    "duration": 404,
    "start_time": "2021-07-20T15:51:08.122Z"
   },
   {
    "duration": 353,
    "start_time": "2021-07-20T15:51:22.361Z"
   },
   {
    "duration": 427,
    "start_time": "2021-07-20T15:52:02.622Z"
   },
   {
    "duration": 4,
    "start_time": "2021-07-20T15:52:09.855Z"
   },
   {
    "duration": 110,
    "start_time": "2021-07-20T15:52:31.916Z"
   },
   {
    "duration": 3,
    "start_time": "2021-07-20T15:52:35.806Z"
   },
   {
    "duration": 1403,
    "start_time": "2021-07-20T15:53:01.344Z"
   },
   {
    "duration": 341,
    "start_time": "2021-07-20T15:53:21.739Z"
   },
   {
    "duration": 397,
    "start_time": "2021-07-20T15:53:26.170Z"
   },
   {
    "duration": 1388,
    "start_time": "2021-07-20T15:53:35.587Z"
   },
   {
    "duration": 135,
    "start_time": "2021-07-20T15:55:25.121Z"
   },
   {
    "duration": 1418,
    "start_time": "2021-07-20T15:55:32.175Z"
   },
   {
    "duration": 4,
    "start_time": "2021-07-20T15:55:58.507Z"
   },
   {
    "duration": 1324,
    "start_time": "2021-07-20T15:56:02.626Z"
   },
   {
    "duration": 3528,
    "start_time": "2021-07-20T15:56:19.310Z"
   },
   {
    "duration": 1363,
    "start_time": "2021-07-20T15:56:22.841Z"
   },
   {
    "duration": 172,
    "start_time": "2021-07-20T15:56:24.213Z"
   },
   {
    "duration": 15,
    "start_time": "2021-07-20T15:56:24.388Z"
   },
   {
    "duration": 19,
    "start_time": "2021-07-20T15:56:24.405Z"
   },
   {
    "duration": 130,
    "start_time": "2021-07-20T15:56:24.426Z"
   },
   {
    "duration": 13,
    "start_time": "2021-07-20T15:56:24.558Z"
   },
   {
    "duration": 1519,
    "start_time": "2021-07-20T15:56:24.575Z"
   },
   {
    "duration": 7,
    "start_time": "2021-07-20T15:56:26.097Z"
   },
   {
    "duration": 9,
    "start_time": "2021-07-20T15:56:26.106Z"
   },
   {
    "duration": 896,
    "start_time": "2021-07-20T15:56:26.117Z"
   },
   {
    "duration": 4,
    "start_time": "2021-07-20T15:56:27.016Z"
   },
   {
    "duration": 1574,
    "start_time": "2021-07-20T15:56:27.022Z"
   },
   {
    "duration": -998,
    "start_time": "2021-07-20T15:56:29.597Z"
   },
   {
    "duration": 43,
    "start_time": "2021-07-20T15:57:08.638Z"
   },
   {
    "duration": 26,
    "start_time": "2021-07-20T15:57:10.333Z"
   },
   {
    "duration": 23,
    "start_time": "2021-07-20T15:57:28.946Z"
   },
   {
    "duration": 29,
    "start_time": "2021-07-20T15:57:31.723Z"
   },
   {
    "duration": 6,
    "start_time": "2021-07-20T15:58:18.344Z"
   },
   {
    "duration": 13,
    "start_time": "2021-07-20T15:58:50.342Z"
   },
   {
    "duration": 6,
    "start_time": "2021-07-20T15:59:35.603Z"
   },
   {
    "duration": 5,
    "start_time": "2021-07-20T15:59:39.479Z"
   },
   {
    "duration": 10,
    "start_time": "2021-07-20T16:00:52.297Z"
   },
   {
    "duration": 129,
    "start_time": "2021-07-20T16:02:01.299Z"
   },
   {
    "duration": 22,
    "start_time": "2021-07-20T16:02:04.685Z"
   },
   {
    "duration": 24,
    "start_time": "2021-07-20T16:02:20.888Z"
   },
   {
    "duration": 2920,
    "start_time": "2021-07-20T16:03:27.116Z"
   },
   {
    "duration": 2942,
    "start_time": "2021-07-20T16:03:50.457Z"
   },
   {
    "duration": 36,
    "start_time": "2021-07-20T16:06:10.881Z"
   },
   {
    "duration": 363,
    "start_time": "2021-07-20T16:07:54.314Z"
   },
   {
    "duration": 39,
    "start_time": "2021-07-20T16:07:59.516Z"
   },
   {
    "duration": 38,
    "start_time": "2021-07-20T16:08:07.019Z"
   },
   {
    "duration": 39,
    "start_time": "2021-07-20T16:08:14.131Z"
   },
   {
    "duration": 431,
    "start_time": "2021-07-20T16:15:33.473Z"
   },
   {
    "duration": 73,
    "start_time": "2021-07-20T16:15:43.642Z"
   },
   {
    "duration": 53,
    "start_time": "2021-07-20T16:16:29.169Z"
   },
   {
    "duration": 75,
    "start_time": "2021-07-20T16:16:32.016Z"
   },
   {
    "duration": 388,
    "start_time": "2021-07-20T16:16:47.280Z"
   },
   {
    "duration": 69,
    "start_time": "2021-07-20T16:16:53.905Z"
   },
   {
    "duration": 411,
    "start_time": "2021-07-20T16:17:50.541Z"
   },
   {
    "duration": 74,
    "start_time": "2021-07-20T16:17:58.516Z"
   },
   {
    "duration": 39,
    "start_time": "2021-07-20T16:21:01.168Z"
   },
   {
    "duration": 69,
    "start_time": "2021-07-20T16:22:49.169Z"
   },
   {
    "duration": 10,
    "start_time": "2021-07-20T16:22:52.301Z"
   },
   {
    "duration": 113,
    "start_time": "2021-07-20T16:23:25.282Z"
   },
   {
    "duration": 163,
    "start_time": "2021-07-20T16:23:33.535Z"
   },
   {
    "duration": 474,
    "start_time": "2021-07-20T16:23:36.110Z"
   },
   {
    "duration": 459,
    "start_time": "2021-07-20T16:23:51.482Z"
   },
   {
    "duration": 458,
    "start_time": "2021-07-20T16:24:29.228Z"
   },
   {
    "duration": 72,
    "start_time": "2021-07-20T16:26:11.770Z"
   },
   {
    "duration": 10,
    "start_time": "2021-07-20T16:26:14.415Z"
   },
   {
    "duration": 70,
    "start_time": "2021-07-20T16:26:22.537Z"
   },
   {
    "duration": 105,
    "start_time": "2021-07-20T16:30:17.690Z"
   },
   {
    "duration": 11,
    "start_time": "2021-07-20T16:30:19.659Z"
   },
   {
    "duration": 71,
    "start_time": "2021-07-20T16:30:23.198Z"
   },
   {
    "duration": 10,
    "start_time": "2021-07-20T16:30:25.568Z"
   },
   {
    "duration": 429,
    "start_time": "2021-07-20T16:30:44.424Z"
   },
   {
    "duration": 8612,
    "start_time": "2021-07-20T16:30:51.367Z"
   },
   {
    "duration": 71,
    "start_time": "2021-07-20T16:31:08.248Z"
   },
   {
    "duration": 11,
    "start_time": "2021-07-20T16:31:10.177Z"
   },
   {
    "duration": 73,
    "start_time": "2021-07-20T16:31:39.307Z"
   },
   {
    "duration": 11,
    "start_time": "2021-07-20T16:31:40.236Z"
   },
   {
    "duration": 73,
    "start_time": "2021-07-20T16:32:57.463Z"
   },
   {
    "duration": 11,
    "start_time": "2021-07-20T16:32:58.739Z"
   },
   {
    "duration": 373,
    "start_time": "2021-07-20T17:14:40.378Z"
   },
   {
    "duration": 352,
    "start_time": "2021-07-20T17:14:50.297Z"
   },
   {
    "duration": 362,
    "start_time": "2021-07-20T17:14:56.184Z"
   },
   {
    "duration": 340,
    "start_time": "2021-07-20T17:14:59.647Z"
   },
   {
    "duration": 366,
    "start_time": "2021-07-20T17:15:06.062Z"
   },
   {
    "duration": 5,
    "start_time": "2021-07-20T17:16:26.361Z"
   },
   {
    "duration": 327,
    "start_time": "2021-07-20T17:16:30.689Z"
   },
   {
    "duration": 4,
    "start_time": "2021-07-20T17:16:36.423Z"
   },
   {
    "duration": 334,
    "start_time": "2021-07-20T17:16:37.513Z"
   },
   {
    "duration": 5,
    "start_time": "2021-07-20T17:17:03.431Z"
   },
   {
    "duration": 336,
    "start_time": "2021-07-20T17:17:04.322Z"
   },
   {
    "duration": 3,
    "start_time": "2021-07-20T17:17:13.452Z"
   },
   {
    "duration": 317,
    "start_time": "2021-07-20T17:17:14.192Z"
   },
   {
    "duration": 11,
    "start_time": "2021-07-20T17:17:21.040Z"
   },
   {
    "duration": 83,
    "start_time": "2021-07-20T17:17:24.761Z"
   },
   {
    "duration": 16,
    "start_time": "2021-07-20T17:17:25.581Z"
   },
   {
    "duration": 5,
    "start_time": "2021-07-20T17:17:32.735Z"
   },
   {
    "duration": 351,
    "start_time": "2021-07-20T17:17:33.575Z"
   },
   {
    "duration": 854,
    "start_time": "2021-07-20T17:18:14.444Z"
   },
   {
    "duration": 357,
    "start_time": "2021-07-20T17:19:06.068Z"
   },
   {
    "duration": 372,
    "start_time": "2021-07-20T17:19:11.205Z"
   },
   {
    "duration": 491,
    "start_time": "2021-07-20T17:19:56.211Z"
   },
   {
    "duration": 459,
    "start_time": "2021-07-20T17:20:21.328Z"
   },
   {
    "duration": 517,
    "start_time": "2021-07-20T17:21:27.288Z"
   },
   {
    "duration": 7,
    "start_time": "2021-07-20T17:27:53.407Z"
   },
   {
    "duration": 19,
    "start_time": "2021-07-20T17:28:11.178Z"
   },
   {
    "duration": 6,
    "start_time": "2021-07-20T17:29:02.029Z"
   },
   {
    "duration": 11,
    "start_time": "2021-07-20T17:29:02.929Z"
   },
   {
    "duration": 7,
    "start_time": "2021-07-20T17:30:06.771Z"
   },
   {
    "duration": 11,
    "start_time": "2021-07-20T17:30:09.055Z"
   },
   {
    "duration": 6,
    "start_time": "2021-07-20T17:30:12.237Z"
   },
   {
    "duration": 16,
    "start_time": "2021-07-20T17:30:13.090Z"
   },
   {
    "duration": 5,
    "start_time": "2021-07-20T17:30:19.753Z"
   },
   {
    "duration": 12,
    "start_time": "2021-07-20T17:30:21.407Z"
   },
   {
    "duration": 6,
    "start_time": "2021-07-20T17:30:29.315Z"
   },
   {
    "duration": 14,
    "start_time": "2021-07-20T17:30:31.092Z"
   },
   {
    "duration": 7,
    "start_time": "2021-07-20T17:31:43.449Z"
   },
   {
    "duration": 12,
    "start_time": "2021-07-20T17:31:45.156Z"
   },
   {
    "duration": 10,
    "start_time": "2021-07-20T17:32:42.790Z"
   },
   {
    "duration": 16,
    "start_time": "2021-07-20T17:32:43.976Z"
   },
   {
    "duration": 141,
    "start_time": "2021-07-20T17:33:01.670Z"
   },
   {
    "duration": 7,
    "start_time": "2021-07-20T17:33:06.985Z"
   },
   {
    "duration": 16,
    "start_time": "2021-07-20T17:33:07.871Z"
   },
   {
    "duration": 7,
    "start_time": "2021-07-20T17:33:11.490Z"
   },
   {
    "duration": 13,
    "start_time": "2021-07-20T17:33:12.220Z"
   },
   {
    "duration": 6,
    "start_time": "2021-07-20T17:33:16.040Z"
   },
   {
    "duration": 13,
    "start_time": "2021-07-20T17:33:17.203Z"
   },
   {
    "duration": 8,
    "start_time": "2021-07-20T17:33:24.700Z"
   },
   {
    "duration": 13,
    "start_time": "2021-07-20T17:33:25.536Z"
   },
   {
    "duration": 8,
    "start_time": "2021-07-20T17:33:48.597Z"
   },
   {
    "duration": 12,
    "start_time": "2021-07-20T17:33:49.951Z"
   },
   {
    "duration": 156,
    "start_time": "2021-07-20T17:33:52.804Z"
   },
   {
    "duration": 8,
    "start_time": "2021-07-20T17:33:56.653Z"
   },
   {
    "duration": 7,
    "start_time": "2021-07-20T17:34:20.470Z"
   },
   {
    "duration": 16,
    "start_time": "2021-07-20T17:34:43.785Z"
   },
   {
    "duration": 7,
    "start_time": "2021-07-20T17:35:05.420Z"
   },
   {
    "duration": 15,
    "start_time": "2021-07-20T17:35:06.399Z"
   },
   {
    "duration": 7,
    "start_time": "2021-07-20T17:36:46.159Z"
   },
   {
    "duration": 354,
    "start_time": "2021-07-20T17:37:23.580Z"
   },
   {
    "duration": 362,
    "start_time": "2021-07-20T17:38:05.872Z"
   },
   {
    "duration": 121,
    "start_time": "2021-07-20T17:38:19.243Z"
   },
   {
    "duration": 5,
    "start_time": "2021-07-20T17:38:24.544Z"
   },
   {
    "duration": 6,
    "start_time": "2021-07-20T17:39:34.935Z"
   },
   {
    "duration": 127,
    "start_time": "2021-07-20T17:39:39.189Z"
   },
   {
    "duration": 6,
    "start_time": "2021-07-20T17:39:45.175Z"
   },
   {
    "duration": 5,
    "start_time": "2021-07-20T17:39:55.530Z"
   },
   {
    "duration": 5,
    "start_time": "2021-07-20T17:43:40.866Z"
   },
   {
    "duration": 5,
    "start_time": "2021-07-20T17:43:45.434Z"
   },
   {
    "duration": 7,
    "start_time": "2021-07-20T17:43:57.929Z"
   },
   {
    "duration": 6,
    "start_time": "2021-07-20T17:44:08.955Z"
   },
   {
    "duration": 423,
    "start_time": "2021-07-20T17:45:53.994Z"
   },
   {
    "duration": 373,
    "start_time": "2021-07-20T17:46:02.085Z"
   },
   {
    "duration": 8,
    "start_time": "2021-07-20T17:50:05.699Z"
   },
   {
    "duration": 16,
    "start_time": "2021-07-20T17:50:07.688Z"
   },
   {
    "duration": 7,
    "start_time": "2021-07-20T17:50:42.814Z"
   },
   {
    "duration": 12,
    "start_time": "2021-07-20T17:50:45.858Z"
   },
   {
    "duration": 115,
    "start_time": "2021-07-20T17:50:50.947Z"
   },
   {
    "duration": 7,
    "start_time": "2021-07-20T17:50:54.092Z"
   },
   {
    "duration": 12,
    "start_time": "2021-07-20T17:50:55.004Z"
   },
   {
    "duration": 8,
    "start_time": "2021-07-20T17:50:57.776Z"
   },
   {
    "duration": 13,
    "start_time": "2021-07-20T17:50:58.552Z"
   },
   {
    "duration": 8,
    "start_time": "2021-07-20T17:51:12.650Z"
   },
   {
    "duration": 11,
    "start_time": "2021-07-20T17:51:13.455Z"
   },
   {
    "duration": 7,
    "start_time": "2021-07-20T17:51:28.842Z"
   },
   {
    "duration": 11,
    "start_time": "2021-07-20T17:51:29.956Z"
   },
   {
    "duration": 165,
    "start_time": "2021-07-20T17:51:50.334Z"
   },
   {
    "duration": 8,
    "start_time": "2021-07-20T17:51:55.589Z"
   },
   {
    "duration": 12,
    "start_time": "2021-07-20T17:51:56.525Z"
   },
   {
    "duration": 3461,
    "start_time": "2021-07-20T17:52:04.939Z"
   },
   {
    "duration": 5,
    "start_time": "2021-07-20T17:52:08.403Z"
   },
   {
    "duration": 172,
    "start_time": "2021-07-20T17:52:08.411Z"
   },
   {
    "duration": 12,
    "start_time": "2021-07-20T17:52:08.586Z"
   },
   {
    "duration": 9,
    "start_time": "2021-07-20T17:52:08.601Z"
   },
   {
    "duration": 135,
    "start_time": "2021-07-20T17:52:08.612Z"
   },
   {
    "duration": 13,
    "start_time": "2021-07-20T17:52:08.749Z"
   },
   {
    "duration": 1754,
    "start_time": "2021-07-20T17:52:08.764Z"
   },
   {
    "duration": 8,
    "start_time": "2021-07-20T17:52:10.521Z"
   },
   {
    "duration": 16,
    "start_time": "2021-07-20T17:52:10.531Z"
   },
   {
    "duration": 860,
    "start_time": "2021-07-20T17:52:10.549Z"
   },
   {
    "duration": 1508,
    "start_time": "2021-07-20T17:52:11.411Z"
   },
   {
    "duration": -1064,
    "start_time": "2021-07-20T17:52:13.986Z"
   },
   {
    "duration": -1064,
    "start_time": "2021-07-20T17:52:13.987Z"
   },
   {
    "duration": -1064,
    "start_time": "2021-07-20T17:52:13.988Z"
   },
   {
    "duration": -1063,
    "start_time": "2021-07-20T17:52:13.989Z"
   },
   {
    "duration": -1063,
    "start_time": "2021-07-20T17:52:13.990Z"
   },
   {
    "duration": -1062,
    "start_time": "2021-07-20T17:52:13.991Z"
   },
   {
    "duration": -1061,
    "start_time": "2021-07-20T17:52:13.992Z"
   },
   {
    "duration": -1060,
    "start_time": "2021-07-20T17:52:13.992Z"
   },
   {
    "duration": -1063,
    "start_time": "2021-07-20T17:52:13.996Z"
   },
   {
    "duration": -1062,
    "start_time": "2021-07-20T17:52:13.997Z"
   },
   {
    "duration": -1064,
    "start_time": "2021-07-20T17:52:14.001Z"
   },
   {
    "duration": 162,
    "start_time": "2021-07-20T17:53:12.982Z"
   },
   {
    "duration": 13,
    "start_time": "2021-07-20T17:53:14.001Z"
   },
   {
    "duration": 18,
    "start_time": "2021-07-20T17:53:18.528Z"
   },
   {
    "duration": 3383,
    "start_time": "2021-07-20T17:53:26.942Z"
   },
   {
    "duration": 1496,
    "start_time": "2021-07-20T17:53:30.329Z"
   },
   {
    "duration": 157,
    "start_time": "2021-07-20T17:53:31.828Z"
   },
   {
    "duration": 15,
    "start_time": "2021-07-20T17:53:31.988Z"
   },
   {
    "duration": 6,
    "start_time": "2021-07-20T17:53:32.005Z"
   },
   {
    "duration": 192,
    "start_time": "2021-07-20T17:53:32.014Z"
   },
   {
    "duration": 14,
    "start_time": "2021-07-20T17:53:32.208Z"
   },
   {
    "duration": 2807,
    "start_time": "2021-07-20T17:53:32.224Z"
   },
   {
    "duration": 8,
    "start_time": "2021-07-20T17:53:35.035Z"
   },
   {
    "duration": 16,
    "start_time": "2021-07-20T17:53:35.046Z"
   },
   {
    "duration": 822,
    "start_time": "2021-07-20T17:53:35.065Z"
   },
   {
    "duration": 19,
    "start_time": "2021-07-20T17:53:35.889Z"
   },
   {
    "duration": 11,
    "start_time": "2021-07-20T17:53:35.911Z"
   },
   {
    "duration": 23,
    "start_time": "2021-07-20T17:53:35.925Z"
   },
   {
    "duration": 42,
    "start_time": "2021-07-20T17:53:35.983Z"
   },
   {
    "duration": 101,
    "start_time": "2021-07-20T17:53:36.028Z"
   },
   {
    "duration": 10,
    "start_time": "2021-07-20T17:53:36.132Z"
   },
   {
    "duration": 28,
    "start_time": "2021-07-20T17:53:36.145Z"
   },
   {
    "duration": 28,
    "start_time": "2021-07-20T17:53:36.176Z"
   },
   {
    "duration": 14,
    "start_time": "2021-07-20T17:53:36.207Z"
   },
   {
    "duration": 19,
    "start_time": "2021-07-20T17:53:36.224Z"
   },
   {
    "duration": 22,
    "start_time": "2021-07-20T17:53:36.245Z"
   },
   {
    "duration": 446,
    "start_time": "2021-07-20T17:53:36.270Z"
   },
   {
    "duration": 5,
    "start_time": "2021-07-20T17:54:54.594Z"
   },
   {
    "duration": 7,
    "start_time": "2021-07-20T17:54:55.753Z"
   },
   {
    "duration": 11,
    "start_time": "2021-07-20T17:54:56.525Z"
   },
   {
    "duration": 5,
    "start_time": "2021-07-20T17:55:03.494Z"
   },
   {
    "duration": 75,
    "start_time": "2021-07-20T18:02:12.989Z"
   },
   {
    "duration": 10,
    "start_time": "2021-07-20T18:02:13.785Z"
   },
   {
    "duration": 5,
    "start_time": "2021-07-20T18:02:22.426Z"
   },
   {
    "duration": 9,
    "start_time": "2021-07-20T18:02:28.560Z"
   },
   {
    "duration": 12,
    "start_time": "2021-07-20T18:02:30.292Z"
   },
   {
    "duration": 16,
    "start_time": "2021-07-20T18:03:35.141Z"
   },
   {
    "duration": 16,
    "start_time": "2021-07-20T18:03:44.685Z"
   },
   {
    "duration": 491,
    "start_time": "2021-07-20T18:04:35.998Z"
   },
   {
    "duration": 6,
    "start_time": "2021-07-20T18:04:46.054Z"
   },
   {
    "duration": 9,
    "start_time": "2021-07-20T18:04:47.788Z"
   },
   {
    "duration": 10,
    "start_time": "2021-07-20T18:04:53.408Z"
   },
   {
    "duration": 5,
    "start_time": "2021-07-20T18:04:59.878Z"
   },
   {
    "duration": 390,
    "start_time": "2021-07-20T18:06:00.524Z"
   },
   {
    "duration": 449,
    "start_time": "2021-07-20T18:06:13.318Z"
   },
   {
    "duration": 967,
    "start_time": "2021-07-20T18:11:27.284Z"
   },
   {
    "duration": 5126,
    "start_time": "2021-07-20T18:11:34.183Z"
   },
   {
    "duration": 5703,
    "start_time": "2021-07-20T18:11:46.535Z"
   },
   {
    "duration": 1083,
    "start_time": "2021-07-20T18:14:45.566Z"
   },
   {
    "duration": 912,
    "start_time": "2021-07-20T18:14:54.698Z"
   },
   {
    "duration": 5260,
    "start_time": "2021-07-20T18:15:26.731Z"
   },
   {
    "duration": 5013,
    "start_time": "2021-07-20T18:16:29.216Z"
   },
   {
    "duration": 4833,
    "start_time": "2021-07-20T18:16:46.661Z"
   },
   {
    "duration": 528,
    "start_time": "2021-07-20T18:17:10.224Z"
   },
   {
    "duration": 4757,
    "start_time": "2021-07-20T18:17:45.951Z"
   },
   {
    "duration": 504,
    "start_time": "2021-07-20T18:19:03.452Z"
   },
   {
    "duration": 483,
    "start_time": "2021-07-20T18:20:21.861Z"
   },
   {
    "duration": 461,
    "start_time": "2021-07-20T18:20:27.039Z"
   },
   {
    "duration": 460,
    "start_time": "2021-07-20T18:20:37.316Z"
   },
   {
    "duration": 486,
    "start_time": "2021-07-20T18:20:43.145Z"
   },
   {
    "duration": 449,
    "start_time": "2021-07-20T18:20:58.144Z"
   },
   {
    "duration": 461,
    "start_time": "2021-07-20T18:21:12.154Z"
   },
   {
    "duration": 243,
    "start_time": "2021-07-21T14:09:15.026Z"
   },
   {
    "duration": 3183,
    "start_time": "2021-07-21T14:09:22.784Z"
   },
   {
    "duration": 1038,
    "start_time": "2021-07-21T14:09:25.969Z"
   },
   {
    "duration": 120,
    "start_time": "2021-07-21T14:09:27.009Z"
   },
   {
    "duration": 12,
    "start_time": "2021-07-21T14:09:27.131Z"
   },
   {
    "duration": 3,
    "start_time": "2021-07-21T14:09:27.145Z"
   },
   {
    "duration": 137,
    "start_time": "2021-07-21T14:09:27.150Z"
   },
   {
    "duration": 11,
    "start_time": "2021-07-21T14:09:27.289Z"
   },
   {
    "duration": 1902,
    "start_time": "2021-07-21T14:09:27.302Z"
   },
   {
    "duration": 6,
    "start_time": "2021-07-21T14:09:29.206Z"
   },
   {
    "duration": 8,
    "start_time": "2021-07-21T14:09:29.213Z"
   },
   {
    "duration": 517,
    "start_time": "2021-07-21T14:09:29.223Z"
   },
   {
    "duration": 16,
    "start_time": "2021-07-21T14:09:29.742Z"
   },
   {
    "duration": 26,
    "start_time": "2021-07-21T14:09:29.759Z"
   },
   {
    "duration": 19,
    "start_time": "2021-07-21T14:09:29.786Z"
   },
   {
    "duration": 54,
    "start_time": "2021-07-21T14:09:29.807Z"
   },
   {
    "duration": 24,
    "start_time": "2021-07-21T14:09:29.862Z"
   },
   {
    "duration": 5,
    "start_time": "2021-07-21T14:09:29.888Z"
   },
   {
    "duration": 7,
    "start_time": "2021-07-21T14:09:29.894Z"
   },
   {
    "duration": 9,
    "start_time": "2021-07-21T14:09:29.903Z"
   },
   {
    "duration": 4,
    "start_time": "2021-07-21T14:09:29.914Z"
   },
   {
    "duration": 482,
    "start_time": "2021-07-21T14:09:29.920Z"
   },
   {
    "duration": 185,
    "start_time": "2021-07-21T14:10:04.407Z"
   },
   {
    "duration": 459,
    "start_time": "2021-07-21T14:10:10.643Z"
   },
   {
    "duration": 433,
    "start_time": "2021-07-21T14:10:38.987Z"
   },
   {
    "duration": 268,
    "start_time": "2021-07-21T14:13:03.206Z"
   },
   {
    "duration": 278,
    "start_time": "2021-07-21T14:13:21.796Z"
   },
   {
    "duration": 283,
    "start_time": "2021-07-21T14:13:31.961Z"
   },
   {
    "duration": 271,
    "start_time": "2021-07-21T14:13:36.320Z"
   },
   {
    "duration": 437,
    "start_time": "2021-07-21T14:15:00.748Z"
   },
   {
    "duration": 273,
    "start_time": "2021-07-21T14:16:16.190Z"
   },
   {
    "duration": 275,
    "start_time": "2021-07-21T14:17:18.966Z"
   },
   {
    "duration": 254,
    "start_time": "2021-07-21T14:17:48.575Z"
   },
   {
    "duration": 251,
    "start_time": "2021-07-21T14:18:06.370Z"
   },
   {
    "duration": 278,
    "start_time": "2021-07-21T14:18:11.654Z"
   },
   {
    "duration": 19,
    "start_time": "2021-07-21T14:19:43.244Z"
   },
   {
    "duration": 13,
    "start_time": "2021-07-21T14:20:22.948Z"
   },
   {
    "duration": 6,
    "start_time": "2021-07-21T14:20:26.876Z"
   },
   {
    "duration": 7,
    "start_time": "2021-07-21T14:20:30.115Z"
   },
   {
    "duration": 3,
    "start_time": "2021-07-21T14:23:43.423Z"
   },
   {
    "duration": 9,
    "start_time": "2021-07-21T14:27:47.419Z"
   },
   {
    "duration": 21,
    "start_time": "2021-07-21T14:28:00.221Z"
   },
   {
    "duration": 14,
    "start_time": "2021-07-21T14:28:05.819Z"
   },
   {
    "duration": 612,
    "start_time": "2021-07-21T14:28:23.684Z"
   },
   {
    "duration": 10374,
    "start_time": "2021-07-21T14:28:31.875Z"
   },
   {
    "duration": 14,
    "start_time": "2021-07-21T14:28:53.756Z"
   },
   {
    "duration": 7,
    "start_time": "2021-07-21T14:29:09.171Z"
   },
   {
    "duration": 6,
    "start_time": "2021-07-21T14:29:22.306Z"
   },
   {
    "duration": 6,
    "start_time": "2021-07-21T14:29:25.613Z"
   },
   {
    "duration": 6,
    "start_time": "2021-07-21T14:30:05.373Z"
   },
   {
    "duration": 14,
    "start_time": "2021-07-21T14:36:06.048Z"
   },
   {
    "duration": 15,
    "start_time": "2021-07-21T15:09:28.916Z"
   },
   {
    "duration": 6,
    "start_time": "2021-07-21T15:09:34.198Z"
   },
   {
    "duration": 21,
    "start_time": "2021-07-21T15:10:01.161Z"
   },
   {
    "duration": 6,
    "start_time": "2021-07-21T15:10:02.410Z"
   },
   {
    "duration": 36,
    "start_time": "2021-07-21T15:10:35.547Z"
   },
   {
    "duration": 7,
    "start_time": "2021-07-21T15:10:38.443Z"
   },
   {
    "duration": 36,
    "start_time": "2021-07-21T15:11:36.525Z"
   },
   {
    "duration": 7,
    "start_time": "2021-07-21T15:11:37.420Z"
   },
   {
    "duration": 41,
    "start_time": "2021-07-21T15:12:13.355Z"
   },
   {
    "duration": 8,
    "start_time": "2021-07-21T15:12:14.875Z"
   },
   {
    "duration": 7,
    "start_time": "2021-07-21T15:48:52.051Z"
   },
   {
    "duration": 35,
    "start_time": "2021-07-21T15:49:30.298Z"
   },
   {
    "duration": 5,
    "start_time": "2021-07-21T15:49:31.701Z"
   },
   {
    "duration": 34,
    "start_time": "2021-07-21T15:51:38.714Z"
   },
   {
    "duration": 6,
    "start_time": "2021-07-21T15:51:39.722Z"
   },
   {
    "duration": 5,
    "start_time": "2021-07-21T15:52:06.875Z"
   },
   {
    "duration": 182,
    "start_time": "2021-07-21T15:52:16.967Z"
   },
   {
    "duration": 177,
    "start_time": "2021-07-21T15:52:27.902Z"
   },
   {
    "duration": 4,
    "start_time": "2021-07-21T15:52:44.295Z"
   },
   {
    "duration": 11,
    "start_time": "2021-07-21T15:52:47.371Z"
   },
   {
    "duration": 6,
    "start_time": "2021-07-21T15:52:56.709Z"
   },
   {
    "duration": 7,
    "start_time": "2021-07-21T15:53:07.396Z"
   },
   {
    "duration": 5,
    "start_time": "2021-07-21T15:53:13.123Z"
   },
   {
    "duration": 177,
    "start_time": "2021-07-21T15:53:19.663Z"
   },
   {
    "duration": 173,
    "start_time": "2021-07-21T15:53:28.108Z"
   },
   {
    "duration": 5,
    "start_time": "2021-07-21T15:53:31.373Z"
   },
   {
    "duration": 10,
    "start_time": "2021-07-21T15:53:58.082Z"
   },
   {
    "duration": 58,
    "start_time": "2021-07-21T15:54:02.831Z"
   },
   {
    "duration": 4,
    "start_time": "2021-07-21T15:54:05.878Z"
   },
   {
    "duration": 7,
    "start_time": "2021-07-21T15:54:47.268Z"
   },
   {
    "duration": 11,
    "start_time": "2021-07-21T15:55:45.889Z"
   },
   {
    "duration": 7,
    "start_time": "2021-07-21T15:55:51.748Z"
   },
   {
    "duration": 4298,
    "start_time": "2021-07-21T16:02:31.669Z"
   },
   {
    "duration": 5,
    "start_time": "2021-07-21T16:02:48.205Z"
   },
   {
    "duration": 8,
    "start_time": "2021-07-21T16:04:09.223Z"
   },
   {
    "duration": 4,
    "start_time": "2021-07-21T16:08:04.850Z"
   },
   {
    "duration": 13,
    "start_time": "2021-07-21T16:08:08.619Z"
   },
   {
    "duration": 7,
    "start_time": "2021-07-21T16:08:11.956Z"
   },
   {
    "duration": 5,
    "start_time": "2021-07-21T16:08:36.472Z"
   },
   {
    "duration": 7,
    "start_time": "2021-07-21T16:08:37.930Z"
   },
   {
    "duration": 184,
    "start_time": "2021-07-21T16:08:56.635Z"
   },
   {
    "duration": 61,
    "start_time": "2021-07-21T16:09:14.159Z"
   },
   {
    "duration": 12,
    "start_time": "2021-07-21T16:09:18.792Z"
   },
   {
    "duration": 10,
    "start_time": "2021-07-21T16:09:20.681Z"
   },
   {
    "duration": 7,
    "start_time": "2021-07-21T16:09:25.274Z"
   },
   {
    "duration": 6,
    "start_time": "2021-07-21T16:09:27.454Z"
   },
   {
    "duration": 64,
    "start_time": "2021-07-21T16:14:49.339Z"
   },
   {
    "duration": 6,
    "start_time": "2021-07-21T16:14:52.780Z"
   },
   {
    "duration": 5,
    "start_time": "2021-07-21T16:15:28.902Z"
   },
   {
    "duration": 168,
    "start_time": "2021-07-21T16:15:53.306Z"
   },
   {
    "duration": 9,
    "start_time": "2021-07-21T16:16:02.793Z"
   },
   {
    "duration": 14,
    "start_time": "2021-07-21T16:16:50.652Z"
   },
   {
    "duration": 7,
    "start_time": "2021-07-21T16:18:12.353Z"
   },
   {
    "duration": 6,
    "start_time": "2021-07-21T16:18:14.036Z"
   },
   {
    "duration": 360,
    "start_time": "2021-07-21T16:19:26.618Z"
   },
   {
    "duration": 5,
    "start_time": "2021-07-21T16:19:28.912Z"
   },
   {
    "duration": 6,
    "start_time": "2021-07-21T16:19:29.736Z"
   },
   {
    "duration": 11,
    "start_time": "2021-07-21T16:20:03.991Z"
   },
   {
    "duration": 6,
    "start_time": "2021-07-21T16:20:28.157Z"
   },
   {
    "duration": 7,
    "start_time": "2021-07-21T16:20:36.015Z"
   },
   {
    "duration": 19,
    "start_time": "2021-07-21T16:22:13.425Z"
   },
   {
    "duration": 14,
    "start_time": "2021-07-21T16:22:18.365Z"
   },
   {
    "duration": 19,
    "start_time": "2021-07-21T16:22:23.482Z"
   },
   {
    "duration": 59,
    "start_time": "2021-07-21T16:23:46.726Z"
   },
   {
    "duration": 7,
    "start_time": "2021-07-21T16:23:47.657Z"
   },
   {
    "duration": 16,
    "start_time": "2021-07-21T16:23:55.359Z"
   },
   {
    "duration": 7,
    "start_time": "2021-07-21T16:24:57.255Z"
   },
   {
    "duration": 7,
    "start_time": "2021-07-21T16:27:06.334Z"
   },
   {
    "duration": 6,
    "start_time": "2021-07-21T16:27:22.249Z"
   },
   {
    "duration": 6,
    "start_time": "2021-07-21T16:27:50.214Z"
   },
   {
    "duration": 6,
    "start_time": "2021-07-21T16:27:56.102Z"
   },
   {
    "duration": 7,
    "start_time": "2021-07-21T16:30:45.350Z"
   },
   {
    "duration": 7,
    "start_time": "2021-07-21T16:30:46.458Z"
   },
   {
    "duration": 64,
    "start_time": "2021-07-21T16:31:31.433Z"
   },
   {
    "duration": 16,
    "start_time": "2021-07-21T16:31:33.046Z"
   },
   {
    "duration": 64,
    "start_time": "2021-07-21T16:32:48.966Z"
   },
   {
    "duration": 15,
    "start_time": "2021-07-21T16:32:49.833Z"
   },
   {
    "duration": 66,
    "start_time": "2021-07-21T16:33:14.481Z"
   },
   {
    "duration": 15,
    "start_time": "2021-07-21T16:33:15.865Z"
   },
   {
    "duration": 6,
    "start_time": "2021-07-21T16:38:27.767Z"
   },
   {
    "duration": 7,
    "start_time": "2021-07-21T16:38:28.601Z"
   },
   {
    "duration": 6,
    "start_time": "2021-07-21T16:38:29.338Z"
   },
   {
    "duration": 7,
    "start_time": "2021-07-21T16:38:30.032Z"
   },
   {
    "duration": 6,
    "start_time": "2021-07-21T16:38:30.825Z"
   },
   {
    "duration": 423,
    "start_time": "2021-07-23T14:55:25.008Z"
   },
   {
    "duration": 5286,
    "start_time": "2021-07-23T14:55:31.486Z"
   },
   {
    "duration": 1545,
    "start_time": "2021-07-23T14:55:36.775Z"
   },
   {
    "duration": 192,
    "start_time": "2021-07-23T14:55:38.324Z"
   },
   {
    "duration": 18,
    "start_time": "2021-07-23T14:55:38.519Z"
   },
   {
    "duration": 4,
    "start_time": "2021-07-23T14:55:38.540Z"
   },
   {
    "duration": 202,
    "start_time": "2021-07-23T14:55:38.567Z"
   },
   {
    "duration": 13,
    "start_time": "2021-07-23T14:55:38.771Z"
   },
   {
    "duration": 81,
    "start_time": "2021-07-23T14:55:41.718Z"
   },
   {
    "duration": 73,
    "start_time": "2021-07-23T14:55:56.511Z"
   },
   {
    "duration": 79,
    "start_time": "2021-07-23T14:57:31.655Z"
   },
   {
    "duration": 77,
    "start_time": "2021-07-23T14:57:38.386Z"
   },
   {
    "duration": 73,
    "start_time": "2021-07-23T14:58:46.861Z"
   },
   {
    "duration": 1941,
    "start_time": "2021-07-23T14:59:11.422Z"
   },
   {
    "duration": 74,
    "start_time": "2021-07-23T14:59:17.682Z"
   },
   {
    "duration": 345,
    "start_time": "2021-07-23T15:15:37.458Z"
   },
   {
    "duration": 3669,
    "start_time": "2021-07-23T15:16:47.024Z"
   },
   {
    "duration": 5,
    "start_time": "2021-07-23T15:16:50.696Z"
   },
   {
    "duration": 182,
    "start_time": "2021-07-23T15:16:50.705Z"
   },
   {
    "duration": 13,
    "start_time": "2021-07-23T15:16:50.890Z"
   },
   {
    "duration": 6,
    "start_time": "2021-07-23T15:16:50.906Z"
   },
   {
    "duration": 200,
    "start_time": "2021-07-23T15:16:50.915Z"
   },
   {
    "duration": 13,
    "start_time": "2021-07-23T15:16:51.117Z"
   },
   {
    "duration": 104,
    "start_time": "2021-07-23T15:16:51.132Z"
   },
   {
    "duration": 2976,
    "start_time": "2021-07-23T15:16:51.240Z"
   },
   {
    "duration": 8,
    "start_time": "2021-07-23T15:16:54.219Z"
   },
   {
    "duration": 8,
    "start_time": "2021-07-23T15:16:54.230Z"
   },
   {
    "duration": 836,
    "start_time": "2021-07-23T15:16:54.268Z"
   },
   {
    "duration": 17,
    "start_time": "2021-07-23T15:16:55.106Z"
   },
   {
    "duration": 11,
    "start_time": "2021-07-23T15:16:55.125Z"
   },
   {
    "duration": 41,
    "start_time": "2021-07-23T15:16:55.139Z"
   },
   {
    "duration": 9,
    "start_time": "2021-07-23T15:16:55.183Z"
   },
   {
    "duration": 105,
    "start_time": "2021-07-23T15:16:55.194Z"
   },
   {
    "duration": 11,
    "start_time": "2021-07-23T15:16:55.301Z"
   },
   {
    "duration": 7,
    "start_time": "2021-07-23T15:16:55.315Z"
   },
   {
    "duration": 10,
    "start_time": "2021-07-23T15:16:55.324Z"
   },
   {
    "duration": 38,
    "start_time": "2021-07-23T15:16:55.337Z"
   },
   {
    "duration": 10,
    "start_time": "2021-07-23T15:16:55.378Z"
   },
   {
    "duration": 444,
    "start_time": "2021-07-23T15:16:55.391Z"
   },
   {
    "duration": 8,
    "start_time": "2021-07-23T15:16:55.838Z"
   },
   {
    "duration": 42,
    "start_time": "2021-07-23T15:16:55.848Z"
   },
   {
    "duration": 117,
    "start_time": "2021-07-23T15:16:55.893Z"
   },
   {
    "duration": 22,
    "start_time": "2021-07-23T15:16:56.015Z"
   },
   {
    "duration": 27,
    "start_time": "2021-07-23T15:16:56.040Z"
   },
   {
    "duration": 9,
    "start_time": "2021-07-23T15:16:56.069Z"
   },
   {
    "duration": 9,
    "start_time": "2021-07-23T15:16:56.080Z"
   },
   {
    "duration": 13,
    "start_time": "2021-07-23T15:16:56.092Z"
   },
   {
    "duration": 8,
    "start_time": "2021-07-23T15:16:56.108Z"
   },
   {
    "duration": 50,
    "start_time": "2021-07-23T15:16:56.118Z"
   },
   {
    "duration": 8,
    "start_time": "2021-07-23T15:16:56.171Z"
   },
   {
    "duration": 8,
    "start_time": "2021-07-23T15:16:56.181Z"
   },
   {
    "duration": 8,
    "start_time": "2021-07-23T15:16:56.191Z"
   },
   {
    "duration": 9,
    "start_time": "2021-07-23T15:16:56.201Z"
   },
   {
    "duration": 8,
    "start_time": "2021-07-23T15:16:56.268Z"
   },
   {
    "duration": 8,
    "start_time": "2021-07-23T15:16:56.278Z"
   },
   {
    "duration": 8,
    "start_time": "2021-07-23T15:16:56.288Z"
   },
   {
    "duration": 8,
    "start_time": "2021-07-23T15:16:56.299Z"
   },
   {
    "duration": 65,
    "start_time": "2021-07-23T15:16:56.309Z"
   },
   {
    "duration": 9,
    "start_time": "2021-07-23T15:16:56.376Z"
   },
   {
    "duration": 9,
    "start_time": "2021-07-23T15:18:07.982Z"
   },
   {
    "duration": 9,
    "start_time": "2021-07-23T15:18:08.929Z"
   },
   {
    "duration": 8,
    "start_time": "2021-07-23T15:18:09.628Z"
   },
   {
    "duration": 9,
    "start_time": "2021-07-23T15:18:10.333Z"
   },
   {
    "duration": 8,
    "start_time": "2021-07-23T15:18:11.223Z"
   },
   {
    "duration": 9,
    "start_time": "2021-07-23T15:20:54.023Z"
   },
   {
    "duration": 24,
    "start_time": "2021-07-23T15:21:03.816Z"
   },
   {
    "duration": 9,
    "start_time": "2021-07-23T15:23:45.273Z"
   },
   {
    "duration": 25,
    "start_time": "2021-07-23T15:23:47.389Z"
   },
   {
    "duration": 140,
    "start_time": "2021-07-23T15:24:06.145Z"
   },
   {
    "duration": 8,
    "start_time": "2021-07-23T15:24:13.612Z"
   },
   {
    "duration": 36,
    "start_time": "2021-07-23T15:24:14.509Z"
   },
   {
    "duration": 13,
    "start_time": "2021-07-23T15:24:22.870Z"
   },
   {
    "duration": 26,
    "start_time": "2021-07-23T15:24:23.727Z"
   },
   {
    "duration": 9,
    "start_time": "2021-07-23T15:24:29.070Z"
   },
   {
    "duration": 24,
    "start_time": "2021-07-23T15:24:29.823Z"
   },
   {
    "duration": 9,
    "start_time": "2021-07-23T15:24:54.780Z"
   },
   {
    "duration": 28,
    "start_time": "2021-07-23T15:24:55.619Z"
   },
   {
    "duration": 10,
    "start_time": "2021-07-23T15:26:03.143Z"
   },
   {
    "duration": 26,
    "start_time": "2021-07-23T15:26:04.513Z"
   },
   {
    "duration": 10,
    "start_time": "2021-07-23T15:26:11.113Z"
   },
   {
    "duration": 27,
    "start_time": "2021-07-23T15:26:11.983Z"
   },
   {
    "duration": 9,
    "start_time": "2021-07-23T15:26:15.584Z"
   },
   {
    "duration": 26,
    "start_time": "2021-07-23T15:26:16.314Z"
   },
   {
    "duration": 26,
    "start_time": "2021-07-23T15:26:34.241Z"
   },
   {
    "duration": 29,
    "start_time": "2021-07-23T15:26:45.958Z"
   },
   {
    "duration": 24,
    "start_time": "2021-07-23T15:26:56.894Z"
   },
   {
    "duration": 10,
    "start_time": "2021-07-23T15:30:07.307Z"
   },
   {
    "duration": 25,
    "start_time": "2021-07-23T15:30:08.269Z"
   },
   {
    "duration": 11,
    "start_time": "2021-07-23T15:31:34.159Z"
   },
   {
    "duration": 27,
    "start_time": "2021-07-23T15:31:36.706Z"
   },
   {
    "duration": 14,
    "start_time": "2021-07-23T15:31:45.633Z"
   },
   {
    "duration": 27,
    "start_time": "2021-07-23T15:31:46.953Z"
   },
   {
    "duration": 27,
    "start_time": "2021-07-23T15:31:57.378Z"
   },
   {
    "duration": 29,
    "start_time": "2021-07-23T15:31:59.799Z"
   },
   {
    "duration": 28,
    "start_time": "2021-07-23T15:33:01.102Z"
   },
   {
    "duration": 30,
    "start_time": "2021-07-23T15:33:05.267Z"
   },
   {
    "duration": 99,
    "start_time": "2021-07-23T16:01:21.828Z"
   },
   {
    "duration": 27,
    "start_time": "2021-07-23T16:01:22.778Z"
   },
   {
    "duration": 26,
    "start_time": "2021-07-23T16:01:54.624Z"
   },
   {
    "duration": 27,
    "start_time": "2021-07-23T16:02:10.907Z"
   },
   {
    "duration": 29,
    "start_time": "2021-07-23T16:02:18.782Z"
   },
   {
    "duration": 26,
    "start_time": "2021-07-23T16:02:25.234Z"
   },
   {
    "duration": 14,
    "start_time": "2021-07-23T16:10:01.269Z"
   },
   {
    "duration": 25,
    "start_time": "2021-07-23T16:10:02.423Z"
   },
   {
    "duration": 25,
    "start_time": "2021-07-23T16:12:52.415Z"
   },
   {
    "duration": 479,
    "start_time": "2021-07-23T16:17:07.263Z"
   },
   {
    "duration": 4043,
    "start_time": "2021-07-23T16:21:59.401Z"
   },
   {
    "duration": 1611,
    "start_time": "2021-07-23T16:22:03.447Z"
   },
   {
    "duration": 186,
    "start_time": "2021-07-23T16:22:05.061Z"
   },
   {
    "duration": 26,
    "start_time": "2021-07-23T16:22:05.250Z"
   },
   {
    "duration": 8,
    "start_time": "2021-07-23T16:22:05.280Z"
   },
   {
    "duration": 223,
    "start_time": "2021-07-23T16:22:05.291Z"
   },
   {
    "duration": 14,
    "start_time": "2021-07-23T16:22:05.517Z"
   },
   {
    "duration": 111,
    "start_time": "2021-07-23T16:22:05.535Z"
   },
   {
    "duration": 3157,
    "start_time": "2021-07-23T16:22:05.649Z"
   },
   {
    "duration": 7,
    "start_time": "2021-07-23T16:22:08.808Z"
   },
   {
    "duration": 8,
    "start_time": "2021-07-23T16:22:08.818Z"
   },
   {
    "duration": 867,
    "start_time": "2021-07-23T16:22:08.829Z"
   },
   {
    "duration": 585,
    "start_time": "2021-07-23T16:22:09.698Z"
   },
   {
    "duration": -785,
    "start_time": "2021-07-23T16:22:11.071Z"
   },
   {
    "duration": -784,
    "start_time": "2021-07-23T16:22:11.072Z"
   },
   {
    "duration": -786,
    "start_time": "2021-07-23T16:22:11.076Z"
   },
   {
    "duration": -785,
    "start_time": "2021-07-23T16:22:11.077Z"
   },
   {
    "duration": -788,
    "start_time": "2021-07-23T16:22:11.082Z"
   },
   {
    "duration": -787,
    "start_time": "2021-07-23T16:22:11.083Z"
   },
   {
    "duration": -790,
    "start_time": "2021-07-23T16:22:11.089Z"
   },
   {
    "duration": -790,
    "start_time": "2021-07-23T16:22:11.090Z"
   },
   {
    "duration": -792,
    "start_time": "2021-07-23T16:22:11.094Z"
   },
   {
    "duration": -792,
    "start_time": "2021-07-23T16:22:11.097Z"
   },
   {
    "duration": -839,
    "start_time": "2021-07-23T16:22:11.145Z"
   },
   {
    "duration": -838,
    "start_time": "2021-07-23T16:22:11.147Z"
   },
   {
    "duration": -838,
    "start_time": "2021-07-23T16:22:11.149Z"
   },
   {
    "duration": -840,
    "start_time": "2021-07-23T16:22:11.153Z"
   },
   {
    "duration": -839,
    "start_time": "2021-07-23T16:22:11.154Z"
   },
   {
    "duration": -839,
    "start_time": "2021-07-23T16:22:11.156Z"
   },
   {
    "duration": -841,
    "start_time": "2021-07-23T16:22:11.160Z"
   },
   {
    "duration": -841,
    "start_time": "2021-07-23T16:22:11.162Z"
   },
   {
    "duration": 4362,
    "start_time": "2021-07-23T16:22:33.572Z"
   },
   {
    "duration": 1530,
    "start_time": "2021-07-23T16:22:37.937Z"
   },
   {
    "duration": 176,
    "start_time": "2021-07-23T16:22:39.474Z"
   },
   {
    "duration": 26,
    "start_time": "2021-07-23T16:22:39.652Z"
   },
   {
    "duration": 5,
    "start_time": "2021-07-23T16:22:39.682Z"
   },
   {
    "duration": 215,
    "start_time": "2021-07-23T16:22:39.691Z"
   },
   {
    "duration": 13,
    "start_time": "2021-07-23T16:22:39.910Z"
   },
   {
    "duration": 104,
    "start_time": "2021-07-23T16:22:39.926Z"
   },
   {
    "duration": 3135,
    "start_time": "2021-07-23T16:22:40.033Z"
   },
   {
    "duration": 9,
    "start_time": "2021-07-23T16:22:43.171Z"
   },
   {
    "duration": 8,
    "start_time": "2021-07-23T16:22:43.183Z"
   },
   {
    "duration": 958,
    "start_time": "2021-07-23T16:22:43.194Z"
   },
   {
    "duration": 23,
    "start_time": "2021-07-23T16:22:44.154Z"
   },
   {
    "duration": 11,
    "start_time": "2021-07-23T16:22:44.179Z"
   },
   {
    "duration": 26,
    "start_time": "2021-07-23T16:22:44.193Z"
   },
   {
    "duration": 8,
    "start_time": "2021-07-23T16:22:44.221Z"
   },
   {
    "duration": 89,
    "start_time": "2021-07-23T16:22:44.232Z"
   },
   {
    "duration": 9,
    "start_time": "2021-07-23T16:22:44.324Z"
   },
   {
    "duration": 8,
    "start_time": "2021-07-23T16:22:44.336Z"
   },
   {
    "duration": 9,
    "start_time": "2021-07-23T16:22:44.346Z"
   },
   {
    "duration": 18,
    "start_time": "2021-07-23T16:22:44.357Z"
   },
   {
    "duration": 6,
    "start_time": "2021-07-23T16:22:44.379Z"
   },
   {
    "duration": 470,
    "start_time": "2021-07-23T16:22:44.388Z"
   },
   {
    "duration": 13,
    "start_time": "2021-07-23T16:22:44.860Z"
   },
   {
    "duration": 27,
    "start_time": "2021-07-23T16:22:44.876Z"
   },
   {
    "duration": 120,
    "start_time": "2021-07-23T16:22:44.906Z"
   },
   {
    "duration": 25,
    "start_time": "2021-07-23T16:22:45.028Z"
   },
   {
    "duration": 23,
    "start_time": "2021-07-23T16:22:45.055Z"
   },
   {
    "duration": 1071,
    "start_time": "2021-07-23T16:22:45.081Z"
   },
   {
    "duration": -1161,
    "start_time": "2021-07-23T16:22:47.315Z"
   },
   {
    "duration": -1161,
    "start_time": "2021-07-23T16:22:47.317Z"
   },
   {
    "duration": 3900,
    "start_time": "2021-07-23T16:23:26.568Z"
   },
   {
    "duration": 1607,
    "start_time": "2021-07-23T16:23:30.471Z"
   },
   {
    "duration": 178,
    "start_time": "2021-07-23T16:23:32.085Z"
   },
   {
    "duration": 20,
    "start_time": "2021-07-23T16:23:32.268Z"
   },
   {
    "duration": 5,
    "start_time": "2021-07-23T16:23:32.290Z"
   },
   {
    "duration": 218,
    "start_time": "2021-07-23T16:23:32.297Z"
   },
   {
    "duration": 13,
    "start_time": "2021-07-23T16:23:32.517Z"
   },
   {
    "duration": 105,
    "start_time": "2021-07-23T16:23:32.535Z"
   },
   {
    "duration": 3137,
    "start_time": "2021-07-23T16:23:32.643Z"
   },
   {
    "duration": 8,
    "start_time": "2021-07-23T16:23:35.782Z"
   },
   {
    "duration": 9,
    "start_time": "2021-07-23T16:23:35.792Z"
   },
   {
    "duration": 973,
    "start_time": "2021-07-23T16:23:35.809Z"
   },
   {
    "duration": 18,
    "start_time": "2021-07-23T16:23:36.785Z"
   },
   {
    "duration": 13,
    "start_time": "2021-07-23T16:23:36.806Z"
   },
   {
    "duration": 57,
    "start_time": "2021-07-23T16:23:36.822Z"
   },
   {
    "duration": 8,
    "start_time": "2021-07-23T16:23:36.882Z"
   },
   {
    "duration": 98,
    "start_time": "2021-07-23T16:23:36.892Z"
   },
   {
    "duration": 13,
    "start_time": "2021-07-23T16:23:36.993Z"
   },
   {
    "duration": 6,
    "start_time": "2021-07-23T16:23:37.008Z"
   },
   {
    "duration": 9,
    "start_time": "2021-07-23T16:23:37.017Z"
   },
   {
    "duration": 42,
    "start_time": "2021-07-23T16:23:37.029Z"
   },
   {
    "duration": 7,
    "start_time": "2021-07-23T16:23:37.074Z"
   },
   {
    "duration": 474,
    "start_time": "2021-07-23T16:23:37.096Z"
   },
   {
    "duration": 9,
    "start_time": "2021-07-23T16:23:37.573Z"
   },
   {
    "duration": 34,
    "start_time": "2021-07-23T16:23:37.584Z"
   },
   {
    "duration": 131,
    "start_time": "2021-07-23T16:23:37.624Z"
   },
   {
    "duration": 32,
    "start_time": "2021-07-23T16:23:37.757Z"
   },
   {
    "duration": 11,
    "start_time": "2021-07-23T16:23:37.792Z"
   },
   {
    "duration": 994,
    "start_time": "2021-07-23T16:23:37.806Z"
   },
   {
    "duration": -779,
    "start_time": "2021-07-23T16:23:39.582Z"
   },
   {
    "duration": -779,
    "start_time": "2021-07-23T16:23:39.584Z"
   },
   {
    "duration": 4035,
    "start_time": "2021-07-23T16:24:21.004Z"
   },
   {
    "duration": 1752,
    "start_time": "2021-07-23T16:24:25.042Z"
   },
   {
    "duration": 169,
    "start_time": "2021-07-23T16:24:26.798Z"
   },
   {
    "duration": 20,
    "start_time": "2021-07-23T16:24:26.970Z"
   },
   {
    "duration": 4,
    "start_time": "2021-07-23T16:24:26.993Z"
   },
   {
    "duration": 215,
    "start_time": "2021-07-23T16:24:26.999Z"
   },
   {
    "duration": 13,
    "start_time": "2021-07-23T16:24:27.217Z"
   },
   {
    "duration": 104,
    "start_time": "2021-07-23T16:24:27.234Z"
   },
   {
    "duration": 3200,
    "start_time": "2021-07-23T16:24:27.341Z"
   },
   {
    "duration": 8,
    "start_time": "2021-07-23T16:24:30.543Z"
   },
   {
    "duration": 23,
    "start_time": "2021-07-23T16:24:30.553Z"
   },
   {
    "duration": 932,
    "start_time": "2021-07-23T16:24:30.580Z"
   },
   {
    "duration": 19,
    "start_time": "2021-07-23T16:24:31.514Z"
   },
   {
    "duration": 36,
    "start_time": "2021-07-23T16:24:31.536Z"
   },
   {
    "duration": 25,
    "start_time": "2021-07-23T16:24:31.575Z"
   },
   {
    "duration": 10,
    "start_time": "2021-07-23T16:24:31.603Z"
   },
   {
    "duration": 140,
    "start_time": "2021-07-23T16:24:31.616Z"
   },
   {
    "duration": 12,
    "start_time": "2021-07-23T16:24:31.759Z"
   },
   {
    "duration": 10,
    "start_time": "2021-07-23T16:24:31.774Z"
   },
   {
    "duration": 16,
    "start_time": "2021-07-23T16:24:31.787Z"
   },
   {
    "duration": 14,
    "start_time": "2021-07-23T16:24:31.806Z"
   },
   {
    "duration": 8,
    "start_time": "2021-07-23T16:24:31.822Z"
   },
   {
    "duration": 508,
    "start_time": "2021-07-23T16:24:31.869Z"
   },
   {
    "duration": 8,
    "start_time": "2021-07-23T16:24:32.380Z"
   },
   {
    "duration": 38,
    "start_time": "2021-07-23T16:24:32.391Z"
   },
   {
    "duration": 130,
    "start_time": "2021-07-23T16:24:32.434Z"
   },
   {
    "duration": 29,
    "start_time": "2021-07-23T16:24:32.567Z"
   },
   {
    "duration": 12,
    "start_time": "2021-07-23T16:24:32.598Z"
   },
   {
    "duration": 70,
    "start_time": "2021-07-23T16:24:32.612Z"
   },
   {
    "duration": 25,
    "start_time": "2021-07-23T16:24:32.684Z"
   },
   {
    "duration": 25,
    "start_time": "2021-07-23T16:24:32.712Z"
   },
   {
    "duration": 3707,
    "start_time": "2021-07-23T16:45:12.745Z"
   },
   {
    "duration": 1506,
    "start_time": "2021-07-23T16:45:16.455Z"
   },
   {
    "duration": 166,
    "start_time": "2021-07-23T16:45:17.964Z"
   },
   {
    "duration": 16,
    "start_time": "2021-07-23T16:45:18.133Z"
   },
   {
    "duration": 19,
    "start_time": "2021-07-23T16:45:18.151Z"
   },
   {
    "duration": 190,
    "start_time": "2021-07-23T16:45:18.172Z"
   },
   {
    "duration": 13,
    "start_time": "2021-07-23T16:45:18.364Z"
   },
   {
    "duration": 101,
    "start_time": "2021-07-23T16:45:18.381Z"
   },
   {
    "duration": 2982,
    "start_time": "2021-07-23T16:45:18.485Z"
   },
   {
    "duration": 8,
    "start_time": "2021-07-23T16:45:21.469Z"
   },
   {
    "duration": 8,
    "start_time": "2021-07-23T16:45:21.479Z"
   },
   {
    "duration": 854,
    "start_time": "2021-07-23T16:45:21.489Z"
   },
   {
    "duration": 35,
    "start_time": "2021-07-23T16:45:22.345Z"
   },
   {
    "duration": 9,
    "start_time": "2021-07-23T16:45:22.383Z"
   },
   {
    "duration": 22,
    "start_time": "2021-07-23T16:45:22.394Z"
   },
   {
    "duration": 8,
    "start_time": "2021-07-23T16:45:22.418Z"
   },
   {
    "duration": 109,
    "start_time": "2021-07-23T16:45:22.428Z"
   },
   {
    "duration": 11,
    "start_time": "2021-07-23T16:45:22.540Z"
   },
   {
    "duration": 5,
    "start_time": "2021-07-23T16:45:22.568Z"
   },
   {
    "duration": 9,
    "start_time": "2021-07-23T16:45:22.576Z"
   },
   {
    "duration": 12,
    "start_time": "2021-07-23T16:45:22.587Z"
   },
   {
    "duration": 11,
    "start_time": "2021-07-23T16:45:22.601Z"
   },
   {
    "duration": 494,
    "start_time": "2021-07-23T16:45:22.617Z"
   },
   {
    "duration": 9,
    "start_time": "2021-07-23T16:45:23.114Z"
   },
   {
    "duration": 49,
    "start_time": "2021-07-23T16:45:23.125Z"
   },
   {
    "duration": 112,
    "start_time": "2021-07-23T16:45:23.176Z"
   },
   {
    "duration": 26,
    "start_time": "2021-07-23T16:45:23.291Z"
   },
   {
    "duration": 10,
    "start_time": "2021-07-23T16:45:23.320Z"
   },
   {
    "duration": 28,
    "start_time": "2021-07-23T16:45:23.368Z"
   },
   {
    "duration": 25,
    "start_time": "2021-07-23T16:45:23.399Z"
   },
   {
    "duration": 55,
    "start_time": "2021-07-23T16:45:23.426Z"
   },
   {
    "duration": 182389,
    "start_time": "2021-07-23T17:24:04.107Z"
   },
   {
    "duration": 1052,
    "start_time": "2021-07-23T17:27:06.498Z"
   },
   {
    "duration": 135,
    "start_time": "2021-07-23T17:27:07.552Z"
   },
   {
    "duration": 10,
    "start_time": "2021-07-23T17:27:07.689Z"
   },
   {
    "duration": 6,
    "start_time": "2021-07-23T17:27:07.700Z"
   },
   {
    "duration": 129,
    "start_time": "2021-07-23T17:27:07.707Z"
   },
   {
    "duration": 9,
    "start_time": "2021-07-23T17:27:07.838Z"
   },
   {
    "duration": 55,
    "start_time": "2021-07-23T17:27:07.849Z"
   },
   {
    "duration": 1902,
    "start_time": "2021-07-23T17:27:07.906Z"
   },
   {
    "duration": 6,
    "start_time": "2021-07-23T17:27:09.811Z"
   },
   {
    "duration": 6,
    "start_time": "2021-07-23T17:27:09.818Z"
   },
   {
    "duration": 472,
    "start_time": "2021-07-23T17:27:09.841Z"
   },
   {
    "duration": 26,
    "start_time": "2021-07-23T17:27:10.315Z"
   },
   {
    "duration": 9,
    "start_time": "2021-07-23T17:27:10.342Z"
   },
   {
    "duration": 15,
    "start_time": "2021-07-23T17:27:10.353Z"
   },
   {
    "duration": 7,
    "start_time": "2021-07-23T17:27:10.370Z"
   },
   {
    "duration": 80,
    "start_time": "2021-07-23T17:27:10.378Z"
   },
   {
    "duration": 8,
    "start_time": "2021-07-23T17:27:10.460Z"
   },
   {
    "duration": 6,
    "start_time": "2021-07-23T17:27:10.470Z"
   },
   {
    "duration": 8,
    "start_time": "2021-07-23T17:27:10.477Z"
   },
   {
    "duration": 10,
    "start_time": "2021-07-23T17:27:10.486Z"
   },
   {
    "duration": 7,
    "start_time": "2021-07-23T17:27:10.498Z"
   },
   {
    "duration": 266,
    "start_time": "2021-07-23T17:27:10.507Z"
   },
   {
    "duration": 6,
    "start_time": "2021-07-23T17:27:10.775Z"
   },
   {
    "duration": 21,
    "start_time": "2021-07-23T17:27:10.783Z"
   },
   {
    "duration": 87,
    "start_time": "2021-07-23T17:27:10.806Z"
   },
   {
    "duration": 17,
    "start_time": "2021-07-23T17:27:10.897Z"
   },
   {
    "duration": 27,
    "start_time": "2021-07-23T17:27:10.916Z"
   },
   {
    "duration": 22,
    "start_time": "2021-07-23T17:27:10.945Z"
   },
   {
    "duration": 17,
    "start_time": "2021-07-23T17:27:10.968Z"
   },
   {
    "duration": 18,
    "start_time": "2021-07-23T17:27:10.987Z"
   },
   {
    "duration": 360,
    "start_time": "2021-07-23T18:42:07.480Z"
   },
   {
    "duration": 1510,
    "start_time": "2021-07-23T18:42:15.151Z"
   },
   {
    "duration": 166,
    "start_time": "2021-07-23T18:42:18.384Z"
   },
   {
    "duration": 19,
    "start_time": "2021-07-23T18:42:19.182Z"
   },
   {
    "duration": 18,
    "start_time": "2021-07-23T18:42:21.082Z"
   },
   {
    "duration": 161,
    "start_time": "2021-07-23T18:42:25.406Z"
   },
   {
    "duration": 13,
    "start_time": "2021-07-23T18:42:27.178Z"
   },
   {
    "duration": 82,
    "start_time": "2021-07-23T18:42:35.095Z"
   },
   {
    "duration": 97,
    "start_time": "2021-07-23T18:42:40.046Z"
   },
   {
    "duration": 102,
    "start_time": "2021-07-23T18:43:42.840Z"
   },
   {
    "duration": 112,
    "start_time": "2021-07-23T18:43:59.434Z"
   },
   {
    "duration": 72,
    "start_time": "2021-07-23T18:44:13.322Z"
   },
   {
    "duration": 86,
    "start_time": "2021-07-23T18:44:26.550Z"
   },
   {
    "duration": 94,
    "start_time": "2021-07-23T18:44:50.066Z"
   },
   {
    "duration": 86,
    "start_time": "2021-07-23T18:45:14.363Z"
   },
   {
    "duration": 76,
    "start_time": "2021-07-23T18:45:28.285Z"
   },
   {
    "duration": 82,
    "start_time": "2021-07-23T18:46:57.124Z"
   },
   {
    "duration": 75,
    "start_time": "2021-07-23T18:47:01.678Z"
   },
   {
    "duration": 77,
    "start_time": "2021-07-23T18:47:08.091Z"
   },
   {
    "duration": 85,
    "start_time": "2021-07-23T18:47:28.514Z"
   },
   {
    "duration": 22,
    "start_time": "2021-07-23T18:47:32.122Z"
   },
   {
    "duration": 5,
    "start_time": "2021-07-23T18:47:49.008Z"
   },
   {
    "duration": 6,
    "start_time": "2021-07-23T18:47:57.051Z"
   },
   {
    "duration": 39,
    "start_time": "2021-07-23T18:52:04.334Z"
   },
   {
    "duration": 14,
    "start_time": "2021-07-23T18:52:09.345Z"
   },
   {
    "duration": 157,
    "start_time": "2021-07-23T18:52:11.606Z"
   },
   {
    "duration": 12,
    "start_time": "2021-07-23T18:52:15.174Z"
   },
   {
    "duration": 25,
    "start_time": "2021-07-23T18:52:17.058Z"
   },
   {
    "duration": 11,
    "start_time": "2021-07-23T18:52:19.386Z"
   },
   {
    "duration": 13,
    "start_time": "2021-07-23T18:52:23.075Z"
   },
   {
    "duration": 9,
    "start_time": "2021-07-23T18:56:35.038Z"
   },
   {
    "duration": 372,
    "start_time": "2021-07-23T18:56:36.609Z"
   },
   {
    "duration": 5117,
    "start_time": "2021-07-23T18:56:42.551Z"
   },
   {
    "duration": 1452,
    "start_time": "2021-07-23T18:56:47.672Z"
   },
   {
    "duration": 161,
    "start_time": "2021-07-23T18:56:49.127Z"
   },
   {
    "duration": 17,
    "start_time": "2021-07-23T18:56:49.291Z"
   },
   {
    "duration": 18,
    "start_time": "2021-07-23T18:56:49.310Z"
   },
   {
    "duration": 204,
    "start_time": "2021-07-23T18:56:49.331Z"
   },
   {
    "duration": 14,
    "start_time": "2021-07-23T18:56:49.537Z"
   },
   {
    "duration": 103,
    "start_time": "2021-07-23T18:56:49.555Z"
   },
   {
    "duration": 97,
    "start_time": "2021-07-23T18:56:49.661Z"
   },
   {
    "duration": 95,
    "start_time": "2021-07-23T18:56:49.762Z"
   },
   {
    "duration": 91,
    "start_time": "2021-07-23T18:56:49.860Z"
   },
   {
    "duration": 3080,
    "start_time": "2021-07-23T18:56:49.954Z"
   },
   {
    "duration": 8,
    "start_time": "2021-07-23T18:56:53.036Z"
   },
   {
    "duration": 8,
    "start_time": "2021-07-23T18:56:53.046Z"
   },
   {
    "duration": 785,
    "start_time": "2021-07-23T18:56:53.057Z"
   },
   {
    "duration": 19,
    "start_time": "2021-07-23T18:56:53.844Z"
   },
   {
    "duration": 22,
    "start_time": "2021-07-23T18:56:53.866Z"
   },
   {
    "duration": 47,
    "start_time": "2021-07-23T18:56:53.891Z"
   },
   {
    "duration": 11,
    "start_time": "2021-07-23T18:56:53.941Z"
   },
   {
    "duration": 110,
    "start_time": "2021-07-23T18:56:53.987Z"
   },
   {
    "duration": 10,
    "start_time": "2021-07-23T18:56:54.099Z"
   },
   {
    "duration": 7,
    "start_time": "2021-07-23T18:56:54.112Z"
   },
   {
    "duration": 9,
    "start_time": "2021-07-23T18:56:54.124Z"
   },
   {
    "duration": 14,
    "start_time": "2021-07-23T18:56:54.136Z"
   },
   {
    "duration": 35,
    "start_time": "2021-07-23T18:56:54.153Z"
   },
   {
    "duration": 454,
    "start_time": "2021-07-23T18:56:54.191Z"
   },
   {
    "duration": 9,
    "start_time": "2021-07-23T18:56:54.647Z"
   },
   {
    "duration": 46,
    "start_time": "2021-07-23T18:56:54.659Z"
   },
   {
    "duration": 109,
    "start_time": "2021-07-23T18:56:54.708Z"
   },
   {
    "duration": 27,
    "start_time": "2021-07-23T18:56:54.820Z"
   },
   {
    "duration": 9,
    "start_time": "2021-07-23T18:56:54.849Z"
   },
   {
    "duration": 7400,
    "start_time": "2021-07-23T18:56:54.886Z"
   },
   {
    "duration": -883,
    "start_time": "2021-07-23T18:57:03.171Z"
   },
   {
    "duration": -882,
    "start_time": "2021-07-23T18:57:03.172Z"
   },
   {
    "duration": 10,
    "start_time": "2021-07-23T18:57:31.661Z"
   },
   {
    "duration": 27,
    "start_time": "2021-07-23T18:57:32.813Z"
   },
   {
    "duration": 9,
    "start_time": "2021-07-23T18:58:11.057Z"
   },
   {
    "duration": 23,
    "start_time": "2021-07-23T18:58:12.642Z"
   },
   {
    "duration": 25,
    "start_time": "2021-07-23T18:58:29.234Z"
   },
   {
    "duration": 27,
    "start_time": "2021-07-23T18:58:41.057Z"
   },
   {
    "duration": 28,
    "start_time": "2021-07-23T19:04:27.882Z"
   },
   {
    "duration": 125,
    "start_time": "2021-07-23T19:04:43.775Z"
   },
   {
    "duration": 33,
    "start_time": "2021-07-23T19:05:11.518Z"
   },
   {
    "duration": 99,
    "start_time": "2021-07-23T19:05:20.863Z"
   },
   {
    "duration": 31,
    "start_time": "2021-07-23T19:05:21.740Z"
   },
   {
    "duration": 8,
    "start_time": "2021-07-23T19:05:32.962Z"
   },
   {
    "duration": 28,
    "start_time": "2021-07-23T19:06:21.409Z"
   },
   {
    "duration": 9,
    "start_time": "2021-07-23T19:06:22.747Z"
   },
   {
    "duration": 9,
    "start_time": "2021-07-23T19:06:28.153Z"
   },
   {
    "duration": 23,
    "start_time": "2021-07-23T19:06:32.352Z"
   },
   {
    "duration": 10,
    "start_time": "2021-07-23T19:06:38.701Z"
   },
   {
    "duration": 32,
    "start_time": "2021-07-23T19:06:43.150Z"
   },
   {
    "duration": 23,
    "start_time": "2021-07-23T19:06:44.011Z"
   },
   {
    "duration": 29,
    "start_time": "2021-07-23T19:06:47.367Z"
   },
   {
    "duration": 8,
    "start_time": "2021-07-23T19:06:48.274Z"
   },
   {
    "duration": 37,
    "start_time": "2021-07-23T19:06:53.837Z"
   },
   {
    "duration": 23,
    "start_time": "2021-07-23T19:06:54.633Z"
   },
   {
    "duration": 6,
    "start_time": "2021-07-23T19:07:15.734Z"
   },
   {
    "duration": 40,
    "start_time": "2021-07-23T19:07:27.371Z"
   },
   {
    "duration": 161,
    "start_time": "2021-07-23T19:07:28.632Z"
   },
   {
    "duration": 32,
    "start_time": "2021-07-23T19:07:29.945Z"
   },
   {
    "duration": 134,
    "start_time": "2021-07-23T19:08:05.297Z"
   },
   {
    "duration": 34,
    "start_time": "2021-07-23T19:08:06.765Z"
   },
   {
    "duration": 32,
    "start_time": "2021-07-23T19:10:02.013Z"
   },
   {
    "duration": 3449,
    "start_time": "2021-07-23T19:19:07.942Z"
   },
   {
    "duration": 1408,
    "start_time": "2021-07-23T19:19:11.393Z"
   },
   {
    "duration": 163,
    "start_time": "2021-07-23T19:19:12.804Z"
   },
   {
    "duration": 19,
    "start_time": "2021-07-23T19:19:12.970Z"
   },
   {
    "duration": 25,
    "start_time": "2021-07-23T19:19:12.992Z"
   },
   {
    "duration": 187,
    "start_time": "2021-07-23T19:19:13.020Z"
   },
   {
    "duration": 13,
    "start_time": "2021-07-23T19:19:13.210Z"
   },
   {
    "duration": 108,
    "start_time": "2021-07-23T19:19:13.227Z"
   },
   {
    "duration": 95,
    "start_time": "2021-07-23T19:19:13.338Z"
   },
   {
    "duration": 95,
    "start_time": "2021-07-23T19:19:13.436Z"
   },
   {
    "duration": 81,
    "start_time": "2021-07-23T19:19:13.533Z"
   },
   {
    "duration": 2788,
    "start_time": "2021-07-23T19:19:13.616Z"
   },
   {
    "duration": 9,
    "start_time": "2021-07-23T19:19:16.407Z"
   },
   {
    "duration": 9,
    "start_time": "2021-07-23T19:19:16.419Z"
   },
   {
    "duration": 802,
    "start_time": "2021-07-23T19:19:16.431Z"
   },
   {
    "duration": 20,
    "start_time": "2021-07-23T19:19:17.236Z"
   },
   {
    "duration": 32,
    "start_time": "2021-07-23T19:19:17.258Z"
   },
   {
    "duration": 39,
    "start_time": "2021-07-23T19:19:17.292Z"
   },
   {
    "duration": 8,
    "start_time": "2021-07-23T19:19:17.334Z"
   },
   {
    "duration": 104,
    "start_time": "2021-07-23T19:19:17.345Z"
   },
   {
    "duration": 11,
    "start_time": "2021-07-23T19:19:17.452Z"
   },
   {
    "duration": 24,
    "start_time": "2021-07-23T19:19:17.465Z"
   },
   {
    "duration": 10,
    "start_time": "2021-07-23T19:19:17.494Z"
   },
   {
    "duration": 16,
    "start_time": "2021-07-23T19:19:17.507Z"
   },
   {
    "duration": 8,
    "start_time": "2021-07-23T19:19:17.526Z"
   },
   {
    "duration": 430,
    "start_time": "2021-07-23T19:19:17.537Z"
   },
   {
    "duration": 18,
    "start_time": "2021-07-23T19:19:17.969Z"
   },
   {
    "duration": 41,
    "start_time": "2021-07-23T19:19:17.989Z"
   },
   {
    "duration": 176,
    "start_time": "2021-07-23T19:19:18.033Z"
   },
   {
    "duration": 34,
    "start_time": "2021-07-23T19:19:18.211Z"
   },
   {
    "duration": 40,
    "start_time": "2021-07-23T19:19:18.248Z"
   },
   {
    "duration": 34,
    "start_time": "2021-07-23T19:19:18.291Z"
   },
   {
    "duration": 27,
    "start_time": "2021-07-23T19:19:18.328Z"
   },
   {
    "duration": 52,
    "start_time": "2021-07-23T19:19:18.358Z"
   },
   {
    "duration": 29,
    "start_time": "2021-07-23T19:19:18.413Z"
   },
   {
    "duration": 3549,
    "start_time": "2021-07-23T19:26:27.250Z"
   },
   {
    "duration": 1442,
    "start_time": "2021-07-23T19:26:30.802Z"
   },
   {
    "duration": 170,
    "start_time": "2021-07-23T19:26:32.250Z"
   },
   {
    "duration": 17,
    "start_time": "2021-07-23T19:26:32.423Z"
   },
   {
    "duration": 22,
    "start_time": "2021-07-23T19:26:32.442Z"
   },
   {
    "duration": 169,
    "start_time": "2021-07-23T19:26:32.486Z"
   },
   {
    "duration": 13,
    "start_time": "2021-07-23T19:26:32.658Z"
   },
   {
    "duration": 89,
    "start_time": "2021-07-23T19:26:32.685Z"
   },
   {
    "duration": 90,
    "start_time": "2021-07-23T19:26:32.776Z"
   },
   {
    "duration": 93,
    "start_time": "2021-07-23T19:26:32.869Z"
   },
   {
    "duration": 85,
    "start_time": "2021-07-23T19:26:32.965Z"
   },
   {
    "duration": 2891,
    "start_time": "2021-07-23T19:26:33.052Z"
   },
   {
    "duration": 8,
    "start_time": "2021-07-23T19:26:35.946Z"
   },
   {
    "duration": 30,
    "start_time": "2021-07-23T19:26:35.956Z"
   },
   {
    "duration": 780,
    "start_time": "2021-07-23T19:26:35.988Z"
   },
   {
    "duration": 28,
    "start_time": "2021-07-23T19:26:36.771Z"
   },
   {
    "duration": 11,
    "start_time": "2021-07-23T19:26:36.801Z"
   },
   {
    "duration": 36,
    "start_time": "2021-07-23T19:26:36.815Z"
   },
   {
    "duration": 36,
    "start_time": "2021-07-23T19:26:36.854Z"
   },
   {
    "duration": 73,
    "start_time": "2021-07-23T19:26:36.892Z"
   },
   {
    "duration": 22,
    "start_time": "2021-07-23T19:26:36.968Z"
   },
   {
    "duration": 9,
    "start_time": "2021-07-23T19:26:36.995Z"
   },
   {
    "duration": 11,
    "start_time": "2021-07-23T19:26:37.006Z"
   },
   {
    "duration": 13,
    "start_time": "2021-07-23T19:26:37.019Z"
   },
   {
    "duration": 10,
    "start_time": "2021-07-23T19:26:37.034Z"
   },
   {
    "duration": 459,
    "start_time": "2021-07-23T19:26:37.047Z"
   },
   {
    "duration": 10,
    "start_time": "2021-07-23T19:26:37.509Z"
   },
   {
    "duration": 43,
    "start_time": "2021-07-23T19:26:37.521Z"
   },
   {
    "duration": 163,
    "start_time": "2021-07-23T19:26:37.586Z"
   },
   {
    "duration": 46,
    "start_time": "2021-07-23T19:26:37.751Z"
   },
   {
    "duration": 8,
    "start_time": "2021-07-23T19:26:37.800Z"
   },
   {
    "duration": 37,
    "start_time": "2021-07-23T19:26:37.811Z"
   },
   {
    "duration": 59,
    "start_time": "2021-07-23T19:26:37.850Z"
   },
   {
    "duration": 27,
    "start_time": "2021-07-23T19:26:37.912Z"
   },
   {
    "duration": 68,
    "start_time": "2021-07-23T19:26:37.942Z"
   },
   {
    "duration": 160286,
    "start_time": "2021-07-24T10:16:08.557Z"
   },
   {
    "duration": 1485,
    "start_time": "2021-07-24T10:18:48.846Z"
   },
   {
    "duration": 158,
    "start_time": "2021-07-24T10:18:50.334Z"
   },
   {
    "duration": 15,
    "start_time": "2021-07-24T10:18:50.495Z"
   },
   {
    "duration": 18,
    "start_time": "2021-07-24T10:18:50.512Z"
   },
   {
    "duration": 202,
    "start_time": "2021-07-24T10:18:50.533Z"
   },
   {
    "duration": 12,
    "start_time": "2021-07-24T10:18:50.738Z"
   },
   {
    "duration": 101,
    "start_time": "2021-07-24T10:18:50.764Z"
   },
   {
    "duration": 101,
    "start_time": "2021-07-24T10:18:50.869Z"
   },
   {
    "duration": 105,
    "start_time": "2021-07-24T10:18:50.973Z"
   },
   {
    "duration": 84,
    "start_time": "2021-07-24T10:18:51.080Z"
   },
   {
    "duration": 3068,
    "start_time": "2021-07-24T10:18:51.167Z"
   },
   {
    "duration": 7,
    "start_time": "2021-07-24T10:18:54.237Z"
   },
   {
    "duration": 7,
    "start_time": "2021-07-24T10:18:54.262Z"
   },
   {
    "duration": 848,
    "start_time": "2021-07-24T10:18:54.272Z"
   },
   {
    "duration": 19,
    "start_time": "2021-07-24T10:18:55.122Z"
   },
   {
    "duration": 27,
    "start_time": "2021-07-24T10:18:55.143Z"
   },
   {
    "duration": 40,
    "start_time": "2021-07-24T10:18:55.172Z"
   },
   {
    "duration": 8,
    "start_time": "2021-07-24T10:18:55.214Z"
   },
   {
    "duration": 106,
    "start_time": "2021-07-24T10:18:55.224Z"
   },
   {
    "duration": 30,
    "start_time": "2021-07-24T10:18:55.332Z"
   },
   {
    "duration": 5,
    "start_time": "2021-07-24T10:18:55.364Z"
   },
   {
    "duration": 8,
    "start_time": "2021-07-24T10:18:55.374Z"
   },
   {
    "duration": 20,
    "start_time": "2021-07-24T10:18:55.384Z"
   },
   {
    "duration": 19,
    "start_time": "2021-07-24T10:18:55.406Z"
   },
   {
    "duration": 486,
    "start_time": "2021-07-24T10:18:55.428Z"
   },
   {
    "duration": 9,
    "start_time": "2021-07-24T10:18:55.916Z"
   },
   {
    "duration": 58,
    "start_time": "2021-07-24T10:18:55.927Z"
   },
   {
    "duration": 175,
    "start_time": "2021-07-24T10:18:55.988Z"
   },
   {
    "duration": 38,
    "start_time": "2021-07-24T10:18:56.165Z"
   },
   {
    "duration": 9,
    "start_time": "2021-07-24T10:18:56.206Z"
   },
   {
    "duration": 79,
    "start_time": "2021-07-24T10:18:56.218Z"
   },
   {
    "duration": 63,
    "start_time": "2021-07-24T10:18:56.301Z"
   },
   {
    "duration": 38,
    "start_time": "2021-07-24T10:18:56.367Z"
   },
   {
    "duration": 81,
    "start_time": "2021-07-24T10:18:56.408Z"
   },
   {
    "duration": 14,
    "start_time": "2021-07-24T10:34:04.958Z"
   }
  ],
  "kernelspec": {
   "display_name": "Python 3",
   "language": "python",
   "name": "python3"
  },
  "language_info": {
   "codemirror_mode": {
    "name": "ipython",
    "version": 3
   },
   "file_extension": ".py",
   "mimetype": "text/x-python",
   "name": "python",
   "nbconvert_exporter": "python",
   "pygments_lexer": "ipython3",
   "version": "3.7.8"
  },
  "toc": {
   "base_numbering": 1,
   "nav_menu": {},
   "number_sections": true,
   "sideBar": true,
   "skip_h1_title": true,
   "title_cell": "Table of Contents",
   "title_sidebar": "Contents",
   "toc_cell": false,
   "toc_position": {
    "height": "calc(100% - 180px)",
    "left": "10px",
    "top": "150px",
    "width": "366.391px"
   },
   "toc_section_display": true,
   "toc_window_display": false
  }
 },
 "nbformat": 4,
 "nbformat_minor": 2
}